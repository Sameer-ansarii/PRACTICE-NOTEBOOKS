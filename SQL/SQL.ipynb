{
 "cells": [
  {
   "cell_type": "markdown",
   "id": "7367b99e",
   "metadata": {},
   "source": [
    "**Note:-** \n",
    "\n",
    "* MySQL is a widely used relational database management system (RDBMS).\n",
    "\n",
    "\n",
    "* MySQL is free and open-source.\n",
    "\n",
    "\n",
    "* MySQL is ideal for both small and large applications."
   ]
  },
  {
   "cell_type": "code",
   "execution_count": null,
   "id": "45b0be23",
   "metadata": {},
   "outputs": [],
   "source": []
  },
  {
   "cell_type": "markdown",
   "id": "475881be",
   "metadata": {},
   "source": [
    "### Q) What is MySQL?\n",
    "\n",
    "* MySQL is a relational database management system\n",
    "\n",
    "\n",
    "* MySQL is open-source\n",
    "\n",
    "\n",
    "* MySQL is free\n",
    "\n",
    "\n",
    "* MySQL is ideal for both small and large applications\n",
    "\n",
    "\n",
    "* MySQL is very fast, reliable, scalable, and easy to use\n",
    "\n",
    "\n",
    "* MySQL is cross-platform\n",
    "\n",
    "\n",
    "* MySQL is compliant with the ANSI SQL standard\n",
    "\n",
    "\n",
    "* MySQL was first released in 1995\n",
    "\n",
    "\n",
    "* MySQL is developed, distributed, and supported by Oracle Corporation\n",
    "\n",
    "\n",
    "* MySQL is named after co-founder Monty Widenius's daughter: My"
   ]
  },
  {
   "cell_type": "code",
   "execution_count": null,
   "id": "a404e5f5",
   "metadata": {},
   "outputs": [],
   "source": []
  },
  {
   "cell_type": "markdown",
   "id": "ba429336",
   "metadata": {},
   "source": [
    "### Q) What is RDBMS?\n",
    "\n",
    "* RDBMS stands for Relational Database Management System.\n",
    "\n",
    "\n",
    "* RDBMS is a program used to maintain a relational database.\n",
    "\n",
    "\n",
    "* RDBMS is the basis for all modern database systems such as MySQL, Microsoft SQL Server, Oracle, and Microsoft Access.\n",
    "\n",
    "\n",
    "* RDBMS uses SQL queries to access the data in the database."
   ]
  },
  {
   "cell_type": "code",
   "execution_count": null,
   "id": "22c562f8",
   "metadata": {},
   "outputs": [],
   "source": []
  },
  {
   "cell_type": "markdown",
   "id": "11faf632",
   "metadata": {},
   "source": [
    "### Q) What is SQL?\n",
    "SQL stands for Structured Query Language. It is a standard language which is used to deal with databases. We can manipulate and fetch data from databases using SQL."
   ]
  },
  {
   "cell_type": "code",
   "execution_count": null,
   "id": "d85fe256",
   "metadata": {},
   "outputs": [],
   "source": []
  },
  {
   "cell_type": "markdown",
   "id": "e49d3153",
   "metadata": {},
   "source": [
    "### Semicolon after SQL Statements?\n",
    "* Some database systems require a semicolon at the end of each SQL statement.\n",
    "\n",
    "\n",
    "* Semicolon is the standard way to separate each SQL statement in database systems that allow more than one SQL statement to be executed in the same call to the server."
   ]
  },
  {
   "cell_type": "code",
   "execution_count": null,
   "id": "080b8383",
   "metadata": {},
   "outputs": [],
   "source": []
  },
  {
   "cell_type": "markdown",
   "id": "8b06962d",
   "metadata": {},
   "source": [
    "### Some of The Most Important SQL Commands\n",
    "`SELECT` - extracts data from a database\n",
    "\n",
    "`UPDATE` - updates data in a database\n",
    "\n",
    "`DELETE` - deletes data from a database\n",
    "\n",
    "`INSERT INTO` - inserts new data into a database\n",
    "\n",
    "`CREATE DATABASE` - creates a new database\n",
    "\n",
    "`ALTER DATABASE` - modifies a database\n",
    "\n",
    "`CREATE TABLE` - creates a new table\n",
    "\n",
    "`ALTER TABLE` - modifies a table\n",
    "\n",
    "`DROP TABLE` - deletes a table\n",
    "\n",
    "`CREATE INDEX` - creates an index (search key)\n",
    "\n",
    "`DROP INDEX` - deletes an index"
   ]
  },
  {
   "cell_type": "code",
   "execution_count": null,
   "id": "47d031b0",
   "metadata": {},
   "outputs": [],
   "source": []
  },
  {
   "cell_type": "markdown",
   "id": "30473ce4",
   "metadata": {},
   "source": [
    "### Some common Syntax Keywords used in ascending order to write a query\n",
    "\n",
    "`SELECT`\n",
    "\n",
    "`FROM`\n",
    "\n",
    "`WHERE`\n",
    "\n",
    "`GROUPBY`\n",
    "\n",
    "`HAVING`\n",
    "\n",
    "`ORDERBY`"
   ]
  },
  {
   "cell_type": "code",
   "execution_count": null,
   "id": "aef137d1",
   "metadata": {},
   "outputs": [],
   "source": []
  },
  {
   "cell_type": "markdown",
   "id": "26e48749",
   "metadata": {},
   "source": [
    "**Note:-**\n",
    "\n",
    "* SQL keywords are NOT case sensitive: `select` is the same as `SELECT`\n",
    "\n",
    "    \n",
    "* Always write a categories of column in `strings`, i.e ('Category 1', 'Category 2'...)\n",
    "\n",
    "\n",
    "* If categories of column are in `interger`, then write it simple, i.e (1,2,3...)"
   ]
  },
  {
   "cell_type": "code",
   "execution_count": null,
   "id": "9f3df069",
   "metadata": {},
   "outputs": [],
   "source": []
  },
  {
   "cell_type": "markdown",
   "id": "eb9dbfd5",
   "metadata": {},
   "source": [
    "### 1) `SELECT` Statement\n",
    "\n",
    "The `SELECT` statement is used to select data from a database.\n",
    "\n",
    "The data returned is stored in a result table, called the result-set."
   ]
  },
  {
   "cell_type": "markdown",
   "id": "42f67789",
   "metadata": {},
   "source": [
    "`SELECT` Syntax\n",
    "\n",
    "**`SELECT` column1, column2,... FROM table_name;**"
   ]
  },
  {
   "cell_type": "markdown",
   "id": "6750d3f4",
   "metadata": {},
   "source": [
    "**OR**\n",
    "\n",
    "***`SELECT` * FROM table_name;**"
   ]
  },
  {
   "cell_type": "code",
   "execution_count": null,
   "id": "e04073b8",
   "metadata": {},
   "outputs": [],
   "source": []
  },
  {
   "cell_type": "markdown",
   "id": "1fc92e79",
   "metadata": {},
   "source": [
    "### 2) `SELECT DISTINCT` \n",
    "\n",
    "DISTINCT keyword is used to see and fetch the unique values of a column in a table.\n",
    "\n",
    "\n",
    "**SELECT `DISTINCT` Country FROM Customers;**\n",
    "\n"
   ]
  },
  {
   "cell_type": "markdown",
   "id": "24e8f854",
   "metadata": {},
   "source": [
    "**OR**"
   ]
  },
  {
   "cell_type": "markdown",
   "id": "ca7fdce8",
   "metadata": {},
   "source": [
    "**SELECT `DISTINT` Country,City FROM Customers;**"
   ]
  },
  {
   "cell_type": "markdown",
   "id": "b0fbbf4a",
   "metadata": {},
   "source": [
    "i.e: Country and CIty are columns and Customers is a Table."
   ]
  },
  {
   "cell_type": "code",
   "execution_count": null,
   "id": "5393c8fe",
   "metadata": {},
   "outputs": [],
   "source": []
  },
  {
   "cell_type": "markdown",
   "id": "905f1da4",
   "metadata": {},
   "source": [
    "### 3) `COUNT (DISTINCT Column Name)`\n",
    "\n"
   ]
  },
  {
   "cell_type": "markdown",
   "id": "d14b55cc",
   "metadata": {},
   "source": [
    "`COUNT (DISTINCT Column Name)` is used to see the count of unique value present in a column."
   ]
  },
  {
   "cell_type": "markdown",
   "id": "26144148",
   "metadata": {},
   "source": [
    "**SELECT COUNT(DISTINCT Country) FROM Customers;**"
   ]
  },
  {
   "cell_type": "code",
   "execution_count": null,
   "id": "3c4c3fcc",
   "metadata": {},
   "outputs": [],
   "source": []
  },
  {
   "cell_type": "markdown",
   "id": "4042cd63",
   "metadata": {},
   "source": [
    "### 4) `Aliases`\n",
    "\n",
    "* `Aliases` are used to give a table, or a column in a table, a temporary name.\n",
    "\n",
    "\n",
    "* `Aliases` are often used to make column names more readable.\n",
    "\n",
    "\n",
    "* An `alias` only exists for the duration of that query.\n",
    "\n",
    "\n",
    "* An `alias` is created with the `AS` keyword."
   ]
  },
  {
   "cell_type": "markdown",
   "id": "a02183a4",
   "metadata": {},
   "source": [
    "**SELECT column_name `AS` alias_name\n",
    "FROM table_name;**"
   ]
  },
  {
   "cell_type": "markdown",
   "id": "e6c5b984",
   "metadata": {},
   "source": [
    "**SELECT column_name(s)\n",
    "FROM table_name `AS` alias_name;**"
   ]
  },
  {
   "cell_type": "markdown",
   "id": "3013a35e",
   "metadata": {},
   "source": [
    "**SELECT CustomerID `AS` ID, CustomerName `AS` Customer\n",
    "FROM Customers;**"
   ]
  },
  {
   "cell_type": "markdown",
   "id": "fc22ba76",
   "metadata": {},
   "source": [
    "**SELECT Country `AS` CNT FROM Customers;**\n"
   ]
  },
  {
   "cell_type": "markdown",
   "id": "2fc5e507",
   "metadata": {},
   "source": [
    "**SELECT `COUNT(DISTINCT Country)` `AS` abc FROM Customers;**"
   ]
  },
  {
   "cell_type": "code",
   "execution_count": null,
   "id": "6a6eb2de",
   "metadata": {},
   "outputs": [],
   "source": []
  },
  {
   "cell_type": "markdown",
   "id": "32d1db23",
   "metadata": {},
   "source": [
    "### 5) `ORDER BY`\n",
    "\n"
   ]
  },
  {
   "cell_type": "markdown",
   "id": "351605ed",
   "metadata": {},
   "source": [
    "* `Order By` keyword is used to sort the values of a column in ascending order.\n",
    "\n",
    "\n",
    "* The `ORDER BY` keyword is used to sort the result-set in ascending or descending order.\n",
    "\n",
    "\n",
    "* The `ORDER BY` keyword sorts the records in ascending order by default. To sort the records in descending order, use the `DESC` keyword."
   ]
  },
  {
   "cell_type": "markdown",
   "id": "374aefc6",
   "metadata": {},
   "source": [
    "**SELECT column1, column2, ... FROM table_name `ORDER BY` column1, column2, ... ASC|DESC;**"
   ]
  },
  {
   "cell_type": "markdown",
   "id": "d9cd2655",
   "metadata": {},
   "source": [
    "**SELECT DISTINCT Country FROM Customers `ORDER BY` Country;**"
   ]
  },
  {
   "cell_type": "markdown",
   "id": "14d783c7",
   "metadata": {},
   "source": [
    "***SELECT * FROM Customers `ORDER BY` Country `ASC`, City `DESC`**"
   ]
  },
  {
   "cell_type": "code",
   "execution_count": null,
   "id": "15d16af8",
   "metadata": {},
   "outputs": [],
   "source": []
  },
  {
   "cell_type": "markdown",
   "id": "fcdcdad0",
   "metadata": {},
   "source": [
    "### 6) Use `ORDER BY` with `Asc` & `Desc` \n",
    "\n"
   ]
  },
  {
   "cell_type": "markdown",
   "id": "9f99f05b",
   "metadata": {},
   "source": [
    "* `ORDER BY` Column Name `Desc` keyword is used to sort the values of a column in descending order.\n",
    "\n"
   ]
  },
  {
   "cell_type": "markdown",
   "id": "dd438366",
   "metadata": {},
   "source": [
    "**SELECT DISTINCT Country FROM Customers `ORDER BY` Country `Desc`;**"
   ]
  },
  {
   "cell_type": "markdown",
   "id": "054aa8db",
   "metadata": {},
   "source": [
    "***SELECT * FROM Customers `ORDER BY` Country `Asc`, `ORDER By` CustomerName `Desc`;**"
   ]
  },
  {
   "cell_type": "code",
   "execution_count": null,
   "id": "fa05f497",
   "metadata": {},
   "outputs": [],
   "source": []
  },
  {
   "cell_type": "markdown",
   "id": "90c42004",
   "metadata": {},
   "source": [
    "### 7) `WHERE`\n"
   ]
  },
  {
   "cell_type": "markdown",
   "id": "53e4e11d",
   "metadata": {},
   "source": [
    "* The `WHERE` clause is used to filter records.\n",
    "\n",
    "\n",
    "* It is used to extract only those records that fulfill a specified condition.\n",
    "\n",
    "\n",
    "* The `WHERE` clause can be combined with `AND`, `OR`, and `NOT` operators.\n",
    "\n",
    "\n",
    "* The `AND` and `OR` operators are used to filter records based on more than one condition:\n",
    "\n",
    "\n",
    "|Operator|Description|\t\n",
    "|--------|-----------|\n",
    "|=\t|Equal|\t\n",
    "|>\t|Greater than|\t\n",
    "|<\t|Less than|\t\n",
    "|>=\t|Greater than or equal|\t\n",
    "|<=\t|Less than or equal|\t\n",
    "|<> / !=\t|Not equal.|\t\n",
    "|BETWEEN\t|Between a certain range|\t\n",
    "|LIKE\t|Search for a pattern|\t\n",
    "|IN\t|To specify multiple possible values for a column|"
   ]
  },
  {
   "cell_type": "markdown",
   "id": "ee68ad70",
   "metadata": {},
   "source": [
    "***SELECT * FROM Customers `WHERE` Country='GERMANY';**"
   ]
  },
  {
   "cell_type": "markdown",
   "id": "317a6525",
   "metadata": {},
   "source": [
    "***SELECT * FROM Customers WHERE CustomerID=1;**"
   ]
  },
  {
   "cell_type": "code",
   "execution_count": null,
   "id": "a95a864b",
   "metadata": {},
   "outputs": [],
   "source": []
  },
  {
   "cell_type": "markdown",
   "id": "80b74ce2",
   "metadata": {},
   "source": [
    "### 8) Use of `WHERE` clause with `<>` (Not equal) symbol"
   ]
  },
  {
   "cell_type": "markdown",
   "id": "bb52d0af",
   "metadata": {},
   "source": [
    "`<>` (Not equal) symbol retrieve rows where the value doesn't match"
   ]
  },
  {
   "cell_type": "markdown",
   "id": "eadf25ad",
   "metadata": {},
   "source": [
    "***SELECT * FROM Customers `WHERE` City `<>` 'Germany';**"
   ]
  },
  {
   "cell_type": "code",
   "execution_count": null,
   "id": "2d655643",
   "metadata": {},
   "outputs": [],
   "source": []
  },
  {
   "cell_type": "markdown",
   "id": "0d061f86",
   "metadata": {},
   "source": [
    "### 9) Use of `WHERE` clause with`>` (Greater Than) Symbol"
   ]
  },
  {
   "cell_type": "markdown",
   "id": "56505e2e",
   "metadata": {},
   "source": [
    "`>` (Greater Than) symbol retrieve rows where the value is greater than the given value"
   ]
  },
  {
   "cell_type": "markdown",
   "id": "35f54471",
   "metadata": {},
   "source": [
    "***SELECT * FROM Customers `WHERE` CustomerID `>` 5;**"
   ]
  },
  {
   "cell_type": "markdown",
   "id": "fb9d3282",
   "metadata": {},
   "source": [
    "**OR**"
   ]
  },
  {
   "cell_type": "markdown",
   "id": "30bbe13c",
   "metadata": {},
   "source": [
    "***SELECT * FROM Customers  `WHERE`  CustomerID `>=` 5;**"
   ]
  },
  {
   "cell_type": "code",
   "execution_count": null,
   "id": "04b5fd75",
   "metadata": {},
   "outputs": [],
   "source": []
  },
  {
   "cell_type": "markdown",
   "id": "7ed71629",
   "metadata": {},
   "source": [
    "### 10) Use of `WHERE` clause with `<` (Lesser Than) Symbol"
   ]
  },
  {
   "cell_type": "markdown",
   "id": "3a8b2a87",
   "metadata": {},
   "source": [
    "`<` (Lesser Than) symbol retrieve rows where the value is lesser than the given value"
   ]
  },
  {
   "cell_type": "markdown",
   "id": "6dc521d6",
   "metadata": {},
   "source": [
    "***SELECT * FROM Customers `WHERE` CustomerID `<` 5;**"
   ]
  },
  {
   "cell_type": "markdown",
   "id": "03ee8ea0",
   "metadata": {},
   "source": [
    "**OR**"
   ]
  },
  {
   "cell_type": "markdown",
   "id": "dab212eb",
   "metadata": {},
   "source": [
    "***SELECT * FROM Customers `WHERE` CustomerID `<=` 5;**"
   ]
  },
  {
   "cell_type": "code",
   "execution_count": null,
   "id": "7b88f0ee",
   "metadata": {},
   "outputs": [],
   "source": []
  },
  {
   "cell_type": "markdown",
   "id": "bbc0fbd4",
   "metadata": {},
   "source": [
    "### 11) Use of `WHERE` clause with `And` Operator\n",
    "\n"
   ]
  },
  {
   "cell_type": "markdown",
   "id": "e6b0685a",
   "metadata": {},
   "source": [
    "* The `AND` operator is used to specify that all conditions must be true for a row.\n",
    "\n",
    "\n",
    "* The `AND` operator displays a record if all the conditions separated by `AND` are TRUE."
   ]
  },
  {
   "cell_type": "markdown",
   "id": "12764c7a",
   "metadata": {},
   "source": [
    "**SELECT column1, column2, ... FROM table_name `WHERE` condition1 `AND` condition2 `AND` condition3 ...;**"
   ]
  },
  {
   "cell_type": "markdown",
   "id": "12ab59d2",
   "metadata": {},
   "source": [
    "***SELECT * FROM Customers `WHERE` Country='UK' `and` City='London';**"
   ]
  },
  {
   "cell_type": "code",
   "execution_count": null,
   "id": "275e7f87",
   "metadata": {},
   "outputs": [],
   "source": []
  },
  {
   "cell_type": "markdown",
   "id": "97585585",
   "metadata": {},
   "source": [
    "### 12) Use of `WHERE` clause with `OR` Operator\n",
    "\n"
   ]
  },
  {
   "cell_type": "markdown",
   "id": "0d8a0d00",
   "metadata": {},
   "source": [
    "* The `OR` operator is used to specify that at least one of the conditions must be true.\n",
    "\n",
    "\n",
    "* The `OR` operator displays a record if any of the conditions separated by `OR` is TRUE."
   ]
  },
  {
   "cell_type": "markdown",
   "id": "609ea226",
   "metadata": {},
   "source": [
    "**SELECT column1, column2, ... FROM table_name `WHERE` condition1 `OR` condition2 `OR` condition3 ...;**"
   ]
  },
  {
   "cell_type": "markdown",
   "id": "f6d5c9c7",
   "metadata": {},
   "source": [
    "***SELECT * FROM Customers `WHERE` Country='UK' `or` Country='Germany';**"
   ]
  },
  {
   "cell_type": "code",
   "execution_count": null,
   "id": "2cc0c896",
   "metadata": {},
   "outputs": [],
   "source": []
  },
  {
   "cell_type": "markdown",
   "id": "174f96ba",
   "metadata": {},
   "source": [
    "### 13) Use of `WHERE` clause with `NOT` Operator"
   ]
  },
  {
   "cell_type": "markdown",
   "id": "d4c26bea",
   "metadata": {},
   "source": [
    "The `NOT` operator displays a record if the condition(s) is NOT TRUE."
   ]
  },
  {
   "cell_type": "markdown",
   "id": "e1a7a1dc",
   "metadata": {},
   "source": [
    "**SELECT column1, column2, ... FROM table_name WHERE NOT condition;**"
   ]
  },
  {
   "cell_type": "markdown",
   "id": "ba05e942",
   "metadata": {},
   "source": [
    "***SELECT * FROM Customers WHERE NOT Country = 'Germany';**"
   ]
  },
  {
   "cell_type": "code",
   "execution_count": null,
   "id": "297d448c",
   "metadata": {},
   "outputs": [],
   "source": []
  },
  {
   "cell_type": "markdown",
   "id": "b1b48998",
   "metadata": {},
   "source": [
    "### 14) Combining `AND`, `OR` and `NOT`  with `WHERE` Clause"
   ]
  },
  {
   "cell_type": "markdown",
   "id": "33d540ef",
   "metadata": {},
   "source": [
    "\n",
    "***SELECT * FROM Customers WHERE Country = 'Germany' `AND` (City = 'Berlin'  OR` City = 'Stuttgart');**"
   ]
  },
  {
   "cell_type": "markdown",
   "id": "d9491bf8",
   "metadata": {},
   "source": [
    "***SELECT * FROM Customers `WHERE` `NOT` Country = 'Germany' `AND` `NOT` Country = 'USA';**"
   ]
  },
  {
   "cell_type": "code",
   "execution_count": null,
   "id": "7c3a6b44",
   "metadata": {},
   "outputs": [],
   "source": []
  },
  {
   "cell_type": "markdown",
   "id": "29cddddd",
   "metadata": {},
   "source": [
    "### 15) Use of `WHERE`  clause with  `IN` Operator\n",
    "\n"
   ]
  },
  {
   "cell_type": "markdown",
   "id": "0b65c0d9",
   "metadata": {},
   "source": [
    "* The `IN` operator is used to display rows where the condition match.\n",
    "\n",
    "\n",
    "* The `IN` operator allows you to specify multiple values in a `WHERE` clause.\n",
    "\n",
    "\n",
    "* The `IN` operator is a shorthand for multiple OR conditions."
   ]
  },
  {
   "cell_type": "markdown",
   "id": "ee14ba37",
   "metadata": {},
   "source": [
    "**SELECT column_name(s) FROM table_name `WHERE` column_name `IN` (value1, value2, ...);**"
   ]
  },
  {
   "cell_type": "markdown",
   "id": "750fbfce",
   "metadata": {},
   "source": [
    "**SELECT column_name(s) FROM table_name `WHERE` column_name `IN` (SELECT STATEMENT);**"
   ]
  },
  {
   "cell_type": "markdown",
   "id": "de5df7d0",
   "metadata": {},
   "source": [
    "***SELECT * FROM Customers `Where` Country `IN` ('Germany','UK');** "
   ]
  },
  {
   "cell_type": "markdown",
   "id": "1693a380",
   "metadata": {},
   "source": [
    "***SELECT * FROM Customers `Where` CutomerID `IN` (1,2,3,4);**"
   ]
  },
  {
   "cell_type": "markdown",
   "id": "c7c3545f",
   "metadata": {},
   "source": [
    "***SELECT * FROM Customers\n",
    "`WHERE` Country `IN` (SELECT Country FROM Suppliers);**\n",
    "\n",
    "Show records of all Countries in Customers Table which present in Country column of Suppliers Table."
   ]
  },
  {
   "cell_type": "markdown",
   "id": "61162b5a",
   "metadata": {},
   "source": [
    "**Note:-** Inner query is always run first then outer query.\n"
   ]
  },
  {
   "cell_type": "code",
   "execution_count": null,
   "id": "81907875",
   "metadata": {},
   "outputs": [],
   "source": []
  },
  {
   "cell_type": "markdown",
   "id": "b35a943d",
   "metadata": {},
   "source": [
    "### 16) Use of `WHERE` clause with `NOT IN` Operator"
   ]
  },
  {
   "cell_type": "markdown",
   "id": "502baf8a",
   "metadata": {},
   "source": [
    "The `NOT IN` operator is used to retrieve rows where the value of a column does not match"
   ]
  },
  {
   "cell_type": "markdown",
   "id": "9d4a0059",
   "metadata": {},
   "source": [
    "***SELECT * FROM Customers `WHERE` CustomerID `NOT IN` (1,2,3,4);**"
   ]
  },
  {
   "cell_type": "code",
   "execution_count": null,
   "id": "bebc8778",
   "metadata": {},
   "outputs": [],
   "source": []
  },
  {
   "cell_type": "markdown",
   "id": "b585ae99",
   "metadata": {},
   "source": [
    "### 17) Use of `Where` clause with `BETWEEEN` Operator\n",
    "\n",
    "`Between` Operater is used to display recores Between a certain range.\n",
    "\n",
    "\n",
    "The `BETWEEN` operator selects values within a given range. The values can be numbers, text, or dates.\n",
    "\n",
    "\n",
    "The  BETWEEN` operator is inclusive: begin and end values are included."
   ]
  },
  {
   "cell_type": "markdown",
   "id": "13ee2c4c",
   "metadata": {},
   "source": [
    "**SELECT column_name(s)\n",
    "FROM table_name\n",
    "`WHERE` column_name `BETWEEN` value1 AND value2;**"
   ]
  },
  {
   "cell_type": "markdown",
   "id": "1da7133c",
   "metadata": {},
   "source": [
    "***SELECT * FROM Customers `WHERE` CustomerID `BETWEEN` 20 `AND` 30;**"
   ]
  },
  {
   "cell_type": "markdown",
   "id": "8ed40281",
   "metadata": {},
   "source": [
    "***SELECT * FROM Customers `WHERE` CustomerID `BETWEEN` 20 `AND` 30 `ORDER BY` Country;**"
   ]
  },
  {
   "cell_type": "markdown",
   "id": "19b41cff",
   "metadata": {},
   "source": [
    "***SELECT * FROM Products\n",
    "`WHERE` Price `NOT BETWEEN` 10 AND 20;**"
   ]
  },
  {
   "cell_type": "markdown",
   "id": "e122738f",
   "metadata": {},
   "source": [
    "***SELECT * FROM Products\n",
    "`WHERE` Price `BETWEEN` 10 AND 20\n",
    "`AND` CategoryID `NOT IN` (1,2,3);**"
   ]
  },
  {
   "cell_type": "markdown",
   "id": "1e1f9726",
   "metadata": {},
   "source": [
    "***SELECT * FROM Products\n",
    "`WHERE` ProductName `BETWEEN` 'Carnarvon Tigers' `AND` 'Mozzarella di Giovanni'\n",
    "`ORDER BY` ProductName;**"
   ]
  },
  {
   "cell_type": "markdown",
   "id": "cc02cd0c",
   "metadata": {},
   "source": [
    "***SELECT * FROM Products\n",
    "`WHERE` ProductName `NOT BETWEEN` 'Carnarvon Tigers' `AND` 'Mozzarella di Giovanni'\n",
    "`ORDER BY` ProductName;**"
   ]
  },
  {
   "cell_type": "markdown",
   "id": "7f90b854",
   "metadata": {},
   "source": [
    "***SELECT * FROM Orders\n",
    "`WHERE` OrderDate `BETWEEN` '1996-07-01' `AND` '1996-07-31';**"
   ]
  },
  {
   "cell_type": "code",
   "execution_count": null,
   "id": "290d3482",
   "metadata": {},
   "outputs": [],
   "source": []
  },
  {
   "cell_type": "markdown",
   "id": "c64d02d7",
   "metadata": {},
   "source": [
    "### 18) Use of `Where` clause with `LIKE` Operator\n",
    "\n",
    "The `LIKE` operator is used in a `WHERE` clause to search for a specified pattern in a column.\n",
    "\n",
    "There are two wildcards often used in conjunction with the LIKE operator:\n",
    "\n",
    "The percent sign (%) represents zero, one, or multiple characters\n",
    "\n",
    "The underscore sign (_) represents one, single character\n",
    "\n",
    "The percent sign and the underscore can also be used in combinations!\n",
    "\n",
    "|LIKE Operator|\tDescription|\n",
    "|-------------|------------|\n",
    "|WHERE CustomerName LIKE 'a%'\t|Finds any values that start with \"a\"|\n",
    "|WHERE CustomerName LIKE '%a'\t|Finds any values that end with \"a\"|\n",
    "|WHERE CustomerName LIKE '%or%'\t|Finds any values that have \"or\" in any position|\n",
    "|WHERE CustomerName LIKE '_r%'\t|Finds any values that have \"r\" in the second position|\n",
    "|WHERE CustomerName LIKE 'a_%'\t|Finds any values that start with \"a\" and are at least 2 characters in length|\n",
    "|WHERE CustomerName LIKE 'a__%'\t|Finds any values that start with \"a\" and are at least 3 characters in length|\n",
    "|WHERE ContactName LIKE 'a%o'\t|Finds any values that start with \"a\" and ends with \"o\"|"
   ]
  },
  {
   "cell_type": "markdown",
   "id": "baaa2048",
   "metadata": {},
   "source": [
    "***SELECT * FROM Customers `WHERE` City `LIKE` 's%';**\n",
    "\n",
    "\n",
    "Return all records where city name is starts with s"
   ]
  },
  {
   "cell_type": "markdown",
   "id": "81c57d25",
   "metadata": {},
   "source": [
    "***SELECT * FROM Customers `WHERE` City `LIKE` 'A%o%';**"
   ]
  },
  {
   "cell_type": "markdown",
   "id": "5422dbaa",
   "metadata": {},
   "source": [
    "***SELECT * FROM Customers\n",
    "`WHERE` City `LIKE` '_ondon';**"
   ]
  },
  {
   "cell_type": "code",
   "execution_count": null,
   "id": "6e723171",
   "metadata": {},
   "outputs": [],
   "source": []
  },
  {
   "cell_type": "markdown",
   "id": "7a7cbedd",
   "metadata": {},
   "source": [
    "### 19 `INSERT INTO`"
   ]
  },
  {
   "cell_type": "markdown",
   "id": "191c4df4",
   "metadata": {},
   "source": [
    "* It is possible to write the INSERT INTO statement in two ways:\n",
    "\n",
    "1. Specify both the column names and the values to be inserted:\n",
    "\n",
    "\n",
    "**`INSERT INTO` table_name (column1, column2, column3, ...)\n",
    "VALUES (value1, value2, value3, ...);**\n",
    "\n",
    "\n",
    "**`INSERT INTO` Customers (CustomerName, City, Country)\n",
    "VALUES ('Cardinal', 'Stavanger', 'Norway');**"
   ]
  },
  {
   "cell_type": "markdown",
   "id": "f1bed7fc",
   "metadata": {},
   "source": [
    "2. If you are adding values for all the columns of the table, you do not need to specify the column names in the SQL query. However, make sure the order of the values is in the same order as the columns in the table. Here, the INSERT INTO syntax would be as follows:\n",
    "\n",
    "**`INSERT INTO` table_name\n",
    "VALUES (value1, value2, value3, ...);**\n",
    "\n",
    "\n",
    "**`INSERT INTO` Customers (CustomerName, ContactName, Address, City, PostalCode, Country)\n",
    "VALUES ('Cardinal', 'Tom B. Erichsen', 'Skagen 21', 'Stavanger', '4006', 'Norway');**"
   ]
  },
  {
   "cell_type": "markdown",
   "id": "17061f79",
   "metadata": {},
   "source": [
    "**Note:-** If a field in a table is optional, it is possible to insert a new record or update a record without adding a value to this field. Then, the field will be saved with a NULL value."
   ]
  },
  {
   "cell_type": "code",
   "execution_count": null,
   "id": "7c66acc4",
   "metadata": {},
   "outputs": [],
   "source": []
  },
  {
   "cell_type": "markdown",
   "id": "3b76e5d3",
   "metadata": {},
   "source": [
    "### 20) `IS NULL` Syntax\n",
    "\n",
    "It is not possible to test for NULL values with comparison operators, such as =, <, or <>.\n",
    "\n",
    "We will have to use the `IS NULL` and `IS NOT NULL` operators instead."
   ]
  },
  {
   "cell_type": "markdown",
   "id": "818b00b1",
   "metadata": {},
   "source": [
    "**SELECT column_names FROM table_name `WHERE` column_name `IS NULL`;**"
   ]
  },
  {
   "cell_type": "markdown",
   "id": "001745c7",
   "metadata": {},
   "source": [
    "**SELECT CustomerName, ContactName, Address FROM Customers `WHERE` Address `IS NULL`;**"
   ]
  },
  {
   "cell_type": "markdown",
   "id": "71d6b88e",
   "metadata": {},
   "source": [
    "**Tip:** Always use IS NULL to look for NULL values."
   ]
  },
  {
   "cell_type": "code",
   "execution_count": null,
   "id": "e98edd0b",
   "metadata": {},
   "outputs": [],
   "source": []
  },
  {
   "cell_type": "markdown",
   "id": "d2b4a7f8",
   "metadata": {},
   "source": [
    "### 21) `IS NOT NULL` Operator\n",
    "\n",
    "The `IS NOT NULL` operator is used to test for non-empty values (NOT NULL values)."
   ]
  },
  {
   "cell_type": "markdown",
   "id": "d1c43a6f",
   "metadata": {},
   "source": [
    "**SELECT column_names FROM table_name `WHERE` column_name `IS NOT NULL`;**"
   ]
  },
  {
   "cell_type": "markdown",
   "id": "c682db62",
   "metadata": {},
   "source": [
    "**SELECT CustomerName, ContactName, Address FROM Customers `WHERE` Address `IS NOT NULL`;**"
   ]
  },
  {
   "cell_type": "code",
   "execution_count": null,
   "id": "a32315ba",
   "metadata": {},
   "outputs": [],
   "source": []
  },
  {
   "cell_type": "markdown",
   "id": "0b04789d",
   "metadata": {},
   "source": [
    "### 22) `UPDATE` Syntax\n",
    "\n",
    "The `UPDATE` statement is used to modify the existing records in a table."
   ]
  },
  {
   "cell_type": "markdown",
   "id": "6f7f858c",
   "metadata": {},
   "source": [
    "**`UPDATE` table_name `SET` column1 = value1, column2 = value2, ... `WHERE` condition;**"
   ]
  },
  {
   "cell_type": "markdown",
   "id": "2f7ca8d1",
   "metadata": {},
   "source": [
    "**`UPDATE` Customers `SET` ContactName = 'Alfred Schmidt', City = 'Frankfurt' `WHERE` CustomerID = 1;**"
   ]
  },
  {
   "cell_type": "code",
   "execution_count": null,
   "id": "e48ace00",
   "metadata": {},
   "outputs": [],
   "source": []
  },
  {
   "cell_type": "markdown",
   "id": "fdeb5703",
   "metadata": {},
   "source": [
    "### 23) `UPDATE` Multiple Records"
   ]
  },
  {
   "cell_type": "markdown",
   "id": "9791aabe",
   "metadata": {},
   "source": [
    "It is the `WHERE` clause that determines how many records will be updated."
   ]
  },
  {
   "cell_type": "markdown",
   "id": "7e027bd8",
   "metadata": {},
   "source": [
    "**`UPDATE` Customers `SET` PostalCode = 00000 `WHERE` Country = 'Mexico';**"
   ]
  },
  {
   "cell_type": "markdown",
   "id": "75d2524a",
   "metadata": {},
   "source": [
    "### Update Warning!"
   ]
  },
  {
   "cell_type": "markdown",
   "id": "8005ae2f",
   "metadata": {},
   "source": [
    "Be careful when updating records. If you omit the WHERE clause, ALL records will be updated!"
   ]
  },
  {
   "cell_type": "markdown",
   "id": "d56a74b9",
   "metadata": {},
   "source": [
    "**`UPDATE` Customers `SET` PostalCode = 00000;**\n",
    "\n",
    "|PostalCode|\n",
    "|----------|\n",
    "|00000|\n",
    "|00000|\n",
    "|00000|\n",
    "|00000|\n",
    "|00000|"
   ]
  },
  {
   "cell_type": "code",
   "execution_count": null,
   "id": "0bbe2b65",
   "metadata": {},
   "outputs": [],
   "source": []
  },
  {
   "cell_type": "markdown",
   "id": "89336cf7",
   "metadata": {},
   "source": [
    "### 24) `DELETE` Syntax\n",
    "\n",
    "The `DELETE` statement is used to delete existing records in a table."
   ]
  },
  {
   "cell_type": "markdown",
   "id": "f20d9aae",
   "metadata": {},
   "source": [
    "**`DELETE` FROM table_name `WHERE` condition;**"
   ]
  },
  {
   "cell_type": "markdown",
   "id": "35b21b2d",
   "metadata": {},
   "source": [
    "**`DELETE` FROM Customers `WHERE` CustomerName='Alfreds Futterkiste';**"
   ]
  },
  {
   "cell_type": "markdown",
   "id": "6f437a7f",
   "metadata": {},
   "source": [
    "### Delete All Records\n",
    "It is possible to delete all rows in a table without deleting the table. This means that the table structure, attributes, and indexes will be intact:"
   ]
  },
  {
   "cell_type": "code",
   "execution_count": null,
   "id": "c894dc88",
   "metadata": {},
   "outputs": [],
   "source": []
  },
  {
   "cell_type": "markdown",
   "id": "2837ea74",
   "metadata": {},
   "source": [
    "### Q) 25 `LIMIT` Clause"
   ]
  },
  {
   "cell_type": "markdown",
   "id": "e6a8a8aa",
   "metadata": {},
   "source": [
    "The `LIMIT` clause is used to specify the number of records to return.\n",
    "\n",
    "The `LIMIT` clause is useful on large tables with thousands of records. Returning a large number of records can impact performance."
   ]
  },
  {
   "cell_type": "markdown",
   "id": "2dcaf233",
   "metadata": {},
   "source": [
    "**SELECT column_name(s)\n",
    "FROM table_name\n",
    "`WHERE` condition\n",
    "`LIMIT` number;**"
   ]
  },
  {
   "cell_type": "markdown",
   "id": "99fc5b0f",
   "metadata": {},
   "source": [
    "***SELECT * FROM Customers\n",
    "`LIMIT` 3;**"
   ]
  },
  {
   "cell_type": "markdown",
   "id": "d6cde243",
   "metadata": {},
   "source": [
    "***SELECT * FROM Customers\n",
    "`WHERE` Country='Germany'\n",
    "`LIMIT` 3;**"
   ]
  },
  {
   "cell_type": "code",
   "execution_count": null,
   "id": "3f1a5ac8",
   "metadata": {},
   "outputs": [],
   "source": []
  },
  {
   "cell_type": "markdown",
   "id": "cf0d463c",
   "metadata": {},
   "source": [
    "# Aggregate Functions"
   ]
  },
  {
   "cell_type": "markdown",
   "id": "73c7d285",
   "metadata": {},
   "source": [
    "### 26) MIN()"
   ]
  },
  {
   "cell_type": "markdown",
   "id": "5f1320ca",
   "metadata": {},
   "source": [
    "The `MIN()` function returns the smallest value of the selected column."
   ]
  },
  {
   "cell_type": "markdown",
   "id": "00ba9480",
   "metadata": {},
   "source": [
    "**SELECT `MIN(column_name)`\n",
    "FROM table_name\n",
    "`WHERE` condition;**"
   ]
  },
  {
   "cell_type": "markdown",
   "id": "6180e446",
   "metadata": {},
   "source": [
    "**SELECT `MIN(Price)` `AS` SmallestPrice\n",
    "FROM Products;**"
   ]
  },
  {
   "cell_type": "code",
   "execution_count": null,
   "id": "148a3825",
   "metadata": {},
   "outputs": [],
   "source": []
  },
  {
   "cell_type": "markdown",
   "id": "21c41d74",
   "metadata": {},
   "source": [
    "### 27) MAX()"
   ]
  },
  {
   "cell_type": "markdown",
   "id": "addad246",
   "metadata": {},
   "source": [
    "The `MAX()` function returns the largest value of the selected column."
   ]
  },
  {
   "cell_type": "markdown",
   "id": "b2412ace",
   "metadata": {},
   "source": [
    "**SELECT `MAX(column_name)`\n",
    "FROM table_name\n",
    "`WHERE` condition;**"
   ]
  },
  {
   "cell_type": "markdown",
   "id": "4a12b04b",
   "metadata": {},
   "source": [
    "**SELECT `MAX(Price)` `AS` LargestPrice\n",
    "FROM Products;**"
   ]
  },
  {
   "cell_type": "code",
   "execution_count": null,
   "id": "91cfdb61",
   "metadata": {},
   "outputs": [],
   "source": []
  },
  {
   "cell_type": "markdown",
   "id": "49a5bfcf",
   "metadata": {},
   "source": [
    "### 28)  COUNT()"
   ]
  },
  {
   "cell_type": "markdown",
   "id": "6b7a2906",
   "metadata": {},
   "source": [
    "The `COUNT()` function returns the number of rows that matches a specified criterion."
   ]
  },
  {
   "cell_type": "markdown",
   "id": "f8efd993",
   "metadata": {},
   "source": [
    "**SELECT `COUNT(column_name)`\n",
    "FROM table_name\n",
    "`WHERE` condition;**"
   ]
  },
  {
   "cell_type": "markdown",
   "id": "5fa88d93",
   "metadata": {},
   "source": [
    "**SELECT `COUNT(ProductID)` \n",
    "FROM Products;**"
   ]
  },
  {
   "cell_type": "code",
   "execution_count": null,
   "id": "eb91e6b7",
   "metadata": {},
   "outputs": [],
   "source": []
  },
  {
   "cell_type": "markdown",
   "id": "7d44f61c",
   "metadata": {},
   "source": [
    "### 29) AVG()\n",
    "\n",
    "The `AVG()` function returns the average value of a numeric column. "
   ]
  },
  {
   "cell_type": "markdown",
   "id": "12f022ee",
   "metadata": {},
   "source": [
    "**SELECT `AVG(column_name)`\n",
    "FROM table_name\n",
    "`WHERE` condition;**"
   ]
  },
  {
   "cell_type": "markdown",
   "id": "687078ca",
   "metadata": {},
   "source": [
    "**SELECT `AVG(Price)`\n",
    "FROM Products;**"
   ]
  },
  {
   "cell_type": "code",
   "execution_count": null,
   "id": "f9040de2",
   "metadata": {},
   "outputs": [],
   "source": []
  },
  {
   "cell_type": "markdown",
   "id": "e824609f",
   "metadata": {},
   "source": [
    "### 30) SUM() \n",
    "\n",
    "The `SUM()` function returns the total sum of a numeric column. "
   ]
  },
  {
   "cell_type": "markdown",
   "id": "82b7896d",
   "metadata": {},
   "source": [
    "**SELECT `SUM(column_name)` \n",
    "FROM table_name\n",
    "`WHERE` condition;**"
   ]
  },
  {
   "cell_type": "markdown",
   "id": "b145e6eb",
   "metadata": {},
   "source": [
    "**SELECT `SUM(Quantity)`\n",
    "FROM OrderDetails;**"
   ]
  },
  {
   "cell_type": "code",
   "execution_count": null,
   "id": "a975f7d8",
   "metadata": {},
   "outputs": [],
   "source": []
  }
 ],
 "metadata": {
  "kernelspec": {
   "display_name": "Python 3 (ipykernel)",
   "language": "python",
   "name": "python3"
  },
  "language_info": {
   "codemirror_mode": {
    "name": "ipython",
    "version": 3
   },
   "file_extension": ".py",
   "mimetype": "text/x-python",
   "name": "python",
   "nbconvert_exporter": "python",
   "pygments_lexer": "ipython3",
   "version": "3.9.13"
  }
 },
 "nbformat": 4,
 "nbformat_minor": 5
}

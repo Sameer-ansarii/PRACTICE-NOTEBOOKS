{
 "cells": [
  {
   "cell_type": "markdown",
   "id": "e9071f8a",
   "metadata": {},
   "source": [
    "# Machine Learning\n",
    "\n",
    "* Machine Learning is the science of getting computers to learn and act like humans do, and improve their learning over time in autonomous fashion, by feeding them data and information in the form of observations and real-world interactions.\n",
    "\n",
    "\n",
    "* Machine Learning is a subset of Artificial Intelligence which enables machines to learn from past data or experience without being explicity programmed.\n",
    "\n",
    "\n",
    "* It's a technique to achieve AI through algorithms when exposed to more data over time."
   ]
  },
  {
   "cell_type": "markdown",
   "id": "9bece515",
   "metadata": {},
   "source": [
    "## Classification of Machine Learning :-\n",
    "\n",
    "\n",
    "* Supervised Learning\n",
    "\n",
    "\n",
    "* Unsupervised Learning \n",
    "\n",
    "\n",
    "* Reinforcement Learning"
   ]
  },
  {
   "cell_type": "markdown",
   "id": "59fbdf8d",
   "metadata": {},
   "source": [
    "# Artificial Intelligence (AI)\n",
    "\n",
    "* Artificial Intelligence is the science and engineering of making computers capable of performing tasks that typically require human intelligence.\n",
    "\n",
    "\n",
    "* It's a technique that can mimic human behaviour.\n",
    "\n",
    "## Based on capabilities, AI classified as:-\n",
    "\n",
    "* Applied AI(Weak AI) \n",
    "\n",
    "\n",
    "* Generalized AI (Strong AI)"
   ]
  },
  {
   "cell_type": "markdown",
   "id": "eaf77098",
   "metadata": {},
   "source": [
    "# Deep Learning\n",
    "\n",
    "\n",
    "* Deep Learning is a subset of Machine Learning concerned with the algorithms inspired by the structure and function of human brains.\n",
    "\n",
    "\n",
    "* Subset of Machine Learning in which multilayered neural networks learn from vast amount of data"
   ]
  },
  {
   "cell_type": "markdown",
   "id": "7886d99b",
   "metadata": {},
   "source": [
    "# What is Confusion Matrix?\n",
    "\n",
    "\n",
    "* A confusion matrix is an N*N matrix used for evaluating the performance of a classification model, where N is the number of target classes.\n",
    "\n",
    "\n",
    "* This compares the actual target values with predicted target values."
   ]
  },
  {
   "cell_type": "markdown",
   "id": "9100b553",
   "metadata": {},
   "source": [
    "# Right Fit\n",
    "\n",
    "\n",
    "* Ideally, the case when the model makes the predictions with 0 error, is said to have a good fit on the data.\n",
    "\n",
    "\n",
    "* Model's performance is evaluated based upon Accuracy and Generalisation\n",
    "\n",
    "\n",
    "* A model is said to be best when it behaves nearly same way on training as well as test data with high accuracy score."
   ]
  },
  {
   "cell_type": "markdown",
   "id": "2341b035",
   "metadata": {},
   "source": [
    "# Accuracy \n",
    "\n",
    "\n",
    "* The number of predictions that the model got right\n",
    "\n",
    "\n",
    "* It states how well a model predicts the right output.\n",
    "\n",
    "\n",
    "# Generalisation \n",
    "\n",
    "\n",
    "It states how well model behaves on new data set\n",
    "\n",
    "\n",
    "# Error Rate \n",
    "\n",
    "\n",
    "The number of predictions that the model predicted wrongly\n",
    "\n",
    "\n",
    "# Precision\n",
    "\n",
    "\n",
    "When the model predicts the positives, how often is it right?\n",
    "\n",
    "\n",
    "# Recall\n",
    "\n",
    "\n",
    "When it's actually yes, how often does it predict yes?\n",
    "\n",
    "\n",
    "# "
   ]
  },
  {
   "cell_type": "markdown",
   "id": "02422f23",
   "metadata": {},
   "source": [
    "# Underfitting\n",
    "\n",
    "\n",
    "* Underfitting means model has low accuracy score on training as well as on test data.\n",
    "\n",
    "\n",
    "* Underfitting occurs due to lack of data.\n",
    "\n",
    "\n",
    "* Underfitting occurs when we try to build a linear model with a non-linear data."
   ]
  },
  {
   "cell_type": "markdown",
   "id": "c98e8246",
   "metadata": {},
   "source": [
    "# Overfitting \n",
    "\n",
    "\n",
    "* Overfitting means model has high accuracy score on training data but low score on test data.\n",
    "\n",
    "\n",
    "* Overfitting occurs because of a lot more of data.\n",
    "\n",
    "\n",
    "* Overfitting occurs when the model fits the data too well."
   ]
  },
  {
   "cell_type": "markdown",
   "id": "22082d4d",
   "metadata": {},
   "source": [
    "# What is Data Set?\n",
    "\n",
    "\n",
    "A datset is a collection of records usually presented in tabular form."
   ]
  },
  {
   "cell_type": "markdown",
   "id": "97f0380d",
   "metadata": {},
   "source": [
    "# Types of Data :-\n",
    "\n",
    "\n",
    "* Numeric Data (Quantitative)\n",
    "\n",
    "\n",
    "* Categorical Data (Qualitative)\n",
    "\n",
    "\n",
    "* Ordinal Data"
   ]
  },
  {
   "cell_type": "markdown",
   "id": "f53f6879",
   "metadata": {},
   "source": [
    "# What is data pre-processing?\n",
    "\n",
    "\n",
    "Data pre-processing is process of converting raw data into suitable form."
   ]
  },
  {
   "cell_type": "markdown",
   "id": "fe3111a5",
   "metadata": {},
   "source": [
    "# Data Pre-Processing Steps Involves :-\n",
    "\n",
    "\n",
    "1) Getting Dataset\n",
    "\n",
    "\n",
    "2) Importing Libraries \n",
    "\n",
    "\n",
    "3) Importing Datasets\n",
    "\n",
    "\n",
    "4) Finding Missing Values\n",
    "\n",
    "\n",
    "5) Encoding Categorical Data \n",
    "\n",
    "\n",
    "6) Splitting Dataset into Training and Test Set\n",
    "\n",
    "\n",
    "7) Feature Scaling"
   ]
  },
  {
   "cell_type": "markdown",
   "id": "2ee64e5f",
   "metadata": {},
   "source": [
    "# Simple Imputer :- It fill null values by mean,mrdian,mode"
   ]
  },
  {
   "cell_type": "code",
   "execution_count": 1,
   "id": "f33e0605",
   "metadata": {},
   "outputs": [],
   "source": [
    "import pandas as pd\n",
    "import numpy as np"
   ]
  },
  {
   "cell_type": "code",
   "execution_count": 2,
   "id": "94ca18c6",
   "metadata": {},
   "outputs": [
    {
     "data": {
      "text/html": [
       "<div>\n",
       "<style scoped>\n",
       "    .dataframe tbody tr th:only-of-type {\n",
       "        vertical-align: middle;\n",
       "    }\n",
       "\n",
       "    .dataframe tbody tr th {\n",
       "        vertical-align: top;\n",
       "    }\n",
       "\n",
       "    .dataframe thead th {\n",
       "        text-align: right;\n",
       "    }\n",
       "</style>\n",
       "<table border=\"1\" class=\"dataframe\">\n",
       "  <thead>\n",
       "    <tr style=\"text-align: right;\">\n",
       "      <th></th>\n",
       "      <th>area_type</th>\n",
       "      <th>availability</th>\n",
       "      <th>location</th>\n",
       "      <th>size</th>\n",
       "      <th>society</th>\n",
       "      <th>total_sqft</th>\n",
       "      <th>bath</th>\n",
       "      <th>balcony</th>\n",
       "      <th>price</th>\n",
       "    </tr>\n",
       "  </thead>\n",
       "  <tbody>\n",
       "    <tr>\n",
       "      <th>5716</th>\n",
       "      <td>Super built-up  Area</td>\n",
       "      <td>Ready To Move</td>\n",
       "      <td>Marathahalli</td>\n",
       "      <td>3 BHK</td>\n",
       "      <td>Palanla</td>\n",
       "      <td>1435</td>\n",
       "      <td>3.0</td>\n",
       "      <td>1.0</td>\n",
       "      <td>73.0</td>\n",
       "    </tr>\n",
       "    <tr>\n",
       "      <th>2537</th>\n",
       "      <td>Super built-up  Area</td>\n",
       "      <td>Ready To Move</td>\n",
       "      <td>Yelahanka</td>\n",
       "      <td>3 BHK</td>\n",
       "      <td>Niareum</td>\n",
       "      <td>1603</td>\n",
       "      <td>3.0</td>\n",
       "      <td>2.0</td>\n",
       "      <td>96.0</td>\n",
       "    </tr>\n",
       "    <tr>\n",
       "      <th>4255</th>\n",
       "      <td>Super built-up  Area</td>\n",
       "      <td>Ready To Move</td>\n",
       "      <td>Malleshwaram</td>\n",
       "      <td>3 BHK</td>\n",
       "      <td>NaN</td>\n",
       "      <td>2600</td>\n",
       "      <td>3.0</td>\n",
       "      <td>1.0</td>\n",
       "      <td>237.0</td>\n",
       "    </tr>\n",
       "    <tr>\n",
       "      <th>7229</th>\n",
       "      <td>Super built-up  Area</td>\n",
       "      <td>19-Jan</td>\n",
       "      <td>Kanakpura Road</td>\n",
       "      <td>3 BHK</td>\n",
       "      <td>PrityFa</td>\n",
       "      <td>1591</td>\n",
       "      <td>3.0</td>\n",
       "      <td>1.0</td>\n",
       "      <td>122.0</td>\n",
       "    </tr>\n",
       "    <tr>\n",
       "      <th>1408</th>\n",
       "      <td>Super built-up  Area</td>\n",
       "      <td>21-Dec</td>\n",
       "      <td>Kanakpura Road</td>\n",
       "      <td>3 BHK</td>\n",
       "      <td>NaN</td>\n",
       "      <td>1300</td>\n",
       "      <td>2.0</td>\n",
       "      <td>3.0</td>\n",
       "      <td>69.0</td>\n",
       "    </tr>\n",
       "  </tbody>\n",
       "</table>\n",
       "</div>"
      ],
      "text/plain": [
       "                 area_type   availability        location   size  society  \\\n",
       "5716  Super built-up  Area  Ready To Move    Marathahalli  3 BHK  Palanla   \n",
       "2537  Super built-up  Area  Ready To Move       Yelahanka  3 BHK  Niareum   \n",
       "4255  Super built-up  Area  Ready To Move    Malleshwaram  3 BHK      NaN   \n",
       "7229  Super built-up  Area         19-Jan  Kanakpura Road  3 BHK  PrityFa   \n",
       "1408  Super built-up  Area         21-Dec  Kanakpura Road  3 BHK      NaN   \n",
       "\n",
       "     total_sqft  bath  balcony  price  \n",
       "5716       1435   3.0      1.0   73.0  \n",
       "2537       1603   3.0      2.0   96.0  \n",
       "4255       2600   3.0      1.0  237.0  \n",
       "7229       1591   3.0      1.0  122.0  \n",
       "1408       1300   2.0      3.0   69.0  "
      ]
     },
     "execution_count": 2,
     "metadata": {},
     "output_type": "execute_result"
    }
   ],
   "source": [
    "df = pd.read_csv(\"Bengaluru_House_Data.csv\")\n",
    "df.sample(5)"
   ]
  },
  {
   "cell_type": "code",
   "execution_count": 3,
   "id": "bb419a7a",
   "metadata": {},
   "outputs": [
    {
     "data": {
      "text/html": [
       "<div>\n",
       "<style scoped>\n",
       "    .dataframe tbody tr th:only-of-type {\n",
       "        vertical-align: middle;\n",
       "    }\n",
       "\n",
       "    .dataframe tbody tr th {\n",
       "        vertical-align: top;\n",
       "    }\n",
       "\n",
       "    .dataframe thead th {\n",
       "        text-align: right;\n",
       "    }\n",
       "</style>\n",
       "<table border=\"1\" class=\"dataframe\">\n",
       "  <thead>\n",
       "    <tr style=\"text-align: right;\">\n",
       "      <th></th>\n",
       "      <th>area_type</th>\n",
       "      <th>availability</th>\n",
       "      <th>location</th>\n",
       "      <th>size</th>\n",
       "      <th>society</th>\n",
       "      <th>total_sqft</th>\n",
       "      <th>bath</th>\n",
       "      <th>balcony</th>\n",
       "    </tr>\n",
       "  </thead>\n",
       "  <tbody>\n",
       "    <tr>\n",
       "      <th>0</th>\n",
       "      <td>Super built-up  Area</td>\n",
       "      <td>19-Dec</td>\n",
       "      <td>Electronic City Phase II</td>\n",
       "      <td>2 BHK</td>\n",
       "      <td>Coomee</td>\n",
       "      <td>1056</td>\n",
       "      <td>2.0</td>\n",
       "      <td>1.0</td>\n",
       "    </tr>\n",
       "    <tr>\n",
       "      <th>1</th>\n",
       "      <td>Plot  Area</td>\n",
       "      <td>Ready To Move</td>\n",
       "      <td>Chikka Tirupathi</td>\n",
       "      <td>4 Bedroom</td>\n",
       "      <td>Theanmp</td>\n",
       "      <td>2600</td>\n",
       "      <td>5.0</td>\n",
       "      <td>3.0</td>\n",
       "    </tr>\n",
       "    <tr>\n",
       "      <th>2</th>\n",
       "      <td>Built-up  Area</td>\n",
       "      <td>Ready To Move</td>\n",
       "      <td>Uttarahalli</td>\n",
       "      <td>3 BHK</td>\n",
       "      <td>NaN</td>\n",
       "      <td>1440</td>\n",
       "      <td>2.0</td>\n",
       "      <td>3.0</td>\n",
       "    </tr>\n",
       "  </tbody>\n",
       "</table>\n",
       "</div>"
      ],
      "text/plain": [
       "              area_type   availability                  location       size  \\\n",
       "0  Super built-up  Area         19-Dec  Electronic City Phase II      2 BHK   \n",
       "1            Plot  Area  Ready To Move          Chikka Tirupathi  4 Bedroom   \n",
       "2        Built-up  Area  Ready To Move               Uttarahalli      3 BHK   \n",
       "\n",
       "   society total_sqft  bath  balcony  \n",
       "0  Coomee        1056   2.0      1.0  \n",
       "1  Theanmp       2600   5.0      3.0  \n",
       "2      NaN       1440   2.0      3.0  "
      ]
     },
     "execution_count": 3,
     "metadata": {},
     "output_type": "execute_result"
    }
   ],
   "source": [
    "x = df.drop('price',axis=1)\n",
    "x.head(3)"
   ]
  },
  {
   "cell_type": "markdown",
   "id": "47e50e09",
   "metadata": {},
   "source": [
    "## Convert Data Frame into Numpy Array because Simple Imputer work on array"
   ]
  },
  {
   "cell_type": "code",
   "execution_count": 4,
   "id": "b5fccd28",
   "metadata": {},
   "outputs": [
    {
     "data": {
      "text/plain": [
       "array([['Super built-up  Area', '19-Dec', 'Electronic City Phase II',\n",
       "        ..., '1056', 2.0, 1.0],\n",
       "       ['Plot  Area', 'Ready To Move', 'Chikka Tirupathi', ..., '2600',\n",
       "        5.0, 3.0],\n",
       "       ['Built-up  Area', 'Ready To Move', 'Uttarahalli', ..., '1440',\n",
       "        2.0, 3.0],\n",
       "       ...,\n",
       "       ['Built-up  Area', 'Ready To Move', 'Raja Rajeshwari Nagar', ...,\n",
       "        '1141', 2.0, 1.0],\n",
       "       ['Super built-up  Area', '18-Jun', 'Padmanabhanagar', ..., '4689',\n",
       "        4.0, 1.0],\n",
       "       ['Super built-up  Area', 'Ready To Move', 'Doddathoguru', ...,\n",
       "        '550', 1.0, 1.0]], dtype=object)"
      ]
     },
     "execution_count": 4,
     "metadata": {},
     "output_type": "execute_result"
    }
   ],
   "source": [
    "x = df.drop('price',axis=1).values\n",
    "x"
   ]
  },
  {
   "cell_type": "code",
   "execution_count": 5,
   "id": "23df3007",
   "metadata": {},
   "outputs": [
    {
     "data": {
      "text/plain": [
       "0     39.07\n",
       "1    120.00\n",
       "2     62.00\n",
       "3     95.00\n",
       "4     51.00\n",
       "Name: price, dtype: float64"
      ]
     },
     "execution_count": 5,
     "metadata": {},
     "output_type": "execute_result"
    }
   ],
   "source": [
    "y = df['price']\n",
    "y.head(5)"
   ]
  },
  {
   "cell_type": "code",
   "execution_count": 6,
   "id": "ff62e5f2",
   "metadata": {},
   "outputs": [
    {
     "data": {
      "text/plain": [
       "(13320, 9)"
      ]
     },
     "execution_count": 6,
     "metadata": {},
     "output_type": "execute_result"
    }
   ],
   "source": [
    "df.shape"
   ]
  },
  {
   "cell_type": "code",
   "execution_count": 7,
   "id": "baf9259c",
   "metadata": {},
   "outputs": [
    {
     "data": {
      "text/plain": [
       "area_type          0\n",
       "availability       0\n",
       "location           1\n",
       "size              16\n",
       "society         5502\n",
       "total_sqft         0\n",
       "bath              73\n",
       "balcony          609\n",
       "price              0\n",
       "dtype: int64"
      ]
     },
     "execution_count": 7,
     "metadata": {},
     "output_type": "execute_result"
    }
   ],
   "source": [
    "df.isnull().sum()"
   ]
  },
  {
   "cell_type": "code",
   "execution_count": 8,
   "id": "410cf78d",
   "metadata": {},
   "outputs": [
    {
     "data": {
      "text/html": [
       "<style type=\"text/css\">\n",
       "#T_8fdf8_row0_col0, #T_8fdf8_row1_col0, #T_8fdf8_row2_col0, #T_8fdf8_row3_col0, #T_8fdf8_row5_col0, #T_8fdf8_row6_col0, #T_8fdf8_row7_col0, #T_8fdf8_row8_col0 {\n",
       "  background-color: #f2f2f2;\n",
       "  color: #000000;\n",
       "}\n",
       "#T_8fdf8_row4_col0 {\n",
       "  background-color: #fbb4ae;\n",
       "  color: #000000;\n",
       "}\n",
       "</style>\n",
       "<table id=\"T_8fdf8\">\n",
       "  <thead>\n",
       "    <tr>\n",
       "      <th class=\"blank level0\" >&nbsp;</th>\n",
       "      <th id=\"T_8fdf8_level0_col0\" class=\"col_heading level0 col0\" >NA Count</th>\n",
       "      <th id=\"T_8fdf8_level0_col1\" class=\"col_heading level0 col1\" >NA Percent</th>\n",
       "    </tr>\n",
       "  </thead>\n",
       "  <tbody>\n",
       "    <tr>\n",
       "      <th id=\"T_8fdf8_level0_row0\" class=\"row_heading level0 row0\" >area_type</th>\n",
       "      <td id=\"T_8fdf8_row0_col0\" class=\"data row0 col0\" >0</td>\n",
       "      <td id=\"T_8fdf8_row0_col1\" class=\"data row0 col1\" >0.00%</td>\n",
       "    </tr>\n",
       "    <tr>\n",
       "      <th id=\"T_8fdf8_level0_row1\" class=\"row_heading level0 row1\" >availability</th>\n",
       "      <td id=\"T_8fdf8_row1_col0\" class=\"data row1 col0\" >0</td>\n",
       "      <td id=\"T_8fdf8_row1_col1\" class=\"data row1 col1\" >0.00%</td>\n",
       "    </tr>\n",
       "    <tr>\n",
       "      <th id=\"T_8fdf8_level0_row2\" class=\"row_heading level0 row2\" >location</th>\n",
       "      <td id=\"T_8fdf8_row2_col0\" class=\"data row2 col0\" >1</td>\n",
       "      <td id=\"T_8fdf8_row2_col1\" class=\"data row2 col1\" >0.01%</td>\n",
       "    </tr>\n",
       "    <tr>\n",
       "      <th id=\"T_8fdf8_level0_row3\" class=\"row_heading level0 row3\" >size</th>\n",
       "      <td id=\"T_8fdf8_row3_col0\" class=\"data row3 col0\" >16</td>\n",
       "      <td id=\"T_8fdf8_row3_col1\" class=\"data row3 col1\" >0.12%</td>\n",
       "    </tr>\n",
       "    <tr>\n",
       "      <th id=\"T_8fdf8_level0_row4\" class=\"row_heading level0 row4\" >society</th>\n",
       "      <td id=\"T_8fdf8_row4_col0\" class=\"data row4 col0\" >5502</td>\n",
       "      <td id=\"T_8fdf8_row4_col1\" class=\"data row4 col1\" >41.31%</td>\n",
       "    </tr>\n",
       "    <tr>\n",
       "      <th id=\"T_8fdf8_level0_row5\" class=\"row_heading level0 row5\" >total_sqft</th>\n",
       "      <td id=\"T_8fdf8_row5_col0\" class=\"data row5 col0\" >0</td>\n",
       "      <td id=\"T_8fdf8_row5_col1\" class=\"data row5 col1\" >0.00%</td>\n",
       "    </tr>\n",
       "    <tr>\n",
       "      <th id=\"T_8fdf8_level0_row6\" class=\"row_heading level0 row6\" >bath</th>\n",
       "      <td id=\"T_8fdf8_row6_col0\" class=\"data row6 col0\" >73</td>\n",
       "      <td id=\"T_8fdf8_row6_col1\" class=\"data row6 col1\" >0.55%</td>\n",
       "    </tr>\n",
       "    <tr>\n",
       "      <th id=\"T_8fdf8_level0_row7\" class=\"row_heading level0 row7\" >balcony</th>\n",
       "      <td id=\"T_8fdf8_row7_col0\" class=\"data row7 col0\" >609</td>\n",
       "      <td id=\"T_8fdf8_row7_col1\" class=\"data row7 col1\" >4.57%</td>\n",
       "    </tr>\n",
       "    <tr>\n",
       "      <th id=\"T_8fdf8_level0_row8\" class=\"row_heading level0 row8\" >price</th>\n",
       "      <td id=\"T_8fdf8_row8_col0\" class=\"data row8 col0\" >0</td>\n",
       "      <td id=\"T_8fdf8_row8_col1\" class=\"data row8 col1\" >0.00%</td>\n",
       "    </tr>\n",
       "  </tbody>\n",
       "</table>\n"
      ],
      "text/plain": [
       "<pandas.io.formats.style.Styler at 0x1f4151aa910>"
      ]
     },
     "execution_count": 8,
     "metadata": {},
     "output_type": "execute_result"
    }
   ],
   "source": [
    "a = pd.DataFrame(data=[df.isna().sum().tolist(), [\"{:.2f}\".format(i)+'%' \\\n",
    "           for i in (df.isna().sum()/df.shape[0]*100).tolist()]], \n",
    "           columns=df.columns, index=['NA Count', 'NA Percent']).transpose()\n",
    "\n",
    "a.style.background_gradient(cmap=\"Pastel1_r\", subset=['NA Count'])"
   ]
  },
  {
   "cell_type": "markdown",
   "id": "46c2f076",
   "metadata": {},
   "source": [
    "## If a column contains 70-80% or above null values so we drop that column otherwise we fill null values by mean,median,mode."
   ]
  },
  {
   "cell_type": "markdown",
   "id": "072c79be",
   "metadata": {},
   "source": [
    "# Simple Imputer\n",
    "\n",
    "\n",
    "* It is use to fill null values by mean, median, mode."
   ]
  },
  {
   "cell_type": "code",
   "execution_count": 9,
   "id": "af126b37",
   "metadata": {},
   "outputs": [],
   "source": [
    "from sklearn.impute import SimpleImputer"
   ]
  },
  {
   "cell_type": "markdown",
   "id": "dafca2cb",
   "metadata": {},
   "source": [
    "Parameters in SimpleImputer() # Shift + Tab\n",
    "\n",
    "* missing_values=nan,\n",
    "* strategy='mean','median','most_frequent'\n",
    "* fill_value=None,\n",
    "* verbose=0,\n",
    "* copy=True,\n",
    "* add_indicator=False,"
   ]
  },
  {
   "cell_type": "code",
   "execution_count": 10,
   "id": "9a4214ea",
   "metadata": {},
   "outputs": [],
   "source": [
    "imputer = SimpleImputer(missing_values=np.nan,strategy='mean')"
   ]
  },
  {
   "cell_type": "code",
   "execution_count": 11,
   "id": "be4440bb",
   "metadata": {},
   "outputs": [],
   "source": [
    "imputer = imputer.fit(x[:,7:])"
   ]
  },
  {
   "cell_type": "code",
   "execution_count": 12,
   "id": "3b84755b",
   "metadata": {},
   "outputs": [],
   "source": [
    "x[:,7:] = imputer.transform(x[:,7:]) # (x[all rows,columns in which you want to apply simple imputer])"
   ]
  },
  {
   "cell_type": "code",
   "execution_count": 13,
   "id": "cdb18324",
   "metadata": {},
   "outputs": [
    {
     "data": {
      "text/html": [
       "<div>\n",
       "<style scoped>\n",
       "    .dataframe tbody tr th:only-of-type {\n",
       "        vertical-align: middle;\n",
       "    }\n",
       "\n",
       "    .dataframe tbody tr th {\n",
       "        vertical-align: top;\n",
       "    }\n",
       "\n",
       "    .dataframe thead th {\n",
       "        text-align: right;\n",
       "    }\n",
       "</style>\n",
       "<table border=\"1\" class=\"dataframe\">\n",
       "  <thead>\n",
       "    <tr style=\"text-align: right;\">\n",
       "      <th></th>\n",
       "      <th>0</th>\n",
       "      <th>1</th>\n",
       "      <th>2</th>\n",
       "      <th>3</th>\n",
       "      <th>4</th>\n",
       "      <th>5</th>\n",
       "      <th>6</th>\n",
       "      <th>7</th>\n",
       "    </tr>\n",
       "  </thead>\n",
       "  <tbody>\n",
       "    <tr>\n",
       "      <th>0</th>\n",
       "      <td>Super built-up  Area</td>\n",
       "      <td>19-Dec</td>\n",
       "      <td>Electronic City Phase II</td>\n",
       "      <td>2 BHK</td>\n",
       "      <td>Coomee</td>\n",
       "      <td>1056</td>\n",
       "      <td>2.0</td>\n",
       "      <td>1.0</td>\n",
       "    </tr>\n",
       "    <tr>\n",
       "      <th>1</th>\n",
       "      <td>Plot  Area</td>\n",
       "      <td>Ready To Move</td>\n",
       "      <td>Chikka Tirupathi</td>\n",
       "      <td>4 Bedroom</td>\n",
       "      <td>Theanmp</td>\n",
       "      <td>2600</td>\n",
       "      <td>5.0</td>\n",
       "      <td>3.0</td>\n",
       "    </tr>\n",
       "    <tr>\n",
       "      <th>2</th>\n",
       "      <td>Built-up  Area</td>\n",
       "      <td>Ready To Move</td>\n",
       "      <td>Uttarahalli</td>\n",
       "      <td>3 BHK</td>\n",
       "      <td>NaN</td>\n",
       "      <td>1440</td>\n",
       "      <td>2.0</td>\n",
       "      <td>3.0</td>\n",
       "    </tr>\n",
       "    <tr>\n",
       "      <th>3</th>\n",
       "      <td>Super built-up  Area</td>\n",
       "      <td>Ready To Move</td>\n",
       "      <td>Lingadheeranahalli</td>\n",
       "      <td>3 BHK</td>\n",
       "      <td>Soiewre</td>\n",
       "      <td>1521</td>\n",
       "      <td>3.0</td>\n",
       "      <td>1.0</td>\n",
       "    </tr>\n",
       "    <tr>\n",
       "      <th>4</th>\n",
       "      <td>Super built-up  Area</td>\n",
       "      <td>Ready To Move</td>\n",
       "      <td>Kothanur</td>\n",
       "      <td>2 BHK</td>\n",
       "      <td>NaN</td>\n",
       "      <td>1200</td>\n",
       "      <td>2.0</td>\n",
       "      <td>1.0</td>\n",
       "    </tr>\n",
       "  </tbody>\n",
       "</table>\n",
       "</div>"
      ],
      "text/plain": [
       "                      0              1                         2          3  \\\n",
       "0  Super built-up  Area         19-Dec  Electronic City Phase II      2 BHK   \n",
       "1            Plot  Area  Ready To Move          Chikka Tirupathi  4 Bedroom   \n",
       "2        Built-up  Area  Ready To Move               Uttarahalli      3 BHK   \n",
       "3  Super built-up  Area  Ready To Move        Lingadheeranahalli      3 BHK   \n",
       "4  Super built-up  Area  Ready To Move                  Kothanur      2 BHK   \n",
       "\n",
       "         4     5    6    7  \n",
       "0  Coomee   1056  2.0  1.0  \n",
       "1  Theanmp  2600  5.0  3.0  \n",
       "2      NaN  1440  2.0  3.0  \n",
       "3  Soiewre  1521  3.0  1.0  \n",
       "4      NaN  1200  2.0  1.0  "
      ]
     },
     "execution_count": 13,
     "metadata": {},
     "output_type": "execute_result"
    }
   ],
   "source": [
    "a = pd.DataFrame(x)\n",
    "a.head()"
   ]
  },
  {
   "cell_type": "code",
   "execution_count": 14,
   "id": "8da59f28",
   "metadata": {},
   "outputs": [
    {
     "data": {
      "text/plain": [
       "0       0\n",
       "1       0\n",
       "2       1\n",
       "3      16\n",
       "4    5502\n",
       "5       0\n",
       "6      73\n",
       "7       0\n",
       "dtype: int64"
      ]
     },
     "execution_count": 14,
     "metadata": {},
     "output_type": "execute_result"
    }
   ],
   "source": [
    "a.isnull().sum()"
   ]
  },
  {
   "cell_type": "markdown",
   "id": "f59efccd",
   "metadata": {},
   "source": [
    "As you see we fill the null values by mean in 'balcony' column because it is numeric variable"
   ]
  },
  {
   "cell_type": "code",
   "execution_count": 15,
   "id": "336cb8b4",
   "metadata": {},
   "outputs": [],
   "source": [
    "imputer = SimpleImputer(missing_values=np.nan,strategy='most_frequent')"
   ]
  },
  {
   "cell_type": "code",
   "execution_count": 16,
   "id": "925667f1",
   "metadata": {},
   "outputs": [],
   "source": [
    "imputer = imputer.fit(x[:,2:5])"
   ]
  },
  {
   "cell_type": "code",
   "execution_count": 17,
   "id": "961ea361",
   "metadata": {},
   "outputs": [],
   "source": [
    "x[:,2:5] = imputer.transform(x[:,2:5])"
   ]
  },
  {
   "cell_type": "code",
   "execution_count": 18,
   "id": "c4a48e13",
   "metadata": {},
   "outputs": [
    {
     "data": {
      "text/html": [
       "<div>\n",
       "<style scoped>\n",
       "    .dataframe tbody tr th:only-of-type {\n",
       "        vertical-align: middle;\n",
       "    }\n",
       "\n",
       "    .dataframe tbody tr th {\n",
       "        vertical-align: top;\n",
       "    }\n",
       "\n",
       "    .dataframe thead th {\n",
       "        text-align: right;\n",
       "    }\n",
       "</style>\n",
       "<table border=\"1\" class=\"dataframe\">\n",
       "  <thead>\n",
       "    <tr style=\"text-align: right;\">\n",
       "      <th></th>\n",
       "      <th>0</th>\n",
       "      <th>1</th>\n",
       "      <th>2</th>\n",
       "      <th>3</th>\n",
       "      <th>4</th>\n",
       "      <th>5</th>\n",
       "      <th>6</th>\n",
       "      <th>7</th>\n",
       "    </tr>\n",
       "  </thead>\n",
       "  <tbody>\n",
       "    <tr>\n",
       "      <th>0</th>\n",
       "      <td>Super built-up  Area</td>\n",
       "      <td>19-Dec</td>\n",
       "      <td>Electronic City Phase II</td>\n",
       "      <td>2 BHK</td>\n",
       "      <td>Coomee</td>\n",
       "      <td>1056</td>\n",
       "      <td>2.0</td>\n",
       "      <td>1.0</td>\n",
       "    </tr>\n",
       "    <tr>\n",
       "      <th>1</th>\n",
       "      <td>Plot  Area</td>\n",
       "      <td>Ready To Move</td>\n",
       "      <td>Chikka Tirupathi</td>\n",
       "      <td>4 Bedroom</td>\n",
       "      <td>Theanmp</td>\n",
       "      <td>2600</td>\n",
       "      <td>5.0</td>\n",
       "      <td>3.0</td>\n",
       "    </tr>\n",
       "    <tr>\n",
       "      <th>2</th>\n",
       "      <td>Built-up  Area</td>\n",
       "      <td>Ready To Move</td>\n",
       "      <td>Uttarahalli</td>\n",
       "      <td>3 BHK</td>\n",
       "      <td>GrrvaGr</td>\n",
       "      <td>1440</td>\n",
       "      <td>2.0</td>\n",
       "      <td>3.0</td>\n",
       "    </tr>\n",
       "    <tr>\n",
       "      <th>3</th>\n",
       "      <td>Super built-up  Area</td>\n",
       "      <td>Ready To Move</td>\n",
       "      <td>Lingadheeranahalli</td>\n",
       "      <td>3 BHK</td>\n",
       "      <td>Soiewre</td>\n",
       "      <td>1521</td>\n",
       "      <td>3.0</td>\n",
       "      <td>1.0</td>\n",
       "    </tr>\n",
       "    <tr>\n",
       "      <th>4</th>\n",
       "      <td>Super built-up  Area</td>\n",
       "      <td>Ready To Move</td>\n",
       "      <td>Kothanur</td>\n",
       "      <td>2 BHK</td>\n",
       "      <td>GrrvaGr</td>\n",
       "      <td>1200</td>\n",
       "      <td>2.0</td>\n",
       "      <td>1.0</td>\n",
       "    </tr>\n",
       "  </tbody>\n",
       "</table>\n",
       "</div>"
      ],
      "text/plain": [
       "                      0              1                         2          3  \\\n",
       "0  Super built-up  Area         19-Dec  Electronic City Phase II      2 BHK   \n",
       "1            Plot  Area  Ready To Move          Chikka Tirupathi  4 Bedroom   \n",
       "2        Built-up  Area  Ready To Move               Uttarahalli      3 BHK   \n",
       "3  Super built-up  Area  Ready To Move        Lingadheeranahalli      3 BHK   \n",
       "4  Super built-up  Area  Ready To Move                  Kothanur      2 BHK   \n",
       "\n",
       "         4     5    6    7  \n",
       "0  Coomee   1056  2.0  1.0  \n",
       "1  Theanmp  2600  5.0  3.0  \n",
       "2  GrrvaGr  1440  2.0  3.0  \n",
       "3  Soiewre  1521  3.0  1.0  \n",
       "4  GrrvaGr  1200  2.0  1.0  "
      ]
     },
     "execution_count": 18,
     "metadata": {},
     "output_type": "execute_result"
    }
   ],
   "source": [
    "a = pd.DataFrame(x)\n",
    "a.head()"
   ]
  },
  {
   "cell_type": "code",
   "execution_count": 19,
   "id": "a4fbac29",
   "metadata": {},
   "outputs": [
    {
     "data": {
      "text/plain": [
       "0     0\n",
       "1     0\n",
       "2     0\n",
       "3     0\n",
       "4     0\n",
       "5     0\n",
       "6    73\n",
       "7     0\n",
       "dtype: int64"
      ]
     },
     "execution_count": 19,
     "metadata": {},
     "output_type": "execute_result"
    }
   ],
   "source": [
    "a.isnull().sum()"
   ]
  },
  {
   "cell_type": "code",
   "execution_count": 20,
   "id": "527c84d8",
   "metadata": {},
   "outputs": [
    {
     "data": {
      "text/html": [
       "<style type=\"text/css\">\n",
       "#T_84f78_row0_col0, #T_84f78_row1_col0, #T_84f78_row2_col0, #T_84f78_row3_col0, #T_84f78_row4_col0, #T_84f78_row5_col0, #T_84f78_row7_col0 {\n",
       "  background-color: #f2f2f2;\n",
       "  color: #000000;\n",
       "}\n",
       "#T_84f78_row6_col0 {\n",
       "  background-color: #fbb4ae;\n",
       "  color: #000000;\n",
       "}\n",
       "</style>\n",
       "<table id=\"T_84f78\">\n",
       "  <thead>\n",
       "    <tr>\n",
       "      <th class=\"blank level0\" >&nbsp;</th>\n",
       "      <th id=\"T_84f78_level0_col0\" class=\"col_heading level0 col0\" >NA Count</th>\n",
       "      <th id=\"T_84f78_level0_col1\" class=\"col_heading level0 col1\" >NA Percent</th>\n",
       "    </tr>\n",
       "  </thead>\n",
       "  <tbody>\n",
       "    <tr>\n",
       "      <th id=\"T_84f78_level0_row0\" class=\"row_heading level0 row0\" >0</th>\n",
       "      <td id=\"T_84f78_row0_col0\" class=\"data row0 col0\" >0</td>\n",
       "      <td id=\"T_84f78_row0_col1\" class=\"data row0 col1\" >0.00%</td>\n",
       "    </tr>\n",
       "    <tr>\n",
       "      <th id=\"T_84f78_level0_row1\" class=\"row_heading level0 row1\" >1</th>\n",
       "      <td id=\"T_84f78_row1_col0\" class=\"data row1 col0\" >0</td>\n",
       "      <td id=\"T_84f78_row1_col1\" class=\"data row1 col1\" >0.00%</td>\n",
       "    </tr>\n",
       "    <tr>\n",
       "      <th id=\"T_84f78_level0_row2\" class=\"row_heading level0 row2\" >2</th>\n",
       "      <td id=\"T_84f78_row2_col0\" class=\"data row2 col0\" >0</td>\n",
       "      <td id=\"T_84f78_row2_col1\" class=\"data row2 col1\" >0.00%</td>\n",
       "    </tr>\n",
       "    <tr>\n",
       "      <th id=\"T_84f78_level0_row3\" class=\"row_heading level0 row3\" >3</th>\n",
       "      <td id=\"T_84f78_row3_col0\" class=\"data row3 col0\" >0</td>\n",
       "      <td id=\"T_84f78_row3_col1\" class=\"data row3 col1\" >0.00%</td>\n",
       "    </tr>\n",
       "    <tr>\n",
       "      <th id=\"T_84f78_level0_row4\" class=\"row_heading level0 row4\" >4</th>\n",
       "      <td id=\"T_84f78_row4_col0\" class=\"data row4 col0\" >0</td>\n",
       "      <td id=\"T_84f78_row4_col1\" class=\"data row4 col1\" >0.00%</td>\n",
       "    </tr>\n",
       "    <tr>\n",
       "      <th id=\"T_84f78_level0_row5\" class=\"row_heading level0 row5\" >5</th>\n",
       "      <td id=\"T_84f78_row5_col0\" class=\"data row5 col0\" >0</td>\n",
       "      <td id=\"T_84f78_row5_col1\" class=\"data row5 col1\" >0.00%</td>\n",
       "    </tr>\n",
       "    <tr>\n",
       "      <th id=\"T_84f78_level0_row6\" class=\"row_heading level0 row6\" >6</th>\n",
       "      <td id=\"T_84f78_row6_col0\" class=\"data row6 col0\" >73</td>\n",
       "      <td id=\"T_84f78_row6_col1\" class=\"data row6 col1\" >0.55%</td>\n",
       "    </tr>\n",
       "    <tr>\n",
       "      <th id=\"T_84f78_level0_row7\" class=\"row_heading level0 row7\" >7</th>\n",
       "      <td id=\"T_84f78_row7_col0\" class=\"data row7 col0\" >0</td>\n",
       "      <td id=\"T_84f78_row7_col1\" class=\"data row7 col1\" >0.00%</td>\n",
       "    </tr>\n",
       "  </tbody>\n",
       "</table>\n"
      ],
      "text/plain": [
       "<pandas.io.formats.style.Styler at 0x1f41880a160>"
      ]
     },
     "execution_count": 20,
     "metadata": {},
     "output_type": "execute_result"
    }
   ],
   "source": [
    "a = pd.DataFrame(data=[a.isna().sum().tolist(), [\"{:.2f}\".format(i)+'%' \\\n",
    "           for i in (a.isna().sum()/a.shape[0]*100).tolist()]], \n",
    "           columns=a.columns, index=['NA Count', 'NA Percent']).transpose()\n",
    "\n",
    "a.style.background_gradient(cmap=\"Pastel1_r\", subset=['NA Count'])"
   ]
  },
  {
   "cell_type": "markdown",
   "id": "cee42d0e",
   "metadata": {},
   "source": [
    "* As you see we fill all null values in data set\n",
    "* These changes are done on Original Data Set so we create new Data Set as you see above"
   ]
  },
  {
   "cell_type": "markdown",
   "id": "e87dd6a3",
   "metadata": {},
   "source": [
    "Label Encoder :- It converts categorical data into numerical"
   ]
  },
  {
   "cell_type": "code",
   "execution_count": 21,
   "id": "c73c7353",
   "metadata": {},
   "outputs": [],
   "source": [
    "from sklearn.preprocessing import LabelEncoder"
   ]
  },
  {
   "cell_type": "code",
   "execution_count": 22,
   "id": "574a645c",
   "metadata": {},
   "outputs": [],
   "source": [
    "LE = LabelEncoder()"
   ]
  },
  {
   "cell_type": "code",
   "execution_count": 23,
   "id": "f8aabd7e",
   "metadata": {},
   "outputs": [],
   "source": [
    "x[:,0] = LE.fit_transform(x[:,0]) # It can work on single column only"
   ]
  },
  {
   "cell_type": "code",
   "execution_count": 24,
   "id": "fd26d9b3",
   "metadata": {},
   "outputs": [],
   "source": [
    "x[:,1] = LE.fit_transform(x[:,1])"
   ]
  },
  {
   "cell_type": "code",
   "execution_count": 25,
   "id": "50e2f1a0",
   "metadata": {},
   "outputs": [],
   "source": [
    "x[:,2] = LE.fit_transform(x[:,2])"
   ]
  },
  {
   "cell_type": "code",
   "execution_count": 26,
   "id": "ee1be643",
   "metadata": {},
   "outputs": [],
   "source": [
    "x[:,3] = LE.fit_transform(x[:,3])"
   ]
  },
  {
   "cell_type": "code",
   "execution_count": 27,
   "id": "f5b7bb35",
   "metadata": {},
   "outputs": [],
   "source": [
    "x[:,4] = LE.fit_transform(x[:,4])"
   ]
  },
  {
   "cell_type": "code",
   "execution_count": 28,
   "id": "9a2ca81c",
   "metadata": {},
   "outputs": [
    {
     "data": {
      "text/html": [
       "<div>\n",
       "<style scoped>\n",
       "    .dataframe tbody tr th:only-of-type {\n",
       "        vertical-align: middle;\n",
       "    }\n",
       "\n",
       "    .dataframe tbody tr th {\n",
       "        vertical-align: top;\n",
       "    }\n",
       "\n",
       "    .dataframe thead th {\n",
       "        text-align: right;\n",
       "    }\n",
       "</style>\n",
       "<table border=\"1\" class=\"dataframe\">\n",
       "  <thead>\n",
       "    <tr style=\"text-align: right;\">\n",
       "      <th></th>\n",
       "      <th>0</th>\n",
       "      <th>1</th>\n",
       "      <th>2</th>\n",
       "      <th>3</th>\n",
       "      <th>4</th>\n",
       "      <th>5</th>\n",
       "      <th>6</th>\n",
       "      <th>7</th>\n",
       "    </tr>\n",
       "  </thead>\n",
       "  <tbody>\n",
       "    <tr>\n",
       "      <th>0</th>\n",
       "      <td>3</td>\n",
       "      <td>40</td>\n",
       "      <td>419</td>\n",
       "      <td>13</td>\n",
       "      <td>464</td>\n",
       "      <td>1056</td>\n",
       "      <td>2.0</td>\n",
       "      <td>1.0</td>\n",
       "    </tr>\n",
       "    <tr>\n",
       "      <th>1</th>\n",
       "      <td>2</td>\n",
       "      <td>80</td>\n",
       "      <td>317</td>\n",
       "      <td>19</td>\n",
       "      <td>2439</td>\n",
       "      <td>2600</td>\n",
       "      <td>5.0</td>\n",
       "      <td>3.0</td>\n",
       "    </tr>\n",
       "    <tr>\n",
       "      <th>2</th>\n",
       "      <td>0</td>\n",
       "      <td>80</td>\n",
       "      <td>1179</td>\n",
       "      <td>16</td>\n",
       "      <td>806</td>\n",
       "      <td>1440</td>\n",
       "      <td>2.0</td>\n",
       "      <td>3.0</td>\n",
       "    </tr>\n",
       "    <tr>\n",
       "      <th>3</th>\n",
       "      <td>3</td>\n",
       "      <td>80</td>\n",
       "      <td>757</td>\n",
       "      <td>16</td>\n",
       "      <td>2186</td>\n",
       "      <td>1521</td>\n",
       "      <td>3.0</td>\n",
       "      <td>1.0</td>\n",
       "    </tr>\n",
       "    <tr>\n",
       "      <th>4</th>\n",
       "      <td>3</td>\n",
       "      <td>80</td>\n",
       "      <td>716</td>\n",
       "      <td>13</td>\n",
       "      <td>806</td>\n",
       "      <td>1200</td>\n",
       "      <td>2.0</td>\n",
       "      <td>1.0</td>\n",
       "    </tr>\n",
       "    <tr>\n",
       "      <th>...</th>\n",
       "      <td>...</td>\n",
       "      <td>...</td>\n",
       "      <td>...</td>\n",
       "      <td>...</td>\n",
       "      <td>...</td>\n",
       "      <td>...</td>\n",
       "      <td>...</td>\n",
       "      <td>...</td>\n",
       "    </tr>\n",
       "    <tr>\n",
       "      <th>13315</th>\n",
       "      <td>0</td>\n",
       "      <td>80</td>\n",
       "      <td>1252</td>\n",
       "      <td>22</td>\n",
       "      <td>209</td>\n",
       "      <td>3453</td>\n",
       "      <td>4.0</td>\n",
       "      <td>0.0</td>\n",
       "    </tr>\n",
       "    <tr>\n",
       "      <th>13316</th>\n",
       "      <td>3</td>\n",
       "      <td>80</td>\n",
       "      <td>1004</td>\n",
       "      <td>18</td>\n",
       "      <td>806</td>\n",
       "      <td>3600</td>\n",
       "      <td>5.0</td>\n",
       "      <td>1.584376</td>\n",
       "    </tr>\n",
       "    <tr>\n",
       "      <th>13317</th>\n",
       "      <td>0</td>\n",
       "      <td>80</td>\n",
       "      <td>972</td>\n",
       "      <td>13</td>\n",
       "      <td>1216</td>\n",
       "      <td>1141</td>\n",
       "      <td>2.0</td>\n",
       "      <td>1.0</td>\n",
       "    </tr>\n",
       "    <tr>\n",
       "      <th>13318</th>\n",
       "      <td>3</td>\n",
       "      <td>32</td>\n",
       "      <td>907</td>\n",
       "      <td>18</td>\n",
       "      <td>2205</td>\n",
       "      <td>4689</td>\n",
       "      <td>4.0</td>\n",
       "      <td>1.0</td>\n",
       "    </tr>\n",
       "    <tr>\n",
       "      <th>13319</th>\n",
       "      <td>3</td>\n",
       "      <td>80</td>\n",
       "      <td>396</td>\n",
       "      <td>0</td>\n",
       "      <td>806</td>\n",
       "      <td>550</td>\n",
       "      <td>1.0</td>\n",
       "      <td>1.0</td>\n",
       "    </tr>\n",
       "  </tbody>\n",
       "</table>\n",
       "<p>13320 rows × 8 columns</p>\n",
       "</div>"
      ],
      "text/plain": [
       "       0   1     2   3     4     5    6         7\n",
       "0      3  40   419  13   464  1056  2.0       1.0\n",
       "1      2  80   317  19  2439  2600  5.0       3.0\n",
       "2      0  80  1179  16   806  1440  2.0       3.0\n",
       "3      3  80   757  16  2186  1521  3.0       1.0\n",
       "4      3  80   716  13   806  1200  2.0       1.0\n",
       "...   ..  ..   ...  ..   ...   ...  ...       ...\n",
       "13315  0  80  1252  22   209  3453  4.0       0.0\n",
       "13316  3  80  1004  18   806  3600  5.0  1.584376\n",
       "13317  0  80   972  13  1216  1141  2.0       1.0\n",
       "13318  3  32   907  18  2205  4689  4.0       1.0\n",
       "13319  3  80   396   0   806   550  1.0       1.0\n",
       "\n",
       "[13320 rows x 8 columns]"
      ]
     },
     "execution_count": 28,
     "metadata": {},
     "output_type": "execute_result"
    }
   ],
   "source": [
    "pd.DataFrame(x)"
   ]
  },
  {
   "cell_type": "markdown",
   "id": "7e5a9a6a",
   "metadata": {},
   "source": [
    "As you see your all columns are converted into numerical "
   ]
  },
  {
   "cell_type": "markdown",
   "id": "dc6bd4a8",
   "metadata": {},
   "source": [
    "# One Hot Encoder :- It is use to create dummy variables of categories in a particular column"
   ]
  },
  {
   "cell_type": "code",
   "execution_count": 29,
   "id": "8c6803d6",
   "metadata": {},
   "outputs": [
    {
     "name": "stdout",
     "output_type": "stream",
     "text": [
      "area_type : 4 labels\n",
      "availability : 81 labels\n",
      "location : 1306 labels\n",
      "size : 32 labels\n",
      "society : 2689 labels\n",
      "total_sqft : 2117 labels\n",
      "bath : 20 labels\n",
      "balcony : 5 labels\n",
      "price : 1994 labels\n"
     ]
    }
   ],
   "source": [
    "for col in df.columns:\n",
    "    print(col,':',len(df[col].unique()),'labels')"
   ]
  },
  {
   "cell_type": "markdown",
   "id": "8d6e422b",
   "metadata": {},
   "source": [
    "# We ignore the categories of numerical column we only apply one hot encoder in categorical column"
   ]
  },
  {
   "cell_type": "code",
   "execution_count": 30,
   "id": "d1b96fcc",
   "metadata": {},
   "outputs": [],
   "source": [
    "from sklearn.preprocessing import OneHotEncoder"
   ]
  },
  {
   "cell_type": "code",
   "execution_count": 31,
   "id": "175bf834",
   "metadata": {},
   "outputs": [],
   "source": [
    "ohe = OneHotEncoder(drop='first')"
   ]
  },
  {
   "cell_type": "code",
   "execution_count": 32,
   "id": "dcdb1917",
   "metadata": {},
   "outputs": [],
   "source": [
    "x = ohe.fit_transform(df.area_type.values.reshape(-1,1)).toarray()"
   ]
  },
  {
   "cell_type": "code",
   "execution_count": 33,
   "id": "af641b9c",
   "metadata": {},
   "outputs": [
    {
     "data": {
      "text/plain": [
       "array([[0., 0., 1.],\n",
       "       [0., 1., 0.],\n",
       "       [0., 0., 0.],\n",
       "       ...,\n",
       "       [0., 0., 0.],\n",
       "       [0., 0., 1.],\n",
       "       [0., 0., 1.]])"
      ]
     },
     "execution_count": 33,
     "metadata": {},
     "output_type": "execute_result"
    }
   ],
   "source": [
    "x"
   ]
  },
  {
   "cell_type": "code",
   "execution_count": 34,
   "id": "b2599320",
   "metadata": {},
   "outputs": [
    {
     "data": {
      "text/html": [
       "<div>\n",
       "<style scoped>\n",
       "    .dataframe tbody tr th:only-of-type {\n",
       "        vertical-align: middle;\n",
       "    }\n",
       "\n",
       "    .dataframe tbody tr th {\n",
       "        vertical-align: top;\n",
       "    }\n",
       "\n",
       "    .dataframe thead th {\n",
       "        text-align: right;\n",
       "    }\n",
       "</style>\n",
       "<table border=\"1\" class=\"dataframe\">\n",
       "  <thead>\n",
       "    <tr style=\"text-align: right;\">\n",
       "      <th></th>\n",
       "      <th>0</th>\n",
       "      <th>1</th>\n",
       "      <th>2</th>\n",
       "    </tr>\n",
       "  </thead>\n",
       "  <tbody>\n",
       "    <tr>\n",
       "      <th>0</th>\n",
       "      <td>0.0</td>\n",
       "      <td>0.0</td>\n",
       "      <td>1.0</td>\n",
       "    </tr>\n",
       "    <tr>\n",
       "      <th>1</th>\n",
       "      <td>0.0</td>\n",
       "      <td>1.0</td>\n",
       "      <td>0.0</td>\n",
       "    </tr>\n",
       "    <tr>\n",
       "      <th>2</th>\n",
       "      <td>0.0</td>\n",
       "      <td>0.0</td>\n",
       "      <td>0.0</td>\n",
       "    </tr>\n",
       "    <tr>\n",
       "      <th>3</th>\n",
       "      <td>0.0</td>\n",
       "      <td>0.0</td>\n",
       "      <td>1.0</td>\n",
       "    </tr>\n",
       "    <tr>\n",
       "      <th>4</th>\n",
       "      <td>0.0</td>\n",
       "      <td>0.0</td>\n",
       "      <td>1.0</td>\n",
       "    </tr>\n",
       "    <tr>\n",
       "      <th>...</th>\n",
       "      <td>...</td>\n",
       "      <td>...</td>\n",
       "      <td>...</td>\n",
       "    </tr>\n",
       "    <tr>\n",
       "      <th>13315</th>\n",
       "      <td>0.0</td>\n",
       "      <td>0.0</td>\n",
       "      <td>0.0</td>\n",
       "    </tr>\n",
       "    <tr>\n",
       "      <th>13316</th>\n",
       "      <td>0.0</td>\n",
       "      <td>0.0</td>\n",
       "      <td>1.0</td>\n",
       "    </tr>\n",
       "    <tr>\n",
       "      <th>13317</th>\n",
       "      <td>0.0</td>\n",
       "      <td>0.0</td>\n",
       "      <td>0.0</td>\n",
       "    </tr>\n",
       "    <tr>\n",
       "      <th>13318</th>\n",
       "      <td>0.0</td>\n",
       "      <td>0.0</td>\n",
       "      <td>1.0</td>\n",
       "    </tr>\n",
       "    <tr>\n",
       "      <th>13319</th>\n",
       "      <td>0.0</td>\n",
       "      <td>0.0</td>\n",
       "      <td>1.0</td>\n",
       "    </tr>\n",
       "  </tbody>\n",
       "</table>\n",
       "<p>13320 rows × 3 columns</p>\n",
       "</div>"
      ],
      "text/plain": [
       "         0    1    2\n",
       "0      0.0  0.0  1.0\n",
       "1      0.0  1.0  0.0\n",
       "2      0.0  0.0  0.0\n",
       "3      0.0  0.0  1.0\n",
       "4      0.0  0.0  1.0\n",
       "...    ...  ...  ...\n",
       "13315  0.0  0.0  0.0\n",
       "13316  0.0  0.0  1.0\n",
       "13317  0.0  0.0  0.0\n",
       "13318  0.0  0.0  1.0\n",
       "13319  0.0  0.0  1.0\n",
       "\n",
       "[13320 rows x 3 columns]"
      ]
     },
     "execution_count": 34,
     "metadata": {},
     "output_type": "execute_result"
    }
   ],
   "source": [
    "pd.DataFrame(x)"
   ]
  },
  {
   "cell_type": "markdown",
   "id": "08a7ca9e",
   "metadata": {},
   "source": [
    "# train_test_split :- It will divide the data into 2 parts. For training and for testing"
   ]
  },
  {
   "cell_type": "code",
   "execution_count": 35,
   "id": "4be955f5",
   "metadata": {},
   "outputs": [],
   "source": [
    "from sklearn.model_selection import train_test_split"
   ]
  },
  {
   "cell_type": "code",
   "execution_count": 36,
   "id": "832826f4",
   "metadata": {},
   "outputs": [],
   "source": [
    "X=x\n",
    "y=y"
   ]
  },
  {
   "cell_type": "code",
   "execution_count": 37,
   "id": "f1275839",
   "metadata": {},
   "outputs": [],
   "source": [
    "X_train,X_test,y_train,y_test = train_test_split(x,y,train_size=0.7,test_size=0.3,random_state=0)"
   ]
  },
  {
   "cell_type": "markdown",
   "id": "6d7c14c3",
   "metadata": {},
   "source": [
    "# Standard Scaler :- Use to scaling the data before putting in model"
   ]
  },
  {
   "cell_type": "code",
   "execution_count": 38,
   "id": "39147bcf",
   "metadata": {},
   "outputs": [],
   "source": [
    "from sklearn.preprocessing import StandardScaler"
   ]
  },
  {
   "cell_type": "code",
   "execution_count": 39,
   "id": "682e668f",
   "metadata": {},
   "outputs": [],
   "source": [
    "SS = StandardScaler()"
   ]
  },
  {
   "cell_type": "code",
   "execution_count": 40,
   "id": "5bd7251d",
   "metadata": {},
   "outputs": [],
   "source": [
    "X_train = SS.fit_transform(X_train)\n",
    "X_test = SS.transform(X_test)"
   ]
  },
  {
   "cell_type": "code",
   "execution_count": 41,
   "id": "e2718a07",
   "metadata": {},
   "outputs": [
    {
     "data": {
      "text/plain": [
       "array([[-0.08047785, -0.42033135, -1.38965957],\n",
       "       [-0.08047785, -0.42033135,  0.7196007 ],\n",
       "       [-0.08047785, -0.42033135,  0.7196007 ],\n",
       "       ...,\n",
       "       [-0.08047785,  2.37907545, -1.38965957],\n",
       "       [-0.08047785,  2.37907545, -1.38965957],\n",
       "       [-0.08047785, -0.42033135,  0.7196007 ]])"
      ]
     },
     "execution_count": 41,
     "metadata": {},
     "output_type": "execute_result"
    }
   ],
   "source": [
    "X_train"
   ]
  },
  {
   "cell_type": "code",
   "execution_count": 42,
   "id": "9322ffab",
   "metadata": {},
   "outputs": [
    {
     "data": {
      "text/html": [
       "<div>\n",
       "<style scoped>\n",
       "    .dataframe tbody tr th:only-of-type {\n",
       "        vertical-align: middle;\n",
       "    }\n",
       "\n",
       "    .dataframe tbody tr th {\n",
       "        vertical-align: top;\n",
       "    }\n",
       "\n",
       "    .dataframe thead th {\n",
       "        text-align: right;\n",
       "    }\n",
       "</style>\n",
       "<table border=\"1\" class=\"dataframe\">\n",
       "  <thead>\n",
       "    <tr style=\"text-align: right;\">\n",
       "      <th></th>\n",
       "      <th>0</th>\n",
       "      <th>1</th>\n",
       "      <th>2</th>\n",
       "    </tr>\n",
       "  </thead>\n",
       "  <tbody>\n",
       "    <tr>\n",
       "      <th>0</th>\n",
       "      <td>-0.080478</td>\n",
       "      <td>-0.420331</td>\n",
       "      <td>-1.389660</td>\n",
       "    </tr>\n",
       "    <tr>\n",
       "      <th>1</th>\n",
       "      <td>-0.080478</td>\n",
       "      <td>-0.420331</td>\n",
       "      <td>0.719601</td>\n",
       "    </tr>\n",
       "    <tr>\n",
       "      <th>2</th>\n",
       "      <td>-0.080478</td>\n",
       "      <td>-0.420331</td>\n",
       "      <td>0.719601</td>\n",
       "    </tr>\n",
       "    <tr>\n",
       "      <th>3</th>\n",
       "      <td>-0.080478</td>\n",
       "      <td>2.379075</td>\n",
       "      <td>-1.389660</td>\n",
       "    </tr>\n",
       "    <tr>\n",
       "      <th>4</th>\n",
       "      <td>-0.080478</td>\n",
       "      <td>-0.420331</td>\n",
       "      <td>-1.389660</td>\n",
       "    </tr>\n",
       "    <tr>\n",
       "      <th>...</th>\n",
       "      <td>...</td>\n",
       "      <td>...</td>\n",
       "      <td>...</td>\n",
       "    </tr>\n",
       "    <tr>\n",
       "      <th>9319</th>\n",
       "      <td>-0.080478</td>\n",
       "      <td>-0.420331</td>\n",
       "      <td>0.719601</td>\n",
       "    </tr>\n",
       "    <tr>\n",
       "      <th>9320</th>\n",
       "      <td>-0.080478</td>\n",
       "      <td>-0.420331</td>\n",
       "      <td>0.719601</td>\n",
       "    </tr>\n",
       "    <tr>\n",
       "      <th>9321</th>\n",
       "      <td>-0.080478</td>\n",
       "      <td>2.379075</td>\n",
       "      <td>-1.389660</td>\n",
       "    </tr>\n",
       "    <tr>\n",
       "      <th>9322</th>\n",
       "      <td>-0.080478</td>\n",
       "      <td>2.379075</td>\n",
       "      <td>-1.389660</td>\n",
       "    </tr>\n",
       "    <tr>\n",
       "      <th>9323</th>\n",
       "      <td>-0.080478</td>\n",
       "      <td>-0.420331</td>\n",
       "      <td>0.719601</td>\n",
       "    </tr>\n",
       "  </tbody>\n",
       "</table>\n",
       "<p>9324 rows × 3 columns</p>\n",
       "</div>"
      ],
      "text/plain": [
       "             0         1         2\n",
       "0    -0.080478 -0.420331 -1.389660\n",
       "1    -0.080478 -0.420331  0.719601\n",
       "2    -0.080478 -0.420331  0.719601\n",
       "3    -0.080478  2.379075 -1.389660\n",
       "4    -0.080478 -0.420331 -1.389660\n",
       "...        ...       ...       ...\n",
       "9319 -0.080478 -0.420331  0.719601\n",
       "9320 -0.080478 -0.420331  0.719601\n",
       "9321 -0.080478  2.379075 -1.389660\n",
       "9322 -0.080478  2.379075 -1.389660\n",
       "9323 -0.080478 -0.420331  0.719601\n",
       "\n",
       "[9324 rows x 3 columns]"
      ]
     },
     "execution_count": 42,
     "metadata": {},
     "output_type": "execute_result"
    }
   ],
   "source": [
    "pd.DataFrame(X_train)"
   ]
  },
  {
   "cell_type": "code",
   "execution_count": 43,
   "id": "356b0232",
   "metadata": {},
   "outputs": [
    {
     "data": {
      "text/html": [
       "<div>\n",
       "<style scoped>\n",
       "    .dataframe tbody tr th:only-of-type {\n",
       "        vertical-align: middle;\n",
       "    }\n",
       "\n",
       "    .dataframe tbody tr th {\n",
       "        vertical-align: top;\n",
       "    }\n",
       "\n",
       "    .dataframe thead th {\n",
       "        text-align: right;\n",
       "    }\n",
       "</style>\n",
       "<table border=\"1\" class=\"dataframe\">\n",
       "  <thead>\n",
       "    <tr style=\"text-align: right;\">\n",
       "      <th></th>\n",
       "      <th>0</th>\n",
       "      <th>1</th>\n",
       "      <th>2</th>\n",
       "    </tr>\n",
       "  </thead>\n",
       "  <tbody>\n",
       "    <tr>\n",
       "      <th>0</th>\n",
       "      <td>-0.080478</td>\n",
       "      <td>-0.420331</td>\n",
       "      <td>0.719601</td>\n",
       "    </tr>\n",
       "    <tr>\n",
       "      <th>1</th>\n",
       "      <td>-0.080478</td>\n",
       "      <td>-0.420331</td>\n",
       "      <td>0.719601</td>\n",
       "    </tr>\n",
       "    <tr>\n",
       "      <th>2</th>\n",
       "      <td>-0.080478</td>\n",
       "      <td>2.379075</td>\n",
       "      <td>-1.389660</td>\n",
       "    </tr>\n",
       "    <tr>\n",
       "      <th>3</th>\n",
       "      <td>-0.080478</td>\n",
       "      <td>-0.420331</td>\n",
       "      <td>0.719601</td>\n",
       "    </tr>\n",
       "    <tr>\n",
       "      <th>4</th>\n",
       "      <td>-0.080478</td>\n",
       "      <td>-0.420331</td>\n",
       "      <td>0.719601</td>\n",
       "    </tr>\n",
       "    <tr>\n",
       "      <th>...</th>\n",
       "      <td>...</td>\n",
       "      <td>...</td>\n",
       "      <td>...</td>\n",
       "    </tr>\n",
       "    <tr>\n",
       "      <th>3991</th>\n",
       "      <td>-0.080478</td>\n",
       "      <td>-0.420331</td>\n",
       "      <td>0.719601</td>\n",
       "    </tr>\n",
       "    <tr>\n",
       "      <th>3992</th>\n",
       "      <td>-0.080478</td>\n",
       "      <td>-0.420331</td>\n",
       "      <td>0.719601</td>\n",
       "    </tr>\n",
       "    <tr>\n",
       "      <th>3993</th>\n",
       "      <td>-0.080478</td>\n",
       "      <td>-0.420331</td>\n",
       "      <td>0.719601</td>\n",
       "    </tr>\n",
       "    <tr>\n",
       "      <th>3994</th>\n",
       "      <td>-0.080478</td>\n",
       "      <td>-0.420331</td>\n",
       "      <td>0.719601</td>\n",
       "    </tr>\n",
       "    <tr>\n",
       "      <th>3995</th>\n",
       "      <td>-0.080478</td>\n",
       "      <td>-0.420331</td>\n",
       "      <td>0.719601</td>\n",
       "    </tr>\n",
       "  </tbody>\n",
       "</table>\n",
       "<p>3996 rows × 3 columns</p>\n",
       "</div>"
      ],
      "text/plain": [
       "             0         1         2\n",
       "0    -0.080478 -0.420331  0.719601\n",
       "1    -0.080478 -0.420331  0.719601\n",
       "2    -0.080478  2.379075 -1.389660\n",
       "3    -0.080478 -0.420331  0.719601\n",
       "4    -0.080478 -0.420331  0.719601\n",
       "...        ...       ...       ...\n",
       "3991 -0.080478 -0.420331  0.719601\n",
       "3992 -0.080478 -0.420331  0.719601\n",
       "3993 -0.080478 -0.420331  0.719601\n",
       "3994 -0.080478 -0.420331  0.719601\n",
       "3995 -0.080478 -0.420331  0.719601\n",
       "\n",
       "[3996 rows x 3 columns]"
      ]
     },
     "execution_count": 43,
     "metadata": {},
     "output_type": "execute_result"
    }
   ],
   "source": [
    "pd.DataFrame(X_test)"
   ]
  },
  {
   "cell_type": "markdown",
   "id": "dae1060f",
   "metadata": {},
   "source": [
    "# Supervised Learning :-\n",
    "\n",
    "\n",
    "In Supervised Learning, you train the machine using data which is well \"labeled\", i.e some input data is already tagged with correct answer and this algorithm learns from labeled training data that helps you to predict the further outcomes."
   ]
  },
  {
   "cell_type": "markdown",
   "id": "ca89b589",
   "metadata": {},
   "source": [
    "# How does Supervised Learning works?\n",
    "\n",
    "\n",
    "The goal of the Supervised Learning is to map the input variable(X) with the output variable (y)."
   ]
  },
  {
   "cell_type": "markdown",
   "id": "37498d1d",
   "metadata": {},
   "source": [
    "# Types of Supervised Machine Learning Algorithms:-\n",
    "\n",
    "* 1) Regression \n",
    "\n",
    "\n",
    "\n",
    "* a) Linear Regression \n",
    "* b) Polynominal Regression \n",
    "* c) Regression Trees\n",
    "\n",
    "\n",
    "* 2) Classification\n",
    "\n",
    "\n",
    "* a) Random Forest\n",
    "* b) Decision Trees\n",
    "* c) Logistic Regression\n",
    "* d) Support Vector Machines"
   ]
  },
  {
   "cell_type": "markdown",
   "id": "570b63fe",
   "metadata": {},
   "source": [
    "# When we use Regression :- \n",
    "\n",
    "\n",
    "* Their is a relationship between dependent and independent variable\n",
    "\n",
    "\n",
    "* Continuous values in variable like salary, weight, weather forecasting \n",
    "\n",
    "\n",
    "* Prediction column should be in numerical form\n",
    "\n",
    "\n",
    "* Use to find market trends"
   ]
  },
  {
   "cell_type": "markdown",
   "id": "47a6880e",
   "metadata": {},
   "source": [
    "# When we use Classification :-\n",
    "\n",
    "* Prediction column should be in categorical form\n",
    "\n",
    "\n",
    "* When there is two categories in prediction column it is called binary Classification\n",
    "\n",
    "\n",
    "* When there is more than two categories in prediction column it is called mutli-class Classification"
   ]
  },
  {
   "cell_type": "markdown",
   "id": "c04ea2bd",
   "metadata": {},
   "source": [
    "# Advantages of Supervised Learning\n",
    "\n",
    "* You have full control over what the machine is learning\n",
    "\n",
    "\n",
    "* You can easily test and debug your model\n",
    "\n",
    "\n",
    "* You can determine the number of classes"
   ]
  },
  {
   "cell_type": "markdown",
   "id": "392f6891",
   "metadata": {},
   "source": [
    "# Disadvantages of Supervised Learning\n",
    "\n",
    "\n",
    "* Have limited scope\n",
    "\n",
    "\n",
    "* Collecting labelled dataset is expensive and time-consuming\n",
    "\n",
    "\n",
    "* Wrong Prediction"
   ]
  },
  {
   "cell_type": "markdown",
   "id": "9fbdefe7",
   "metadata": {},
   "source": [
    "# Conclusion :-\n",
    "\n",
    "\n",
    "* In Supervised learning, you train the machine using data which is well \"labeled\".\n",
    "\n",
    "\n",
    "* Regression and Classification are two types of supervised machine learning techniques.\n",
    "\n",
    "\n",
    "* The biggest challenge in supervised learning is that if you training set doesn't have eamples that you want to have in a class, could give inaccurate results."
   ]
  },
  {
   "cell_type": "markdown",
   "id": "9a760199",
   "metadata": {},
   "source": [
    "# Unsupervised Machine Learning:- \n",
    "\n",
    "\n",
    "In unsupervised machine learning, you train the machine using data which is \"unlabeled\" and models itself find the hidden patterns and insights from the given data."
   ]
  },
  {
   "cell_type": "markdown",
   "id": "4d2be1ea",
   "metadata": {},
   "source": [
    "# How does unsupervised learning works?\n",
    "\n",
    "\n",
    "The goal of unsupervised learning is to group unlabelled data according to the similarities, patterns and differences without any prior training of data."
   ]
  },
  {
   "cell_type": "markdown",
   "id": "9dca2e14",
   "metadata": {},
   "source": [
    "# Types of unsupervised ML algorithms :-\n",
    "\n",
    "\n",
    "1) Clustering\n",
    "\n",
    "\n",
    "2) Association"
   ]
  },
  {
   "cell_type": "markdown",
   "id": "6860d926",
   "metadata": {},
   "source": [
    "# Unsupervised Learning Algorithms :-\n",
    "\n",
    "\n",
    "* K-Means Clustering\n",
    "\n",
    "\n",
    "* KNN(K-Nearest Neighbor)\n",
    "\n",
    "\n",
    "* Hierarchical Clustering\n",
    "\n",
    "\n",
    "* Neural Networks/Deep Learning\n",
    "\n",
    "\n",
    "* Single Value Decomposition\n",
    "\n",
    "\n",
    "* Distribution Models\n",
    "\n",
    "\n",
    "* Principal Component Analysis\n",
    "\n",
    "\n",
    "* Apriori Algorithms\n"
   ]
  },
  {
   "cell_type": "markdown",
   "id": "40d3bd5c",
   "metadata": {},
   "source": [
    "# Advantages of Unsupervised Learning\n",
    "\n",
    "\n",
    "* Unsupervised Learning is used for more complex tasks\n",
    "\n",
    "\n",
    "* It's helpful in finding patterns in data\n",
    "\n",
    "\n",
    "* Saves lot of manual work and expense"
   ]
  },
  {
   "cell_type": "markdown",
   "id": "21015ab5",
   "metadata": {},
   "source": [
    "# Disadvantages of Unsupervised Learning\n",
    "\n",
    "\n",
    "* Less Accuracy \n",
    "\n",
    "\n",
    "* Time Consuming\n",
    "\n",
    "\n",
    "* More the features, More the Complexity"
   ]
  },
  {
   "cell_type": "markdown",
   "id": "8c252326",
   "metadata": {},
   "source": [
    "# Conclusion\n",
    "\n",
    "\n",
    "* In Unsupervised Learning, you train the machine using data which is \"unlabeled\".\n",
    "\n",
    "\n",
    "* Clustering and Association are two types of Unsupervised Machine Learning techniques.\n",
    "\n",
    "\n",
    "* The biggest drawback in unsupervised learning is that it might result in less accuracy."
   ]
  },
  {
   "cell_type": "markdown",
   "id": "d2ce41ce",
   "metadata": {},
   "source": [
    "# What is Linear Regression?\n",
    "\n",
    "\n",
    "* Linear Regression is a machine learning algorithms based on supervised learning.\n",
    "\n",
    "\n",
    "* It is a statistical method that is used for predictive analysis. Linear regression makes predictions for continuous/real or numeric variables such as cost, age, sales, temperature, product price, etc."
   ]
  },
  {
   "cell_type": "markdown",
   "id": "985cf142",
   "metadata": {},
   "source": [
    "# Types of Linear Regression\n",
    "\n",
    "\n",
    "* Linear Regression with Single Variable\n",
    "\n",
    "\n",
    "* Linear Regression with Multiple Variables"
   ]
  },
  {
   "cell_type": "markdown",
   "id": "ac8bcfe8",
   "metadata": {},
   "source": [
    "# When we use Linear Regression to solve Real-World Problems?\n",
    "\n",
    "* When Data having Linear Distribution with prediction/target variable\n",
    "\n",
    "\n",
    "* Predict the price of house\n",
    "\n",
    "\n",
    "* How much water and fertilizers required to prepare a good crop\n",
    "\n",
    "\n",
    "* How a student perform in exams based on how much hours he studied\n",
    "\n",
    "\n",
    "* Forecasting sales: Organizations often use linear regression models to forecast future sales. This can be helpful for things like budgeting and planning. Algorithms such as Amazon’s item-to-item collaborative filtering are used to predict what customers will buy in the future based on their past purchase history.\n",
    "\n",
    "\n",
    "* Cash forecasting: Many businesses use linear regression to forecast how much cash they’ll have on hand in the future. This is important for things like managing expenses and ensuring that there is enough cash on hand to cover unexpected costs.\n",
    "\n",
    "\n",
    "* Analyzing survey data: Linear regression can also be used to analyze survey data. This can help businesses understand things like customer satisfaction and product preferences. For example, a company might use linear regression to figure out how likely people are to recommend their product to others.\n",
    "\n",
    "\n",
    "* Stock predictions: A lot of businesses use linear regression models to predict how stocks will perform in the future. This is done by analyzing past data on stock prices and trends to identify patterns.\n",
    "\n",
    "\n",
    "* Predicting consumer behavior: Businesses can use linear regression to predict things like how much a customer is likely to spend. Regression models can also be used to predict consumer behavior. This can be helpful for things like targeted marketing and product development. For example, Walmart uses linear regression to predict what products will be popular in different regions of the country.\n",
    "\n",
    "\n",
    "* Analysis of relationship between variables: Linear regression can also be used to identify relationships between different variables. For example, you could use linear regression to find out how temperature affects ice cream sales."
   ]
  },
  {
   "cell_type": "markdown",
   "id": "9f171591",
   "metadata": {},
   "source": [
    "# Formula of Linear Regression:-\n",
    "\n",
    "\n",
    "y = mx+c\n",
    "\n",
    "\n",
    "* where\n",
    "* y = dependent variable\n",
    "* x = independent variable \n",
    "* m = slope/gradient/coefficient\n",
    "* c = intercept\n",
    "\n"
   ]
  },
  {
   "cell_type": "markdown",
   "id": "8ced82af",
   "metadata": {},
   "source": [
    "# Linear Regression (Single Variable)"
   ]
  },
  {
   "cell_type": "code",
   "execution_count": 44,
   "id": "d3fe3cba",
   "metadata": {},
   "outputs": [
    {
     "data": {
      "text/html": [
       "<div>\n",
       "<style scoped>\n",
       "    .dataframe tbody tr th:only-of-type {\n",
       "        vertical-align: middle;\n",
       "    }\n",
       "\n",
       "    .dataframe tbody tr th {\n",
       "        vertical-align: top;\n",
       "    }\n",
       "\n",
       "    .dataframe thead th {\n",
       "        text-align: right;\n",
       "    }\n",
       "</style>\n",
       "<table border=\"1\" class=\"dataframe\">\n",
       "  <thead>\n",
       "    <tr style=\"text-align: right;\">\n",
       "      <th></th>\n",
       "      <th>age</th>\n",
       "      <th>premium</th>\n",
       "    </tr>\n",
       "  </thead>\n",
       "  <tbody>\n",
       "    <tr>\n",
       "      <th>0</th>\n",
       "      <td>25</td>\n",
       "      <td>18000</td>\n",
       "    </tr>\n",
       "    <tr>\n",
       "      <th>1</th>\n",
       "      <td>30</td>\n",
       "      <td>32000</td>\n",
       "    </tr>\n",
       "    <tr>\n",
       "      <th>2</th>\n",
       "      <td>35</td>\n",
       "      <td>40000</td>\n",
       "    </tr>\n",
       "    <tr>\n",
       "      <th>3</th>\n",
       "      <td>40</td>\n",
       "      <td>47000</td>\n",
       "    </tr>\n",
       "    <tr>\n",
       "      <th>4</th>\n",
       "      <td>45</td>\n",
       "      <td>55000</td>\n",
       "    </tr>\n",
       "  </tbody>\n",
       "</table>\n",
       "</div>"
      ],
      "text/plain": [
       "   age  premium\n",
       "0   25    18000\n",
       "1   30    32000\n",
       "2   35    40000\n",
       "3   40    47000\n",
       "4   45    55000"
      ]
     },
     "execution_count": 44,
     "metadata": {},
     "output_type": "execute_result"
    }
   ],
   "source": [
    "# Create a Data Frame to understand\n",
    "\n",
    "x = {\"age\":[25,30,35,40,45],\"premium\":[18000,32000,40000,47000,55000]}\n",
    "\n",
    "df = pd.DataFrame(x)\n",
    "\n",
    "df"
   ]
  },
  {
   "cell_type": "code",
   "execution_count": 45,
   "id": "b6c4c6c4",
   "metadata": {},
   "outputs": [
    {
     "data": {
      "text/plain": [
       "<seaborn.axisgrid.FacetGrid at 0x1f41891beb0>"
      ]
     },
     "execution_count": 45,
     "metadata": {},
     "output_type": "execute_result"
    },
    {
     "data": {
      "image/png": "[encoded data removed]",
      "text/plain": [
       "<Figure size 500x500 with 1 Axes>"
      ]
     },
     "metadata": {},
     "output_type": "display_data"
    }
   ],
   "source": [
    "import seaborn as sns\n",
    "\n",
    "sns.lmplot(x=\"age\",y=\"premium\",data=df)"
   ]
  },
  {
   "cell_type": "markdown",
   "id": "6841170b",
   "metadata": {},
   "source": [
    "We check the BEST-FIT LINE for your Model so we create lmplot to visulaize the data and see which variable has best fit line with target variable."
   ]
  },
  {
   "cell_type": "code",
   "execution_count": 46,
   "id": "1bc4421c",
   "metadata": {},
   "outputs": [],
   "source": [
    "from sklearn import linear_model\n",
    "\n",
    "reg = linear_model.LinearRegression()"
   ]
  },
  {
   "cell_type": "code",
   "execution_count": 47,
   "id": "dec4bbe8",
   "metadata": {},
   "outputs": [
    {
     "data": {
      "text/plain": [
       "LinearRegression()"
      ]
     },
     "execution_count": 47,
     "metadata": {},
     "output_type": "execute_result"
    }
   ],
   "source": [
    "# fit variables in linear regression model\n",
    "\n",
    "reg.fit(df[['age']],df[['premium']])"
   ]
  },
  {
   "cell_type": "code",
   "execution_count": 48,
   "id": "c7024ea9",
   "metadata": {},
   "outputs": [
    {
     "name": "stderr",
     "output_type": "stream",
     "text": [
      "C:\\Users\\HP\\Anaconda3\\lib\\site-packages\\sklearn\\base.py:450: UserWarning: X does not have valid feature names, but LinearRegression was fitted with feature names\n",
      "  warnings.warn(\n"
     ]
    },
    {
     "data": {
      "text/plain": [
       "array([[65100.]])"
      ]
     },
     "execution_count": 48,
     "metadata": {},
     "output_type": "execute_result"
    }
   ],
   "source": [
    "# model is completed let's predict something to test the model\n",
    "\n",
    "reg.predict([[50]])"
   ]
  },
  {
   "cell_type": "code",
   "execution_count": 49,
   "id": "fdedb86a",
   "metadata": {},
   "outputs": [
    {
     "name": "stderr",
     "output_type": "stream",
     "text": [
      "C:\\Users\\HP\\Anaconda3\\lib\\site-packages\\sklearn\\base.py:450: UserWarning: X does not have valid feature names, but LinearRegression was fitted with feature names\n",
      "  warnings.warn(\n"
     ]
    },
    {
     "data": {
      "text/plain": [
       "array([[13480.]])"
      ]
     },
     "execution_count": 49,
     "metadata": {},
     "output_type": "execute_result"
    }
   ],
   "source": [
    "reg.predict([[21]])"
   ]
  },
  {
   "cell_type": "markdown",
   "id": "2ca414ca",
   "metadata": {},
   "source": [
    "# Linear Regression (Multiple Variables)\n",
    "\n",
    "\n",
    "* We use when the target variable depends on multiple factors.\n",
    "\n",
    "\n",
    "* Eg:- \n",
    "* a) Crops depends on climatic factors and use of raw multiple raw materials. \n",
    "* b) Prediction of house cost depends on multiple factors like no. of bedrooms, no. of kitechens, toilets, bathroom, halls,location, etc."
   ]
  },
  {
   "cell_type": "code",
   "execution_count": 50,
   "id": "660ba7a5",
   "metadata": {},
   "outputs": [
    {
     "data": {
      "text/html": [
       "<div>\n",
       "<style scoped>\n",
       "    .dataframe tbody tr th:only-of-type {\n",
       "        vertical-align: middle;\n",
       "    }\n",
       "\n",
       "    .dataframe tbody tr th {\n",
       "        vertical-align: top;\n",
       "    }\n",
       "\n",
       "    .dataframe thead th {\n",
       "        text-align: right;\n",
       "    }\n",
       "</style>\n",
       "<table border=\"1\" class=\"dataframe\">\n",
       "  <thead>\n",
       "    <tr style=\"text-align: right;\">\n",
       "      <th></th>\n",
       "      <th>age</th>\n",
       "      <th>height</th>\n",
       "      <th>weight</th>\n",
       "      <th>premium</th>\n",
       "    </tr>\n",
       "  </thead>\n",
       "  <tbody>\n",
       "    <tr>\n",
       "      <th>0</th>\n",
       "      <td>25</td>\n",
       "      <td>162.56</td>\n",
       "      <td>70</td>\n",
       "      <td>18000</td>\n",
       "    </tr>\n",
       "    <tr>\n",
       "      <th>1</th>\n",
       "      <td>30</td>\n",
       "      <td>172.72</td>\n",
       "      <td>95</td>\n",
       "      <td>32000</td>\n",
       "    </tr>\n",
       "    <tr>\n",
       "      <th>2</th>\n",
       "      <td>35</td>\n",
       "      <td>167.64</td>\n",
       "      <td>78</td>\n",
       "      <td>40000</td>\n",
       "    </tr>\n",
       "    <tr>\n",
       "      <th>3</th>\n",
       "      <td>40</td>\n",
       "      <td>NaN</td>\n",
       "      <td>110</td>\n",
       "      <td>47000</td>\n",
       "    </tr>\n",
       "    <tr>\n",
       "      <th>4</th>\n",
       "      <td>45</td>\n",
       "      <td>157.48</td>\n",
       "      <td>85</td>\n",
       "      <td>55000</td>\n",
       "    </tr>\n",
       "  </tbody>\n",
       "</table>\n",
       "</div>"
      ],
      "text/plain": [
       "   age  height  weight  premium\n",
       "0   25  162.56      70    18000\n",
       "1   30  172.72      95    32000\n",
       "2   35  167.64      78    40000\n",
       "3   40     NaN     110    47000\n",
       "4   45  157.48      85    55000"
      ]
     },
     "execution_count": 50,
     "metadata": {},
     "output_type": "execute_result"
    }
   ],
   "source": [
    "df = pd.read_excel(r'C:\\Users\\HP\\Desktop\\Data Science\\Data Sets For Practice\\B1.xlsx')\n",
    "df"
   ]
  },
  {
   "cell_type": "markdown",
   "id": "f00f89b7",
   "metadata": {},
   "source": [
    "In case of missing values we don't drop columns because it results in loss of information so, we fill them with mean, median, mode."
   ]
  },
  {
   "cell_type": "code",
   "execution_count": 51,
   "id": "f912eac2",
   "metadata": {},
   "outputs": [
    {
     "data": {
      "text/plain": [
       "165.1"
      ]
     },
     "execution_count": 51,
     "metadata": {},
     "output_type": "execute_result"
    }
   ],
   "source": [
    "df.height.mean()"
   ]
  },
  {
   "cell_type": "code",
   "execution_count": 52,
   "id": "76cf3cdb",
   "metadata": {},
   "outputs": [],
   "source": [
    "x = df.height.mean()"
   ]
  },
  {
   "cell_type": "code",
   "execution_count": 53,
   "id": "772ce850",
   "metadata": {},
   "outputs": [],
   "source": [
    "df.height = df.height.fillna(x)"
   ]
  },
  {
   "cell_type": "code",
   "execution_count": 54,
   "id": "47014ccb",
   "metadata": {},
   "outputs": [
    {
     "data": {
      "text/html": [
       "<div>\n",
       "<style scoped>\n",
       "    .dataframe tbody tr th:only-of-type {\n",
       "        vertical-align: middle;\n",
       "    }\n",
       "\n",
       "    .dataframe tbody tr th {\n",
       "        vertical-align: top;\n",
       "    }\n",
       "\n",
       "    .dataframe thead th {\n",
       "        text-align: right;\n",
       "    }\n",
       "</style>\n",
       "<table border=\"1\" class=\"dataframe\">\n",
       "  <thead>\n",
       "    <tr style=\"text-align: right;\">\n",
       "      <th></th>\n",
       "      <th>age</th>\n",
       "      <th>height</th>\n",
       "      <th>weight</th>\n",
       "      <th>premium</th>\n",
       "    </tr>\n",
       "  </thead>\n",
       "  <tbody>\n",
       "    <tr>\n",
       "      <th>0</th>\n",
       "      <td>25</td>\n",
       "      <td>162.56</td>\n",
       "      <td>70</td>\n",
       "      <td>18000</td>\n",
       "    </tr>\n",
       "    <tr>\n",
       "      <th>1</th>\n",
       "      <td>30</td>\n",
       "      <td>172.72</td>\n",
       "      <td>95</td>\n",
       "      <td>32000</td>\n",
       "    </tr>\n",
       "    <tr>\n",
       "      <th>2</th>\n",
       "      <td>35</td>\n",
       "      <td>167.64</td>\n",
       "      <td>78</td>\n",
       "      <td>40000</td>\n",
       "    </tr>\n",
       "    <tr>\n",
       "      <th>3</th>\n",
       "      <td>40</td>\n",
       "      <td>165.10</td>\n",
       "      <td>110</td>\n",
       "      <td>47000</td>\n",
       "    </tr>\n",
       "    <tr>\n",
       "      <th>4</th>\n",
       "      <td>45</td>\n",
       "      <td>157.48</td>\n",
       "      <td>85</td>\n",
       "      <td>55000</td>\n",
       "    </tr>\n",
       "  </tbody>\n",
       "</table>\n",
       "</div>"
      ],
      "text/plain": [
       "   age  height  weight  premium\n",
       "0   25  162.56      70    18000\n",
       "1   30  172.72      95    32000\n",
       "2   35  167.64      78    40000\n",
       "3   40  165.10     110    47000\n",
       "4   45  157.48      85    55000"
      ]
     },
     "execution_count": 54,
     "metadata": {},
     "output_type": "execute_result"
    }
   ],
   "source": [
    "df"
   ]
  },
  {
   "cell_type": "markdown",
   "id": "13361114",
   "metadata": {},
   "source": [
    "Your Data Set is ready to perform Linear Regression "
   ]
  },
  {
   "cell_type": "code",
   "execution_count": 55,
   "id": "836d586f",
   "metadata": {},
   "outputs": [],
   "source": [
    "reg = linear_model.LinearRegression()"
   ]
  },
  {
   "cell_type": "code",
   "execution_count": 56,
   "id": "6b0e6c29",
   "metadata": {},
   "outputs": [
    {
     "data": {
      "text/plain": [
       "LinearRegression()"
      ]
     },
     "execution_count": 56,
     "metadata": {},
     "output_type": "execute_result"
    }
   ],
   "source": [
    "reg.fit(df[['age','height','weight']],df['premium'])"
   ]
  },
  {
   "cell_type": "code",
   "execution_count": 57,
   "id": "1a9bca16",
   "metadata": {},
   "outputs": [
    {
     "name": "stderr",
     "output_type": "stream",
     "text": [
      "C:\\Users\\HP\\Anaconda3\\lib\\site-packages\\sklearn\\base.py:450: UserWarning: X does not have valid feature names, but LinearRegression was fitted with feature names\n",
      "  warnings.warn(\n"
     ]
    },
    {
     "data": {
      "text/plain": [
       "array([14228.63948013])"
      ]
     },
     "execution_count": 57,
     "metadata": {},
     "output_type": "execute_result"
    }
   ],
   "source": [
    "reg.predict([[22,167,70]])"
   ]
  },
  {
   "cell_type": "raw",
   "id": "f4ab6ca5",
   "metadata": {},
   "source": [
    "reg.predict([[55,180,80]])"
   ]
  },
  {
   "cell_type": "markdown",
   "id": "5b51bc96",
   "metadata": {},
   "source": [
    "# Polynomial Regression \n",
    "\n",
    "\n",
    "* The goal of polynomial regression is to model a non-linear relationship between the independent and dependent variables (technically, between the independent variable and the conditional mean of the dependent variable).\n",
    "\n",
    "\n",
    "* Polynomial Regression work same as Linear Regression but when data have non-linear distribution with target variable we use polynomial Regression"
   ]
  },
  {
   "cell_type": "code",
   "execution_count": 58,
   "id": "7ccb94c6",
   "metadata": {},
   "outputs": [
    {
     "data": {
      "text/html": [
       "<div>\n",
       "<style scoped>\n",
       "    .dataframe tbody tr th:only-of-type {\n",
       "        vertical-align: middle;\n",
       "    }\n",
       "\n",
       "    .dataframe tbody tr th {\n",
       "        vertical-align: top;\n",
       "    }\n",
       "\n",
       "    .dataframe thead th {\n",
       "        text-align: right;\n",
       "    }\n",
       "</style>\n",
       "<table border=\"1\" class=\"dataframe\">\n",
       "  <thead>\n",
       "    <tr style=\"text-align: right;\">\n",
       "      <th></th>\n",
       "      <th>Position</th>\n",
       "      <th>Level</th>\n",
       "      <th>Salary</th>\n",
       "    </tr>\n",
       "  </thead>\n",
       "  <tbody>\n",
       "    <tr>\n",
       "      <th>0</th>\n",
       "      <td>Bussiness Analyst</td>\n",
       "      <td>1</td>\n",
       "      <td>45000</td>\n",
       "    </tr>\n",
       "    <tr>\n",
       "      <th>1</th>\n",
       "      <td>Junior Consultant</td>\n",
       "      <td>2</td>\n",
       "      <td>50000</td>\n",
       "    </tr>\n",
       "    <tr>\n",
       "      <th>2</th>\n",
       "      <td>Senior Consultant</td>\n",
       "      <td>3</td>\n",
       "      <td>60000</td>\n",
       "    </tr>\n",
       "    <tr>\n",
       "      <th>3</th>\n",
       "      <td>Manager</td>\n",
       "      <td>4</td>\n",
       "      <td>80000</td>\n",
       "    </tr>\n",
       "    <tr>\n",
       "      <th>4</th>\n",
       "      <td>Country Manager</td>\n",
       "      <td>5</td>\n",
       "      <td>110000</td>\n",
       "    </tr>\n",
       "    <tr>\n",
       "      <th>5</th>\n",
       "      <td>Region Manager</td>\n",
       "      <td>6</td>\n",
       "      <td>150000</td>\n",
       "    </tr>\n",
       "    <tr>\n",
       "      <th>6</th>\n",
       "      <td>Partner</td>\n",
       "      <td>7</td>\n",
       "      <td>200000</td>\n",
       "    </tr>\n",
       "    <tr>\n",
       "      <th>7</th>\n",
       "      <td>Senior Partner</td>\n",
       "      <td>8</td>\n",
       "      <td>300000</td>\n",
       "    </tr>\n",
       "    <tr>\n",
       "      <th>8</th>\n",
       "      <td>C-level</td>\n",
       "      <td>9</td>\n",
       "      <td>500000</td>\n",
       "    </tr>\n",
       "    <tr>\n",
       "      <th>9</th>\n",
       "      <td>CEO</td>\n",
       "      <td>10</td>\n",
       "      <td>1000000</td>\n",
       "    </tr>\n",
       "  </tbody>\n",
       "</table>\n",
       "</div>"
      ],
      "text/plain": [
       "            Position  Level   Salary\n",
       "0  Bussiness Analyst      1    45000\n",
       "1  Junior Consultant      2    50000\n",
       "2  Senior Consultant      3    60000\n",
       "3            Manager      4    80000\n",
       "4    Country Manager      5   110000\n",
       "5     Region Manager      6   150000\n",
       "6            Partner      7   200000\n",
       "7     Senior Partner      8   300000\n",
       "8            C-level      9   500000\n",
       "9                CEO     10  1000000"
      ]
     },
     "execution_count": 58,
     "metadata": {},
     "output_type": "execute_result"
    }
   ],
   "source": [
    "df = pd.read_excel(r'C:\\Users\\HP\\Desktop\\Data Science\\Data Sets For Practice\\B2.xlsx')\n",
    "df"
   ]
  },
  {
   "cell_type": "code",
   "execution_count": 59,
   "id": "aa154b97",
   "metadata": {},
   "outputs": [
    {
     "data": {
      "text/html": [
       "<div>\n",
       "<style scoped>\n",
       "    .dataframe tbody tr th:only-of-type {\n",
       "        vertical-align: middle;\n",
       "    }\n",
       "\n",
       "    .dataframe tbody tr th {\n",
       "        vertical-align: top;\n",
       "    }\n",
       "\n",
       "    .dataframe thead th {\n",
       "        text-align: right;\n",
       "    }\n",
       "</style>\n",
       "<table border=\"1\" class=\"dataframe\">\n",
       "  <thead>\n",
       "    <tr style=\"text-align: right;\">\n",
       "      <th></th>\n",
       "      <th>Level</th>\n",
       "    </tr>\n",
       "  </thead>\n",
       "  <tbody>\n",
       "    <tr>\n",
       "      <th>0</th>\n",
       "      <td>1</td>\n",
       "    </tr>\n",
       "    <tr>\n",
       "      <th>1</th>\n",
       "      <td>2</td>\n",
       "    </tr>\n",
       "    <tr>\n",
       "      <th>2</th>\n",
       "      <td>3</td>\n",
       "    </tr>\n",
       "    <tr>\n",
       "      <th>3</th>\n",
       "      <td>4</td>\n",
       "    </tr>\n",
       "    <tr>\n",
       "      <th>4</th>\n",
       "      <td>5</td>\n",
       "    </tr>\n",
       "    <tr>\n",
       "      <th>5</th>\n",
       "      <td>6</td>\n",
       "    </tr>\n",
       "    <tr>\n",
       "      <th>6</th>\n",
       "      <td>7</td>\n",
       "    </tr>\n",
       "    <tr>\n",
       "      <th>7</th>\n",
       "      <td>8</td>\n",
       "    </tr>\n",
       "    <tr>\n",
       "      <th>8</th>\n",
       "      <td>9</td>\n",
       "    </tr>\n",
       "    <tr>\n",
       "      <th>9</th>\n",
       "      <td>10</td>\n",
       "    </tr>\n",
       "  </tbody>\n",
       "</table>\n",
       "</div>"
      ],
      "text/plain": [
       "   Level\n",
       "0      1\n",
       "1      2\n",
       "2      3\n",
       "3      4\n",
       "4      5\n",
       "5      6\n",
       "6      7\n",
       "7      8\n",
       "8      9\n",
       "9     10"
      ]
     },
     "execution_count": 59,
     "metadata": {},
     "output_type": "execute_result"
    }
   ],
   "source": [
    "x = df.iloc[:,1:2]\n",
    "x"
   ]
  },
  {
   "cell_type": "code",
   "execution_count": 60,
   "id": "576397e1",
   "metadata": {},
   "outputs": [
    {
     "data": {
      "text/plain": [
       "array([[ 1],\n",
       "       [ 2],\n",
       "       [ 3],\n",
       "       [ 4],\n",
       "       [ 5],\n",
       "       [ 6],\n",
       "       [ 7],\n",
       "       [ 8],\n",
       "       [ 9],\n",
       "       [10]], dtype=int64)"
      ]
     },
     "execution_count": 60,
     "metadata": {},
     "output_type": "execute_result"
    }
   ],
   "source": [
    "# we want array not series so, we convert it into array\n",
    "\n",
    "x = df.iloc[:,1:2].values\n",
    "x"
   ]
  },
  {
   "cell_type": "code",
   "execution_count": 61,
   "id": "aa3dde76",
   "metadata": {},
   "outputs": [
    {
     "data": {
      "text/plain": [
       "array([  45000,   50000,   60000,   80000,  110000,  150000,  200000,\n",
       "        300000,  500000, 1000000], dtype=int64)"
      ]
     },
     "execution_count": 61,
     "metadata": {},
     "output_type": "execute_result"
    }
   ],
   "source": [
    "y = df.iloc[:,2].values\n",
    "y"
   ]
  },
  {
   "cell_type": "code",
   "execution_count": 62,
   "id": "726d3666",
   "metadata": {},
   "outputs": [
    {
     "data": {
      "image/png": "[encoded data removed]",
      "text/plain": [
       "<Figure size 640x480 with 1 Axes>"
      ]
     },
     "metadata": {},
     "output_type": "display_data"
    }
   ],
   "source": [
    "import matplotlib.pyplot as plt\n",
    "\n",
    "plt.scatter(x,y)\n",
    "plt.show()"
   ]
  },
  {
   "cell_type": "code",
   "execution_count": 63,
   "id": "0e0fada8",
   "metadata": {},
   "outputs": [
    {
     "data": {
      "image/png": "[encoded data removed]",
      "text/plain": [
       "<Figure size 500x500 with 1 Axes>"
      ]
     },
     "metadata": {},
     "output_type": "display_data"
    }
   ],
   "source": [
    "sns.lmplot(x='Level',y='Salary',data=df)\n",
    "plt.show()"
   ]
  },
  {
   "cell_type": "code",
   "execution_count": 64,
   "id": "bab60aa0",
   "metadata": {},
   "outputs": [],
   "source": [
    "from sklearn import linear_model"
   ]
  },
  {
   "cell_type": "code",
   "execution_count": 65,
   "id": "b708ae35",
   "metadata": {},
   "outputs": [],
   "source": [
    "reg = linear_model.LinearRegression()"
   ]
  },
  {
   "cell_type": "code",
   "execution_count": 66,
   "id": "96116f22",
   "metadata": {},
   "outputs": [
    {
     "data": {
      "text/plain": [
       "LinearRegression()"
      ]
     },
     "execution_count": 66,
     "metadata": {},
     "output_type": "execute_result"
    }
   ],
   "source": [
    "reg.fit(x,y)"
   ]
  },
  {
   "cell_type": "code",
   "execution_count": 67,
   "id": "7c1c30f6",
   "metadata": {},
   "outputs": [
    {
     "data": {
      "text/plain": [
       "array([330378.78787879])"
      ]
     },
     "execution_count": 67,
     "metadata": {},
     "output_type": "execute_result"
    }
   ],
   "source": [
    "reg.predict([[6.5]])"
   ]
  },
  {
   "cell_type": "markdown",
   "id": "ba397e0b",
   "metadata": {},
   "source": [
    "* AS YOU SEE MODEL IS NOT WORKING PROPERLY BECAUSE DATA HAVING NON-LINEAR DISTRIBUTION AS YOU SEE ABOVE IN PLOTS.\n",
    "\n",
    "\n",
    "* WE ADD ONE MORE STEP HERE OF POLYNOMIAL REGRESSION TO IMPROVE YOUR MODEL"
   ]
  },
  {
   "cell_type": "code",
   "execution_count": 68,
   "id": "529b9979",
   "metadata": {},
   "outputs": [],
   "source": [
    "from sklearn.preprocessing import PolynomialFeatures"
   ]
  },
  {
   "cell_type": "code",
   "execution_count": 69,
   "id": "4794b294",
   "metadata": {},
   "outputs": [],
   "source": [
    "poly = PolynomialFeatures(degree=2) \n",
    "\n",
    "# We change the degree but if we increase the degree more our model should be overfitted and not work with more accuracy"
   ]
  },
  {
   "cell_type": "code",
   "execution_count": 70,
   "id": "219e0f0d",
   "metadata": {},
   "outputs": [],
   "source": [
    "x_poly = poly.fit_transform(x)"
   ]
  },
  {
   "cell_type": "code",
   "execution_count": 71,
   "id": "af29e054",
   "metadata": {},
   "outputs": [
    {
     "data": {
      "text/plain": [
       "LinearRegression()"
      ]
     },
     "execution_count": 71,
     "metadata": {},
     "output_type": "execute_result"
    }
   ],
   "source": [
    "reg.fit(x_poly,y)"
   ]
  },
  {
   "cell_type": "code",
   "execution_count": 72,
   "id": "03bfa626",
   "metadata": {},
   "outputs": [
    {
     "data": {
      "text/plain": [
       "array([189498.10606061])"
      ]
     },
     "execution_count": 72,
     "metadata": {},
     "output_type": "execute_result"
    }
   ],
   "source": [
    "reg.predict(poly.fit_transform([[6.5]]))"
   ]
  },
  {
   "cell_type": "markdown",
   "id": "ba39a8d8",
   "metadata": {},
   "source": [
    "AS YOU SEE NOW OUR MODEL WORKS PROPERLY"
   ]
  },
  {
   "cell_type": "markdown",
   "id": "9ab47536",
   "metadata": {},
   "source": [
    "# What is Logistics Regression?\n",
    "\n",
    "\n",
    "* Logistic Regression is a machine learning algorithm based on supervised learning.\n",
    "\n",
    "\n",
    "* It is a statistical method that is used for predicting probability of target variable. Logistic Regression makes probability for classification problems that are discrete in nature.\n",
    "\n",
    "\n",
    "* Example :- English or Hindi, True or False, 1 or 0, Right or wrong, cat or dog or goat."
   ]
  },
  {
   "cell_type": "markdown",
   "id": "3fcde334",
   "metadata": {},
   "source": [
    "# Types of Classification :- \n",
    "\n",
    "\n",
    "* Binary Classification :- There is two categories in target variable. Eg: Win or Loss, dead or alive.\n",
    "        \n",
    "        \n",
    "* Multi-Class Classification :- There is more than two categories in target variable. Eg: onion, potato, sweet potato etc.     "
   ]
  },
  {
   "cell_type": "markdown",
   "id": "9ba3d706",
   "metadata": {},
   "source": [
    "# Real-World Example of Logistics Regression:-\n",
    "\n",
    "\n",
    "* USe in medical sector to predict the heart attack or any disease in a person.\n",
    "\n",
    "\n",
    "* Use in banking sector at various places like find that any person is eligible for loan, credit card or not.\n",
    "\n",
    "\n",
    "* Use in making spam filters for mails.\n",
    "\n",
    "\n",
    "*  It is used to calculate or predict the probability of a binary (yes/no) event occurring. An example of logistic regression could be applying machine learning to determine if a person is likely to be infected with COVID-19 or not."
   ]
  },
  {
   "cell_type": "markdown",
   "id": "9109c63d",
   "metadata": {},
   "source": [
    "# Logistics Regression (Binary Classification)"
   ]
  },
  {
   "cell_type": "code",
   "execution_count": 73,
   "id": "13a8292d",
   "metadata": {},
   "outputs": [
    {
     "data": {
      "text/html": [
       "<div>\n",
       "<style scoped>\n",
       "    .dataframe tbody tr th:only-of-type {\n",
       "        vertical-align: middle;\n",
       "    }\n",
       "\n",
       "    .dataframe tbody tr th {\n",
       "        vertical-align: top;\n",
       "    }\n",
       "\n",
       "    .dataframe thead th {\n",
       "        text-align: right;\n",
       "    }\n",
       "</style>\n",
       "<table border=\"1\" class=\"dataframe\">\n",
       "  <thead>\n",
       "    <tr style=\"text-align: right;\">\n",
       "      <th></th>\n",
       "      <th>age</th>\n",
       "      <th>bought_insurance</th>\n",
       "    </tr>\n",
       "  </thead>\n",
       "  <tbody>\n",
       "    <tr>\n",
       "      <th>0</th>\n",
       "      <td>21</td>\n",
       "      <td>N</td>\n",
       "    </tr>\n",
       "    <tr>\n",
       "      <th>1</th>\n",
       "      <td>45</td>\n",
       "      <td>Y</td>\n",
       "    </tr>\n",
       "    <tr>\n",
       "      <th>2</th>\n",
       "      <td>32</td>\n",
       "      <td>Y</td>\n",
       "    </tr>\n",
       "    <tr>\n",
       "      <th>3</th>\n",
       "      <td>41</td>\n",
       "      <td>Y</td>\n",
       "    </tr>\n",
       "    <tr>\n",
       "      <th>4</th>\n",
       "      <td>20</td>\n",
       "      <td>N</td>\n",
       "    </tr>\n",
       "    <tr>\n",
       "      <th>5</th>\n",
       "      <td>35</td>\n",
       "      <td>Y</td>\n",
       "    </tr>\n",
       "    <tr>\n",
       "      <th>6</th>\n",
       "      <td>20</td>\n",
       "      <td>N</td>\n",
       "    </tr>\n",
       "    <tr>\n",
       "      <th>7</th>\n",
       "      <td>23</td>\n",
       "      <td>N</td>\n",
       "    </tr>\n",
       "    <tr>\n",
       "      <th>8</th>\n",
       "      <td>42</td>\n",
       "      <td>Y</td>\n",
       "    </tr>\n",
       "    <tr>\n",
       "      <th>9</th>\n",
       "      <td>34</td>\n",
       "      <td>Y</td>\n",
       "    </tr>\n",
       "    <tr>\n",
       "      <th>10</th>\n",
       "      <td>24</td>\n",
       "      <td>N</td>\n",
       "    </tr>\n",
       "    <tr>\n",
       "      <th>11</th>\n",
       "      <td>22</td>\n",
       "      <td>N</td>\n",
       "    </tr>\n",
       "    <tr>\n",
       "      <th>12</th>\n",
       "      <td>23</td>\n",
       "      <td>N</td>\n",
       "    </tr>\n",
       "    <tr>\n",
       "      <th>13</th>\n",
       "      <td>25</td>\n",
       "      <td>N</td>\n",
       "    </tr>\n",
       "    <tr>\n",
       "      <th>14</th>\n",
       "      <td>43</td>\n",
       "      <td>Y</td>\n",
       "    </tr>\n",
       "    <tr>\n",
       "      <th>15</th>\n",
       "      <td>44</td>\n",
       "      <td>Y</td>\n",
       "    </tr>\n",
       "    <tr>\n",
       "      <th>16</th>\n",
       "      <td>25</td>\n",
       "      <td>N</td>\n",
       "    </tr>\n",
       "    <tr>\n",
       "      <th>17</th>\n",
       "      <td>30</td>\n",
       "      <td>Y</td>\n",
       "    </tr>\n",
       "    <tr>\n",
       "      <th>18</th>\n",
       "      <td>31</td>\n",
       "      <td>Y</td>\n",
       "    </tr>\n",
       "  </tbody>\n",
       "</table>\n",
       "</div>"
      ],
      "text/plain": [
       "    age bought_insurance\n",
       "0    21                N\n",
       "1    45                Y\n",
       "2    32                Y\n",
       "3    41                Y\n",
       "4    20                N\n",
       "5    35                Y\n",
       "6    20                N\n",
       "7    23                N\n",
       "8    42                Y\n",
       "9    34                Y\n",
       "10   24                N\n",
       "11   22                N\n",
       "12   23                N\n",
       "13   25                N\n",
       "14   43                Y\n",
       "15   44                Y\n",
       "16   25                N\n",
       "17   30                Y\n",
       "18   31                Y"
      ]
     },
     "execution_count": 73,
     "metadata": {},
     "output_type": "execute_result"
    }
   ],
   "source": [
    "df = pd.read_excel(r'C:\\Users\\HP\\Desktop\\Data Science\\Data Sets For Practice\\B3.xlsx')\n",
    "df"
   ]
  },
  {
   "cell_type": "markdown",
   "id": "32b38e98",
   "metadata": {},
   "source": [
    "Target Variable is in categorical form so we convert it into numerical \n"
   ]
  },
  {
   "cell_type": "code",
   "execution_count": 74,
   "id": "d8763692",
   "metadata": {},
   "outputs": [],
   "source": [
    "df['bought_insurance'].replace({'N':'0','Y':'1'},inplace=True)"
   ]
  },
  {
   "cell_type": "code",
   "execution_count": 75,
   "id": "1306cf1f",
   "metadata": {},
   "outputs": [
    {
     "data": {
      "text/html": [
       "<div>\n",
       "<style scoped>\n",
       "    .dataframe tbody tr th:only-of-type {\n",
       "        vertical-align: middle;\n",
       "    }\n",
       "\n",
       "    .dataframe tbody tr th {\n",
       "        vertical-align: top;\n",
       "    }\n",
       "\n",
       "    .dataframe thead th {\n",
       "        text-align: right;\n",
       "    }\n",
       "</style>\n",
       "<table border=\"1\" class=\"dataframe\">\n",
       "  <thead>\n",
       "    <tr style=\"text-align: right;\">\n",
       "      <th></th>\n",
       "      <th>age</th>\n",
       "      <th>bought_insurance</th>\n",
       "    </tr>\n",
       "  </thead>\n",
       "  <tbody>\n",
       "    <tr>\n",
       "      <th>0</th>\n",
       "      <td>21</td>\n",
       "      <td>0</td>\n",
       "    </tr>\n",
       "    <tr>\n",
       "      <th>1</th>\n",
       "      <td>45</td>\n",
       "      <td>1</td>\n",
       "    </tr>\n",
       "    <tr>\n",
       "      <th>2</th>\n",
       "      <td>32</td>\n",
       "      <td>1</td>\n",
       "    </tr>\n",
       "  </tbody>\n",
       "</table>\n",
       "</div>"
      ],
      "text/plain": [
       "   age bought_insurance\n",
       "0   21                0\n",
       "1   45                1\n",
       "2   32                1"
      ]
     },
     "execution_count": 75,
     "metadata": {},
     "output_type": "execute_result"
    }
   ],
   "source": [
    "df.head(3)"
   ]
  },
  {
   "cell_type": "code",
   "execution_count": 76,
   "id": "6ec34d74",
   "metadata": {},
   "outputs": [],
   "source": [
    "x = df.iloc[:,:1]\n",
    "y = df.iloc[:,1:2]"
   ]
  },
  {
   "cell_type": "code",
   "execution_count": 77,
   "id": "17c3b550",
   "metadata": {},
   "outputs": [],
   "source": [
    "from sklearn.model_selection import train_test_split\n",
    "\n",
    "X_train,X_test,y_train,y_test = train_test_split(x,y,test_size=0.2,random_state=0)"
   ]
  },
  {
   "cell_type": "code",
   "execution_count": 78,
   "id": "ff6acd7a",
   "metadata": {},
   "outputs": [],
   "source": [
    "from sklearn.linear_model import LogisticRegression\n",
    "\n",
    "lr = LogisticRegression()"
   ]
  },
  {
   "cell_type": "code",
   "execution_count": 79,
   "id": "851bf125",
   "metadata": {},
   "outputs": [
    {
     "name": "stderr",
     "output_type": "stream",
     "text": [
      "C:\\Users\\HP\\Anaconda3\\lib\\site-packages\\sklearn\\utils\\validation.py:993: DataConversionWarning: A column-vector y was passed when a 1d array was expected. Please change the shape of y to (n_samples, ), for example using ravel().\n",
      "  y = column_or_1d(y, warn=True)\n"
     ]
    },
    {
     "data": {
      "text/plain": [
       "LogisticRegression()"
      ]
     },
     "execution_count": 79,
     "metadata": {},
     "output_type": "execute_result"
    }
   ],
   "source": [
    "lr.fit(X_train,y_train)"
   ]
  },
  {
   "cell_type": "code",
   "execution_count": 80,
   "id": "0340b000",
   "metadata": {},
   "outputs": [
    {
     "data": {
      "text/plain": [
       "array(['0', '1', '1', '1'], dtype=object)"
      ]
     },
     "execution_count": 80,
     "metadata": {},
     "output_type": "execute_result"
    }
   ],
   "source": [
    "lr.predict(X_test)"
   ]
  },
  {
   "cell_type": "code",
   "execution_count": 81,
   "id": "48681af8",
   "metadata": {},
   "outputs": [
    {
     "name": "stderr",
     "output_type": "stream",
     "text": [
      "C:\\Users\\HP\\Anaconda3\\lib\\site-packages\\sklearn\\base.py:450: UserWarning: X does not have valid feature names, but LogisticRegression was fitted with feature names\n",
      "  warnings.warn(\n"
     ]
    },
    {
     "data": {
      "text/plain": [
       "array(['0'], dtype=object)"
      ]
     },
     "execution_count": 81,
     "metadata": {},
     "output_type": "execute_result"
    }
   ],
   "source": [
    "lr.predict([[20]])"
   ]
  },
  {
   "cell_type": "code",
   "execution_count": 82,
   "id": "aa3a7887",
   "metadata": {},
   "outputs": [
    {
     "name": "stderr",
     "output_type": "stream",
     "text": [
      "C:\\Users\\HP\\Anaconda3\\lib\\site-packages\\sklearn\\base.py:450: UserWarning: X does not have valid feature names, but LogisticRegression was fitted with feature names\n",
      "  warnings.warn(\n"
     ]
    },
    {
     "data": {
      "text/plain": [
       "array(['1'], dtype=object)"
      ]
     },
     "execution_count": 82,
     "metadata": {},
     "output_type": "execute_result"
    }
   ],
   "source": [
    "lr.predict([[55]])"
   ]
  },
  {
   "cell_type": "markdown",
   "id": "8b9fd6bf",
   "metadata": {},
   "source": [
    "As you see our model works properly."
   ]
  },
  {
   "cell_type": "markdown",
   "id": "c5b9de52",
   "metadata": {},
   "source": [
    "# Logistic Regression (Multiclass Classification)\n",
    "\n",
    "\n",
    "* When the target variable is in categorical form and have more than 2 categories we use Logistic Regression (Multiclass Classification)"
   ]
  },
  {
   "cell_type": "code",
   "execution_count": 83,
   "id": "98f053d2",
   "metadata": {},
   "outputs": [
    {
     "data": {
      "text/html": [
       "<div>\n",
       "<style scoped>\n",
       "    .dataframe tbody tr th:only-of-type {\n",
       "        vertical-align: middle;\n",
       "    }\n",
       "\n",
       "    .dataframe tbody tr th {\n",
       "        vertical-align: top;\n",
       "    }\n",
       "\n",
       "    .dataframe thead th {\n",
       "        text-align: right;\n",
       "    }\n",
       "</style>\n",
       "<table border=\"1\" class=\"dataframe\">\n",
       "  <thead>\n",
       "    <tr style=\"text-align: right;\">\n",
       "      <th></th>\n",
       "      <th>Id</th>\n",
       "      <th>SepalLengthCm</th>\n",
       "      <th>SepalWidthCm</th>\n",
       "      <th>PetalLengthCm</th>\n",
       "      <th>PetalWidthCm</th>\n",
       "      <th>Species</th>\n",
       "    </tr>\n",
       "  </thead>\n",
       "  <tbody>\n",
       "    <tr>\n",
       "      <th>0</th>\n",
       "      <td>1</td>\n",
       "      <td>5.1</td>\n",
       "      <td>3.5</td>\n",
       "      <td>1.4</td>\n",
       "      <td>0.2</td>\n",
       "      <td>Iris-setosa</td>\n",
       "    </tr>\n",
       "    <tr>\n",
       "      <th>1</th>\n",
       "      <td>2</td>\n",
       "      <td>4.9</td>\n",
       "      <td>3.0</td>\n",
       "      <td>1.4</td>\n",
       "      <td>0.2</td>\n",
       "      <td>Iris-setosa</td>\n",
       "    </tr>\n",
       "    <tr>\n",
       "      <th>2</th>\n",
       "      <td>3</td>\n",
       "      <td>4.7</td>\n",
       "      <td>3.2</td>\n",
       "      <td>1.3</td>\n",
       "      <td>0.2</td>\n",
       "      <td>Iris-setosa</td>\n",
       "    </tr>\n",
       "    <tr>\n",
       "      <th>3</th>\n",
       "      <td>4</td>\n",
       "      <td>4.6</td>\n",
       "      <td>3.1</td>\n",
       "      <td>1.5</td>\n",
       "      <td>0.2</td>\n",
       "      <td>Iris-setosa</td>\n",
       "    </tr>\n",
       "    <tr>\n",
       "      <th>4</th>\n",
       "      <td>5</td>\n",
       "      <td>5.0</td>\n",
       "      <td>3.6</td>\n",
       "      <td>1.4</td>\n",
       "      <td>0.2</td>\n",
       "      <td>Iris-setosa</td>\n",
       "    </tr>\n",
       "  </tbody>\n",
       "</table>\n",
       "</div>"
      ],
      "text/plain": [
       "   Id  SepalLengthCm  SepalWidthCm  PetalLengthCm  PetalWidthCm      Species\n",
       "0   1            5.1           3.5            1.4           0.2  Iris-setosa\n",
       "1   2            4.9           3.0            1.4           0.2  Iris-setosa\n",
       "2   3            4.7           3.2            1.3           0.2  Iris-setosa\n",
       "3   4            4.6           3.1            1.5           0.2  Iris-setosa\n",
       "4   5            5.0           3.6            1.4           0.2  Iris-setosa"
      ]
     },
     "execution_count": 83,
     "metadata": {},
     "output_type": "execute_result"
    }
   ],
   "source": [
    "df = pd.read_csv(r'C:\\Users\\HP\\Desktop\\Data Science\\Data Sets For Practice\\iris.csv')\n",
    "df.head()"
   ]
  },
  {
   "cell_type": "code",
   "execution_count": 84,
   "id": "8b0950d4",
   "metadata": {},
   "outputs": [
    {
     "data": {
      "text/plain": [
       "(150, 6)"
      ]
     },
     "execution_count": 84,
     "metadata": {},
     "output_type": "execute_result"
    }
   ],
   "source": [
    "df.shape"
   ]
  },
  {
   "cell_type": "code",
   "execution_count": 85,
   "id": "30576065",
   "metadata": {},
   "outputs": [
    {
     "data": {
      "text/plain": [
       "array(['Iris-setosa', 'Iris-versicolor', 'Iris-virginica'], dtype=object)"
      ]
     },
     "execution_count": 85,
     "metadata": {},
     "output_type": "execute_result"
    }
   ],
   "source": [
    "df.Species.unique()"
   ]
  },
  {
   "cell_type": "code",
   "execution_count": 86,
   "id": "86afe6f9",
   "metadata": {},
   "outputs": [
    {
     "data": {
      "text/plain": [
       "Iris-setosa        50\n",
       "Iris-versicolor    50\n",
       "Iris-virginica     50\n",
       "Name: Species, dtype: int64"
      ]
     },
     "execution_count": 86,
     "metadata": {},
     "output_type": "execute_result"
    }
   ],
   "source": [
    "df.Species.value_counts()"
   ]
  },
  {
   "cell_type": "code",
   "execution_count": 87,
   "id": "5ad3aeb2",
   "metadata": {},
   "outputs": [],
   "source": [
    "df.Species.replace({'Iris-setosa':'0','Iris-versicolor':'1','Iris-virginica':'2'},inplace=True)"
   ]
  },
  {
   "cell_type": "code",
   "execution_count": 88,
   "id": "f46c1369",
   "metadata": {},
   "outputs": [
    {
     "data": {
      "text/html": [
       "<div>\n",
       "<style scoped>\n",
       "    .dataframe tbody tr th:only-of-type {\n",
       "        vertical-align: middle;\n",
       "    }\n",
       "\n",
       "    .dataframe tbody tr th {\n",
       "        vertical-align: top;\n",
       "    }\n",
       "\n",
       "    .dataframe thead th {\n",
       "        text-align: right;\n",
       "    }\n",
       "</style>\n",
       "<table border=\"1\" class=\"dataframe\">\n",
       "  <thead>\n",
       "    <tr style=\"text-align: right;\">\n",
       "      <th></th>\n",
       "      <th>Id</th>\n",
       "      <th>SepalLengthCm</th>\n",
       "      <th>SepalWidthCm</th>\n",
       "      <th>PetalLengthCm</th>\n",
       "      <th>PetalWidthCm</th>\n",
       "      <th>Species</th>\n",
       "    </tr>\n",
       "  </thead>\n",
       "  <tbody>\n",
       "    <tr>\n",
       "      <th>0</th>\n",
       "      <td>1</td>\n",
       "      <td>5.1</td>\n",
       "      <td>3.5</td>\n",
       "      <td>1.4</td>\n",
       "      <td>0.2</td>\n",
       "      <td>0</td>\n",
       "    </tr>\n",
       "    <tr>\n",
       "      <th>1</th>\n",
       "      <td>2</td>\n",
       "      <td>4.9</td>\n",
       "      <td>3.0</td>\n",
       "      <td>1.4</td>\n",
       "      <td>0.2</td>\n",
       "      <td>0</td>\n",
       "    </tr>\n",
       "    <tr>\n",
       "      <th>2</th>\n",
       "      <td>3</td>\n",
       "      <td>4.7</td>\n",
       "      <td>3.2</td>\n",
       "      <td>1.3</td>\n",
       "      <td>0.2</td>\n",
       "      <td>0</td>\n",
       "    </tr>\n",
       "  </tbody>\n",
       "</table>\n",
       "</div>"
      ],
      "text/plain": [
       "   Id  SepalLengthCm  SepalWidthCm  PetalLengthCm  PetalWidthCm Species\n",
       "0   1            5.1           3.5            1.4           0.2       0\n",
       "1   2            4.9           3.0            1.4           0.2       0\n",
       "2   3            4.7           3.2            1.3           0.2       0"
      ]
     },
     "execution_count": 88,
     "metadata": {},
     "output_type": "execute_result"
    }
   ],
   "source": [
    "df.head(3)"
   ]
  },
  {
   "cell_type": "code",
   "execution_count": 89,
   "id": "815986b2",
   "metadata": {},
   "outputs": [],
   "source": [
    "x = df.iloc[:,:5]\n",
    "y = df.iloc[:,5:6]"
   ]
  },
  {
   "cell_type": "code",
   "execution_count": 90,
   "id": "aa93d056",
   "metadata": {},
   "outputs": [],
   "source": [
    "from sklearn.model_selection import train_test_split\n",
    "\n",
    "X_train,X_test,y_train,y_test = train_test_split(x,y,test_size=0.3,random_state=0)"
   ]
  },
  {
   "cell_type": "code",
   "execution_count": 91,
   "id": "28dbea7e",
   "metadata": {},
   "outputs": [],
   "source": [
    "from sklearn.linear_model import LogisticRegression\n",
    "\n",
    "lr = LogisticRegression()"
   ]
  },
  {
   "cell_type": "code",
   "execution_count": 92,
   "id": "a62e4f55",
   "metadata": {},
   "outputs": [
    {
     "name": "stderr",
     "output_type": "stream",
     "text": [
      "C:\\Users\\HP\\Anaconda3\\lib\\site-packages\\sklearn\\utils\\validation.py:993: DataConversionWarning: A column-vector y was passed when a 1d array was expected. Please change the shape of y to (n_samples, ), for example using ravel().\n",
      "  y = column_or_1d(y, warn=True)\n",
      "C:\\Users\\HP\\Anaconda3\\lib\\site-packages\\sklearn\\linear_model\\_logistic.py:814: ConvergenceWarning: lbfgs failed to converge (status=1):\n",
      "STOP: TOTAL NO. of ITERATIONS REACHED LIMIT.\n",
      "\n",
      "Increase the number of iterations (max_iter) or scale the data as shown in:\n",
      "    https://scikit-learn.org/stable/modules/preprocessing.html\n",
      "Please also refer to the documentation for alternative solver options:\n",
      "    https://scikit-learn.org/stable/modules/linear_model.html#logistic-regression\n",
      "  n_iter_i = _check_optimize_result(\n"
     ]
    },
    {
     "data": {
      "text/plain": [
       "LogisticRegression()"
      ]
     },
     "execution_count": 92,
     "metadata": {},
     "output_type": "execute_result"
    }
   ],
   "source": [
    "lr.fit(X_train,y_train)"
   ]
  },
  {
   "cell_type": "code",
   "execution_count": 93,
   "id": "215dd805",
   "metadata": {},
   "outputs": [
    {
     "data": {
      "text/plain": [
       "array(['2', '1', '0', '2', '0', '2', '0', '1', '1', '1', '2', '1', '1',\n",
       "       '1', '1', '0', '1', '1', '0', '0', '2', '1', '0', '0', '2', '0',\n",
       "       '0', '1', '1', '0', '2', '1', '0', '2', '2', '1', '0', '1', '1',\n",
       "       '1', '2', '0', '2', '0', '0'], dtype=object)"
      ]
     },
     "execution_count": 93,
     "metadata": {},
     "output_type": "execute_result"
    }
   ],
   "source": [
    "lr.predict(X_test)"
   ]
  },
  {
   "cell_type": "markdown",
   "id": "f2debecf",
   "metadata": {},
   "source": [
    "As you see our model start giving prediction"
   ]
  },
  {
   "cell_type": "code",
   "execution_count": 94,
   "id": "f6ee08e1",
   "metadata": {},
   "outputs": [
    {
     "data": {
      "text/html": [
       "<div>\n",
       "<style scoped>\n",
       "    .dataframe tbody tr th:only-of-type {\n",
       "        vertical-align: middle;\n",
       "    }\n",
       "\n",
       "    .dataframe tbody tr th {\n",
       "        vertical-align: top;\n",
       "    }\n",
       "\n",
       "    .dataframe thead th {\n",
       "        text-align: right;\n",
       "    }\n",
       "</style>\n",
       "<table border=\"1\" class=\"dataframe\">\n",
       "  <thead>\n",
       "    <tr style=\"text-align: right;\">\n",
       "      <th></th>\n",
       "      <th>Id</th>\n",
       "      <th>SepalLengthCm</th>\n",
       "      <th>SepalWidthCm</th>\n",
       "      <th>PetalLengthCm</th>\n",
       "      <th>PetalWidthCm</th>\n",
       "    </tr>\n",
       "  </thead>\n",
       "  <tbody>\n",
       "    <tr>\n",
       "      <th>114</th>\n",
       "      <td>115</td>\n",
       "      <td>5.8</td>\n",
       "      <td>2.8</td>\n",
       "      <td>5.1</td>\n",
       "      <td>2.4</td>\n",
       "    </tr>\n",
       "    <tr>\n",
       "      <th>62</th>\n",
       "      <td>63</td>\n",
       "      <td>6.0</td>\n",
       "      <td>2.2</td>\n",
       "      <td>4.0</td>\n",
       "      <td>1.0</td>\n",
       "    </tr>\n",
       "    <tr>\n",
       "      <th>33</th>\n",
       "      <td>34</td>\n",
       "      <td>5.5</td>\n",
       "      <td>4.2</td>\n",
       "      <td>1.4</td>\n",
       "      <td>0.2</td>\n",
       "    </tr>\n",
       "    <tr>\n",
       "      <th>107</th>\n",
       "      <td>108</td>\n",
       "      <td>7.3</td>\n",
       "      <td>2.9</td>\n",
       "      <td>6.3</td>\n",
       "      <td>1.8</td>\n",
       "    </tr>\n",
       "    <tr>\n",
       "      <th>7</th>\n",
       "      <td>8</td>\n",
       "      <td>5.0</td>\n",
       "      <td>3.4</td>\n",
       "      <td>1.5</td>\n",
       "      <td>0.2</td>\n",
       "    </tr>\n",
       "    <tr>\n",
       "      <th>100</th>\n",
       "      <td>101</td>\n",
       "      <td>6.3</td>\n",
       "      <td>3.3</td>\n",
       "      <td>6.0</td>\n",
       "      <td>2.5</td>\n",
       "    </tr>\n",
       "    <tr>\n",
       "      <th>40</th>\n",
       "      <td>41</td>\n",
       "      <td>5.0</td>\n",
       "      <td>3.5</td>\n",
       "      <td>1.3</td>\n",
       "      <td>0.3</td>\n",
       "    </tr>\n",
       "    <tr>\n",
       "      <th>86</th>\n",
       "      <td>87</td>\n",
       "      <td>6.7</td>\n",
       "      <td>3.1</td>\n",
       "      <td>4.7</td>\n",
       "      <td>1.5</td>\n",
       "    </tr>\n",
       "    <tr>\n",
       "      <th>76</th>\n",
       "      <td>77</td>\n",
       "      <td>6.8</td>\n",
       "      <td>2.8</td>\n",
       "      <td>4.8</td>\n",
       "      <td>1.4</td>\n",
       "    </tr>\n",
       "    <tr>\n",
       "      <th>71</th>\n",
       "      <td>72</td>\n",
       "      <td>6.1</td>\n",
       "      <td>2.8</td>\n",
       "      <td>4.0</td>\n",
       "      <td>1.3</td>\n",
       "    </tr>\n",
       "    <tr>\n",
       "      <th>134</th>\n",
       "      <td>135</td>\n",
       "      <td>6.1</td>\n",
       "      <td>2.6</td>\n",
       "      <td>5.6</td>\n",
       "      <td>1.4</td>\n",
       "    </tr>\n",
       "    <tr>\n",
       "      <th>51</th>\n",
       "      <td>52</td>\n",
       "      <td>6.4</td>\n",
       "      <td>3.2</td>\n",
       "      <td>4.5</td>\n",
       "      <td>1.5</td>\n",
       "    </tr>\n",
       "    <tr>\n",
       "      <th>73</th>\n",
       "      <td>74</td>\n",
       "      <td>6.1</td>\n",
       "      <td>2.8</td>\n",
       "      <td>4.7</td>\n",
       "      <td>1.2</td>\n",
       "    </tr>\n",
       "    <tr>\n",
       "      <th>54</th>\n",
       "      <td>55</td>\n",
       "      <td>6.5</td>\n",
       "      <td>2.8</td>\n",
       "      <td>4.6</td>\n",
       "      <td>1.5</td>\n",
       "    </tr>\n",
       "    <tr>\n",
       "      <th>63</th>\n",
       "      <td>64</td>\n",
       "      <td>6.1</td>\n",
       "      <td>2.9</td>\n",
       "      <td>4.7</td>\n",
       "      <td>1.4</td>\n",
       "    </tr>\n",
       "    <tr>\n",
       "      <th>37</th>\n",
       "      <td>38</td>\n",
       "      <td>4.9</td>\n",
       "      <td>3.1</td>\n",
       "      <td>1.5</td>\n",
       "      <td>0.1</td>\n",
       "    </tr>\n",
       "    <tr>\n",
       "      <th>78</th>\n",
       "      <td>79</td>\n",
       "      <td>6.0</td>\n",
       "      <td>2.9</td>\n",
       "      <td>4.5</td>\n",
       "      <td>1.5</td>\n",
       "    </tr>\n",
       "    <tr>\n",
       "      <th>90</th>\n",
       "      <td>91</td>\n",
       "      <td>5.5</td>\n",
       "      <td>2.6</td>\n",
       "      <td>4.4</td>\n",
       "      <td>1.2</td>\n",
       "    </tr>\n",
       "    <tr>\n",
       "      <th>45</th>\n",
       "      <td>46</td>\n",
       "      <td>4.8</td>\n",
       "      <td>3.0</td>\n",
       "      <td>1.4</td>\n",
       "      <td>0.3</td>\n",
       "    </tr>\n",
       "    <tr>\n",
       "      <th>16</th>\n",
       "      <td>17</td>\n",
       "      <td>5.4</td>\n",
       "      <td>3.9</td>\n",
       "      <td>1.3</td>\n",
       "      <td>0.4</td>\n",
       "    </tr>\n",
       "    <tr>\n",
       "      <th>121</th>\n",
       "      <td>122</td>\n",
       "      <td>5.6</td>\n",
       "      <td>2.8</td>\n",
       "      <td>4.9</td>\n",
       "      <td>2.0</td>\n",
       "    </tr>\n",
       "    <tr>\n",
       "      <th>66</th>\n",
       "      <td>67</td>\n",
       "      <td>5.6</td>\n",
       "      <td>3.0</td>\n",
       "      <td>4.5</td>\n",
       "      <td>1.5</td>\n",
       "    </tr>\n",
       "    <tr>\n",
       "      <th>24</th>\n",
       "      <td>25</td>\n",
       "      <td>4.8</td>\n",
       "      <td>3.4</td>\n",
       "      <td>1.9</td>\n",
       "      <td>0.2</td>\n",
       "    </tr>\n",
       "    <tr>\n",
       "      <th>8</th>\n",
       "      <td>9</td>\n",
       "      <td>4.4</td>\n",
       "      <td>2.9</td>\n",
       "      <td>1.4</td>\n",
       "      <td>0.2</td>\n",
       "    </tr>\n",
       "    <tr>\n",
       "      <th>126</th>\n",
       "      <td>127</td>\n",
       "      <td>6.2</td>\n",
       "      <td>2.8</td>\n",
       "      <td>4.8</td>\n",
       "      <td>1.8</td>\n",
       "    </tr>\n",
       "    <tr>\n",
       "      <th>22</th>\n",
       "      <td>23</td>\n",
       "      <td>4.6</td>\n",
       "      <td>3.6</td>\n",
       "      <td>1.0</td>\n",
       "      <td>0.2</td>\n",
       "    </tr>\n",
       "    <tr>\n",
       "      <th>44</th>\n",
       "      <td>45</td>\n",
       "      <td>5.1</td>\n",
       "      <td>3.8</td>\n",
       "      <td>1.9</td>\n",
       "      <td>0.4</td>\n",
       "    </tr>\n",
       "    <tr>\n",
       "      <th>97</th>\n",
       "      <td>98</td>\n",
       "      <td>6.2</td>\n",
       "      <td>2.9</td>\n",
       "      <td>4.3</td>\n",
       "      <td>1.3</td>\n",
       "    </tr>\n",
       "    <tr>\n",
       "      <th>93</th>\n",
       "      <td>94</td>\n",
       "      <td>5.0</td>\n",
       "      <td>2.3</td>\n",
       "      <td>3.3</td>\n",
       "      <td>1.0</td>\n",
       "    </tr>\n",
       "    <tr>\n",
       "      <th>26</th>\n",
       "      <td>27</td>\n",
       "      <td>5.0</td>\n",
       "      <td>3.4</td>\n",
       "      <td>1.6</td>\n",
       "      <td>0.4</td>\n",
       "    </tr>\n",
       "    <tr>\n",
       "      <th>137</th>\n",
       "      <td>138</td>\n",
       "      <td>6.4</td>\n",
       "      <td>3.1</td>\n",
       "      <td>5.5</td>\n",
       "      <td>1.8</td>\n",
       "    </tr>\n",
       "    <tr>\n",
       "      <th>84</th>\n",
       "      <td>85</td>\n",
       "      <td>5.4</td>\n",
       "      <td>3.0</td>\n",
       "      <td>4.5</td>\n",
       "      <td>1.5</td>\n",
       "    </tr>\n",
       "    <tr>\n",
       "      <th>27</th>\n",
       "      <td>28</td>\n",
       "      <td>5.2</td>\n",
       "      <td>3.5</td>\n",
       "      <td>1.5</td>\n",
       "      <td>0.2</td>\n",
       "    </tr>\n",
       "    <tr>\n",
       "      <th>127</th>\n",
       "      <td>128</td>\n",
       "      <td>6.1</td>\n",
       "      <td>3.0</td>\n",
       "      <td>4.9</td>\n",
       "      <td>1.8</td>\n",
       "    </tr>\n",
       "    <tr>\n",
       "      <th>132</th>\n",
       "      <td>133</td>\n",
       "      <td>6.4</td>\n",
       "      <td>2.8</td>\n",
       "      <td>5.6</td>\n",
       "      <td>2.2</td>\n",
       "    </tr>\n",
       "    <tr>\n",
       "      <th>59</th>\n",
       "      <td>60</td>\n",
       "      <td>5.2</td>\n",
       "      <td>2.7</td>\n",
       "      <td>3.9</td>\n",
       "      <td>1.4</td>\n",
       "    </tr>\n",
       "    <tr>\n",
       "      <th>18</th>\n",
       "      <td>19</td>\n",
       "      <td>5.7</td>\n",
       "      <td>3.8</td>\n",
       "      <td>1.7</td>\n",
       "      <td>0.3</td>\n",
       "    </tr>\n",
       "    <tr>\n",
       "      <th>83</th>\n",
       "      <td>84</td>\n",
       "      <td>6.0</td>\n",
       "      <td>2.7</td>\n",
       "      <td>5.1</td>\n",
       "      <td>1.6</td>\n",
       "    </tr>\n",
       "    <tr>\n",
       "      <th>61</th>\n",
       "      <td>62</td>\n",
       "      <td>5.9</td>\n",
       "      <td>3.0</td>\n",
       "      <td>4.2</td>\n",
       "      <td>1.5</td>\n",
       "    </tr>\n",
       "    <tr>\n",
       "      <th>92</th>\n",
       "      <td>93</td>\n",
       "      <td>5.8</td>\n",
       "      <td>2.6</td>\n",
       "      <td>4.0</td>\n",
       "      <td>1.2</td>\n",
       "    </tr>\n",
       "    <tr>\n",
       "      <th>112</th>\n",
       "      <td>113</td>\n",
       "      <td>6.8</td>\n",
       "      <td>3.0</td>\n",
       "      <td>5.5</td>\n",
       "      <td>2.1</td>\n",
       "    </tr>\n",
       "    <tr>\n",
       "      <th>2</th>\n",
       "      <td>3</td>\n",
       "      <td>4.7</td>\n",
       "      <td>3.2</td>\n",
       "      <td>1.3</td>\n",
       "      <td>0.2</td>\n",
       "    </tr>\n",
       "    <tr>\n",
       "      <th>141</th>\n",
       "      <td>142</td>\n",
       "      <td>6.9</td>\n",
       "      <td>3.1</td>\n",
       "      <td>5.1</td>\n",
       "      <td>2.3</td>\n",
       "    </tr>\n",
       "    <tr>\n",
       "      <th>43</th>\n",
       "      <td>44</td>\n",
       "      <td>5.0</td>\n",
       "      <td>3.5</td>\n",
       "      <td>1.6</td>\n",
       "      <td>0.6</td>\n",
       "    </tr>\n",
       "    <tr>\n",
       "      <th>10</th>\n",
       "      <td>11</td>\n",
       "      <td>5.4</td>\n",
       "      <td>3.7</td>\n",
       "      <td>1.5</td>\n",
       "      <td>0.2</td>\n",
       "    </tr>\n",
       "  </tbody>\n",
       "</table>\n",
       "</div>"
      ],
      "text/plain": [
       "      Id  SepalLengthCm  SepalWidthCm  PetalLengthCm  PetalWidthCm\n",
       "114  115            5.8           2.8            5.1           2.4\n",
       "62    63            6.0           2.2            4.0           1.0\n",
       "33    34            5.5           4.2            1.4           0.2\n",
       "107  108            7.3           2.9            6.3           1.8\n",
       "7      8            5.0           3.4            1.5           0.2\n",
       "100  101            6.3           3.3            6.0           2.5\n",
       "40    41            5.0           3.5            1.3           0.3\n",
       "86    87            6.7           3.1            4.7           1.5\n",
       "76    77            6.8           2.8            4.8           1.4\n",
       "71    72            6.1           2.8            4.0           1.3\n",
       "134  135            6.1           2.6            5.6           1.4\n",
       "51    52            6.4           3.2            4.5           1.5\n",
       "73    74            6.1           2.8            4.7           1.2\n",
       "54    55            6.5           2.8            4.6           1.5\n",
       "63    64            6.1           2.9            4.7           1.4\n",
       "37    38            4.9           3.1            1.5           0.1\n",
       "78    79            6.0           2.9            4.5           1.5\n",
       "90    91            5.5           2.6            4.4           1.2\n",
       "45    46            4.8           3.0            1.4           0.3\n",
       "16    17            5.4           3.9            1.3           0.4\n",
       "121  122            5.6           2.8            4.9           2.0\n",
       "66    67            5.6           3.0            4.5           1.5\n",
       "24    25            4.8           3.4            1.9           0.2\n",
       "8      9            4.4           2.9            1.4           0.2\n",
       "126  127            6.2           2.8            4.8           1.8\n",
       "22    23            4.6           3.6            1.0           0.2\n",
       "44    45            5.1           3.8            1.9           0.4\n",
       "97    98            6.2           2.9            4.3           1.3\n",
       "93    94            5.0           2.3            3.3           1.0\n",
       "26    27            5.0           3.4            1.6           0.4\n",
       "137  138            6.4           3.1            5.5           1.8\n",
       "84    85            5.4           3.0            4.5           1.5\n",
       "27    28            5.2           3.5            1.5           0.2\n",
       "127  128            6.1           3.0            4.9           1.8\n",
       "132  133            6.4           2.8            5.6           2.2\n",
       "59    60            5.2           2.7            3.9           1.4\n",
       "18    19            5.7           3.8            1.7           0.3\n",
       "83    84            6.0           2.7            5.1           1.6\n",
       "61    62            5.9           3.0            4.2           1.5\n",
       "92    93            5.8           2.6            4.0           1.2\n",
       "112  113            6.8           3.0            5.5           2.1\n",
       "2      3            4.7           3.2            1.3           0.2\n",
       "141  142            6.9           3.1            5.1           2.3\n",
       "43    44            5.0           3.5            1.6           0.6\n",
       "10    11            5.4           3.7            1.5           0.2"
      ]
     },
     "execution_count": 94,
     "metadata": {},
     "output_type": "execute_result"
    }
   ],
   "source": [
    "X_test  #'Iris-setosa':'0','Iris-versicolor':'1','Iris-virginica':'2'"
   ]
  },
  {
   "cell_type": "code",
   "execution_count": 95,
   "id": "d68b18de",
   "metadata": {},
   "outputs": [
    {
     "data": {
      "text/plain": [
       "1.0"
      ]
     },
     "execution_count": 95,
     "metadata": {},
     "output_type": "execute_result"
    }
   ],
   "source": [
    "lr.score(X_test,y_test)"
   ]
  },
  {
   "cell_type": "markdown",
   "id": "59cc6c14",
   "metadata": {},
   "source": [
    "As you see the score of our model is 100% "
   ]
  },
  {
   "cell_type": "code",
   "execution_count": 96,
   "id": "6a564040",
   "metadata": {},
   "outputs": [
    {
     "data": {
      "image/png": "[encoded data removed]",
      "text/plain": [
       "<Figure size 1064.36x1000 with 20 Axes>"
      ]
     },
     "metadata": {},
     "output_type": "display_data"
    }
   ],
   "source": [
    "import seaborn as sns\n",
    "\n",
    "sns.pairplot(df[['SepalLengthCm','SepalWidthCm','PetalLengthCm','PetalWidthCm','Species']],hue='Species')\n",
    "plt.show()\n"
   ]
  },
  {
   "cell_type": "code",
   "execution_count": 97,
   "id": "9654ddd9",
   "metadata": {},
   "outputs": [
    {
     "name": "stderr",
     "output_type": "stream",
     "text": [
      "C:\\Users\\HP\\Anaconda3\\lib\\site-packages\\sklearn\\base.py:450: UserWarning: X does not have valid feature names, but LogisticRegression was fitted with feature names\n",
      "  warnings.warn(\n"
     ]
    },
    {
     "data": {
      "text/plain": [
       "array(['1'], dtype=object)"
      ]
     },
     "execution_count": 97,
     "metadata": {},
     "output_type": "execute_result"
    }
   ],
   "source": [
    "lr.predict([[1,4.5,2.6,7.5,6.5]])"
   ]
  },
  {
   "cell_type": "markdown",
   "id": "ce521081",
   "metadata": {},
   "source": [
    "As you see our model works properly"
   ]
  },
  {
   "cell_type": "markdown",
   "id": "ffd2542c",
   "metadata": {},
   "source": [
    "# What is Decision Tree?\n",
    "\n",
    "\n",
    "* Decision Tree is a machine learning algoritm based on supervised learning, that can be used for both regression and classification problems.\n",
    "\n",
    "\n",
    "* The goal is to build up a classifier model that can predict the class or value of the target variable.\n",
    "\n",
    "\n",
    "* Usually use for classification problems. "
   ]
  },
  {
   "cell_type": "markdown",
   "id": "a0a5ef41",
   "metadata": {},
   "source": [
    "# Use of Decision Tree Algorithm in real world :-\n",
    "\n",
    "\n",
    "* Decision trees are used for handling non-linear data sets effectively. \n",
    "\n",
    "\n",
    "* The decision tree tool is used in real life in many areas, such as engineering, civil planning, law, and business. \n",
    "\n",
    "\n",
    "* Decision trees can be divided into two types; categorical variable and continuous variable decision trees."
   ]
  },
  {
   "cell_type": "code",
   "execution_count": 98,
   "id": "610c9689",
   "metadata": {},
   "outputs": [
    {
     "data": {
      "text/html": [
       "<div>\n",
       "<style scoped>\n",
       "    .dataframe tbody tr th:only-of-type {\n",
       "        vertical-align: middle;\n",
       "    }\n",
       "\n",
       "    .dataframe tbody tr th {\n",
       "        vertical-align: top;\n",
       "    }\n",
       "\n",
       "    .dataframe thead th {\n",
       "        text-align: right;\n",
       "    }\n",
       "</style>\n",
       "<table border=\"1\" class=\"dataframe\">\n",
       "  <thead>\n",
       "    <tr style=\"text-align: right;\">\n",
       "      <th></th>\n",
       "      <th>outlook</th>\n",
       "      <th>humidity</th>\n",
       "      <th>windy</th>\n",
       "      <th>play</th>\n",
       "    </tr>\n",
       "  </thead>\n",
       "  <tbody>\n",
       "    <tr>\n",
       "      <th>0</th>\n",
       "      <td>sunny</td>\n",
       "      <td>high</td>\n",
       "      <td>weak</td>\n",
       "      <td>no</td>\n",
       "    </tr>\n",
       "    <tr>\n",
       "      <th>1</th>\n",
       "      <td>sunny</td>\n",
       "      <td>high</td>\n",
       "      <td>strong</td>\n",
       "      <td>no</td>\n",
       "    </tr>\n",
       "    <tr>\n",
       "      <th>2</th>\n",
       "      <td>overcast</td>\n",
       "      <td>high</td>\n",
       "      <td>weak</td>\n",
       "      <td>yes</td>\n",
       "    </tr>\n",
       "    <tr>\n",
       "      <th>3</th>\n",
       "      <td>rainy</td>\n",
       "      <td>high</td>\n",
       "      <td>weak</td>\n",
       "      <td>yes</td>\n",
       "    </tr>\n",
       "    <tr>\n",
       "      <th>4</th>\n",
       "      <td>rainy</td>\n",
       "      <td>normal</td>\n",
       "      <td>weak</td>\n",
       "      <td>yes</td>\n",
       "    </tr>\n",
       "    <tr>\n",
       "      <th>5</th>\n",
       "      <td>rainy</td>\n",
       "      <td>normal</td>\n",
       "      <td>strong</td>\n",
       "      <td>no</td>\n",
       "    </tr>\n",
       "    <tr>\n",
       "      <th>6</th>\n",
       "      <td>overcast</td>\n",
       "      <td>normal</td>\n",
       "      <td>weak</td>\n",
       "      <td>yes</td>\n",
       "    </tr>\n",
       "    <tr>\n",
       "      <th>7</th>\n",
       "      <td>sunny</td>\n",
       "      <td>high</td>\n",
       "      <td>weak</td>\n",
       "      <td>no</td>\n",
       "    </tr>\n",
       "    <tr>\n",
       "      <th>8</th>\n",
       "      <td>sunny</td>\n",
       "      <td>normal</td>\n",
       "      <td>weak</td>\n",
       "      <td>yes</td>\n",
       "    </tr>\n",
       "    <tr>\n",
       "      <th>9</th>\n",
       "      <td>rainy</td>\n",
       "      <td>normal</td>\n",
       "      <td>weak</td>\n",
       "      <td>yes</td>\n",
       "    </tr>\n",
       "    <tr>\n",
       "      <th>10</th>\n",
       "      <td>sunny</td>\n",
       "      <td>normal</td>\n",
       "      <td>strong</td>\n",
       "      <td>yes</td>\n",
       "    </tr>\n",
       "    <tr>\n",
       "      <th>11</th>\n",
       "      <td>overcast</td>\n",
       "      <td>high</td>\n",
       "      <td>strong</td>\n",
       "      <td>yes</td>\n",
       "    </tr>\n",
       "    <tr>\n",
       "      <th>12</th>\n",
       "      <td>overcast</td>\n",
       "      <td>normal</td>\n",
       "      <td>weak</td>\n",
       "      <td>yes</td>\n",
       "    </tr>\n",
       "    <tr>\n",
       "      <th>13</th>\n",
       "      <td>rainy</td>\n",
       "      <td>high</td>\n",
       "      <td>strong</td>\n",
       "      <td>no</td>\n",
       "    </tr>\n",
       "  </tbody>\n",
       "</table>\n",
       "</div>"
      ],
      "text/plain": [
       "     outlook humidity   windy play\n",
       "0      sunny    high     weak   no\n",
       "1      sunny    high   strong   no\n",
       "2   overcast    high     weak  yes\n",
       "3      rainy    high     weak  yes\n",
       "4      rainy   normal    weak  yes\n",
       "5      rainy   normal  strong   no\n",
       "6   overcast   normal    weak  yes\n",
       "7      sunny    high     weak   no\n",
       "8      sunny   normal    weak  yes\n",
       "9      rainy   normal    weak  yes\n",
       "10     sunny   normal  strong  yes\n",
       "11  overcast    high   strong  yes\n",
       "12  overcast   normal    weak  yes\n",
       "13     rainy    high   strong   no"
      ]
     },
     "execution_count": 98,
     "metadata": {},
     "output_type": "execute_result"
    }
   ],
   "source": [
    "df = pd.read_excel(r\"C:\\Users\\HP\\Desktop\\Data Science\\Data Sets For Practice\\B4.xlsx\")\n",
    "df"
   ]
  },
  {
   "cell_type": "markdown",
   "id": "64997164",
   "metadata": {},
   "source": [
    "Data is in categorical form so we convert it into numerical"
   ]
  },
  {
   "cell_type": "code",
   "execution_count": 99,
   "id": "710f3c0c",
   "metadata": {},
   "outputs": [],
   "source": [
    "from sklearn.preprocessing import LabelEncoder\n",
    "\n",
    "outlook = LabelEncoder()\n",
    "humidity = LabelEncoder()\n",
    "windy = LabelEncoder()\n",
    "play = LabelEncoder()"
   ]
  },
  {
   "cell_type": "code",
   "execution_count": 100,
   "id": "a2a5bd84",
   "metadata": {},
   "outputs": [],
   "source": [
    "df['outlook']=outlook.fit_transform(df['outlook'])\n",
    "df['humidity']=outlook.fit_transform(df['humidity'])\n",
    "df['windy']=outlook.fit_transform(df['windy'])\n",
    "df['play']=outlook.fit_transform(df['play'])"
   ]
  },
  {
   "cell_type": "code",
   "execution_count": 101,
   "id": "a7cf0546",
   "metadata": {},
   "outputs": [
    {
     "data": {
      "text/html": [
       "<div>\n",
       "<style scoped>\n",
       "    .dataframe tbody tr th:only-of-type {\n",
       "        vertical-align: middle;\n",
       "    }\n",
       "\n",
       "    .dataframe tbody tr th {\n",
       "        vertical-align: top;\n",
       "    }\n",
       "\n",
       "    .dataframe thead th {\n",
       "        text-align: right;\n",
       "    }\n",
       "</style>\n",
       "<table border=\"1\" class=\"dataframe\">\n",
       "  <thead>\n",
       "    <tr style=\"text-align: right;\">\n",
       "      <th></th>\n",
       "      <th>outlook</th>\n",
       "      <th>humidity</th>\n",
       "      <th>windy</th>\n",
       "      <th>play</th>\n",
       "    </tr>\n",
       "  </thead>\n",
       "  <tbody>\n",
       "    <tr>\n",
       "      <th>0</th>\n",
       "      <td>2</td>\n",
       "      <td>0</td>\n",
       "      <td>1</td>\n",
       "      <td>0</td>\n",
       "    </tr>\n",
       "    <tr>\n",
       "      <th>1</th>\n",
       "      <td>2</td>\n",
       "      <td>0</td>\n",
       "      <td>0</td>\n",
       "      <td>0</td>\n",
       "    </tr>\n",
       "    <tr>\n",
       "      <th>2</th>\n",
       "      <td>0</td>\n",
       "      <td>0</td>\n",
       "      <td>1</td>\n",
       "      <td>1</td>\n",
       "    </tr>\n",
       "    <tr>\n",
       "      <th>3</th>\n",
       "      <td>1</td>\n",
       "      <td>0</td>\n",
       "      <td>1</td>\n",
       "      <td>1</td>\n",
       "    </tr>\n",
       "    <tr>\n",
       "      <th>4</th>\n",
       "      <td>1</td>\n",
       "      <td>1</td>\n",
       "      <td>1</td>\n",
       "      <td>1</td>\n",
       "    </tr>\n",
       "    <tr>\n",
       "      <th>5</th>\n",
       "      <td>1</td>\n",
       "      <td>1</td>\n",
       "      <td>0</td>\n",
       "      <td>0</td>\n",
       "    </tr>\n",
       "    <tr>\n",
       "      <th>6</th>\n",
       "      <td>0</td>\n",
       "      <td>1</td>\n",
       "      <td>1</td>\n",
       "      <td>1</td>\n",
       "    </tr>\n",
       "    <tr>\n",
       "      <th>7</th>\n",
       "      <td>2</td>\n",
       "      <td>0</td>\n",
       "      <td>1</td>\n",
       "      <td>0</td>\n",
       "    </tr>\n",
       "    <tr>\n",
       "      <th>8</th>\n",
       "      <td>2</td>\n",
       "      <td>1</td>\n",
       "      <td>1</td>\n",
       "      <td>1</td>\n",
       "    </tr>\n",
       "    <tr>\n",
       "      <th>9</th>\n",
       "      <td>1</td>\n",
       "      <td>1</td>\n",
       "      <td>1</td>\n",
       "      <td>1</td>\n",
       "    </tr>\n",
       "    <tr>\n",
       "      <th>10</th>\n",
       "      <td>2</td>\n",
       "      <td>1</td>\n",
       "      <td>0</td>\n",
       "      <td>1</td>\n",
       "    </tr>\n",
       "    <tr>\n",
       "      <th>11</th>\n",
       "      <td>0</td>\n",
       "      <td>0</td>\n",
       "      <td>0</td>\n",
       "      <td>1</td>\n",
       "    </tr>\n",
       "    <tr>\n",
       "      <th>12</th>\n",
       "      <td>0</td>\n",
       "      <td>1</td>\n",
       "      <td>1</td>\n",
       "      <td>1</td>\n",
       "    </tr>\n",
       "    <tr>\n",
       "      <th>13</th>\n",
       "      <td>1</td>\n",
       "      <td>0</td>\n",
       "      <td>0</td>\n",
       "      <td>0</td>\n",
       "    </tr>\n",
       "  </tbody>\n",
       "</table>\n",
       "</div>"
      ],
      "text/plain": [
       "    outlook  humidity  windy  play\n",
       "0         2         0      1     0\n",
       "1         2         0      0     0\n",
       "2         0         0      1     1\n",
       "3         1         0      1     1\n",
       "4         1         1      1     1\n",
       "5         1         1      0     0\n",
       "6         0         1      1     1\n",
       "7         2         0      1     0\n",
       "8         2         1      1     1\n",
       "9         1         1      1     1\n",
       "10        2         1      0     1\n",
       "11        0         0      0     1\n",
       "12        0         1      1     1\n",
       "13        1         0      0     0"
      ]
     },
     "execution_count": 101,
     "metadata": {},
     "output_type": "execute_result"
    }
   ],
   "source": [
    "df"
   ]
  },
  {
   "cell_type": "markdown",
   "id": "e4d92f4e",
   "metadata": {},
   "source": [
    "* Independent variables = 'outlook', 'humidity', 'windy'\n",
    "* dependent/target variable = 'play'"
   ]
  },
  {
   "cell_type": "code",
   "execution_count": 102,
   "id": "0e1de0bd",
   "metadata": {},
   "outputs": [
    {
     "data": {
      "text/html": [
       "<div>\n",
       "<style scoped>\n",
       "    .dataframe tbody tr th:only-of-type {\n",
       "        vertical-align: middle;\n",
       "    }\n",
       "\n",
       "    .dataframe tbody tr th {\n",
       "        vertical-align: top;\n",
       "    }\n",
       "\n",
       "    .dataframe thead th {\n",
       "        text-align: right;\n",
       "    }\n",
       "</style>\n",
       "<table border=\"1\" class=\"dataframe\">\n",
       "  <thead>\n",
       "    <tr style=\"text-align: right;\">\n",
       "      <th></th>\n",
       "      <th>outlook</th>\n",
       "      <th>humidity</th>\n",
       "      <th>windy</th>\n",
       "    </tr>\n",
       "  </thead>\n",
       "  <tbody>\n",
       "    <tr>\n",
       "      <th>0</th>\n",
       "      <td>2</td>\n",
       "      <td>0</td>\n",
       "      <td>1</td>\n",
       "    </tr>\n",
       "    <tr>\n",
       "      <th>1</th>\n",
       "      <td>2</td>\n",
       "      <td>0</td>\n",
       "      <td>0</td>\n",
       "    </tr>\n",
       "    <tr>\n",
       "      <th>2</th>\n",
       "      <td>0</td>\n",
       "      <td>0</td>\n",
       "      <td>1</td>\n",
       "    </tr>\n",
       "    <tr>\n",
       "      <th>3</th>\n",
       "      <td>1</td>\n",
       "      <td>0</td>\n",
       "      <td>1</td>\n",
       "    </tr>\n",
       "    <tr>\n",
       "      <th>4</th>\n",
       "      <td>1</td>\n",
       "      <td>1</td>\n",
       "      <td>1</td>\n",
       "    </tr>\n",
       "    <tr>\n",
       "      <th>5</th>\n",
       "      <td>1</td>\n",
       "      <td>1</td>\n",
       "      <td>0</td>\n",
       "    </tr>\n",
       "    <tr>\n",
       "      <th>6</th>\n",
       "      <td>0</td>\n",
       "      <td>1</td>\n",
       "      <td>1</td>\n",
       "    </tr>\n",
       "    <tr>\n",
       "      <th>7</th>\n",
       "      <td>2</td>\n",
       "      <td>0</td>\n",
       "      <td>1</td>\n",
       "    </tr>\n",
       "    <tr>\n",
       "      <th>8</th>\n",
       "      <td>2</td>\n",
       "      <td>1</td>\n",
       "      <td>1</td>\n",
       "    </tr>\n",
       "    <tr>\n",
       "      <th>9</th>\n",
       "      <td>1</td>\n",
       "      <td>1</td>\n",
       "      <td>1</td>\n",
       "    </tr>\n",
       "    <tr>\n",
       "      <th>10</th>\n",
       "      <td>2</td>\n",
       "      <td>1</td>\n",
       "      <td>0</td>\n",
       "    </tr>\n",
       "    <tr>\n",
       "      <th>11</th>\n",
       "      <td>0</td>\n",
       "      <td>0</td>\n",
       "      <td>0</td>\n",
       "    </tr>\n",
       "    <tr>\n",
       "      <th>12</th>\n",
       "      <td>0</td>\n",
       "      <td>1</td>\n",
       "      <td>1</td>\n",
       "    </tr>\n",
       "    <tr>\n",
       "      <th>13</th>\n",
       "      <td>1</td>\n",
       "      <td>0</td>\n",
       "      <td>0</td>\n",
       "    </tr>\n",
       "  </tbody>\n",
       "</table>\n",
       "</div>"
      ],
      "text/plain": [
       "    outlook  humidity  windy\n",
       "0         2         0      1\n",
       "1         2         0      0\n",
       "2         0         0      1\n",
       "3         1         0      1\n",
       "4         1         1      1\n",
       "5         1         1      0\n",
       "6         0         1      1\n",
       "7         2         0      1\n",
       "8         2         1      1\n",
       "9         1         1      1\n",
       "10        2         1      0\n",
       "11        0         0      0\n",
       "12        0         1      1\n",
       "13        1         0      0"
      ]
     },
     "execution_count": 102,
     "metadata": {},
     "output_type": "execute_result"
    }
   ],
   "source": [
    "X = df.drop(labels=['play'],axis=1)\n",
    "X"
   ]
  },
  {
   "cell_type": "code",
   "execution_count": 103,
   "id": "9a812ee2",
   "metadata": {},
   "outputs": [
    {
     "data": {
      "text/plain": [
       "0     0\n",
       "1     0\n",
       "2     1\n",
       "3     1\n",
       "4     1\n",
       "5     0\n",
       "6     1\n",
       "7     0\n",
       "8     1\n",
       "9     1\n",
       "10    1\n",
       "11    1\n",
       "12    1\n",
       "13    0\n",
       "Name: play, dtype: int32"
      ]
     },
     "execution_count": 103,
     "metadata": {},
     "output_type": "execute_result"
    }
   ],
   "source": [
    "y = df['play']\n",
    "y"
   ]
  },
  {
   "cell_type": "code",
   "execution_count": 104,
   "id": "a59124e6",
   "metadata": {},
   "outputs": [],
   "source": [
    "from sklearn.model_selection import train_test_split\n",
    "\n",
    "X_train,X_test,y_train,y_test = train_test_split(X,y,test_size=0.2,random_state=0)"
   ]
  },
  {
   "cell_type": "code",
   "execution_count": 105,
   "id": "eab113c1",
   "metadata": {},
   "outputs": [],
   "source": [
    "from sklearn.tree import DecisionTreeClassifier"
   ]
  },
  {
   "cell_type": "code",
   "execution_count": 106,
   "id": "c48704f7",
   "metadata": {},
   "outputs": [],
   "source": [
    "# criterion : {\"gini\", \"entropy\"}, default=\"gini\"\n",
    "# The function to measure the quality of a split.\n",
    "# Supported criteria are\"gini\" for the Gini impurity and \"entropy\" for the information gain.\n",
    "\n",
    "classifier = DecisionTreeClassifier(criterion='gini')"
   ]
  },
  {
   "cell_type": "code",
   "execution_count": 107,
   "id": "9c1dce89",
   "metadata": {},
   "outputs": [
    {
     "data": {
      "text/plain": [
       "DecisionTreeClassifier()"
      ]
     },
     "execution_count": 107,
     "metadata": {},
     "output_type": "execute_result"
    }
   ],
   "source": [
    "classifier.fit(X_train,y_train)"
   ]
  },
  {
   "cell_type": "code",
   "execution_count": 108,
   "id": "0ad6c83d",
   "metadata": {},
   "outputs": [
    {
     "data": {
      "text/plain": [
       "array([1, 1, 1])"
      ]
     },
     "execution_count": 108,
     "metadata": {},
     "output_type": "execute_result"
    }
   ],
   "source": [
    "classifier.predict(X_test)"
   ]
  },
  {
   "cell_type": "code",
   "execution_count": 109,
   "id": "71db9d16",
   "metadata": {},
   "outputs": [
    {
     "data": {
      "text/html": [
       "<div>\n",
       "<style scoped>\n",
       "    .dataframe tbody tr th:only-of-type {\n",
       "        vertical-align: middle;\n",
       "    }\n",
       "\n",
       "    .dataframe tbody tr th {\n",
       "        vertical-align: top;\n",
       "    }\n",
       "\n",
       "    .dataframe thead th {\n",
       "        text-align: right;\n",
       "    }\n",
       "</style>\n",
       "<table border=\"1\" class=\"dataframe\">\n",
       "  <thead>\n",
       "    <tr style=\"text-align: right;\">\n",
       "      <th></th>\n",
       "      <th>outlook</th>\n",
       "      <th>humidity</th>\n",
       "      <th>windy</th>\n",
       "    </tr>\n",
       "  </thead>\n",
       "  <tbody>\n",
       "    <tr>\n",
       "      <th>8</th>\n",
       "      <td>2</td>\n",
       "      <td>1</td>\n",
       "      <td>1</td>\n",
       "    </tr>\n",
       "    <tr>\n",
       "      <th>6</th>\n",
       "      <td>0</td>\n",
       "      <td>1</td>\n",
       "      <td>1</td>\n",
       "    </tr>\n",
       "    <tr>\n",
       "      <th>4</th>\n",
       "      <td>1</td>\n",
       "      <td>1</td>\n",
       "      <td>1</td>\n",
       "    </tr>\n",
       "  </tbody>\n",
       "</table>\n",
       "</div>"
      ],
      "text/plain": [
       "   outlook  humidity  windy\n",
       "8        2         1      1\n",
       "6        0         1      1\n",
       "4        1         1      1"
      ]
     },
     "execution_count": 109,
     "metadata": {},
     "output_type": "execute_result"
    }
   ],
   "source": [
    "X_test  # outlook(overcast=0, rainy=1, sunny=2)"
   ]
  },
  {
   "cell_type": "code",
   "execution_count": 110,
   "id": "1042bd75",
   "metadata": {},
   "outputs": [
    {
     "data": {
      "text/plain": [
       "1.0"
      ]
     },
     "execution_count": 110,
     "metadata": {},
     "output_type": "execute_result"
    }
   ],
   "source": [
    "classifier.score(X_test,y_test)"
   ]
  },
  {
   "cell_type": "markdown",
   "id": "97ab1ac9",
   "metadata": {},
   "source": [
    "As you see our decision tree model work properly.\n"
   ]
  },
  {
   "cell_type": "code",
   "execution_count": 111,
   "id": "4ac93cb5",
   "metadata": {},
   "outputs": [
    {
     "name": "stderr",
     "output_type": "stream",
     "text": [
      "C:\\Users\\HP\\Anaconda3\\lib\\site-packages\\sklearn\\base.py:450: UserWarning: X does not have valid feature names, but DecisionTreeClassifier was fitted with feature names\n",
      "  warnings.warn(\n"
     ]
    },
    {
     "data": {
      "text/plain": [
       "array([0])"
      ]
     },
     "execution_count": 111,
     "metadata": {},
     "output_type": "execute_result"
    }
   ],
   "source": [
    "classifier.predict([[1,2,0]])"
   ]
  },
  {
   "cell_type": "markdown",
   "id": "98315c14",
   "metadata": {},
   "source": [
    "0 = no , 1 = yes"
   ]
  },
  {
   "cell_type": "code",
   "execution_count": 112,
   "id": "823f3a69",
   "metadata": {},
   "outputs": [
    {
     "data": {
      "text/plain": [
       "[Text(0.4444444444444444, 0.9, 'X[0] <= 0.5\\ngini = 0.496\\nsamples = 11\\nvalue = [5, 6]'),\n",
       " Text(0.3333333333333333, 0.7, 'gini = 0.0\\nsamples = 3\\nvalue = [0, 3]'),\n",
       " Text(0.5555555555555556, 0.7, 'X[1] <= 0.5\\ngini = 0.469\\nsamples = 8\\nvalue = [5, 3]'),\n",
       " Text(0.3333333333333333, 0.5, 'X[0] <= 1.5\\ngini = 0.32\\nsamples = 5\\nvalue = [4, 1]'),\n",
       " Text(0.2222222222222222, 0.3, 'X[2] <= 0.5\\ngini = 0.5\\nsamples = 2\\nvalue = [1, 1]'),\n",
       " Text(0.1111111111111111, 0.1, 'gini = 0.0\\nsamples = 1\\nvalue = [1, 0]'),\n",
       " Text(0.3333333333333333, 0.1, 'gini = 0.0\\nsamples = 1\\nvalue = [0, 1]'),\n",
       " Text(0.4444444444444444, 0.3, 'gini = 0.0\\nsamples = 3\\nvalue = [3, 0]'),\n",
       " Text(0.7777777777777778, 0.5, 'X[0] <= 1.5\\ngini = 0.444\\nsamples = 3\\nvalue = [1, 2]'),\n",
       " Text(0.6666666666666666, 0.3, 'X[2] <= 0.5\\ngini = 0.5\\nsamples = 2\\nvalue = [1, 1]'),\n",
       " Text(0.5555555555555556, 0.1, 'gini = 0.0\\nsamples = 1\\nvalue = [1, 0]'),\n",
       " Text(0.7777777777777778, 0.1, 'gini = 0.0\\nsamples = 1\\nvalue = [0, 1]'),\n",
       " Text(0.8888888888888888, 0.3, 'gini = 0.0\\nsamples = 1\\nvalue = [0, 1]')]"
      ]
     },
     "execution_count": 112,
     "metadata": {},
     "output_type": "execute_result"
    }
   ],
   "source": [
    "# Decision Tree Chart\n",
    "\n",
    "from sklearn import tree \n",
    "tree.plot_tree(classifier)"
   ]
  },
  {
   "cell_type": "markdown",
   "id": "dfcb7d4e",
   "metadata": {},
   "source": [
    "### Try Same Problem with entropy parameter\n",
    "\n",
    "\n",
    "* Usually it work same as 'gini' but hardly in 2-3% cases it will improve the score of model"
   ]
  },
  {
   "cell_type": "code",
   "execution_count": 113,
   "id": "e55aa043",
   "metadata": {},
   "outputs": [],
   "source": [
    "classifier = DecisionTreeClassifier(criterion='entropy')"
   ]
  },
  {
   "cell_type": "code",
   "execution_count": 114,
   "id": "36615f0d",
   "metadata": {},
   "outputs": [
    {
     "data": {
      "text/plain": [
       "DecisionTreeClassifier(criterion='entropy')"
      ]
     },
     "execution_count": 114,
     "metadata": {},
     "output_type": "execute_result"
    }
   ],
   "source": [
    "classifier.fit(X_train,y_train)"
   ]
  },
  {
   "cell_type": "code",
   "execution_count": 115,
   "id": "d64c9e38",
   "metadata": {},
   "outputs": [
    {
     "data": {
      "text/plain": [
       "array([1, 1, 1])"
      ]
     },
     "execution_count": 115,
     "metadata": {},
     "output_type": "execute_result"
    }
   ],
   "source": [
    "classifier.predict(X_test)"
   ]
  },
  {
   "cell_type": "code",
   "execution_count": 116,
   "id": "7f33b1ff",
   "metadata": {},
   "outputs": [
    {
     "data": {
      "text/plain": [
       "1.0"
      ]
     },
     "execution_count": 116,
     "metadata": {},
     "output_type": "execute_result"
    }
   ],
   "source": [
    "classifier.score(X_test,y_test)"
   ]
  },
  {
   "cell_type": "code",
   "execution_count": 117,
   "id": "f30f0ebd",
   "metadata": {},
   "outputs": [
    {
     "name": "stderr",
     "output_type": "stream",
     "text": [
      "C:\\Users\\HP\\Anaconda3\\lib\\site-packages\\sklearn\\base.py:450: UserWarning: X does not have valid feature names, but DecisionTreeClassifier was fitted with feature names\n",
      "  warnings.warn(\n"
     ]
    },
    {
     "data": {
      "text/plain": [
       "array([1])"
      ]
     },
     "execution_count": 117,
     "metadata": {},
     "output_type": "execute_result"
    }
   ],
   "source": [
    "classifier.predict([[0,2,1]])"
   ]
  },
  {
   "cell_type": "markdown",
   "id": "d6db7583",
   "metadata": {},
   "source": [
    "0 = no , 1 = yes"
   ]
  },
  {
   "cell_type": "code",
   "execution_count": 118,
   "id": "b33961d9",
   "metadata": {},
   "outputs": [
    {
     "data": {
      "text/plain": [
       "[Text(0.4444444444444444, 0.9, 'X[0] <= 0.5\\nentropy = 0.994\\nsamples = 11\\nvalue = [5, 6]'),\n",
       " Text(0.3333333333333333, 0.7, 'entropy = 0.0\\nsamples = 3\\nvalue = [0, 3]'),\n",
       " Text(0.5555555555555556, 0.7, 'X[1] <= 0.5\\nentropy = 0.954\\nsamples = 8\\nvalue = [5, 3]'),\n",
       " Text(0.3333333333333333, 0.5, 'X[0] <= 1.5\\nentropy = 0.722\\nsamples = 5\\nvalue = [4, 1]'),\n",
       " Text(0.2222222222222222, 0.3, 'X[2] <= 0.5\\nentropy = 1.0\\nsamples = 2\\nvalue = [1, 1]'),\n",
       " Text(0.1111111111111111, 0.1, 'entropy = 0.0\\nsamples = 1\\nvalue = [1, 0]'),\n",
       " Text(0.3333333333333333, 0.1, 'entropy = 0.0\\nsamples = 1\\nvalue = [0, 1]'),\n",
       " Text(0.4444444444444444, 0.3, 'entropy = 0.0\\nsamples = 3\\nvalue = [3, 0]'),\n",
       " Text(0.7777777777777778, 0.5, 'X[0] <= 1.5\\nentropy = 0.918\\nsamples = 3\\nvalue = [1, 2]'),\n",
       " Text(0.6666666666666666, 0.3, 'X[2] <= 0.5\\nentropy = 1.0\\nsamples = 2\\nvalue = [1, 1]'),\n",
       " Text(0.5555555555555556, 0.1, 'entropy = 0.0\\nsamples = 1\\nvalue = [1, 0]'),\n",
       " Text(0.7777777777777778, 0.1, 'entropy = 0.0\\nsamples = 1\\nvalue = [0, 1]'),\n",
       " Text(0.8888888888888888, 0.3, 'entropy = 0.0\\nsamples = 1\\nvalue = [0, 1]')]"
      ]
     },
     "execution_count": 118,
     "metadata": {},
     "output_type": "execute_result"
    }
   ],
   "source": [
    "# Decision Tree Chart\n",
    "\n",
    "from sklearn import tree \n",
    "tree.plot_tree(classifier)"
   ]
  },
  {
   "cell_type": "markdown",
   "id": "10283bd6",
   "metadata": {},
   "source": [
    "'gini' parameter is much efficient than 'entropy' in terms of computing power\n"
   ]
  },
  {
   "cell_type": "markdown",
   "id": "5c9f51b2",
   "metadata": {},
   "source": [
    "# What is Random Forest Algoritm?\n",
    "\n",
    "\n",
    "* Random Forest is a machine learning algorithm based on supervised learning, that cab be used for both Regression and Classification problems.\n",
    "\n",
    "\n",
    "* It is a collection of multiple random decision trees, which is called the forest.\n",
    "\n",
    "\n",
    "* When multiple decision trees comes together it will form Random Forest.\n",
    "\n",
    "\n",
    "* It will have better accuracy and efficient performance than decision tree but it will take more time.\n",
    "\n",
    "\n",
    "* It will create multiple decision trees of same data and every single decision tree makes output then it will count decisions of all decision trees and based on them it will give us a single output which is more efficient and accurate.\n"
   ]
  },
  {
   "cell_type": "markdown",
   "id": "50b9a49b",
   "metadata": {},
   "source": [
    "# Use of Random Forest Algoritm in real world :-\n",
    "\n",
    "\n",
    "* Random forest is used on the job by data scientists in many industries including banking, stock trading, medicine, and e-commerce.\n",
    "\n",
    "\n",
    "* It's used to predict the things which help these industries run efficiently, such as customer activity, patient history, and safety."
   ]
  },
  {
   "cell_type": "code",
   "execution_count": 119,
   "id": "16d69ce6",
   "metadata": {},
   "outputs": [
    {
     "data": {
      "text/html": [
       "<div>\n",
       "<style scoped>\n",
       "    .dataframe tbody tr th:only-of-type {\n",
       "        vertical-align: middle;\n",
       "    }\n",
       "\n",
       "    .dataframe tbody tr th {\n",
       "        vertical-align: top;\n",
       "    }\n",
       "\n",
       "    .dataframe thead th {\n",
       "        text-align: right;\n",
       "    }\n",
       "</style>\n",
       "<table border=\"1\" class=\"dataframe\">\n",
       "  <thead>\n",
       "    <tr style=\"text-align: right;\">\n",
       "      <th></th>\n",
       "      <th>Id</th>\n",
       "      <th>SepalLengthCm</th>\n",
       "      <th>SepalWidthCm</th>\n",
       "      <th>PetalLengthCm</th>\n",
       "      <th>PetalWidthCm</th>\n",
       "      <th>Species</th>\n",
       "    </tr>\n",
       "  </thead>\n",
       "  <tbody>\n",
       "    <tr>\n",
       "      <th>0</th>\n",
       "      <td>1</td>\n",
       "      <td>5.1</td>\n",
       "      <td>3.5</td>\n",
       "      <td>1.4</td>\n",
       "      <td>0.2</td>\n",
       "      <td>Iris-setosa</td>\n",
       "    </tr>\n",
       "    <tr>\n",
       "      <th>1</th>\n",
       "      <td>2</td>\n",
       "      <td>4.9</td>\n",
       "      <td>3.0</td>\n",
       "      <td>1.4</td>\n",
       "      <td>0.2</td>\n",
       "      <td>Iris-setosa</td>\n",
       "    </tr>\n",
       "    <tr>\n",
       "      <th>2</th>\n",
       "      <td>3</td>\n",
       "      <td>4.7</td>\n",
       "      <td>3.2</td>\n",
       "      <td>1.3</td>\n",
       "      <td>0.2</td>\n",
       "      <td>Iris-setosa</td>\n",
       "    </tr>\n",
       "    <tr>\n",
       "      <th>3</th>\n",
       "      <td>4</td>\n",
       "      <td>4.6</td>\n",
       "      <td>3.1</td>\n",
       "      <td>1.5</td>\n",
       "      <td>0.2</td>\n",
       "      <td>Iris-setosa</td>\n",
       "    </tr>\n",
       "    <tr>\n",
       "      <th>4</th>\n",
       "      <td>5</td>\n",
       "      <td>5.0</td>\n",
       "      <td>3.6</td>\n",
       "      <td>1.4</td>\n",
       "      <td>0.2</td>\n",
       "      <td>Iris-setosa</td>\n",
       "    </tr>\n",
       "  </tbody>\n",
       "</table>\n",
       "</div>"
      ],
      "text/plain": [
       "   Id  SepalLengthCm  SepalWidthCm  PetalLengthCm  PetalWidthCm      Species\n",
       "0   1            5.1           3.5            1.4           0.2  Iris-setosa\n",
       "1   2            4.9           3.0            1.4           0.2  Iris-setosa\n",
       "2   3            4.7           3.2            1.3           0.2  Iris-setosa\n",
       "3   4            4.6           3.1            1.5           0.2  Iris-setosa\n",
       "4   5            5.0           3.6            1.4           0.2  Iris-setosa"
      ]
     },
     "execution_count": 119,
     "metadata": {},
     "output_type": "execute_result"
    }
   ],
   "source": [
    "df = pd.read_csv(r'C:\\Users\\HP\\Desktop\\Data Science\\Data Sets For Practice\\iris.csv')\n",
    "df.head()"
   ]
  },
  {
   "cell_type": "code",
   "execution_count": 120,
   "id": "7167d1cb",
   "metadata": {},
   "outputs": [],
   "source": [
    "df.Species.replace({'Iris-setosa':'0','Iris-versicolor':'1','Iris-virginica':'2'},inplace=True)"
   ]
  },
  {
   "cell_type": "code",
   "execution_count": 121,
   "id": "e73d9e5f",
   "metadata": {},
   "outputs": [
    {
     "data": {
      "text/html": [
       "<div>\n",
       "<style scoped>\n",
       "    .dataframe tbody tr th:only-of-type {\n",
       "        vertical-align: middle;\n",
       "    }\n",
       "\n",
       "    .dataframe tbody tr th {\n",
       "        vertical-align: top;\n",
       "    }\n",
       "\n",
       "    .dataframe thead th {\n",
       "        text-align: right;\n",
       "    }\n",
       "</style>\n",
       "<table border=\"1\" class=\"dataframe\">\n",
       "  <thead>\n",
       "    <tr style=\"text-align: right;\">\n",
       "      <th></th>\n",
       "      <th>SepalLengthCm</th>\n",
       "      <th>SepalWidthCm</th>\n",
       "      <th>PetalLengthCm</th>\n",
       "      <th>PetalWidthCm</th>\n",
       "    </tr>\n",
       "  </thead>\n",
       "  <tbody>\n",
       "    <tr>\n",
       "      <th>0</th>\n",
       "      <td>5.1</td>\n",
       "      <td>3.5</td>\n",
       "      <td>1.4</td>\n",
       "      <td>0.2</td>\n",
       "    </tr>\n",
       "    <tr>\n",
       "      <th>1</th>\n",
       "      <td>4.9</td>\n",
       "      <td>3.0</td>\n",
       "      <td>1.4</td>\n",
       "      <td>0.2</td>\n",
       "    </tr>\n",
       "    <tr>\n",
       "      <th>2</th>\n",
       "      <td>4.7</td>\n",
       "      <td>3.2</td>\n",
       "      <td>1.3</td>\n",
       "      <td>0.2</td>\n",
       "    </tr>\n",
       "    <tr>\n",
       "      <th>3</th>\n",
       "      <td>4.6</td>\n",
       "      <td>3.1</td>\n",
       "      <td>1.5</td>\n",
       "      <td>0.2</td>\n",
       "    </tr>\n",
       "    <tr>\n",
       "      <th>4</th>\n",
       "      <td>5.0</td>\n",
       "      <td>3.6</td>\n",
       "      <td>1.4</td>\n",
       "      <td>0.2</td>\n",
       "    </tr>\n",
       "    <tr>\n",
       "      <th>...</th>\n",
       "      <td>...</td>\n",
       "      <td>...</td>\n",
       "      <td>...</td>\n",
       "      <td>...</td>\n",
       "    </tr>\n",
       "    <tr>\n",
       "      <th>145</th>\n",
       "      <td>6.7</td>\n",
       "      <td>3.0</td>\n",
       "      <td>5.2</td>\n",
       "      <td>2.3</td>\n",
       "    </tr>\n",
       "    <tr>\n",
       "      <th>146</th>\n",
       "      <td>6.3</td>\n",
       "      <td>2.5</td>\n",
       "      <td>5.0</td>\n",
       "      <td>1.9</td>\n",
       "    </tr>\n",
       "    <tr>\n",
       "      <th>147</th>\n",
       "      <td>6.5</td>\n",
       "      <td>3.0</td>\n",
       "      <td>5.2</td>\n",
       "      <td>2.0</td>\n",
       "    </tr>\n",
       "    <tr>\n",
       "      <th>148</th>\n",
       "      <td>6.2</td>\n",
       "      <td>3.4</td>\n",
       "      <td>5.4</td>\n",
       "      <td>2.3</td>\n",
       "    </tr>\n",
       "    <tr>\n",
       "      <th>149</th>\n",
       "      <td>5.9</td>\n",
       "      <td>3.0</td>\n",
       "      <td>5.1</td>\n",
       "      <td>1.8</td>\n",
       "    </tr>\n",
       "  </tbody>\n",
       "</table>\n",
       "<p>150 rows × 4 columns</p>\n",
       "</div>"
      ],
      "text/plain": [
       "     SepalLengthCm  SepalWidthCm  PetalLengthCm  PetalWidthCm\n",
       "0              5.1           3.5            1.4           0.2\n",
       "1              4.9           3.0            1.4           0.2\n",
       "2              4.7           3.2            1.3           0.2\n",
       "3              4.6           3.1            1.5           0.2\n",
       "4              5.0           3.6            1.4           0.2\n",
       "..             ...           ...            ...           ...\n",
       "145            6.7           3.0            5.2           2.3\n",
       "146            6.3           2.5            5.0           1.9\n",
       "147            6.5           3.0            5.2           2.0\n",
       "148            6.2           3.4            5.4           2.3\n",
       "149            5.9           3.0            5.1           1.8\n",
       "\n",
       "[150 rows x 4 columns]"
      ]
     },
     "execution_count": 121,
     "metadata": {},
     "output_type": "execute_result"
    }
   ],
   "source": [
    "X = df.iloc[:,1:5]\n",
    "X"
   ]
  },
  {
   "cell_type": "code",
   "execution_count": 122,
   "id": "99d93769",
   "metadata": {},
   "outputs": [
    {
     "data": {
      "text/html": [
       "<div>\n",
       "<style scoped>\n",
       "    .dataframe tbody tr th:only-of-type {\n",
       "        vertical-align: middle;\n",
       "    }\n",
       "\n",
       "    .dataframe tbody tr th {\n",
       "        vertical-align: top;\n",
       "    }\n",
       "\n",
       "    .dataframe thead th {\n",
       "        text-align: right;\n",
       "    }\n",
       "</style>\n",
       "<table border=\"1\" class=\"dataframe\">\n",
       "  <thead>\n",
       "    <tr style=\"text-align: right;\">\n",
       "      <th></th>\n",
       "      <th>Species</th>\n",
       "    </tr>\n",
       "  </thead>\n",
       "  <tbody>\n",
       "    <tr>\n",
       "      <th>0</th>\n",
       "      <td>0</td>\n",
       "    </tr>\n",
       "    <tr>\n",
       "      <th>1</th>\n",
       "      <td>0</td>\n",
       "    </tr>\n",
       "    <tr>\n",
       "      <th>2</th>\n",
       "      <td>0</td>\n",
       "    </tr>\n",
       "    <tr>\n",
       "      <th>3</th>\n",
       "      <td>0</td>\n",
       "    </tr>\n",
       "    <tr>\n",
       "      <th>4</th>\n",
       "      <td>0</td>\n",
       "    </tr>\n",
       "    <tr>\n",
       "      <th>...</th>\n",
       "      <td>...</td>\n",
       "    </tr>\n",
       "    <tr>\n",
       "      <th>145</th>\n",
       "      <td>2</td>\n",
       "    </tr>\n",
       "    <tr>\n",
       "      <th>146</th>\n",
       "      <td>2</td>\n",
       "    </tr>\n",
       "    <tr>\n",
       "      <th>147</th>\n",
       "      <td>2</td>\n",
       "    </tr>\n",
       "    <tr>\n",
       "      <th>148</th>\n",
       "      <td>2</td>\n",
       "    </tr>\n",
       "    <tr>\n",
       "      <th>149</th>\n",
       "      <td>2</td>\n",
       "    </tr>\n",
       "  </tbody>\n",
       "</table>\n",
       "<p>150 rows × 1 columns</p>\n",
       "</div>"
      ],
      "text/plain": [
       "    Species\n",
       "0         0\n",
       "1         0\n",
       "2         0\n",
       "3         0\n",
       "4         0\n",
       "..      ...\n",
       "145       2\n",
       "146       2\n",
       "147       2\n",
       "148       2\n",
       "149       2\n",
       "\n",
       "[150 rows x 1 columns]"
      ]
     },
     "execution_count": 122,
     "metadata": {},
     "output_type": "execute_result"
    }
   ],
   "source": [
    "y=df.iloc[:,5:6]\n",
    "y"
   ]
  },
  {
   "cell_type": "code",
   "execution_count": 123,
   "id": "7baa84a4",
   "metadata": {},
   "outputs": [],
   "source": [
    "from sklearn.model_selection import train_test_split\n",
    "\n",
    "X_train,X_test,y_train,y_test = train_test_split(X,y,test_size=0.3,random_state=0)"
   ]
  },
  {
   "cell_type": "code",
   "execution_count": 124,
   "id": "ffd8e71e",
   "metadata": {},
   "outputs": [],
   "source": [
    "from sklearn.ensemble import RandomForestClassifier"
   ]
  },
  {
   "cell_type": "code",
   "execution_count": 125,
   "id": "a8defa84",
   "metadata": {},
   "outputs": [],
   "source": [
    "# n_estimators=100 means no. of trees created. By default it is 100\n",
    "# criterion='gini'/'entropy' these are splitting techniques\n",
    "\n",
    "clf = RandomForestClassifier(n_estimators=100,criterion='gini') "
   ]
  },
  {
   "cell_type": "code",
   "execution_count": 126,
   "id": "c478e147",
   "metadata": {},
   "outputs": [
    {
     "name": "stderr",
     "output_type": "stream",
     "text": [
      "C:\\Users\\HP\\AppData\\Local\\Temp\\ipykernel_4140\\993133242.py:1: DataConversionWarning: A column-vector y was passed when a 1d array was expected. Please change the shape of y to (n_samples,), for example using ravel().\n",
      "  clf.fit(X_train,y_train)\n"
     ]
    },
    {
     "data": {
      "text/plain": [
       "RandomForestClassifier()"
      ]
     },
     "execution_count": 126,
     "metadata": {},
     "output_type": "execute_result"
    }
   ],
   "source": [
    "clf.fit(X_train,y_train)"
   ]
  },
  {
   "cell_type": "code",
   "execution_count": 127,
   "id": "5c6b5a19",
   "metadata": {},
   "outputs": [
    {
     "data": {
      "text/plain": [
       "array(['2', '1', '0', '2', '0', '2', '0', '1', '1', '1', '2', '1', '1',\n",
       "       '1', '1', '0', '1', '1', '0', '0', '2', '1', '0', '0', '2', '0',\n",
       "       '0', '1', '1', '0', '2', '1', '0', '2', '2', '1', '0', '2', '1',\n",
       "       '1', '2', '0', '2', '0', '0'], dtype=object)"
      ]
     },
     "execution_count": 127,
     "metadata": {},
     "output_type": "execute_result"
    }
   ],
   "source": [
    "clf.predict(X_test)"
   ]
  },
  {
   "cell_type": "code",
   "execution_count": 128,
   "id": "cc1aed74",
   "metadata": {},
   "outputs": [
    {
     "data": {
      "text/html": [
       "<div>\n",
       "<style scoped>\n",
       "    .dataframe tbody tr th:only-of-type {\n",
       "        vertical-align: middle;\n",
       "    }\n",
       "\n",
       "    .dataframe tbody tr th {\n",
       "        vertical-align: top;\n",
       "    }\n",
       "\n",
       "    .dataframe thead th {\n",
       "        text-align: right;\n",
       "    }\n",
       "</style>\n",
       "<table border=\"1\" class=\"dataframe\">\n",
       "  <thead>\n",
       "    <tr style=\"text-align: right;\">\n",
       "      <th></th>\n",
       "      <th>SepalLengthCm</th>\n",
       "      <th>SepalWidthCm</th>\n",
       "      <th>PetalLengthCm</th>\n",
       "      <th>PetalWidthCm</th>\n",
       "    </tr>\n",
       "  </thead>\n",
       "  <tbody>\n",
       "    <tr>\n",
       "      <th>114</th>\n",
       "      <td>5.8</td>\n",
       "      <td>2.8</td>\n",
       "      <td>5.1</td>\n",
       "      <td>2.4</td>\n",
       "    </tr>\n",
       "    <tr>\n",
       "      <th>62</th>\n",
       "      <td>6.0</td>\n",
       "      <td>2.2</td>\n",
       "      <td>4.0</td>\n",
       "      <td>1.0</td>\n",
       "    </tr>\n",
       "    <tr>\n",
       "      <th>33</th>\n",
       "      <td>5.5</td>\n",
       "      <td>4.2</td>\n",
       "      <td>1.4</td>\n",
       "      <td>0.2</td>\n",
       "    </tr>\n",
       "    <tr>\n",
       "      <th>107</th>\n",
       "      <td>7.3</td>\n",
       "      <td>2.9</td>\n",
       "      <td>6.3</td>\n",
       "      <td>1.8</td>\n",
       "    </tr>\n",
       "    <tr>\n",
       "      <th>7</th>\n",
       "      <td>5.0</td>\n",
       "      <td>3.4</td>\n",
       "      <td>1.5</td>\n",
       "      <td>0.2</td>\n",
       "    </tr>\n",
       "  </tbody>\n",
       "</table>\n",
       "</div>"
      ],
      "text/plain": [
       "     SepalLengthCm  SepalWidthCm  PetalLengthCm  PetalWidthCm\n",
       "114            5.8           2.8            5.1           2.4\n",
       "62             6.0           2.2            4.0           1.0\n",
       "33             5.5           4.2            1.4           0.2\n",
       "107            7.3           2.9            6.3           1.8\n",
       "7              5.0           3.4            1.5           0.2"
      ]
     },
     "execution_count": 128,
     "metadata": {},
     "output_type": "execute_result"
    }
   ],
   "source": [
    "X_test.head()            # ('Iris-setosa':'0','Iris-versicolor':'1','Iris-virginica':'2')"
   ]
  },
  {
   "cell_type": "code",
   "execution_count": 129,
   "id": "c7aefdaa",
   "metadata": {},
   "outputs": [
    {
     "data": {
      "text/plain": [
       "0.9777777777777777"
      ]
     },
     "execution_count": 129,
     "metadata": {},
     "output_type": "execute_result"
    }
   ],
   "source": [
    "clf.score(X_test,y_test)"
   ]
  },
  {
   "cell_type": "markdown",
   "id": "fcaea11f",
   "metadata": {},
   "source": [
    "As you see our model is working properly with 97.7% accuracy."
   ]
  },
  {
   "cell_type": "code",
   "execution_count": 130,
   "id": "31c2cc8d",
   "metadata": {},
   "outputs": [
    {
     "name": "stderr",
     "output_type": "stream",
     "text": [
      "C:\\Users\\HP\\Anaconda3\\lib\\site-packages\\sklearn\\base.py:450: UserWarning: X does not have valid feature names, but RandomForestClassifier was fitted with feature names\n",
      "  warnings.warn(\n"
     ]
    },
    {
     "data": {
      "text/plain": [
       "array(['1'], dtype=object)"
      ]
     },
     "execution_count": 130,
     "metadata": {},
     "output_type": "execute_result"
    }
   ],
   "source": [
    "clf.predict([[3,5,4,2]])"
   ]
  },
  {
   "cell_type": "code",
   "execution_count": 131,
   "id": "a99f37dd",
   "metadata": {},
   "outputs": [
    {
     "name": "stderr",
     "output_type": "stream",
     "text": [
      "C:\\Users\\HP\\Anaconda3\\lib\\site-packages\\sklearn\\base.py:450: UserWarning: X does not have valid feature names, but RandomForestClassifier was fitted with feature names\n",
      "  warnings.warn(\n"
     ]
    },
    {
     "data": {
      "text/plain": [
       "array(['0'], dtype=object)"
      ]
     },
     "execution_count": 131,
     "metadata": {},
     "output_type": "execute_result"
    }
   ],
   "source": [
    "clf.predict([[3,3,2,2]])"
   ]
  },
  {
   "cell_type": "markdown",
   "id": "05650c39",
   "metadata": {},
   "source": [
    "### How to check important features for model building from dataset"
   ]
  },
  {
   "cell_type": "code",
   "execution_count": 132,
   "id": "18f47611",
   "metadata": {},
   "outputs": [],
   "source": [
    "imp_features = pd.Series(clf.feature_importances_).sort_values(ascending=False)"
   ]
  },
  {
   "cell_type": "code",
   "execution_count": 133,
   "id": "96c329ff",
   "metadata": {},
   "outputs": [
    {
     "data": {
      "text/plain": [
       "2    0.469123\n",
       "3    0.406087\n",
       "0    0.099936\n",
       "1    0.024855\n",
       "dtype: float64"
      ]
     },
     "execution_count": 133,
     "metadata": {},
     "output_type": "execute_result"
    }
   ],
   "source": [
    "imp_features # ('SepalLengthCm':0, 'SepalWidthCm':1, 'PetalLengthCm':2, 'PetalWidthCm':3)"
   ]
  },
  {
   "cell_type": "markdown",
   "id": "978a5b28",
   "metadata": {},
   "source": [
    "0,1,2,3 are column index "
   ]
  },
  {
   "cell_type": "markdown",
   "id": "9a7b6e6e",
   "metadata": {},
   "source": [
    "## Remove the least important feature then build a new model and check their accuracy"
   ]
  },
  {
   "cell_type": "code",
   "execution_count": 134,
   "id": "c7ff5d07",
   "metadata": {},
   "outputs": [
    {
     "data": {
      "text/html": [
       "<div>\n",
       "<style scoped>\n",
       "    .dataframe tbody tr th:only-of-type {\n",
       "        vertical-align: middle;\n",
       "    }\n",
       "\n",
       "    .dataframe tbody tr th {\n",
       "        vertical-align: top;\n",
       "    }\n",
       "\n",
       "    .dataframe thead th {\n",
       "        text-align: right;\n",
       "    }\n",
       "</style>\n",
       "<table border=\"1\" class=\"dataframe\">\n",
       "  <thead>\n",
       "    <tr style=\"text-align: right;\">\n",
       "      <th></th>\n",
       "      <th>SepalLengthCm</th>\n",
       "      <th>PetalLengthCm</th>\n",
       "      <th>PetalWidthCm</th>\n",
       "    </tr>\n",
       "  </thead>\n",
       "  <tbody>\n",
       "    <tr>\n",
       "      <th>0</th>\n",
       "      <td>5.1</td>\n",
       "      <td>1.4</td>\n",
       "      <td>0.2</td>\n",
       "    </tr>\n",
       "    <tr>\n",
       "      <th>1</th>\n",
       "      <td>4.9</td>\n",
       "      <td>1.4</td>\n",
       "      <td>0.2</td>\n",
       "    </tr>\n",
       "    <tr>\n",
       "      <th>2</th>\n",
       "      <td>4.7</td>\n",
       "      <td>1.3</td>\n",
       "      <td>0.2</td>\n",
       "    </tr>\n",
       "    <tr>\n",
       "      <th>3</th>\n",
       "      <td>4.6</td>\n",
       "      <td>1.5</td>\n",
       "      <td>0.2</td>\n",
       "    </tr>\n",
       "    <tr>\n",
       "      <th>4</th>\n",
       "      <td>5.0</td>\n",
       "      <td>1.4</td>\n",
       "      <td>0.2</td>\n",
       "    </tr>\n",
       "    <tr>\n",
       "      <th>...</th>\n",
       "      <td>...</td>\n",
       "      <td>...</td>\n",
       "      <td>...</td>\n",
       "    </tr>\n",
       "    <tr>\n",
       "      <th>145</th>\n",
       "      <td>6.7</td>\n",
       "      <td>5.2</td>\n",
       "      <td>2.3</td>\n",
       "    </tr>\n",
       "    <tr>\n",
       "      <th>146</th>\n",
       "      <td>6.3</td>\n",
       "      <td>5.0</td>\n",
       "      <td>1.9</td>\n",
       "    </tr>\n",
       "    <tr>\n",
       "      <th>147</th>\n",
       "      <td>6.5</td>\n",
       "      <td>5.2</td>\n",
       "      <td>2.0</td>\n",
       "    </tr>\n",
       "    <tr>\n",
       "      <th>148</th>\n",
       "      <td>6.2</td>\n",
       "      <td>5.4</td>\n",
       "      <td>2.3</td>\n",
       "    </tr>\n",
       "    <tr>\n",
       "      <th>149</th>\n",
       "      <td>5.9</td>\n",
       "      <td>5.1</td>\n",
       "      <td>1.8</td>\n",
       "    </tr>\n",
       "  </tbody>\n",
       "</table>\n",
       "<p>150 rows × 3 columns</p>\n",
       "</div>"
      ],
      "text/plain": [
       "     SepalLengthCm  PetalLengthCm  PetalWidthCm\n",
       "0              5.1            1.4           0.2\n",
       "1              4.9            1.4           0.2\n",
       "2              4.7            1.3           0.2\n",
       "3              4.6            1.5           0.2\n",
       "4              5.0            1.4           0.2\n",
       "..             ...            ...           ...\n",
       "145            6.7            5.2           2.3\n",
       "146            6.3            5.0           1.9\n",
       "147            6.5            5.2           2.0\n",
       "148            6.2            5.4           2.3\n",
       "149            5.9            5.1           1.8\n",
       "\n",
       "[150 rows x 3 columns]"
      ]
     },
     "execution_count": 134,
     "metadata": {},
     "output_type": "execute_result"
    }
   ],
   "source": [
    "x  = df[['SepalLengthCm', 'PetalLengthCm', 'PetalWidthCm']]\n",
    "x"
   ]
  },
  {
   "cell_type": "code",
   "execution_count": 135,
   "id": "4c9f4537",
   "metadata": {},
   "outputs": [
    {
     "data": {
      "text/plain": [
       "0      0\n",
       "1      0\n",
       "2      0\n",
       "3      0\n",
       "4      0\n",
       "      ..\n",
       "145    2\n",
       "146    2\n",
       "147    2\n",
       "148    2\n",
       "149    2\n",
       "Name: Species, Length: 150, dtype: object"
      ]
     },
     "execution_count": 135,
     "metadata": {},
     "output_type": "execute_result"
    }
   ],
   "source": [
    "y = df['Species']\n",
    "y"
   ]
  },
  {
   "cell_type": "code",
   "execution_count": 136,
   "id": "aefb3b45",
   "metadata": {},
   "outputs": [],
   "source": [
    "X_train,X_test,y_train,y_split = train_test_split(x,y,test_size=0.3,random_state=0)"
   ]
  },
  {
   "cell_type": "code",
   "execution_count": 137,
   "id": "b09728a9",
   "metadata": {},
   "outputs": [],
   "source": [
    "clf = RandomForestClassifier()"
   ]
  },
  {
   "cell_type": "code",
   "execution_count": 138,
   "id": "73b60bc6",
   "metadata": {},
   "outputs": [
    {
     "data": {
      "text/plain": [
       "RandomForestClassifier()"
      ]
     },
     "execution_count": 138,
     "metadata": {},
     "output_type": "execute_result"
    }
   ],
   "source": [
    "clf.fit(X_train,y_train)"
   ]
  },
  {
   "cell_type": "code",
   "execution_count": 139,
   "id": "79aea01a",
   "metadata": {},
   "outputs": [
    {
     "data": {
      "text/plain": [
       "array(['2', '1', '0', '2', '0', '2', '0', '1', '1', '1', '2', '1', '1',\n",
       "       '1', '1', '0', '1', '1', '0', '0', '2', '1', '0', '0', '2', '0',\n",
       "       '0', '1', '1', '0', '2', '1', '0', '2', '2', '1', '0', '2', '1',\n",
       "       '1', '2', '0', '2', '0', '0'], dtype=object)"
      ]
     },
     "execution_count": 139,
     "metadata": {},
     "output_type": "execute_result"
    }
   ],
   "source": [
    "clf.predict(X_test)"
   ]
  },
  {
   "cell_type": "code",
   "execution_count": 140,
   "id": "b417e4c2",
   "metadata": {},
   "outputs": [
    {
     "data": {
      "text/plain": [
       "0.9777777777777777"
      ]
     },
     "execution_count": 140,
     "metadata": {},
     "output_type": "execute_result"
    }
   ],
   "source": [
    "clf.score(X_test,y_test)"
   ]
  },
  {
   "cell_type": "markdown",
   "id": "e963747e",
   "metadata": {},
   "source": [
    "As you see there is no differnce in accuracy of model but when we try it on large data set it will improve the accuracy score of model"
   ]
  },
  {
   "cell_type": "code",
   "execution_count": 141,
   "id": "c4258aa4",
   "metadata": {},
   "outputs": [
    {
     "name": "stderr",
     "output_type": "stream",
     "text": [
      "C:\\Users\\HP\\Anaconda3\\lib\\site-packages\\sklearn\\base.py:450: UserWarning: X does not have valid feature names, but RandomForestClassifier was fitted with feature names\n",
      "  warnings.warn(\n"
     ]
    },
    {
     "data": {
      "text/plain": [
       "array(['0'], dtype=object)"
      ]
     },
     "execution_count": 141,
     "metadata": {},
     "output_type": "execute_result"
    }
   ],
   "source": [
    "clf.predict([[3,2,0]])"
   ]
  },
  {
   "cell_type": "markdown",
   "id": "a3c7f9df",
   "metadata": {},
   "source": [
    "# What is Naive Byes Classifier Algorithm?\n",
    "\n",
    "\n",
    "* Naive Byes Classifier is Machine Learning Algorithm based on supervised learning , that can be used for solving classifing problems.\n",
    "\n",
    "\n",
    "* It is a probabilistics classifier, which means it predicts on the basis of probability of an object."
   ]
  },
  {
   "cell_type": "markdown",
   "id": "19f77a3f",
   "metadata": {},
   "source": [
    "# Why the name Naive Byes?\n",
    "\n",
    "It comprises of two words naive and byes :-\n",
    "\n",
    "\n",
    "* Naive :- It is called naive because it makes the assumption that all attributes are independent of each other.\n",
    "\n",
    "\n",
    "* Byes :- It's called byes because it depends on the principle of baye's Theorem.\n"
   ]
  },
  {
   "cell_type": "markdown",
   "id": "94d1e4cc",
   "metadata": {},
   "source": [
    "# Where Naive Byes Algorithm use in real world?\n",
    "\n",
    "* Naive Bayes is mostly used in real-world applications like sentiment analysis, spam filtering, recommendation systems, etc. They are extremely fast and easy to implement as compared to other machine learning models.\n",
    "\n",
    "\n",
    "* Use to make face recognising model use in mobile phones and many other places.\n",
    "\n",
    "\n",
    "* Use to make a model which predicts weather.\n",
    "\n",
    "\n",
    "* Online News platforms use naive byes like google news which use into categorizing the news. Eg:- It differenciate the news into categories like sports news, financial news, crime news, political news, etc."
   ]
  },
  {
   "cell_type": "code",
   "execution_count": 146,
   "id": "eb7309cd",
   "metadata": {},
   "outputs": [
    {
     "data": {
      "text/html": [
       "<div>\n",
       "<style scoped>\n",
       "    .dataframe tbody tr th:only-of-type {\n",
       "        vertical-align: middle;\n",
       "    }\n",
       "\n",
       "    .dataframe tbody tr th {\n",
       "        vertical-align: top;\n",
       "    }\n",
       "\n",
       "    .dataframe thead th {\n",
       "        text-align: right;\n",
       "    }\n",
       "</style>\n",
       "<table border=\"1\" class=\"dataframe\">\n",
       "  <thead>\n",
       "    <tr style=\"text-align: right;\">\n",
       "      <th></th>\n",
       "      <th>User ID</th>\n",
       "      <th>Gender</th>\n",
       "      <th>Age</th>\n",
       "      <th>EstimatedSalary</th>\n",
       "      <th>Purchased</th>\n",
       "    </tr>\n",
       "  </thead>\n",
       "  <tbody>\n",
       "    <tr>\n",
       "      <th>0</th>\n",
       "      <td>15624510</td>\n",
       "      <td>Male</td>\n",
       "      <td>19</td>\n",
       "      <td>19000</td>\n",
       "      <td>0</td>\n",
       "    </tr>\n",
       "    <tr>\n",
       "      <th>1</th>\n",
       "      <td>15810944</td>\n",
       "      <td>Male</td>\n",
       "      <td>35</td>\n",
       "      <td>20000</td>\n",
       "      <td>0</td>\n",
       "    </tr>\n",
       "    <tr>\n",
       "      <th>2</th>\n",
       "      <td>15668575</td>\n",
       "      <td>Female</td>\n",
       "      <td>26</td>\n",
       "      <td>43000</td>\n",
       "      <td>0</td>\n",
       "    </tr>\n",
       "    <tr>\n",
       "      <th>3</th>\n",
       "      <td>15603246</td>\n",
       "      <td>Female</td>\n",
       "      <td>27</td>\n",
       "      <td>57000</td>\n",
       "      <td>0</td>\n",
       "    </tr>\n",
       "    <tr>\n",
       "      <th>4</th>\n",
       "      <td>15804002</td>\n",
       "      <td>Male</td>\n",
       "      <td>19</td>\n",
       "      <td>76000</td>\n",
       "      <td>0</td>\n",
       "    </tr>\n",
       "  </tbody>\n",
       "</table>\n",
       "</div>"
      ],
      "text/plain": [
       "    User ID  Gender  Age  EstimatedSalary  Purchased\n",
       "0  15624510    Male   19            19000          0\n",
       "1  15810944    Male   35            20000          0\n",
       "2  15668575  Female   26            43000          0\n",
       "3  15603246  Female   27            57000          0\n",
       "4  15804002    Male   19            76000          0"
      ]
     },
     "execution_count": 146,
     "metadata": {},
     "output_type": "execute_result"
    }
   ],
   "source": [
    "df = pd.read_csv(r\"C:\\Users\\HP\\Desktop\\Data Science\\Data Sets For Practice\\Social_Network_Ads.csv\")\n",
    "df.head()"
   ]
  },
  {
   "cell_type": "code",
   "execution_count": 147,
   "id": "8cf24f8b",
   "metadata": {},
   "outputs": [
    {
     "data": {
      "text/plain": [
       "(400, 5)"
      ]
     },
     "execution_count": 147,
     "metadata": {},
     "output_type": "execute_result"
    }
   ],
   "source": [
    "df.shape"
   ]
  },
  {
   "cell_type": "code",
   "execution_count": 185,
   "id": "a1ce91f8",
   "metadata": {},
   "outputs": [
    {
     "data": {
      "text/html": [
       "<div>\n",
       "<style scoped>\n",
       "    .dataframe tbody tr th:only-of-type {\n",
       "        vertical-align: middle;\n",
       "    }\n",
       "\n",
       "    .dataframe tbody tr th {\n",
       "        vertical-align: top;\n",
       "    }\n",
       "\n",
       "    .dataframe thead th {\n",
       "        text-align: right;\n",
       "    }\n",
       "</style>\n",
       "<table border=\"1\" class=\"dataframe\">\n",
       "  <thead>\n",
       "    <tr style=\"text-align: right;\">\n",
       "      <th></th>\n",
       "      <th>Gender</th>\n",
       "      <th>Age</th>\n",
       "      <th>EstimatedSalary</th>\n",
       "    </tr>\n",
       "  </thead>\n",
       "  <tbody>\n",
       "    <tr>\n",
       "      <th>0</th>\n",
       "      <td>Male</td>\n",
       "      <td>19</td>\n",
       "      <td>19000</td>\n",
       "    </tr>\n",
       "    <tr>\n",
       "      <th>1</th>\n",
       "      <td>Male</td>\n",
       "      <td>35</td>\n",
       "      <td>20000</td>\n",
       "    </tr>\n",
       "    <tr>\n",
       "      <th>2</th>\n",
       "      <td>Female</td>\n",
       "      <td>26</td>\n",
       "      <td>43000</td>\n",
       "    </tr>\n",
       "    <tr>\n",
       "      <th>3</th>\n",
       "      <td>Female</td>\n",
       "      <td>27</td>\n",
       "      <td>57000</td>\n",
       "    </tr>\n",
       "    <tr>\n",
       "      <th>4</th>\n",
       "      <td>Male</td>\n",
       "      <td>19</td>\n",
       "      <td>76000</td>\n",
       "    </tr>\n",
       "  </tbody>\n",
       "</table>\n",
       "</div>"
      ],
      "text/plain": [
       "   Gender  Age  EstimatedSalary\n",
       "0    Male   19            19000\n",
       "1    Male   35            20000\n",
       "2  Female   26            43000\n",
       "3  Female   27            57000\n",
       "4    Male   19            76000"
      ]
     },
     "execution_count": 185,
     "metadata": {},
     "output_type": "execute_result"
    }
   ],
   "source": [
    "X = df.drop(['User ID','Purchased'],axis=1)\n",
    "X.head()"
   ]
  },
  {
   "cell_type": "markdown",
   "id": "464fda64",
   "metadata": {},
   "source": [
    "Convert this data set numpy array"
   ]
  },
  {
   "cell_type": "code",
   "execution_count": 186,
   "id": "8b8e68e4",
   "metadata": {},
   "outputs": [
    {
     "data": {
      "text/plain": [
       "array([['Male', 19, 19000],\n",
       "       ['Male', 35, 20000],\n",
       "       ['Female', 26, 43000],\n",
       "       ...,\n",
       "       ['Female', 50, 20000],\n",
       "       ['Male', 36, 33000],\n",
       "       ['Female', 49, 36000]], dtype=object)"
      ]
     },
     "execution_count": 186,
     "metadata": {},
     "output_type": "execute_result"
    }
   ],
   "source": [
    "X = df.drop(['User ID','Purchased'],axis=1).values\n",
    "X"
   ]
  },
  {
   "cell_type": "code",
   "execution_count": 157,
   "id": "73d4f7fd",
   "metadata": {},
   "outputs": [
    {
     "data": {
      "text/plain": [
       "array([0, 0, 0, 0, 0, 0, 0, 1, 0, 0, 0, 0, 0, 0, 0, 0, 1, 1, 1, 1, 1, 1,\n",
       "       1, 1, 1, 1, 1, 1, 0, 0, 0, 1, 0, 0, 0, 0, 0, 0, 0, 0, 0, 0, 0, 0,\n",
       "       0, 0, 0, 0, 1, 0, 0, 0, 0, 0, 0, 0, 0, 0, 0, 0, 0, 0, 0, 1, 0, 0,\n",
       "       0, 0, 0, 0, 0, 0, 0, 0, 0, 1, 0, 0, 0, 0, 0, 0, 0, 0, 0, 1, 0, 0,\n",
       "       0, 0, 0, 0, 0, 0, 0, 0, 0, 1, 0, 0, 0, 0, 0, 1, 0, 0, 0, 0, 0, 0,\n",
       "       0, 0, 0, 0, 0, 0, 0, 0, 0, 0, 0, 0, 0, 0, 0, 0, 0, 0, 0, 0, 0, 0,\n",
       "       0, 0, 0, 0, 0, 1, 0, 0, 0, 0, 0, 0, 0, 0, 1, 0, 0, 0, 0, 0, 0, 0,\n",
       "       0, 0, 0, 0, 0, 1, 1, 0, 0, 0, 0, 0, 0, 0, 1, 0, 0, 0, 0, 0, 0, 0,\n",
       "       0, 0, 0, 0, 0, 0, 1, 0, 0, 0, 0, 0, 0, 0, 0, 0, 0, 0, 0, 0, 0, 0,\n",
       "       0, 0, 0, 0, 1, 0, 1, 0, 1, 0, 1, 0, 1, 1, 0, 0, 0, 1, 0, 0, 0, 1,\n",
       "       0, 1, 1, 1, 0, 0, 1, 1, 0, 1, 1, 0, 1, 1, 0, 1, 0, 0, 0, 1, 1, 0,\n",
       "       1, 1, 0, 1, 0, 1, 0, 1, 0, 0, 1, 1, 0, 1, 0, 0, 1, 1, 0, 1, 1, 0,\n",
       "       1, 1, 0, 0, 1, 0, 0, 1, 1, 1, 1, 1, 0, 1, 1, 1, 1, 0, 1, 1, 0, 1,\n",
       "       0, 1, 0, 1, 1, 1, 1, 0, 0, 0, 1, 1, 0, 1, 1, 1, 1, 1, 0, 0, 0, 1,\n",
       "       1, 0, 0, 1, 0, 1, 0, 1, 1, 0, 1, 0, 1, 1, 0, 1, 1, 0, 0, 0, 1, 1,\n",
       "       0, 1, 0, 0, 1, 0, 1, 0, 0, 1, 1, 0, 0, 1, 1, 0, 1, 1, 0, 0, 1, 0,\n",
       "       1, 0, 1, 1, 1, 0, 1, 0, 1, 1, 1, 0, 1, 1, 1, 1, 0, 1, 1, 1, 0, 1,\n",
       "       0, 1, 0, 0, 1, 1, 0, 1, 1, 1, 1, 1, 1, 0, 1, 1, 1, 1, 1, 1, 0, 1,\n",
       "       1, 1, 0, 1], dtype=int64)"
      ]
     },
     "execution_count": 157,
     "metadata": {},
     "output_type": "execute_result"
    }
   ],
   "source": [
    "y = df['Purchased'].values\n",
    "y"
   ]
  },
  {
   "cell_type": "markdown",
   "id": "16e2b0c1",
   "metadata": {},
   "source": [
    "In Data Set 'Gender' column is in categorical form so we convert it into numerical"
   ]
  },
  {
   "cell_type": "code",
   "execution_count": 156,
   "id": "ad0f11df",
   "metadata": {},
   "outputs": [],
   "source": [
    "from sklearn.preprocessing import LabelEncoder\n",
    "\n",
    "le = LabelEncoder()"
   ]
  },
  {
   "cell_type": "code",
   "execution_count": 188,
   "id": "ac15ce56",
   "metadata": {},
   "outputs": [],
   "source": [
    "X[:,0] = le.fit_transform(X[:,0])"
   ]
  },
  {
   "cell_type": "code",
   "execution_count": 189,
   "id": "a1308172",
   "metadata": {},
   "outputs": [
    {
     "data": {
      "text/plain": [
       "array([[1, 19, 19000],\n",
       "       [1, 35, 20000],\n",
       "       [0, 26, 43000],\n",
       "       ...,\n",
       "       [0, 50, 20000],\n",
       "       [1, 36, 33000],\n",
       "       [0, 49, 36000]], dtype=object)"
      ]
     },
     "execution_count": 189,
     "metadata": {},
     "output_type": "execute_result"
    }
   ],
   "source": [
    "X"
   ]
  },
  {
   "cell_type": "code",
   "execution_count": 205,
   "id": "87d1fd1b",
   "metadata": {},
   "outputs": [],
   "source": [
    "from sklearn.model_selection import train_test_split\n",
    "\n",
    "X_train,X_test,y_train,y_test = train_test_split(X,y,test_size=0.3,random_state=0)"
   ]
  },
  {
   "cell_type": "code",
   "execution_count": 206,
   "id": "49bf212d",
   "metadata": {},
   "outputs": [],
   "source": [
    "from sklearn.naive_bayes import GaussianNB"
   ]
  },
  {
   "cell_type": "code",
   "execution_count": 207,
   "id": "13a37b60",
   "metadata": {},
   "outputs": [],
   "source": [
    "model = GaussianNB()"
   ]
  },
  {
   "cell_type": "code",
   "execution_count": 208,
   "id": "a153ec28",
   "metadata": {},
   "outputs": [
    {
     "data": {
      "text/plain": [
       "GaussianNB()"
      ]
     },
     "execution_count": 208,
     "metadata": {},
     "output_type": "execute_result"
    }
   ],
   "source": [
    "model.fit(X_train,y_train)"
   ]
  },
  {
   "cell_type": "code",
   "execution_count": 209,
   "id": "97664ebe",
   "metadata": {},
   "outputs": [
    {
     "data": {
      "text/plain": [
       "array([0, 0, 0, 0, 0, 0, 0, 1, 0, 1, 0, 0, 0, 0, 0, 0, 0, 0, 1, 0, 0, 1,\n",
       "       0, 1, 0, 1, 0, 0, 0, 0, 0, 0, 1, 0, 0, 0, 0, 0, 0, 1, 0, 0, 0, 0,\n",
       "       1, 0, 0, 1, 0, 1, 1, 0, 0, 1, 1, 0, 0, 0, 1, 0, 0, 1, 0, 0, 0, 1,\n",
       "       0, 0, 0, 0, 1, 0, 0, 0, 0, 0, 0, 0, 1, 1, 1, 1, 0, 0, 1, 0, 0, 1,\n",
       "       0, 0, 0, 1, 0, 0, 0, 0, 0, 1, 1, 1, 0, 1, 0, 1, 1, 1, 0, 0, 0, 0,\n",
       "       0, 0, 0, 1, 1, 1, 1, 0, 1, 1], dtype=int64)"
      ]
     },
     "execution_count": 209,
     "metadata": {},
     "output_type": "execute_result"
    }
   ],
   "source": [
    "model.predict(X_test)  # purchased =1 , not_purchased = 0"
   ]
  },
  {
   "cell_type": "code",
   "execution_count": 210,
   "id": "dd526acb",
   "metadata": {},
   "outputs": [
    {
     "data": {
      "text/plain": [
       "array([[1, 30, 87000],\n",
       "       [0, 38, 50000],\n",
       "       [1, 35, 75000],\n",
       "       [0, 30, 79000],\n",
       "       [0, 35, 50000],\n",
       "       [1, 27, 20000],\n",
       "       [0, 31, 15000],\n",
       "       [1, 36, 144000],\n",
       "       [0, 18, 68000],\n",
       "       [1, 47, 43000],\n",
       "       [1, 30, 49000],\n",
       "       [0, 28, 55000],\n",
       "       [1, 37, 55000],\n",
       "       [1, 39, 77000],\n",
       "       [1, 20, 86000],\n",
       "       [0, 32, 117000],\n",
       "       [1, 37, 77000],\n",
       "       [1, 19, 85000],\n",
       "       [0, 55, 130000],\n",
       "       [1, 35, 22000],\n",
       "       [0, 35, 47000],\n",
       "       [0, 47, 144000],\n",
       "       [0, 41, 51000],\n",
       "       [1, 47, 105000],\n",
       "       [0, 23, 28000],\n",
       "       [0, 49, 141000],\n",
       "       [0, 28, 87000],\n",
       "       [1, 29, 80000],\n",
       "       [0, 37, 62000],\n",
       "       [0, 32, 86000],\n",
       "       [1, 21, 88000],\n",
       "       [1, 37, 79000],\n",
       "       [1, 57, 60000],\n",
       "       [1, 37, 53000],\n",
       "       [1, 24, 58000],\n",
       "       [1, 18, 52000],\n",
       "       [1, 22, 81000],\n",
       "       [0, 34, 43000],\n",
       "       [0, 31, 34000],\n",
       "       [0, 49, 36000],\n",
       "       [1, 27, 88000],\n",
       "       [1, 41, 52000],\n",
       "       [0, 27, 84000],\n",
       "       [1, 35, 20000],\n",
       "       [0, 43, 112000],\n",
       "       [0, 27, 58000],\n",
       "       [0, 37, 80000],\n",
       "       [0, 52, 90000],\n",
       "       [1, 26, 30000],\n",
       "       [1, 49, 86000],\n",
       "       [0, 57, 122000],\n",
       "       [0, 34, 25000],\n",
       "       [0, 35, 57000],\n",
       "       [1, 34, 115000],\n",
       "       [0, 59, 88000],\n",
       "       [1, 45, 32000],\n",
       "       [0, 29, 83000],\n",
       "       [0, 26, 80000],\n",
       "       [1, 49, 28000],\n",
       "       [1, 23, 20000],\n",
       "       [1, 32, 18000],\n",
       "       [1, 60, 42000],\n",
       "       [1, 19, 76000],\n",
       "       [1, 36, 99000],\n",
       "       [0, 19, 26000],\n",
       "       [1, 60, 83000],\n",
       "       [0, 24, 89000],\n",
       "       [1, 27, 58000],\n",
       "       [1, 40, 47000],\n",
       "       [0, 42, 70000],\n",
       "       [0, 32, 150000],\n",
       "       [0, 35, 77000],\n",
       "       [0, 22, 63000],\n",
       "       [1, 45, 22000],\n",
       "       [1, 27, 89000],\n",
       "       [1, 18, 82000],\n",
       "       [0, 42, 79000],\n",
       "       [0, 40, 60000],\n",
       "       [0, 53, 34000],\n",
       "       [0, 47, 107000],\n",
       "       [1, 58, 144000],\n",
       "       [0, 59, 83000],\n",
       "       [0, 24, 55000],\n",
       "       [0, 26, 35000],\n",
       "       [0, 58, 38000],\n",
       "       [0, 42, 80000],\n",
       "       [0, 40, 75000],\n",
       "       [1, 59, 130000],\n",
       "       [0, 46, 41000],\n",
       "       [0, 41, 60000],\n",
       "       [1, 42, 64000],\n",
       "       [0, 37, 146000],\n",
       "       [0, 23, 48000],\n",
       "       [1, 25, 33000],\n",
       "       [1, 24, 84000],\n",
       "       [0, 27, 96000],\n",
       "       [1, 23, 63000],\n",
       "       [1, 48, 33000],\n",
       "       [1, 48, 90000],\n",
       "       [1, 42, 104000],\n",
       "       [0, 44, 39000],\n",
       "       [1, 32, 120000],\n",
       "       [0, 38, 50000],\n",
       "       [0, 32, 135000],\n",
       "       [0, 52, 21000],\n",
       "       [0, 53, 104000],\n",
       "       [1, 39, 42000],\n",
       "       [1, 38, 61000],\n",
       "       [0, 36, 50000],\n",
       "       [0, 36, 63000],\n",
       "       [0, 35, 25000],\n",
       "       [1, 35, 50000],\n",
       "       [1, 42, 73000],\n",
       "       [0, 47, 49000],\n",
       "       [0, 59, 29000],\n",
       "       [1, 49, 65000],\n",
       "       [0, 45, 131000],\n",
       "       [0, 31, 89000],\n",
       "       [0, 46, 82000],\n",
       "       [0, 47, 51000]], dtype=object)"
      ]
     },
     "execution_count": 210,
     "metadata": {},
     "output_type": "execute_result"
    }
   ],
   "source": [
    "X_test  # male =1, female=0"
   ]
  },
  {
   "cell_type": "code",
   "execution_count": 211,
   "id": "cd37fc8a",
   "metadata": {},
   "outputs": [
    {
     "data": {
      "text/plain": [
       "0.8916666666666667"
      ]
     },
     "execution_count": 211,
     "metadata": {},
     "output_type": "execute_result"
    }
   ],
   "source": [
    "model.score(X_test,y_test)"
   ]
  },
  {
   "cell_type": "code",
   "execution_count": 214,
   "id": "6eed22f6",
   "metadata": {},
   "outputs": [
    {
     "data": {
      "text/plain": [
       "array([0], dtype=int64)"
      ]
     },
     "execution_count": 214,
     "metadata": {},
     "output_type": "execute_result"
    }
   ],
   "source": [
    "model.predict([[1,23,100000]])"
   ]
  },
  {
   "cell_type": "markdown",
   "id": "86f8ce6d",
   "metadata": {},
   "source": [
    "As you see the accuracy score of our model is 89% and it is working properly."
   ]
  },
  {
   "cell_type": "markdown",
   "id": "f0250005",
   "metadata": {},
   "source": [
    "# What is Support Vector Machine?\n",
    "\n",
    "\n",
    "* Support Vector Machine is machine learning algorithm based on supervised learning, that can be used for both regression and classification problems.\n",
    "\n",
    "\n",
    "* We use this in both cases regression and classification but usually we use this to solve classification problems.\n",
    "\n",
    "\n",
    "* SVMs are used in applications like handwriting recognition, intrusion detection, face detection, email classification, gene classification, and in web pages.\n",
    "\n",
    "\n",
    "* For Regression problem we used to predict quantity of something and in classification problems we predict class or label.\n",
    "\n",
    "\n",
    "* In this algoritm we use labelled dataset to train our model and test it with unlabelled data.\n"
   ]
  },
  {
   "cell_type": "markdown",
   "id": "4a7daa47",
   "metadata": {},
   "source": [
    "# Type of SVM :-\n",
    "\n",
    "\n",
    "* Linear SVM : It is used when dataset can be classified into 2 classes using a straight line.\n",
    "\n",
    "\n",
    "* Non-Linear SVM : It is used when the dataset cannot be classified into 2 classes using a straigt line. "
   ]
  },
  {
   "cell_type": "markdown",
   "id": "bffb1231",
   "metadata": {},
   "source": [
    "# Kernel Function :- \n",
    "\n",
    "\n",
    "* It is a technique to seprate different categories. It takes low dimensional space and return high dimensional space.\n",
    "\n",
    "\n",
    "* Kernal Function takes low input space and transform it into a higher dimensional space. Eg: It creates not sepratable probelm to sepratable probelm."
   ]
  },
  {
   "cell_type": "code",
   "execution_count": 215,
   "id": "1ba8bb65",
   "metadata": {},
   "outputs": [
    {
     "data": {
      "text/html": [
       "<div>\n",
       "<style scoped>\n",
       "    .dataframe tbody tr th:only-of-type {\n",
       "        vertical-align: middle;\n",
       "    }\n",
       "\n",
       "    .dataframe tbody tr th {\n",
       "        vertical-align: top;\n",
       "    }\n",
       "\n",
       "    .dataframe thead th {\n",
       "        text-align: right;\n",
       "    }\n",
       "</style>\n",
       "<table border=\"1\" class=\"dataframe\">\n",
       "  <thead>\n",
       "    <tr style=\"text-align: right;\">\n",
       "      <th></th>\n",
       "      <th>Id</th>\n",
       "      <th>SepalLengthCm</th>\n",
       "      <th>SepalWidthCm</th>\n",
       "      <th>PetalLengthCm</th>\n",
       "      <th>PetalWidthCm</th>\n",
       "      <th>Species</th>\n",
       "    </tr>\n",
       "  </thead>\n",
       "  <tbody>\n",
       "    <tr>\n",
       "      <th>0</th>\n",
       "      <td>1</td>\n",
       "      <td>5.1</td>\n",
       "      <td>3.5</td>\n",
       "      <td>1.4</td>\n",
       "      <td>0.2</td>\n",
       "      <td>Iris-setosa</td>\n",
       "    </tr>\n",
       "    <tr>\n",
       "      <th>1</th>\n",
       "      <td>2</td>\n",
       "      <td>4.9</td>\n",
       "      <td>3.0</td>\n",
       "      <td>1.4</td>\n",
       "      <td>0.2</td>\n",
       "      <td>Iris-setosa</td>\n",
       "    </tr>\n",
       "    <tr>\n",
       "      <th>2</th>\n",
       "      <td>3</td>\n",
       "      <td>4.7</td>\n",
       "      <td>3.2</td>\n",
       "      <td>1.3</td>\n",
       "      <td>0.2</td>\n",
       "      <td>Iris-setosa</td>\n",
       "    </tr>\n",
       "    <tr>\n",
       "      <th>3</th>\n",
       "      <td>4</td>\n",
       "      <td>4.6</td>\n",
       "      <td>3.1</td>\n",
       "      <td>1.5</td>\n",
       "      <td>0.2</td>\n",
       "      <td>Iris-setosa</td>\n",
       "    </tr>\n",
       "    <tr>\n",
       "      <th>4</th>\n",
       "      <td>5</td>\n",
       "      <td>5.0</td>\n",
       "      <td>3.6</td>\n",
       "      <td>1.4</td>\n",
       "      <td>0.2</td>\n",
       "      <td>Iris-setosa</td>\n",
       "    </tr>\n",
       "  </tbody>\n",
       "</table>\n",
       "</div>"
      ],
      "text/plain": [
       "   Id  SepalLengthCm  SepalWidthCm  PetalLengthCm  PetalWidthCm      Species\n",
       "0   1            5.1           3.5            1.4           0.2  Iris-setosa\n",
       "1   2            4.9           3.0            1.4           0.2  Iris-setosa\n",
       "2   3            4.7           3.2            1.3           0.2  Iris-setosa\n",
       "3   4            4.6           3.1            1.5           0.2  Iris-setosa\n",
       "4   5            5.0           3.6            1.4           0.2  Iris-setosa"
      ]
     },
     "execution_count": 215,
     "metadata": {},
     "output_type": "execute_result"
    }
   ],
   "source": [
    "df = pd.read_csv(r'C:\\Users\\HP\\Desktop\\Data Science\\Data Sets For Practice\\iris.csv')\n",
    "df.head()"
   ]
  },
  {
   "cell_type": "code",
   "execution_count": 216,
   "id": "7674ff1a",
   "metadata": {},
   "outputs": [
    {
     "data": {
      "text/plain": [
       "(150, 6)"
      ]
     },
     "execution_count": 216,
     "metadata": {},
     "output_type": "execute_result"
    }
   ],
   "source": [
    "df.shape"
   ]
  },
  {
   "cell_type": "code",
   "execution_count": 218,
   "id": "f47e1425",
   "metadata": {},
   "outputs": [
    {
     "data": {
      "text/html": [
       "<div>\n",
       "<style scoped>\n",
       "    .dataframe tbody tr th:only-of-type {\n",
       "        vertical-align: middle;\n",
       "    }\n",
       "\n",
       "    .dataframe tbody tr th {\n",
       "        vertical-align: top;\n",
       "    }\n",
       "\n",
       "    .dataframe thead th {\n",
       "        text-align: right;\n",
       "    }\n",
       "</style>\n",
       "<table border=\"1\" class=\"dataframe\">\n",
       "  <thead>\n",
       "    <tr style=\"text-align: right;\">\n",
       "      <th></th>\n",
       "      <th>SepalLengthCm</th>\n",
       "      <th>SepalWidthCm</th>\n",
       "      <th>PetalLengthCm</th>\n",
       "      <th>PetalWidthCm</th>\n",
       "    </tr>\n",
       "  </thead>\n",
       "  <tbody>\n",
       "    <tr>\n",
       "      <th>0</th>\n",
       "      <td>5.1</td>\n",
       "      <td>3.5</td>\n",
       "      <td>1.4</td>\n",
       "      <td>0.2</td>\n",
       "    </tr>\n",
       "    <tr>\n",
       "      <th>1</th>\n",
       "      <td>4.9</td>\n",
       "      <td>3.0</td>\n",
       "      <td>1.4</td>\n",
       "      <td>0.2</td>\n",
       "    </tr>\n",
       "    <tr>\n",
       "      <th>2</th>\n",
       "      <td>4.7</td>\n",
       "      <td>3.2</td>\n",
       "      <td>1.3</td>\n",
       "      <td>0.2</td>\n",
       "    </tr>\n",
       "    <tr>\n",
       "      <th>3</th>\n",
       "      <td>4.6</td>\n",
       "      <td>3.1</td>\n",
       "      <td>1.5</td>\n",
       "      <td>0.2</td>\n",
       "    </tr>\n",
       "    <tr>\n",
       "      <th>4</th>\n",
       "      <td>5.0</td>\n",
       "      <td>3.6</td>\n",
       "      <td>1.4</td>\n",
       "      <td>0.2</td>\n",
       "    </tr>\n",
       "  </tbody>\n",
       "</table>\n",
       "</div>"
      ],
      "text/plain": [
       "   SepalLengthCm  SepalWidthCm  PetalLengthCm  PetalWidthCm\n",
       "0            5.1           3.5            1.4           0.2\n",
       "1            4.9           3.0            1.4           0.2\n",
       "2            4.7           3.2            1.3           0.2\n",
       "3            4.6           3.1            1.5           0.2\n",
       "4            5.0           3.6            1.4           0.2"
      ]
     },
     "execution_count": 218,
     "metadata": {},
     "output_type": "execute_result"
    }
   ],
   "source": [
    "x = df.drop(['Id','Species'],axis=1)\n",
    "x.head()"
   ]
  },
  {
   "cell_type": "code",
   "execution_count": 221,
   "id": "26ee9a0e",
   "metadata": {},
   "outputs": [
    {
     "data": {
      "text/html": [
       "<div>\n",
       "<style scoped>\n",
       "    .dataframe tbody tr th:only-of-type {\n",
       "        vertical-align: middle;\n",
       "    }\n",
       "\n",
       "    .dataframe tbody tr th {\n",
       "        vertical-align: top;\n",
       "    }\n",
       "\n",
       "    .dataframe thead th {\n",
       "        text-align: right;\n",
       "    }\n",
       "</style>\n",
       "<table border=\"1\" class=\"dataframe\">\n",
       "  <thead>\n",
       "    <tr style=\"text-align: right;\">\n",
       "      <th></th>\n",
       "      <th>Species</th>\n",
       "    </tr>\n",
       "  </thead>\n",
       "  <tbody>\n",
       "    <tr>\n",
       "      <th>0</th>\n",
       "      <td>Iris-setosa</td>\n",
       "    </tr>\n",
       "    <tr>\n",
       "      <th>1</th>\n",
       "      <td>Iris-setosa</td>\n",
       "    </tr>\n",
       "    <tr>\n",
       "      <th>2</th>\n",
       "      <td>Iris-setosa</td>\n",
       "    </tr>\n",
       "    <tr>\n",
       "      <th>3</th>\n",
       "      <td>Iris-setosa</td>\n",
       "    </tr>\n",
       "    <tr>\n",
       "      <th>4</th>\n",
       "      <td>Iris-setosa</td>\n",
       "    </tr>\n",
       "  </tbody>\n",
       "</table>\n",
       "</div>"
      ],
      "text/plain": [
       "       Species\n",
       "0  Iris-setosa\n",
       "1  Iris-setosa\n",
       "2  Iris-setosa\n",
       "3  Iris-setosa\n",
       "4  Iris-setosa"
      ]
     },
     "execution_count": 221,
     "metadata": {},
     "output_type": "execute_result"
    }
   ],
   "source": [
    "y = df.drop(['Id', 'SepalLengthCm', 'SepalWidthCm', 'PetalLengthCm', 'PetalWidthCm'],axis=1)\n",
    "y.head()"
   ]
  },
  {
   "cell_type": "code",
   "execution_count": 222,
   "id": "fcba22c3",
   "metadata": {},
   "outputs": [],
   "source": [
    "from sklearn.model_selection import train_test_split\n",
    "\n",
    "X_train,X_test,y_train,y_test = train_test_split(x,y,test_size=0.3)"
   ]
  },
  {
   "cell_type": "code",
   "execution_count": 223,
   "id": "4992de23",
   "metadata": {},
   "outputs": [
    {
     "data": {
      "text/plain": [
       "(105, 4)"
      ]
     },
     "execution_count": 223,
     "metadata": {},
     "output_type": "execute_result"
    }
   ],
   "source": [
    "X_train.shape"
   ]
  },
  {
   "cell_type": "code",
   "execution_count": 224,
   "id": "3b245588",
   "metadata": {},
   "outputs": [
    {
     "data": {
      "text/plain": [
       "(45, 4)"
      ]
     },
     "execution_count": 224,
     "metadata": {},
     "output_type": "execute_result"
    }
   ],
   "source": [
    "X_test.shape"
   ]
  },
  {
   "cell_type": "code",
   "execution_count": 225,
   "id": "9b6b3ec2",
   "metadata": {},
   "outputs": [],
   "source": [
    "from sklearn.svm import SVC"
   ]
  },
  {
   "cell_type": "code",
   "execution_count": 228,
   "id": "7a2d64ab",
   "metadata": {},
   "outputs": [],
   "source": [
    "# kernel : {'linear', 'poly', 'rbf', 'sigmoid', 'precomputed'}\n",
    "# If the model's accuracy score is less than try different kernel parameters it will improve the accuracy of model.\n",
    "\n",
    "model = SVC(kernel='linear')  #kernel : {'linear', 'poly', 'rbf', 'sigmoid', 'precomputed'}"
   ]
  },
  {
   "cell_type": "code",
   "execution_count": 229,
   "id": "502e4e04",
   "metadata": {},
   "outputs": [
    {
     "name": "stderr",
     "output_type": "stream",
     "text": [
      "C:\\Users\\HP\\Anaconda3\\lib\\site-packages\\sklearn\\utils\\validation.py:993: DataConversionWarning: A column-vector y was passed when a 1d array was expected. Please change the shape of y to (n_samples, ), for example using ravel().\n",
      "  y = column_or_1d(y, warn=True)\n"
     ]
    },
    {
     "data": {
      "text/plain": [
       "SVC(kernel='linear')"
      ]
     },
     "execution_count": 229,
     "metadata": {},
     "output_type": "execute_result"
    }
   ],
   "source": [
    "model.fit(X_train,y_train)"
   ]
  },
  {
   "cell_type": "code",
   "execution_count": 230,
   "id": "432140f3",
   "metadata": {},
   "outputs": [
    {
     "data": {
      "text/plain": [
       "array(['Iris-virginica', 'Iris-virginica', 'Iris-versicolor',\n",
       "       'Iris-virginica', 'Iris-setosa', 'Iris-setosa', 'Iris-virginica',\n",
       "       'Iris-versicolor', 'Iris-setosa', 'Iris-virginica', 'Iris-setosa',\n",
       "       'Iris-versicolor', 'Iris-virginica', 'Iris-setosa',\n",
       "       'Iris-virginica', 'Iris-virginica', 'Iris-setosa',\n",
       "       'Iris-versicolor', 'Iris-versicolor', 'Iris-versicolor',\n",
       "       'Iris-setosa', 'Iris-versicolor', 'Iris-versicolor', 'Iris-setosa',\n",
       "       'Iris-versicolor', 'Iris-setosa', 'Iris-setosa', 'Iris-setosa',\n",
       "       'Iris-setosa', 'Iris-setosa', 'Iris-virginica', 'Iris-virginica',\n",
       "       'Iris-setosa', 'Iris-setosa', 'Iris-versicolor', 'Iris-versicolor',\n",
       "       'Iris-versicolor', 'Iris-setosa', 'Iris-virginica', 'Iris-setosa',\n",
       "       'Iris-versicolor', 'Iris-versicolor', 'Iris-versicolor',\n",
       "       'Iris-virginica', 'Iris-versicolor'], dtype=object)"
      ]
     },
     "execution_count": 230,
     "metadata": {},
     "output_type": "execute_result"
    }
   ],
   "source": [
    "model.predict(X_test)"
   ]
  },
  {
   "cell_type": "code",
   "execution_count": 232,
   "id": "d6f61478",
   "metadata": {},
   "outputs": [
    {
     "data": {
      "text/html": [
       "<div>\n",
       "<style scoped>\n",
       "    .dataframe tbody tr th:only-of-type {\n",
       "        vertical-align: middle;\n",
       "    }\n",
       "\n",
       "    .dataframe tbody tr th {\n",
       "        vertical-align: top;\n",
       "    }\n",
       "\n",
       "    .dataframe thead th {\n",
       "        text-align: right;\n",
       "    }\n",
       "</style>\n",
       "<table border=\"1\" class=\"dataframe\">\n",
       "  <thead>\n",
       "    <tr style=\"text-align: right;\">\n",
       "      <th></th>\n",
       "      <th>SepalLengthCm</th>\n",
       "      <th>SepalWidthCm</th>\n",
       "      <th>PetalLengthCm</th>\n",
       "      <th>PetalWidthCm</th>\n",
       "    </tr>\n",
       "  </thead>\n",
       "  <tbody>\n",
       "    <tr>\n",
       "      <th>102</th>\n",
       "      <td>7.1</td>\n",
       "      <td>3.0</td>\n",
       "      <td>5.9</td>\n",
       "      <td>2.1</td>\n",
       "    </tr>\n",
       "    <tr>\n",
       "      <th>141</th>\n",
       "      <td>6.9</td>\n",
       "      <td>3.1</td>\n",
       "      <td>5.1</td>\n",
       "      <td>2.3</td>\n",
       "    </tr>\n",
       "    <tr>\n",
       "      <th>67</th>\n",
       "      <td>5.8</td>\n",
       "      <td>2.7</td>\n",
       "      <td>4.1</td>\n",
       "      <td>1.0</td>\n",
       "    </tr>\n",
       "    <tr>\n",
       "      <th>128</th>\n",
       "      <td>6.4</td>\n",
       "      <td>2.8</td>\n",
       "      <td>5.6</td>\n",
       "      <td>2.1</td>\n",
       "    </tr>\n",
       "    <tr>\n",
       "      <th>35</th>\n",
       "      <td>5.0</td>\n",
       "      <td>3.2</td>\n",
       "      <td>1.2</td>\n",
       "      <td>0.2</td>\n",
       "    </tr>\n",
       "  </tbody>\n",
       "</table>\n",
       "</div>"
      ],
      "text/plain": [
       "     SepalLengthCm  SepalWidthCm  PetalLengthCm  PetalWidthCm\n",
       "102            7.1           3.0            5.9           2.1\n",
       "141            6.9           3.1            5.1           2.3\n",
       "67             5.8           2.7            4.1           1.0\n",
       "128            6.4           2.8            5.6           2.1\n",
       "35             5.0           3.2            1.2           0.2"
      ]
     },
     "execution_count": 232,
     "metadata": {},
     "output_type": "execute_result"
    }
   ],
   "source": [
    "X_test.head()"
   ]
  },
  {
   "cell_type": "code",
   "execution_count": 233,
   "id": "e29a89a3",
   "metadata": {},
   "outputs": [
    {
     "data": {
      "text/plain": [
       "1.0"
      ]
     },
     "execution_count": 233,
     "metadata": {},
     "output_type": "execute_result"
    }
   ],
   "source": [
    "model.score(X_test,y_test)"
   ]
  },
  {
   "cell_type": "code",
   "execution_count": 234,
   "id": "5521ddc5",
   "metadata": {},
   "outputs": [
    {
     "name": "stderr",
     "output_type": "stream",
     "text": [
      "C:\\Users\\HP\\Anaconda3\\lib\\site-packages\\sklearn\\base.py:450: UserWarning: X does not have valid feature names, but SVC was fitted with feature names\n",
      "  warnings.warn(\n"
     ]
    },
    {
     "data": {
      "text/plain": [
       "array(['Iris-virginica'], dtype=object)"
      ]
     },
     "execution_count": 234,
     "metadata": {},
     "output_type": "execute_result"
    }
   ],
   "source": [
    "model.predict([[5.6,3,6.2,2.7]])"
   ]
  },
  {
   "cell_type": "markdown",
   "id": "79a96d07",
   "metadata": {},
   "source": [
    "As you see our model works properly and give prediction."
   ]
  },
  {
   "cell_type": "code",
   "execution_count": null,
   "id": "22da74cb",
   "metadata": {},
   "outputs": [],
   "source": []
  }
 ],
 "metadata": {
  "kernelspec": {
   "display_name": "Python 3 (ipykernel)",
   "language": "python",
   "name": "python3"
  },
  "language_info": {
   "codemirror_mode": {
    "name": "ipython",
    "version": 3
   },
   "file_extension": ".py",
   "mimetype": "text/x-python",
   "name": "python",
   "nbconvert_exporter": "python",
   "pygments_lexer": "ipython3",
   "version": "3.9.13"
  }
 },
 "nbformat": 4,
 "nbformat_minor": 5
}

{
 "cells": [
  {
   "cell_type": "code",
   "execution_count": 1,
   "id": "ebf97122",
   "metadata": {},
   "outputs": [],
   "source": [
    "import pandas as pd\n",
    "import numpy as np\n",
    "import matplotlib.pyplot as plt\n",
    "%matplotlib inline\n",
    "import seaborn as sns\n",
    "import warnings\n",
    "warnings.filterwarnings(\"ignore\") # Suppress warnings"
   ]
  },
  {
   "cell_type": "code",
   "execution_count": 2,
   "id": "3fe4e64d",
   "metadata": {},
   "outputs": [
    {
     "data": {
      "text/html": [
       "<div>\n",
       "<style scoped>\n",
       "    .dataframe tbody tr th:only-of-type {\n",
       "        vertical-align: middle;\n",
       "    }\n",
       "\n",
       "    .dataframe tbody tr th {\n",
       "        vertical-align: top;\n",
       "    }\n",
       "\n",
       "    .dataframe thead th {\n",
       "        text-align: right;\n",
       "    }\n",
       "</style>\n",
       "<table border=\"1\" class=\"dataframe\">\n",
       "  <thead>\n",
       "    <tr style=\"text-align: right;\">\n",
       "      <th></th>\n",
       "      <th>Id</th>\n",
       "      <th>SepalLengthCm</th>\n",
       "      <th>SepalWidthCm</th>\n",
       "      <th>PetalLengthCm</th>\n",
       "      <th>PetalWidthCm</th>\n",
       "      <th>Species</th>\n",
       "    </tr>\n",
       "  </thead>\n",
       "  <tbody>\n",
       "    <tr>\n",
       "      <th>0</th>\n",
       "      <td>1</td>\n",
       "      <td>5.1</td>\n",
       "      <td>3.5</td>\n",
       "      <td>1.4</td>\n",
       "      <td>0.2</td>\n",
       "      <td>Iris-setosa</td>\n",
       "    </tr>\n",
       "    <tr>\n",
       "      <th>1</th>\n",
       "      <td>2</td>\n",
       "      <td>4.9</td>\n",
       "      <td>3.0</td>\n",
       "      <td>1.4</td>\n",
       "      <td>0.2</td>\n",
       "      <td>Iris-setosa</td>\n",
       "    </tr>\n",
       "    <tr>\n",
       "      <th>2</th>\n",
       "      <td>3</td>\n",
       "      <td>4.7</td>\n",
       "      <td>3.2</td>\n",
       "      <td>1.3</td>\n",
       "      <td>0.2</td>\n",
       "      <td>Iris-setosa</td>\n",
       "    </tr>\n",
       "    <tr>\n",
       "      <th>3</th>\n",
       "      <td>4</td>\n",
       "      <td>4.6</td>\n",
       "      <td>3.1</td>\n",
       "      <td>1.5</td>\n",
       "      <td>0.2</td>\n",
       "      <td>Iris-setosa</td>\n",
       "    </tr>\n",
       "    <tr>\n",
       "      <th>4</th>\n",
       "      <td>5</td>\n",
       "      <td>5.0</td>\n",
       "      <td>3.6</td>\n",
       "      <td>1.4</td>\n",
       "      <td>0.2</td>\n",
       "      <td>Iris-setosa</td>\n",
       "    </tr>\n",
       "  </tbody>\n",
       "</table>\n",
       "</div>"
      ],
      "text/plain": [
       "   Id  SepalLengthCm  SepalWidthCm  PetalLengthCm  PetalWidthCm      Species\n",
       "0   1            5.1           3.5            1.4           0.2  Iris-setosa\n",
       "1   2            4.9           3.0            1.4           0.2  Iris-setosa\n",
       "2   3            4.7           3.2            1.3           0.2  Iris-setosa\n",
       "3   4            4.6           3.1            1.5           0.2  Iris-setosa\n",
       "4   5            5.0           3.6            1.4           0.2  Iris-setosa"
      ]
     },
     "execution_count": 2,
     "metadata": {},
     "output_type": "execute_result"
    }
   ],
   "source": [
    "df = pd.read_csv('Iris.csv')\n",
    "df.head()"
   ]
  },
  {
   "cell_type": "code",
   "execution_count": 3,
   "id": "d6bb7a07",
   "metadata": {},
   "outputs": [
    {
     "data": {
      "text/plain": [
       "(150, 6)"
      ]
     },
     "execution_count": 3,
     "metadata": {},
     "output_type": "execute_result"
    }
   ],
   "source": [
    "df.shape"
   ]
  },
  {
   "cell_type": "code",
   "execution_count": 4,
   "id": "3b934b9e",
   "metadata": {},
   "outputs": [
    {
     "data": {
      "text/plain": [
       "Id               0\n",
       "SepalLengthCm    0\n",
       "SepalWidthCm     0\n",
       "PetalLengthCm    0\n",
       "PetalWidthCm     0\n",
       "Species          0\n",
       "dtype: int64"
      ]
     },
     "execution_count": 4,
     "metadata": {},
     "output_type": "execute_result"
    }
   ],
   "source": [
    "df.isnull().sum()"
   ]
  },
  {
   "cell_type": "code",
   "execution_count": 5,
   "id": "5e2e7933",
   "metadata": {},
   "outputs": [
    {
     "data": {
      "text/plain": [
       "Id               150\n",
       "SepalLengthCm     35\n",
       "SepalWidthCm      23\n",
       "PetalLengthCm     43\n",
       "PetalWidthCm      22\n",
       "Species            3\n",
       "dtype: int64"
      ]
     },
     "execution_count": 5,
     "metadata": {},
     "output_type": "execute_result"
    }
   ],
   "source": [
    "df.nunique()"
   ]
  },
  {
   "cell_type": "code",
   "execution_count": 6,
   "id": "1e378769",
   "metadata": {},
   "outputs": [
    {
     "data": {
      "text/html": [
       "<div>\n",
       "<style scoped>\n",
       "    .dataframe tbody tr th:only-of-type {\n",
       "        vertical-align: middle;\n",
       "    }\n",
       "\n",
       "    .dataframe tbody tr th {\n",
       "        vertical-align: top;\n",
       "    }\n",
       "\n",
       "    .dataframe thead th {\n",
       "        text-align: right;\n",
       "    }\n",
       "</style>\n",
       "<table border=\"1\" class=\"dataframe\">\n",
       "  <thead>\n",
       "    <tr style=\"text-align: right;\">\n",
       "      <th></th>\n",
       "      <th>Id</th>\n",
       "      <th>SepalLengthCm</th>\n",
       "      <th>SepalWidthCm</th>\n",
       "      <th>PetalLengthCm</th>\n",
       "      <th>PetalWidthCm</th>\n",
       "    </tr>\n",
       "  </thead>\n",
       "  <tbody>\n",
       "    <tr>\n",
       "      <th>count</th>\n",
       "      <td>150.000000</td>\n",
       "      <td>150.000000</td>\n",
       "      <td>150.000000</td>\n",
       "      <td>150.000000</td>\n",
       "      <td>150.000000</td>\n",
       "    </tr>\n",
       "    <tr>\n",
       "      <th>mean</th>\n",
       "      <td>75.500000</td>\n",
       "      <td>5.843333</td>\n",
       "      <td>3.054000</td>\n",
       "      <td>3.758667</td>\n",
       "      <td>1.198667</td>\n",
       "    </tr>\n",
       "    <tr>\n",
       "      <th>std</th>\n",
       "      <td>43.445368</td>\n",
       "      <td>0.828066</td>\n",
       "      <td>0.433594</td>\n",
       "      <td>1.764420</td>\n",
       "      <td>0.763161</td>\n",
       "    </tr>\n",
       "    <tr>\n",
       "      <th>min</th>\n",
       "      <td>1.000000</td>\n",
       "      <td>4.300000</td>\n",
       "      <td>2.000000</td>\n",
       "      <td>1.000000</td>\n",
       "      <td>0.100000</td>\n",
       "    </tr>\n",
       "    <tr>\n",
       "      <th>50%</th>\n",
       "      <td>75.500000</td>\n",
       "      <td>5.800000</td>\n",
       "      <td>3.000000</td>\n",
       "      <td>4.350000</td>\n",
       "      <td>1.300000</td>\n",
       "    </tr>\n",
       "    <tr>\n",
       "      <th>99%</th>\n",
       "      <td>148.510000</td>\n",
       "      <td>7.700000</td>\n",
       "      <td>4.151000</td>\n",
       "      <td>6.700000</td>\n",
       "      <td>2.500000</td>\n",
       "    </tr>\n",
       "    <tr>\n",
       "      <th>max</th>\n",
       "      <td>150.000000</td>\n",
       "      <td>7.900000</td>\n",
       "      <td>4.400000</td>\n",
       "      <td>6.900000</td>\n",
       "      <td>2.500000</td>\n",
       "    </tr>\n",
       "  </tbody>\n",
       "</table>\n",
       "</div>"
      ],
      "text/plain": [
       "               Id  SepalLengthCm  SepalWidthCm  PetalLengthCm  PetalWidthCm\n",
       "count  150.000000     150.000000    150.000000     150.000000    150.000000\n",
       "mean    75.500000       5.843333      3.054000       3.758667      1.198667\n",
       "std     43.445368       0.828066      0.433594       1.764420      0.763161\n",
       "min      1.000000       4.300000      2.000000       1.000000      0.100000\n",
       "50%     75.500000       5.800000      3.000000       4.350000      1.300000\n",
       "99%    148.510000       7.700000      4.151000       6.700000      2.500000\n",
       "max    150.000000       7.900000      4.400000       6.900000      2.500000"
      ]
     },
     "execution_count": 6,
     "metadata": {},
     "output_type": "execute_result"
    }
   ],
   "source": [
    "df.describe(percentiles=[0.99])"
   ]
  },
  {
   "cell_type": "code",
   "execution_count": 7,
   "id": "204432af",
   "metadata": {},
   "outputs": [
    {
     "data": {
      "text/html": [
       "<div>\n",
       "<style scoped>\n",
       "    .dataframe tbody tr th:only-of-type {\n",
       "        vertical-align: middle;\n",
       "    }\n",
       "\n",
       "    .dataframe tbody tr th {\n",
       "        vertical-align: top;\n",
       "    }\n",
       "\n",
       "    .dataframe thead th {\n",
       "        text-align: right;\n",
       "    }\n",
       "</style>\n",
       "<table border=\"1\" class=\"dataframe\">\n",
       "  <thead>\n",
       "    <tr style=\"text-align: right;\">\n",
       "      <th></th>\n",
       "      <th>Id</th>\n",
       "      <th>SepalLengthCm</th>\n",
       "      <th>SepalWidthCm</th>\n",
       "      <th>PetalLengthCm</th>\n",
       "      <th>PetalWidthCm</th>\n",
       "    </tr>\n",
       "  </thead>\n",
       "  <tbody>\n",
       "    <tr>\n",
       "      <th>Id</th>\n",
       "      <td>1.000000</td>\n",
       "      <td>0.716676</td>\n",
       "      <td>-0.397729</td>\n",
       "      <td>0.882747</td>\n",
       "      <td>0.899759</td>\n",
       "    </tr>\n",
       "    <tr>\n",
       "      <th>SepalLengthCm</th>\n",
       "      <td>0.716676</td>\n",
       "      <td>1.000000</td>\n",
       "      <td>-0.109369</td>\n",
       "      <td>0.871754</td>\n",
       "      <td>0.817954</td>\n",
       "    </tr>\n",
       "    <tr>\n",
       "      <th>SepalWidthCm</th>\n",
       "      <td>-0.397729</td>\n",
       "      <td>-0.109369</td>\n",
       "      <td>1.000000</td>\n",
       "      <td>-0.420516</td>\n",
       "      <td>-0.356544</td>\n",
       "    </tr>\n",
       "    <tr>\n",
       "      <th>PetalLengthCm</th>\n",
       "      <td>0.882747</td>\n",
       "      <td>0.871754</td>\n",
       "      <td>-0.420516</td>\n",
       "      <td>1.000000</td>\n",
       "      <td>0.962757</td>\n",
       "    </tr>\n",
       "    <tr>\n",
       "      <th>PetalWidthCm</th>\n",
       "      <td>0.899759</td>\n",
       "      <td>0.817954</td>\n",
       "      <td>-0.356544</td>\n",
       "      <td>0.962757</td>\n",
       "      <td>1.000000</td>\n",
       "    </tr>\n",
       "  </tbody>\n",
       "</table>\n",
       "</div>"
      ],
      "text/plain": [
       "                     Id  SepalLengthCm  SepalWidthCm  PetalLengthCm  \\\n",
       "Id             1.000000       0.716676     -0.397729       0.882747   \n",
       "SepalLengthCm  0.716676       1.000000     -0.109369       0.871754   \n",
       "SepalWidthCm  -0.397729      -0.109369      1.000000      -0.420516   \n",
       "PetalLengthCm  0.882747       0.871754     -0.420516       1.000000   \n",
       "PetalWidthCm   0.899759       0.817954     -0.356544       0.962757   \n",
       "\n",
       "               PetalWidthCm  \n",
       "Id                 0.899759  \n",
       "SepalLengthCm      0.817954  \n",
       "SepalWidthCm      -0.356544  \n",
       "PetalLengthCm      0.962757  \n",
       "PetalWidthCm       1.000000  "
      ]
     },
     "execution_count": 7,
     "metadata": {},
     "output_type": "execute_result"
    }
   ],
   "source": [
    "df.corr()"
   ]
  },
  {
   "cell_type": "code",
   "execution_count": 8,
   "id": "4949c1c9",
   "metadata": {},
   "outputs": [
    {
     "data": {
      "text/plain": [
       "<AxesSubplot:>"
      ]
     },
     "execution_count": 8,
     "metadata": {},
     "output_type": "execute_result"
    },
    {
     "data": {
      "image/png": "[encoded data removed]",
      "text/plain": [
       "<Figure size 640x480 with 2 Axes>"
      ]
     },
     "metadata": {},
     "output_type": "display_data"
    }
   ],
   "source": [
    "sns.heatmap(df.corr(),annot=True)"
   ]
  },
  {
   "cell_type": "markdown",
   "id": "9706f6fe",
   "metadata": {},
   "source": [
    "### We see here that:-\n",
    "### Petal Length and Sepal Length are 87%\n",
    "### Petal Length and Petal Width are 96% Correlated.\n",
    "### To remove the colinearity and multicolinearity we use PCA."
   ]
  },
  {
   "cell_type": "code",
   "execution_count": 9,
   "id": "58cfb38d",
   "metadata": {},
   "outputs": [
    {
     "data": {
      "text/html": [
       "<div>\n",
       "<style scoped>\n",
       "    .dataframe tbody tr th:only-of-type {\n",
       "        vertical-align: middle;\n",
       "    }\n",
       "\n",
       "    .dataframe tbody tr th {\n",
       "        vertical-align: top;\n",
       "    }\n",
       "\n",
       "    .dataframe thead th {\n",
       "        text-align: right;\n",
       "    }\n",
       "</style>\n",
       "<table border=\"1\" class=\"dataframe\">\n",
       "  <thead>\n",
       "    <tr style=\"text-align: right;\">\n",
       "      <th></th>\n",
       "      <th>SepalLengthCm</th>\n",
       "      <th>SepalWidthCm</th>\n",
       "      <th>PetalLengthCm</th>\n",
       "      <th>PetalWidthCm</th>\n",
       "    </tr>\n",
       "  </thead>\n",
       "  <tbody>\n",
       "    <tr>\n",
       "      <th>0</th>\n",
       "      <td>5.1</td>\n",
       "      <td>3.5</td>\n",
       "      <td>1.4</td>\n",
       "      <td>0.2</td>\n",
       "    </tr>\n",
       "    <tr>\n",
       "      <th>1</th>\n",
       "      <td>4.9</td>\n",
       "      <td>3.0</td>\n",
       "      <td>1.4</td>\n",
       "      <td>0.2</td>\n",
       "    </tr>\n",
       "    <tr>\n",
       "      <th>2</th>\n",
       "      <td>4.7</td>\n",
       "      <td>3.2</td>\n",
       "      <td>1.3</td>\n",
       "      <td>0.2</td>\n",
       "    </tr>\n",
       "    <tr>\n",
       "      <th>3</th>\n",
       "      <td>4.6</td>\n",
       "      <td>3.1</td>\n",
       "      <td>1.5</td>\n",
       "      <td>0.2</td>\n",
       "    </tr>\n",
       "    <tr>\n",
       "      <th>4</th>\n",
       "      <td>5.0</td>\n",
       "      <td>3.6</td>\n",
       "      <td>1.4</td>\n",
       "      <td>0.2</td>\n",
       "    </tr>\n",
       "    <tr>\n",
       "      <th>...</th>\n",
       "      <td>...</td>\n",
       "      <td>...</td>\n",
       "      <td>...</td>\n",
       "      <td>...</td>\n",
       "    </tr>\n",
       "    <tr>\n",
       "      <th>145</th>\n",
       "      <td>6.7</td>\n",
       "      <td>3.0</td>\n",
       "      <td>5.2</td>\n",
       "      <td>2.3</td>\n",
       "    </tr>\n",
       "    <tr>\n",
       "      <th>146</th>\n",
       "      <td>6.3</td>\n",
       "      <td>2.5</td>\n",
       "      <td>5.0</td>\n",
       "      <td>1.9</td>\n",
       "    </tr>\n",
       "    <tr>\n",
       "      <th>147</th>\n",
       "      <td>6.5</td>\n",
       "      <td>3.0</td>\n",
       "      <td>5.2</td>\n",
       "      <td>2.0</td>\n",
       "    </tr>\n",
       "    <tr>\n",
       "      <th>148</th>\n",
       "      <td>6.2</td>\n",
       "      <td>3.4</td>\n",
       "      <td>5.4</td>\n",
       "      <td>2.3</td>\n",
       "    </tr>\n",
       "    <tr>\n",
       "      <th>149</th>\n",
       "      <td>5.9</td>\n",
       "      <td>3.0</td>\n",
       "      <td>5.1</td>\n",
       "      <td>1.8</td>\n",
       "    </tr>\n",
       "  </tbody>\n",
       "</table>\n",
       "<p>150 rows × 4 columns</p>\n",
       "</div>"
      ],
      "text/plain": [
       "     SepalLengthCm  SepalWidthCm  PetalLengthCm  PetalWidthCm\n",
       "0              5.1           3.5            1.4           0.2\n",
       "1              4.9           3.0            1.4           0.2\n",
       "2              4.7           3.2            1.3           0.2\n",
       "3              4.6           3.1            1.5           0.2\n",
       "4              5.0           3.6            1.4           0.2\n",
       "..             ...           ...            ...           ...\n",
       "145            6.7           3.0            5.2           2.3\n",
       "146            6.3           2.5            5.0           1.9\n",
       "147            6.5           3.0            5.2           2.0\n",
       "148            6.2           3.4            5.4           2.3\n",
       "149            5.9           3.0            5.1           1.8\n",
       "\n",
       "[150 rows x 4 columns]"
      ]
     },
     "execution_count": 9,
     "metadata": {},
     "output_type": "execute_result"
    }
   ],
   "source": [
    "X = df.drop(['Id','Species'],axis=1)\n",
    "X"
   ]
  },
  {
   "cell_type": "code",
   "execution_count": 10,
   "id": "ccffc148",
   "metadata": {},
   "outputs": [
    {
     "data": {
      "text/plain": [
       "0         Iris-setosa\n",
       "1         Iris-setosa\n",
       "2         Iris-setosa\n",
       "3         Iris-setosa\n",
       "4         Iris-setosa\n",
       "            ...      \n",
       "145    Iris-virginica\n",
       "146    Iris-virginica\n",
       "147    Iris-virginica\n",
       "148    Iris-virginica\n",
       "149    Iris-virginica\n",
       "Name: Species, Length: 150, dtype: object"
      ]
     },
     "execution_count": 10,
     "metadata": {},
     "output_type": "execute_result"
    }
   ],
   "source": [
    "y = df['Species']\n",
    "y"
   ]
  },
  {
   "cell_type": "code",
   "execution_count": 11,
   "id": "fa05d0e2",
   "metadata": {},
   "outputs": [],
   "source": [
    "x = df.copy()"
   ]
  },
  {
   "cell_type": "code",
   "execution_count": 12,
   "id": "fd7af646",
   "metadata": {},
   "outputs": [],
   "source": [
    "from sklearn.preprocessing import StandardScaler\n",
    "\n",
    "scaler = StandardScaler()\n",
    "\n",
    "df_scaled = scaler.fit_transform(X)"
   ]
  },
  {
   "cell_type": "code",
   "execution_count": 13,
   "id": "1d0b0e50",
   "metadata": {},
   "outputs": [
    {
     "data": {
      "text/plain": [
       "array([[-0.90068117,  1.03205722, -1.3412724 , -1.31297673],\n",
       "       [-1.14301691, -0.1249576 , -1.3412724 , -1.31297673],\n",
       "       [-1.38535265,  0.33784833, -1.39813811, -1.31297673],\n",
       "       [-1.50652052,  0.10644536, -1.2844067 , -1.31297673],\n",
       "       [-1.02184904,  1.26346019, -1.3412724 , -1.31297673]])"
      ]
     },
     "execution_count": 13,
     "metadata": {},
     "output_type": "execute_result"
    }
   ],
   "source": [
    "df_scaled[:5,:]     # (rows:columns)"
   ]
  },
  {
   "cell_type": "markdown",
   "id": "b794402c",
   "metadata": {},
   "source": [
    "# Apply PCA on Scaled Data\n",
    "\n",
    "\n",
    "* It is very important to use standard scaler to scale data before applying PCA.\n",
    "\n",
    "* Not use any other scaler."
   ]
  },
  {
   "cell_type": "code",
   "execution_count": 14,
   "id": "125e5540",
   "metadata": {},
   "outputs": [],
   "source": [
    "from sklearn.decomposition import PCA\n",
    "\n",
    "pca = PCA(random_state=42)"
   ]
  },
  {
   "cell_type": "code",
   "execution_count": 15,
   "id": "7b6230ce",
   "metadata": {},
   "outputs": [],
   "source": [
    "?PCA"
   ]
  },
  {
   "cell_type": "code",
   "execution_count": 16,
   "id": "6a2dd3ac",
   "metadata": {},
   "outputs": [
    {
     "data": {
      "text/plain": [
       "array([[-2.26454173e+00,  5.05703903e-01, -1.21943348e-01,\n",
       "        -2.30733235e-02],\n",
       "       [-2.08642550e+00, -6.55404729e-01, -2.27250832e-01,\n",
       "        -1.03208244e-01],\n",
       "       [-2.36795045e+00, -3.18477311e-01,  5.14796236e-02,\n",
       "        -2.78252250e-02],\n",
       "       [-2.30419716e+00, -5.75367713e-01,  9.88604444e-02,\n",
       "         6.63114622e-02],\n",
       "       [-2.38877749e+00,  6.74767397e-01,  2.14278490e-02,\n",
       "         3.73972870e-02],\n",
       "       [-2.07053681e+00,  1.51854856e+00,  3.06842583e-02,\n",
       "        -4.39877494e-03],\n",
       "       [-2.44571134e+00,  7.45626750e-02,  3.42197636e-01,\n",
       "         3.80965668e-02],\n",
       "       [-2.23384186e+00,  2.47613932e-01, -8.25744645e-02,\n",
       "         2.55051623e-02],\n",
       "       [-2.34195768e+00, -1.09514636e+00,  1.53562399e-01,\n",
       "         2.67938291e-02],\n",
       "       [-2.18867576e+00, -4.48629048e-01, -2.46559522e-01,\n",
       "         3.99073035e-02],\n",
       "       [-2.16348656e+00,  1.07059558e+00, -2.64009373e-01,\n",
       "        -1.53011377e-02],\n",
       "       [-2.32737775e+00,  1.58587455e-01,  1.00165616e-01,\n",
       "         1.34554258e-01],\n",
       "       [-2.22408272e+00, -7.09118158e-01, -2.23214514e-01,\n",
       "        -2.63061382e-03],\n",
       "       [-2.63971626e+00, -9.38281982e-01,  1.89570030e-01,\n",
       "         1.94220183e-02],\n",
       "       [-2.19229151e+00,  1.88997851e+00, -4.69480095e-01,\n",
       "        -1.92782042e-01],\n",
       "       [-2.25146521e+00,  2.72237108e+00,  3.26037967e-02,\n",
       "        -4.71257043e-02],\n",
       "       [-2.20275048e+00,  1.51375028e+00, -1.36349158e-03,\n",
       "        -1.86631581e-01],\n",
       "       [-2.19017916e+00,  5.14304308e-01, -3.86155949e-02,\n",
       "        -9.19055067e-02],\n",
       "       [-1.89407429e+00,  1.43111071e+00, -3.70742834e-01,\n",
       "        -5.95280968e-02],\n",
       "       [-2.33994907e+00,  1.15803343e+00,  1.37417719e-01,\n",
       "         3.98281842e-02],\n",
       "       [-1.91455639e+00,  4.30465163e-01, -4.16006875e-01,\n",
       "        -1.03602240e-02],\n",
       "       [-2.20464540e+00,  9.52457317e-01,  1.64738346e-01,\n",
       "        -5.77291622e-02],\n",
       "       [-2.77416979e+00,  4.89517027e-01,  3.38836384e-01,\n",
       "        -1.78537297e-02],\n",
       "       [-1.82041156e+00,  1.06750793e-01,  4.00614724e-02,\n",
       "        -1.50345595e-01],\n",
       "       [-2.22821750e+00,  1.62186163e-01,  1.24201428e-01,\n",
       "         2.71228863e-01],\n",
       "       [-1.95702401e+00, -6.07892567e-01, -2.98591029e-01,\n",
       "        -4.38372887e-02],\n",
       "       [-2.05206331e+00,  2.66014312e-01,  9.20929788e-02,\n",
       "        -6.66010028e-02],\n",
       "       [-2.16819365e+00,  5.52016495e-01, -2.01295482e-01,\n",
       "        -9.26056927e-03],\n",
       "       [-2.14030596e+00,  3.36640409e-01, -2.65314545e-01,\n",
       "        -8.35439339e-02],\n",
       "       [-2.26879019e+00, -3.14878603e-01,  7.55154360e-02,\n",
       "         1.08849380e-01],\n",
       "       [-2.14455443e+00, -4.83942097e-01, -6.78557607e-02,\n",
       "         4.83787691e-02],\n",
       "       [-1.83193810e+00,  4.45266836e-01, -2.65375244e-01,\n",
       "        -2.39140994e-01],\n",
       "       [-2.60820287e+00,  1.82847519e+00,  5.14195182e-02,\n",
       "         2.31922593e-01],\n",
       "       [-2.43795086e+00,  2.18539162e+00, -7.93497549e-02,\n",
       "         5.10210291e-02],\n",
       "       [-2.18867576e+00, -4.48629048e-01, -2.46559522e-01,\n",
       "         3.99073035e-02],\n",
       "       [-2.21111990e+00, -1.84337811e-01, -2.18624528e-01,\n",
       "        -1.68619769e-01],\n",
       "       [-2.04441652e+00,  6.84956426e-01, -4.79411570e-01,\n",
       "        -1.95613314e-01],\n",
       "       [-2.18867576e+00, -4.48629048e-01, -2.46559522e-01,\n",
       "         3.99073035e-02],\n",
       "       [-2.43595220e+00, -8.82169415e-01,  2.01557587e-01,\n",
       "         9.96079072e-03],\n",
       "       [-2.17054720e+00,  2.92726955e-01, -1.69938536e-01,\n",
       "        -6.24028506e-03],\n",
       "       [-2.28652724e+00,  4.67991716e-01,  4.07365390e-02,\n",
       "        -1.05718261e-01],\n",
       "       [-1.87170722e+00, -2.32769161e+00, -1.94528610e-01,\n",
       "        -2.91692982e-01],\n",
       "       [-2.55783442e+00, -4.53816380e-01,  3.13571838e-01,\n",
       "         6.74111170e-02],\n",
       "       [-1.96427929e+00,  4.97391640e-01,  3.14755610e-01,\n",
       "        -1.75540206e-01],\n",
       "       [-2.13337283e+00,  1.17143211e+00,  2.52793222e-01,\n",
       "         1.53228807e-01],\n",
       "       [-2.07535759e+00, -6.91917347e-01, -5.65590082e-02,\n",
       "        -1.40294980e-01],\n",
       "       [-2.38125822e+00,  1.15063259e+00,  6.21019035e-02,\n",
       "         1.54218569e-01],\n",
       "       [-2.39819169e+00, -3.62390765e-01,  1.46855632e-01,\n",
       "         4.94784238e-02],\n",
       "       [-2.22678121e+00,  1.02548255e+00, -1.76645302e-01,\n",
       "         1.64443096e-02],\n",
       "       [-2.20595417e+00,  3.22378453e-02, -1.46593527e-01,\n",
       "        -4.87782024e-02],\n",
       "       [ 1.10399365e+00,  8.63112446e-01, -6.85555108e-01,\n",
       "        -3.49778613e-02],\n",
       "       [ 7.32481440e-01,  5.98635573e-01, -9.40668020e-02,\n",
       "        -4.45376367e-03],\n",
       "       [ 1.24210951e+00,  6.14822450e-01, -5.54846534e-01,\n",
       "        -9.67335738e-03],\n",
       "       [ 3.97307283e-01, -1.75816895e+00, -1.85694824e-02,\n",
       "        -6.73978468e-02],\n",
       "       [ 1.07259395e+00, -2.11757903e-01, -3.97447438e-01,\n",
       "        -1.05541662e-01],\n",
       "       [ 3.84458146e-01, -5.91062469e-01,  1.26797690e-01,\n",
       "         2.40528082e-01],\n",
       "       [ 7.48715076e-01,  7.78698611e-01,  1.48656023e-01,\n",
       "         7.83010665e-02],\n",
       "       [-4.97863388e-01, -1.84886877e+00,  2.55555250e-01,\n",
       "         3.93891395e-02],\n",
       "       [ 9.26222368e-01,  3.03308268e-02, -5.95459889e-01,\n",
       "         2.91024204e-02],\n",
       "       [ 4.96802558e-03, -1.02940111e+00,  5.42867049e-01,\n",
       "         2.83487629e-02],\n",
       "       [-1.24697461e-01, -2.65806268e+00, -3.98134482e-02,\n",
       "        -1.61405573e-02],\n",
       "       [ 4.38730118e-01, -5.88812850e-02,  2.06703491e-01,\n",
       "        -3.98514578e-02],\n",
       "       [ 5.51633981e-01, -1.77258156e+00, -7.61380223e-01,\n",
       "        -4.83536968e-02],\n",
       "       [ 7.17165066e-01, -1.85434315e-01, -6.72998424e-02,\n",
       "         1.64555675e-01],\n",
       "       [-3.72583830e-02, -4.32795099e-01,  1.98061449e-01,\n",
       "        -1.09025121e-01],\n",
       "       [ 8.75890536e-01,  5.09998151e-01, -5.03505832e-01,\n",
       "        -1.05141287e-01],\n",
       "       [ 3.48006402e-01, -1.90621647e-01,  4.92831518e-01,\n",
       "         1.92059489e-01],\n",
       "       [ 1.53392545e-01, -7.90725456e-01, -2.98604516e-01,\n",
       "         2.04321215e-01],\n",
       "       [ 1.21530321e+00, -1.63335564e+00, -4.79409914e-01,\n",
       "        -2.28214500e-01],\n",
       "       [ 1.56941176e-01, -1.30310327e+00, -1.68586746e-01,\n",
       "         5.04131971e-02],\n",
       "       [ 7.38256104e-01,  4.02470382e-01,  6.16772626e-01,\n",
       "         8.44515277e-02],\n",
       "       [ 4.72369682e-01, -4.16608222e-01, -2.62718283e-01,\n",
       "        -1.14244715e-01],\n",
       "       [ 1.22798821e+00, -9.40914793e-01, -3.66704859e-01,\n",
       "         8.44834785e-03],\n",
       "       [ 6.29381045e-01, -4.16811643e-01, -2.89962474e-01,\n",
       "         2.73494879e-01],\n",
       "       [ 7.00472799e-01, -6.34939277e-02, -4.44767559e-01,\n",
       "        -4.40812895e-02],\n",
       "       [ 8.73536987e-01,  2.50708611e-01, -4.72148886e-01,\n",
       "        -1.02121003e-01],\n",
       "       [ 1.25422219e+00, -8.26200998e-02, -7.26843529e-01,\n",
       "        -4.08294177e-02],\n",
       "       [ 1.35823985e+00,  3.28820266e-01, -2.61458074e-01,\n",
       "        -6.70137909e-02],\n",
       "       [ 6.62126138e-01, -2.24346071e-01,  8.73681069e-02,\n",
       "         3.63525363e-02],\n",
       "       [-4.72815133e-02, -1.05721241e+00, -3.15319195e-01,\n",
       "        -6.60077099e-02],\n",
       "       [ 1.21534209e-01, -1.56359238e+00, -1.45241738e-01,\n",
       "         7.87527979e-03],\n",
       "       [ 1.41182261e-02, -1.57339235e+00, -2.36581428e-01,\n",
       "         3.11492615e-02],\n",
       "       [ 2.36010837e-01, -7.75923784e-01, -1.47972885e-01,\n",
       "        -2.44595546e-02],\n",
       "       [ 1.05669143e+00, -6.36901284e-01,  1.06753234e-01,\n",
       "         1.83419236e-01],\n",
       "       [ 2.21417088e-01, -2.80847693e-01,  6.67559660e-01,\n",
       "         2.55550383e-01],\n",
       "       [ 4.31783161e-01,  8.55136920e-01,  4.50731487e-01,\n",
       "         1.11146169e-01],\n",
       "       [ 1.04941336e+00,  5.22197265e-01, -3.96142266e-01,\n",
       "        -3.72988658e-02],\n",
       "       [ 1.03587821e+00, -1.39246648e+00, -6.85434303e-01,\n",
       "        -1.39128619e-01],\n",
       "       [ 6.70675999e-02, -2.12620735e-01,  2.94128262e-01,\n",
       "         1.47491049e-01],\n",
       "       [ 2.75425066e-01, -1.32981591e+00,  9.34447685e-02,\n",
       "        -9.94752060e-03],\n",
       "       [ 2.72335066e-01, -1.11944152e+00,  9.81718909e-02,\n",
       "         2.69842632e-01],\n",
       "       [ 6.23170540e-01,  2.75426333e-02, -1.93046544e-02,\n",
       "         1.47722637e-01],\n",
       "       [ 3.30005364e-01, -9.88900732e-01, -1.95968073e-01,\n",
       "        -7.62651620e-03],\n",
       "       [-3.73627623e-01, -2.01793227e+00,  1.12184053e-01,\n",
       "        -2.10814710e-02],\n",
       "       [ 2.82944343e-01, -8.53950717e-01,  1.34118823e-01,\n",
       "         1.06873761e-01],\n",
       "       [ 8.90531103e-02, -1.74908548e-01,  1.31448375e-01,\n",
       "         2.30135987e-01],\n",
       "       [ 2.24356783e-01, -3.80484659e-01,  1.58769003e-01,\n",
       "         1.32578640e-01],\n",
       "       [ 5.73883486e-01, -1.53719974e-01, -2.70039416e-01,\n",
       "         1.94096051e-02],\n",
       "       [-4.57012873e-01, -1.53946451e+00,  1.96126173e-01,\n",
       "        -2.00883380e-01],\n",
       "       [ 2.52244473e-01, -5.95860746e-01,  9.47499397e-02,\n",
       "         5.82952756e-02],\n",
       "       [ 1.84767259e+00,  8.71696662e-01,  1.00276099e+00,\n",
       "         5.10680368e-02],\n",
       "       [ 1.15318981e+00, -7.01326114e-01,  5.31464635e-01,\n",
       "         4.04135807e-02],\n",
       "       [ 2.20634950e+00,  5.54470105e-01, -2.05495910e-01,\n",
       "        -5.93004996e-02],\n",
       "       [ 1.43868540e+00, -5.00105223e-02,  1.63390464e-01,\n",
       "         2.35759861e-01],\n",
       "       [ 1.86789070e+00,  2.91192802e-01,  3.94004333e-01,\n",
       "         1.67817996e-02],\n",
       "       [ 2.75419671e+00,  7.88432206e-01, -5.86232704e-01,\n",
       "         1.00879674e-01],\n",
       "       [ 3.58374475e-01, -1.56009458e+00,  9.90999895e-01,\n",
       "         1.32987438e-01],\n",
       "       [ 2.30300590e+00,  4.09516695e-01, -6.54166687e-01,\n",
       "         2.37212798e-01],\n",
       "       [ 2.00173530e+00, -7.23865359e-01, -3.94070448e-01,\n",
       "         8.49938224e-02],\n",
       "       [ 2.26755460e+00,  1.92144299e+00,  3.92517658e-01,\n",
       "        -1.02907298e-01],\n",
       "       [ 1.36590943e+00,  6.93948040e-01,  2.83279516e-01,\n",
       "        -1.07010918e-01],\n",
       "       [ 1.59906459e+00, -4.28248836e-01,  2.33040821e-02,\n",
       "        -5.89427002e-02],\n",
       "       [ 1.88425185e+00,  4.14332758e-01,  2.45485540e-02,\n",
       "        -1.46296964e-01],\n",
       "       [ 1.25308651e+00, -1.16739134e+00,  5.82130271e-01,\n",
       "        -9.96816830e-02],\n",
       "       [ 1.46406152e+00, -4.44147569e-01,  1.00411052e+00,\n",
       "        -2.75022173e-01],\n",
       "       [ 1.59180930e+00,  6.77035372e-01,  6.36650721e-01,\n",
       "        -1.90645618e-01],\n",
       "       [ 1.47128019e+00,  2.53192472e-01,  3.66575092e-02,\n",
       "         1.55435928e-01],\n",
       "       [ 2.43737848e+00,  2.55675734e+00, -1.34200082e-01,\n",
       "         2.75661550e-01],\n",
       "       [ 3.30914118e+00, -2.36132010e-03, -7.06933959e-01,\n",
       "        -4.67561875e-02],\n",
       "       [ 1.25398099e+00, -1.71758384e+00, -2.64622084e-01,\n",
       "         6.30674020e-02],\n",
       "       [ 2.04049626e+00,  9.07398765e-01,  2.31878114e-01,\n",
       "        -1.67140048e-01],\n",
       "       [ 9.73915114e-01, -5.71174376e-01,  8.29503781e-01,\n",
       "        -2.73189478e-02],\n",
       "       [ 2.89806444e+00,  3.97791359e-01, -8.60926842e-01,\n",
       "         1.26074286e-01],\n",
       "       [ 1.32919369e+00, -4.86760542e-01, -4.70734933e-03,\n",
       "        -1.40597876e-01],\n",
       "       [ 1.70424071e+00,  1.01414842e+00,  2.95957877e-01,\n",
       "         6.27403760e-02],\n",
       "       [ 1.95772766e+00,  1.00333452e+00, -4.22817052e-01,\n",
       "         2.18459131e-01],\n",
       "       [ 1.17190451e+00, -3.18896617e-01,  1.30651910e-01,\n",
       "        -1.25685467e-01],\n",
       "       [ 1.01978105e+00,  6.55429631e-02,  3.38042170e-01,\n",
       "         9.06850833e-03],\n",
       "       [ 1.78600886e+00, -1.93272800e-01,  2.70002526e-01,\n",
       "        -3.12072991e-02],\n",
       "       [ 1.86477791e+00,  5.55381532e-01, -7.17510683e-01,\n",
       "         2.07556768e-01],\n",
       "       [ 2.43549739e+00,  2.46654468e-01, -7.30234006e-01,\n",
       "         1.67936017e-02],\n",
       "       [ 2.31608241e+00,  2.62618387e+00, -4.99619543e-01,\n",
       "         2.13160418e-01],\n",
       "       [ 1.86037143e+00, -1.84672394e-01,  3.53330279e-01,\n",
       "        -1.00039482e-01],\n",
       "       [ 1.11127173e+00, -2.95986102e-01, -1.82659608e-01,\n",
       "         1.85740240e-01],\n",
       "       [ 1.19746916e+00, -8.17167742e-01, -1.63213782e-01,\n",
       "         4.88404000e-01],\n",
       "       [ 2.80094940e+00,  8.44748194e-01, -5.47000957e-01,\n",
       "        -2.96321147e-01],\n",
       "       [ 1.58015525e+00,  1.07247450e+00,  9.43392608e-01,\n",
       "        -3.36074229e-02],\n",
       "       [ 1.34704442e+00,  4.22255966e-01,  1.80028706e-01,\n",
       "         2.15906539e-01],\n",
       "       [ 9.23432978e-01,  1.92303705e-02,  4.17394303e-01,\n",
       "        -4.74424586e-03],\n",
       "       [ 1.85355198e+00,  6.72422729e-01, -1.48203294e-02,\n",
       "        -1.94875449e-01],\n",
       "       [ 2.01615720e+00,  6.10397038e-01,  4.25914947e-01,\n",
       "        -2.46764702e-01],\n",
       "       [ 1.90311686e+00,  6.86024832e-01,  1.27799364e-01,\n",
       "        -4.69214421e-01],\n",
       "       [ 1.15318981e+00, -7.01326114e-01,  5.31464635e-01,\n",
       "         4.04135807e-02],\n",
       "       [ 2.04330844e+00,  8.64684880e-01,  3.35266061e-01,\n",
       "        -4.42781979e-02],\n",
       "       [ 2.00169097e+00,  1.04855005e+00,  6.29268888e-01,\n",
       "        -2.12588357e-01],\n",
       "       [ 1.87052207e+00,  3.82821838e-01,  2.54532319e-01,\n",
       "        -3.88890487e-01],\n",
       "       [ 1.55849189e+00, -9.05313601e-01, -2.53819099e-02,\n",
       "        -2.21322184e-01],\n",
       "       [ 1.52084506e+00,  2.66794575e-01,  1.79277203e-01,\n",
       "        -1.18903043e-01],\n",
       "       [ 1.37639119e+00,  1.01636193e+00,  9.31405052e-01,\n",
       "        -2.41461953e-02],\n",
       "       [ 9.59298576e-01, -2.22839447e-02,  5.28794187e-01,\n",
       "         1.63675806e-01]])"
      ]
     },
     "execution_count": 16,
     "metadata": {},
     "output_type": "execute_result"
    }
   ],
   "source": [
    "pca.fit_transform(df_scaled)"
   ]
  },
  {
   "cell_type": "code",
   "execution_count": 17,
   "id": "f264a99d",
   "metadata": {},
   "outputs": [
    {
     "data": {
      "text/plain": [
       "array([[ 0.52237162, -0.26335492,  0.58125401,  0.56561105],\n",
       "       [ 0.37231836,  0.92555649,  0.02109478,  0.06541577],\n",
       "       [-0.72101681,  0.24203288,  0.14089226,  0.6338014 ],\n",
       "       [-0.26199559,  0.12413481,  0.80115427, -0.52354627]])"
      ]
     },
     "execution_count": 17,
     "metadata": {},
     "output_type": "execute_result"
    }
   ],
   "source": [
    "# Eighenvectors\n",
    "# The number of eigenvectors is equal to the number of variables in the dataset\n",
    "# Eigenvectors represent the directions of the principal components in PCA\n",
    "\n",
    "pca.components_"
   ]
  },
  {
   "cell_type": "code",
   "execution_count": 18,
   "id": "cefb1f1f",
   "metadata": {},
   "outputs": [
    {
     "data": {
      "text/plain": [
       "array([0.72770452, 0.23030523, 0.03683832, 0.00515193])"
      ]
     },
     "execution_count": 18,
     "metadata": {},
     "output_type": "execute_result"
    }
   ],
   "source": [
    "# Eighenvalues\n",
    "# Eigenvalues represent the amount of variance explained by each principal component in PCA\n",
    "# The number of eigenvalues is equal to the number of features.\n",
    "\n",
    "pca.explained_variance_ratio_"
   ]
  },
  {
   "cell_type": "code",
   "execution_count": 19,
   "id": "f6fcacf9",
   "metadata": {},
   "outputs": [
    {
     "data": {
      "text/html": [
       "<div>\n",
       "<style scoped>\n",
       "    .dataframe tbody tr th:only-of-type {\n",
       "        vertical-align: middle;\n",
       "    }\n",
       "\n",
       "    .dataframe tbody tr th {\n",
       "        vertical-align: top;\n",
       "    }\n",
       "\n",
       "    .dataframe thead th {\n",
       "        text-align: right;\n",
       "    }\n",
       "</style>\n",
       "<table border=\"1\" class=\"dataframe\">\n",
       "  <thead>\n",
       "    <tr style=\"text-align: right;\">\n",
       "      <th></th>\n",
       "      <th>PC1</th>\n",
       "      <th>PC2</th>\n",
       "      <th>PC3</th>\n",
       "      <th>PC4</th>\n",
       "    </tr>\n",
       "  </thead>\n",
       "  <tbody>\n",
       "    <tr>\n",
       "      <th>0</th>\n",
       "      <td>-2.264542</td>\n",
       "      <td>0.505704</td>\n",
       "      <td>-0.121943</td>\n",
       "      <td>-0.023073</td>\n",
       "    </tr>\n",
       "    <tr>\n",
       "      <th>1</th>\n",
       "      <td>-2.086426</td>\n",
       "      <td>-0.655405</td>\n",
       "      <td>-0.227251</td>\n",
       "      <td>-0.103208</td>\n",
       "    </tr>\n",
       "    <tr>\n",
       "      <th>2</th>\n",
       "      <td>-2.367950</td>\n",
       "      <td>-0.318477</td>\n",
       "      <td>0.051480</td>\n",
       "      <td>-0.027825</td>\n",
       "    </tr>\n",
       "    <tr>\n",
       "      <th>3</th>\n",
       "      <td>-2.304197</td>\n",
       "      <td>-0.575368</td>\n",
       "      <td>0.098860</td>\n",
       "      <td>0.066311</td>\n",
       "    </tr>\n",
       "    <tr>\n",
       "      <th>4</th>\n",
       "      <td>-2.388777</td>\n",
       "      <td>0.674767</td>\n",
       "      <td>0.021428</td>\n",
       "      <td>0.037397</td>\n",
       "    </tr>\n",
       "    <tr>\n",
       "      <th>...</th>\n",
       "      <td>...</td>\n",
       "      <td>...</td>\n",
       "      <td>...</td>\n",
       "      <td>...</td>\n",
       "    </tr>\n",
       "    <tr>\n",
       "      <th>145</th>\n",
       "      <td>1.870522</td>\n",
       "      <td>0.382822</td>\n",
       "      <td>0.254532</td>\n",
       "      <td>-0.388890</td>\n",
       "    </tr>\n",
       "    <tr>\n",
       "      <th>146</th>\n",
       "      <td>1.558492</td>\n",
       "      <td>-0.905314</td>\n",
       "      <td>-0.025382</td>\n",
       "      <td>-0.221322</td>\n",
       "    </tr>\n",
       "    <tr>\n",
       "      <th>147</th>\n",
       "      <td>1.520845</td>\n",
       "      <td>0.266795</td>\n",
       "      <td>0.179277</td>\n",
       "      <td>-0.118903</td>\n",
       "    </tr>\n",
       "    <tr>\n",
       "      <th>148</th>\n",
       "      <td>1.376391</td>\n",
       "      <td>1.016362</td>\n",
       "      <td>0.931405</td>\n",
       "      <td>-0.024146</td>\n",
       "    </tr>\n",
       "    <tr>\n",
       "      <th>149</th>\n",
       "      <td>0.959299</td>\n",
       "      <td>-0.022284</td>\n",
       "      <td>0.528794</td>\n",
       "      <td>0.163676</td>\n",
       "    </tr>\n",
       "  </tbody>\n",
       "</table>\n",
       "<p>150 rows × 4 columns</p>\n",
       "</div>"
      ],
      "text/plain": [
       "          PC1       PC2       PC3       PC4\n",
       "0   -2.264542  0.505704 -0.121943 -0.023073\n",
       "1   -2.086426 -0.655405 -0.227251 -0.103208\n",
       "2   -2.367950 -0.318477  0.051480 -0.027825\n",
       "3   -2.304197 -0.575368  0.098860  0.066311\n",
       "4   -2.388777  0.674767  0.021428  0.037397\n",
       "..        ...       ...       ...       ...\n",
       "145  1.870522  0.382822  0.254532 -0.388890\n",
       "146  1.558492 -0.905314 -0.025382 -0.221322\n",
       "147  1.520845  0.266795  0.179277 -0.118903\n",
       "148  1.376391  1.016362  0.931405 -0.024146\n",
       "149  0.959299 -0.022284  0.528794  0.163676\n",
       "\n",
       "[150 rows x 4 columns]"
      ]
     },
     "execution_count": 19,
     "metadata": {},
     "output_type": "execute_result"
    }
   ],
   "source": [
    "df_pca = pd.DataFrame(pca.fit_transform(df_scaled), columns = ['PC1','PC2','PC3','PC4'])\n",
    "df_pca"
   ]
  },
  {
   "cell_type": "code",
   "execution_count": 20,
   "id": "ce59cce6",
   "metadata": {},
   "outputs": [
    {
     "data": {
      "text/html": [
       "<div>\n",
       "<style scoped>\n",
       "    .dataframe tbody tr th:only-of-type {\n",
       "        vertical-align: middle;\n",
       "    }\n",
       "\n",
       "    .dataframe tbody tr th {\n",
       "        vertical-align: top;\n",
       "    }\n",
       "\n",
       "    .dataframe thead th {\n",
       "        text-align: right;\n",
       "    }\n",
       "</style>\n",
       "<table border=\"1\" class=\"dataframe\">\n",
       "  <thead>\n",
       "    <tr style=\"text-align: right;\">\n",
       "      <th></th>\n",
       "      <th>PC1</th>\n",
       "      <th>PC2</th>\n",
       "      <th>PC3</th>\n",
       "      <th>PC4</th>\n",
       "    </tr>\n",
       "  </thead>\n",
       "  <tbody>\n",
       "    <tr>\n",
       "      <th>PC1</th>\n",
       "      <td>1.000000e+00</td>\n",
       "      <td>-1.517135e-16</td>\n",
       "      <td>-9.041105e-17</td>\n",
       "      <td>-7.555037e-18</td>\n",
       "    </tr>\n",
       "    <tr>\n",
       "      <th>PC2</th>\n",
       "      <td>-1.517135e-16</td>\n",
       "      <td>1.000000e+00</td>\n",
       "      <td>-1.390532e-16</td>\n",
       "      <td>-2.056404e-18</td>\n",
       "    </tr>\n",
       "    <tr>\n",
       "      <th>PC3</th>\n",
       "      <td>-9.041105e-17</td>\n",
       "      <td>-1.390532e-16</td>\n",
       "      <td>1.000000e+00</td>\n",
       "      <td>6.883639e-17</td>\n",
       "    </tr>\n",
       "    <tr>\n",
       "      <th>PC4</th>\n",
       "      <td>-7.555037e-18</td>\n",
       "      <td>-2.056404e-18</td>\n",
       "      <td>6.883639e-17</td>\n",
       "      <td>1.000000e+00</td>\n",
       "    </tr>\n",
       "  </tbody>\n",
       "</table>\n",
       "</div>"
      ],
      "text/plain": [
       "              PC1           PC2           PC3           PC4\n",
       "PC1  1.000000e+00 -1.517135e-16 -9.041105e-17 -7.555037e-18\n",
       "PC2 -1.517135e-16  1.000000e+00 -1.390532e-16 -2.056404e-18\n",
       "PC3 -9.041105e-17 -1.390532e-16  1.000000e+00  6.883639e-17\n",
       "PC4 -7.555037e-18 -2.056404e-18  6.883639e-17  1.000000e+00"
      ]
     },
     "execution_count": 20,
     "metadata": {},
     "output_type": "execute_result"
    }
   ],
   "source": [
    "df_pca.corr()"
   ]
  },
  {
   "cell_type": "code",
   "execution_count": 21,
   "id": "347cd2de",
   "metadata": {},
   "outputs": [
    {
     "data": {
      "text/plain": [
       "<AxesSubplot:>"
      ]
     },
     "execution_count": 21,
     "metadata": {},
     "output_type": "execute_result"
    },
    {
     "data": {
      "image/png": "[encoded data removed]",
      "text/plain": [
       "<Figure size 640x480 with 2 Axes>"
      ]
     },
     "metadata": {},
     "output_type": "display_data"
    }
   ],
   "source": [
    "sns.heatmap(df_pca.corr(),annot=True)"
   ]
  },
  {
   "cell_type": "markdown",
   "id": "6d7ee383",
   "metadata": {},
   "source": [
    "### Principal Components doesn't contain colinearity and multicolinearity"
   ]
  },
  {
   "cell_type": "markdown",
   "id": "ebd815e2",
   "metadata": {},
   "source": [
    "# Visualizing Principal Components\n",
    "\n",
    "\n",
    "* We Visualize Principal Components because to find the number of principal components which contains maximum variance.\n",
    "\n",
    "\n",
    "* We also visualize that what principal component contain what amount of variance.\n",
    "\n",
    "\n",
    "* Principal Component = newly created features/columns by PCA"
   ]
  },
  {
   "cell_type": "markdown",
   "id": "58a38c71",
   "metadata": {},
   "source": [
    "## Bar plot :- To visualize what PC contain what amount of variance"
   ]
  },
  {
   "cell_type": "code",
   "execution_count": 22,
   "id": "d3f7ff40",
   "metadata": {},
   "outputs": [
    {
     "data": {
      "text/plain": [
       "<BarContainer object of 4 artists>"
      ]
     },
     "execution_count": 22,
     "metadata": {},
     "output_type": "execute_result"
    },
    {
     "data": {
      "image/png": "[encoded data removed]",
      "text/plain": [
       "<Figure size 640x480 with 1 Axes>"
      ]
     },
     "metadata": {},
     "output_type": "display_data"
    }
   ],
   "source": [
    "plt.bar(range(1,len(pca.explained_variance_ratio_)+1),pca.explained_variance_ratio_)"
   ]
  },
  {
   "cell_type": "markdown",
   "id": "5e1ee974",
   "metadata": {},
   "source": [
    "### As we see PC1 contains almost 70% of variance and PC2 contains almost 20% of variance."
   ]
  },
  {
   "cell_type": "markdown",
   "id": "37bfa8b5",
   "metadata": {},
   "source": [
    "## Scree Plot :-  A scree plot shows how much variation each PC captures from the data. The y axis is eigenvalues, which essentially stand for the amount of variation. Use a scree plot to select the principal components to keep.\n",
    "\n",
    "\n",
    "* y axis- Eigenvalues/Variability value explained/information\n",
    "\n",
    "\n",
    "* x axis- columns/vectors/ eigenvectors\n"
   ]
  },
  {
   "cell_type": "markdown",
   "id": "8d68debc",
   "metadata": {},
   "source": [
    "* A scree plot is a graph that is commonly used in principal component analysis (PCA) to help identify the number of principal components that should be retained in the analysis.\n",
    "\n",
    "\n",
    "* In PCA, the goal is to reduce the dimensionality of a dataset by finding a smaller number of variables (i.e., principal components) that explain most of the variation in the original data. The scree plot is a graphical representation of the amount of variance explained by each principal component. It plots the eigenvalues of each principal component against the component number, in descending order."
   ]
  },
  {
   "cell_type": "code",
   "execution_count": 23,
   "id": "bc6dd0c9",
   "metadata": {},
   "outputs": [],
   "source": [
    "var_cumu = np.cumsum(pca.explained_variance_ratio_)"
   ]
  },
  {
   "cell_type": "code",
   "execution_count": 24,
   "id": "40d250b0",
   "metadata": {},
   "outputs": [
    {
     "data": {
      "text/plain": [
       "[<matplotlib.lines.Line2D at 0x1c3bf23f640>]"
      ]
     },
     "execution_count": 24,
     "metadata": {},
     "output_type": "execute_result"
    },
    {
     "data": {
      "image/png": "[encoded data removed]",
      "text/plain": [
       "<Figure size 640x480 with 1 Axes>"
      ]
     },
     "metadata": {},
     "output_type": "display_data"
    }
   ],
   "source": [
    "plt.plot(range(1,len(var_cumu)+1),var_cumu)"
   ]
  },
  {
   "cell_type": "markdown",
   "id": "962779da",
   "metadata": {},
   "source": [
    "### As we see our 2 PC contains almost 96-98% Variance so we select no. of  PC=2"
   ]
  },
  {
   "cell_type": "code",
   "execution_count": 25,
   "id": "2f8a4d22",
   "metadata": {},
   "outputs": [],
   "source": [
    "pc2 = PCA(n_components=2, random_state=42) # It will give only 2 PC and drop all remaining PC"
   ]
  },
  {
   "cell_type": "code",
   "execution_count": 26,
   "id": "f0311d03",
   "metadata": {},
   "outputs": [],
   "source": [
    "new_df = pc2.fit_transform(df_scaled)"
   ]
  },
  {
   "cell_type": "code",
   "execution_count": 27,
   "id": "ea80a1ae",
   "metadata": {},
   "outputs": [
    {
     "data": {
      "text/plain": [
       "(150, 2)"
      ]
     },
     "execution_count": 27,
     "metadata": {},
     "output_type": "execute_result"
    }
   ],
   "source": [
    "new_df.shape"
   ]
  },
  {
   "cell_type": "markdown",
   "id": "91ea3d19",
   "metadata": {},
   "source": [
    "## We can select a threshold for proportion of variance. So, PCA gives only those PC which carrying given amount of variance and remove remaing PC's."
   ]
  },
  {
   "cell_type": "code",
   "execution_count": 28,
   "id": "3e3c9139",
   "metadata": {},
   "outputs": [],
   "source": [
    "pc3 =PCA (0.90)"
   ]
  },
  {
   "cell_type": "code",
   "execution_count": 29,
   "id": "30fde928",
   "metadata": {},
   "outputs": [],
   "source": [
    "new_df1 = pc3.fit_transform(df_scaled)"
   ]
  },
  {
   "cell_type": "code",
   "execution_count": 30,
   "id": "0af47f04",
   "metadata": {},
   "outputs": [
    {
     "data": {
      "text/plain": [
       "(150, 2)"
      ]
     },
     "execution_count": 30,
     "metadata": {},
     "output_type": "execute_result"
    }
   ],
   "source": [
    "new_df1.shape"
   ]
  },
  {
   "cell_type": "markdown",
   "id": "0f854f08",
   "metadata": {},
   "source": [
    "### It gives 2 PC because 2 PC conatins 90% of variance."
   ]
  },
  {
   "cell_type": "markdown",
   "id": "b7393666",
   "metadata": {},
   "source": [
    "### Making a Data Frame of PC"
   ]
  },
  {
   "cell_type": "code",
   "execution_count": 31,
   "id": "6215f1ac",
   "metadata": {},
   "outputs": [
    {
     "data": {
      "text/html": [
       "<div>\n",
       "<style scoped>\n",
       "    .dataframe tbody tr th:only-of-type {\n",
       "        vertical-align: middle;\n",
       "    }\n",
       "\n",
       "    .dataframe tbody tr th {\n",
       "        vertical-align: top;\n",
       "    }\n",
       "\n",
       "    .dataframe thead th {\n",
       "        text-align: right;\n",
       "    }\n",
       "</style>\n",
       "<table border=\"1\" class=\"dataframe\">\n",
       "  <thead>\n",
       "    <tr style=\"text-align: right;\">\n",
       "      <th></th>\n",
       "      <th>PC1</th>\n",
       "      <th>PC2</th>\n",
       "    </tr>\n",
       "  </thead>\n",
       "  <tbody>\n",
       "    <tr>\n",
       "      <th>0</th>\n",
       "      <td>-2.264542</td>\n",
       "      <td>0.505704</td>\n",
       "    </tr>\n",
       "    <tr>\n",
       "      <th>1</th>\n",
       "      <td>-2.086426</td>\n",
       "      <td>-0.655405</td>\n",
       "    </tr>\n",
       "    <tr>\n",
       "      <th>2</th>\n",
       "      <td>-2.367950</td>\n",
       "      <td>-0.318477</td>\n",
       "    </tr>\n",
       "    <tr>\n",
       "      <th>3</th>\n",
       "      <td>-2.304197</td>\n",
       "      <td>-0.575368</td>\n",
       "    </tr>\n",
       "    <tr>\n",
       "      <th>4</th>\n",
       "      <td>-2.388777</td>\n",
       "      <td>0.674767</td>\n",
       "    </tr>\n",
       "  </tbody>\n",
       "</table>\n",
       "</div>"
      ],
      "text/plain": [
       "        PC1       PC2\n",
       "0 -2.264542  0.505704\n",
       "1 -2.086426 -0.655405\n",
       "2 -2.367950 -0.318477\n",
       "3 -2.304197 -0.575368\n",
       "4 -2.388777  0.674767"
      ]
     },
     "execution_count": 31,
     "metadata": {},
     "output_type": "execute_result"
    }
   ],
   "source": [
    "data = pd.DataFrame(new_df, columns = ['PC1','PC2'])\n",
    "data.head()"
   ]
  },
  {
   "cell_type": "code",
   "execution_count": 32,
   "id": "368a3dec",
   "metadata": {},
   "outputs": [
    {
     "data": {
      "text/plain": [
       "array([0.72770452, 0.23030523])"
      ]
     },
     "execution_count": 32,
     "metadata": {},
     "output_type": "execute_result"
    }
   ],
   "source": [
    "pc2.explained_variance_ratio_"
   ]
  },
  {
   "cell_type": "markdown",
   "id": "683fada6",
   "metadata": {},
   "source": [
    "### Concat this PCs with target variable"
   ]
  },
  {
   "cell_type": "code",
   "execution_count": 33,
   "id": "b0366de4",
   "metadata": {},
   "outputs": [
    {
     "data": {
      "text/html": [
       "<div>\n",
       "<style scoped>\n",
       "    .dataframe tbody tr th:only-of-type {\n",
       "        vertical-align: middle;\n",
       "    }\n",
       "\n",
       "    .dataframe tbody tr th {\n",
       "        vertical-align: top;\n",
       "    }\n",
       "\n",
       "    .dataframe thead th {\n",
       "        text-align: right;\n",
       "    }\n",
       "</style>\n",
       "<table border=\"1\" class=\"dataframe\">\n",
       "  <thead>\n",
       "    <tr style=\"text-align: right;\">\n",
       "      <th></th>\n",
       "      <th>PC1</th>\n",
       "      <th>PC2</th>\n",
       "      <th>Species</th>\n",
       "    </tr>\n",
       "  </thead>\n",
       "  <tbody>\n",
       "    <tr>\n",
       "      <th>0</th>\n",
       "      <td>-2.264542</td>\n",
       "      <td>0.505704</td>\n",
       "      <td>Iris-setosa</td>\n",
       "    </tr>\n",
       "    <tr>\n",
       "      <th>1</th>\n",
       "      <td>-2.086426</td>\n",
       "      <td>-0.655405</td>\n",
       "      <td>Iris-setosa</td>\n",
       "    </tr>\n",
       "    <tr>\n",
       "      <th>2</th>\n",
       "      <td>-2.367950</td>\n",
       "      <td>-0.318477</td>\n",
       "      <td>Iris-setosa</td>\n",
       "    </tr>\n",
       "    <tr>\n",
       "      <th>3</th>\n",
       "      <td>-2.304197</td>\n",
       "      <td>-0.575368</td>\n",
       "      <td>Iris-setosa</td>\n",
       "    </tr>\n",
       "    <tr>\n",
       "      <th>4</th>\n",
       "      <td>-2.388777</td>\n",
       "      <td>0.674767</td>\n",
       "      <td>Iris-setosa</td>\n",
       "    </tr>\n",
       "  </tbody>\n",
       "</table>\n",
       "</div>"
      ],
      "text/plain": [
       "        PC1       PC2      Species\n",
       "0 -2.264542  0.505704  Iris-setosa\n",
       "1 -2.086426 -0.655405  Iris-setosa\n",
       "2 -2.367950 -0.318477  Iris-setosa\n",
       "3 -2.304197 -0.575368  Iris-setosa\n",
       "4 -2.388777  0.674767  Iris-setosa"
      ]
     },
     "execution_count": 33,
     "metadata": {},
     "output_type": "execute_result"
    }
   ],
   "source": [
    "df_final = pd.concat([data,y],axis=1)\n",
    "df_final.head()"
   ]
  },
  {
   "cell_type": "markdown",
   "id": "cffffaea",
   "metadata": {},
   "source": [
    "## Visualize the clusters of dataset on the basis of target categories after applying PCA"
   ]
  },
  {
   "cell_type": "code",
   "execution_count": 34,
   "id": "71673a9c",
   "metadata": {},
   "outputs": [
    {
     "data": {
      "text/plain": [
       "<seaborn.axisgrid.PairGrid at 0x1c3bf27e220>"
      ]
     },
     "execution_count": 34,
     "metadata": {},
     "output_type": "execute_result"
    },
    {
     "data": {
      "image/png": "[encoded data removed]",
      "text/plain": [
       "<Figure size 743x600 with 1 Axes>"
      ]
     },
     "metadata": {},
     "output_type": "display_data"
    }
   ],
   "source": [
    "sns.pairplot(data = df_final, x_vars = ['PC1'], y_vars = ['PC2'], hue = 'Species', size = 6)"
   ]
  },
  {
   "cell_type": "markdown",
   "id": "d1918e69",
   "metadata": {},
   "source": [
    "# OR"
   ]
  },
  {
   "cell_type": "code",
   "execution_count": 35,
   "id": "d97c9636",
   "metadata": {},
   "outputs": [
    {
     "data": {
      "text/plain": [
       "<AxesSubplot:xlabel='PC1', ylabel='PC2'>"
      ]
     },
     "execution_count": 35,
     "metadata": {},
     "output_type": "execute_result"
    },
    {
     "data": {
      "image/png": "[encoded data removed]",
      "text/plain": [
       "<Figure size 700x700 with 1 Axes>"
      ]
     },
     "metadata": {},
     "output_type": "display_data"
    }
   ],
   "source": [
    "plt.figure(figsize=(7,7))\n",
    "sns.scatterplot(df_final['PC1'],df_final['PC2'],hue=df_final['Species'],palette='CMRmap')"
   ]
  },
  {
   "cell_type": "code",
   "execution_count": 36,
   "id": "505f9d38",
   "metadata": {},
   "outputs": [
    {
     "data": {
      "text/html": [
       "<div>\n",
       "<style scoped>\n",
       "    .dataframe tbody tr th:only-of-type {\n",
       "        vertical-align: middle;\n",
       "    }\n",
       "\n",
       "    .dataframe tbody tr th {\n",
       "        vertical-align: top;\n",
       "    }\n",
       "\n",
       "    .dataframe thead th {\n",
       "        text-align: right;\n",
       "    }\n",
       "</style>\n",
       "<table border=\"1\" class=\"dataframe\">\n",
       "  <thead>\n",
       "    <tr style=\"text-align: right;\">\n",
       "      <th></th>\n",
       "      <th>PC1</th>\n",
       "      <th>PC2</th>\n",
       "    </tr>\n",
       "  </thead>\n",
       "  <tbody>\n",
       "    <tr>\n",
       "      <th>PC1</th>\n",
       "      <td>1.000000e+00</td>\n",
       "      <td>-1.517135e-16</td>\n",
       "    </tr>\n",
       "    <tr>\n",
       "      <th>PC2</th>\n",
       "      <td>-1.517135e-16</td>\n",
       "      <td>1.000000e+00</td>\n",
       "    </tr>\n",
       "  </tbody>\n",
       "</table>\n",
       "</div>"
      ],
      "text/plain": [
       "              PC1           PC2\n",
       "PC1  1.000000e+00 -1.517135e-16\n",
       "PC2 -1.517135e-16  1.000000e+00"
      ]
     },
     "execution_count": 36,
     "metadata": {},
     "output_type": "execute_result"
    }
   ],
   "source": [
    "# Check the correlation of principal components, because Principal Components doesn't contain corrlinearity and multicolinearity\n",
    "\n",
    "df_final.corr()"
   ]
  },
  {
   "cell_type": "code",
   "execution_count": 37,
   "id": "cd18a4a8",
   "metadata": {},
   "outputs": [
    {
     "data": {
      "text/plain": [
       "<AxesSubplot:>"
      ]
     },
     "execution_count": 37,
     "metadata": {},
     "output_type": "execute_result"
    },
    {
     "data": {
      "image/png": "[encoded data removed]",
      "text/plain": [
       "<Figure size 640x480 with 2 Axes>"
      ]
     },
     "metadata": {},
     "output_type": "display_data"
    }
   ],
   "source": [
    "sns.heatmap(df_final.corr(),annot=True)"
   ]
  },
  {
   "cell_type": "markdown",
   "id": "8d9bfdcc",
   "metadata": {},
   "source": [
    "* Pricipal Components doesn't contain correlation and multicorrelation"
   ]
  },
  {
   "cell_type": "code",
   "execution_count": null,
   "id": "566575bb",
   "metadata": {},
   "outputs": [],
   "source": []
  }
 ],
 "metadata": {
  "kernelspec": {
   "display_name": "Python 3 (ipykernel)",
   "language": "python",
   "name": "python3"
  },
  "language_info": {
   "codemirror_mode": {
    "name": "ipython",
    "version": 3
   },
   "file_extension": ".py",
   "mimetype": "text/x-python",
   "name": "python",
   "nbconvert_exporter": "python",
   "pygments_lexer": "ipython3",
   "version": "3.9.13"
  }
 },
 "nbformat": 4,
 "nbformat_minor": 5
}

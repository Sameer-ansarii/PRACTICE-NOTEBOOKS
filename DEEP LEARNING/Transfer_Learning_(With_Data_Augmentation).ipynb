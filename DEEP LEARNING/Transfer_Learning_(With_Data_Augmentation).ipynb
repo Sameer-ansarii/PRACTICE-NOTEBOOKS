{
  "nbformat": 4,
  "nbformat_minor": 0,
  "metadata": {
    "colab": {
      "provenance": [],
      "gpuType": "T4"
    },
    "kernelspec": {
      "name": "python3",
      "display_name": "Python 3"
    },
    "language_info": {
      "name": "python"
    },
    "accelerator": "GPU"
  },
  "cells": [
    {
      "cell_type": "code",
      "execution_count": 1,
      "metadata": {
        "id": "PaeaJmQPhCKF"
      },
      "outputs": [],
      "source": [
        "# Connecting through API Key\n",
        "\n",
        "!mkdir -p ~/.kaggle\n",
        "!cp kaggle.json ~/.kaggle/"
      ]
    },
    {
      "cell_type": "code",
      "source": [
        "\n",
        "# Download Dataset from kaggle through API (Application Programming Interface)\n",
        "\n",
        "!kaggle datasets download -d salader/dogs-vs-cats"
      ],
      "metadata": {
        "colab": {
          "base_uri": "https://localhost:8080/"
        },
        "id": "2Jv3c9b4hYr7",
        "outputId": "3984d19c-020b-4ea2-fca5-094209da3dcd"
      },
      "execution_count": 2,
      "outputs": [
        {
          "output_type": "stream",
          "name": "stdout",
          "text": [
            "Warning: Your Kaggle API key is readable by other users on this system! To fix this, you can run 'chmod 600 /root/.kaggle/kaggle.json'\n",
            "Downloading dogs-vs-cats.zip to /content\n",
            "100% 1.06G/1.06G [00:31<00:00, 41.8MB/s]\n",
            "100% 1.06G/1.06G [00:31<00:00, 36.0MB/s]\n"
          ]
        }
      ]
    },
    {
      "cell_type": "code",
      "source": [
        "# Extract all folders and files from Zip File\n",
        "\n",
        "import zipfile\n",
        "zip_rfe = zipfile.ZipFile('/content/dogs-vs-cats.zip', 'r')\n",
        "zip_rfe.extractall('/content')\n",
        "zip_rfe.close"
      ],
      "metadata": {
        "colab": {
          "base_uri": "https://localhost:8080/"
        },
        "id": "ap_WHaLchYuN",
        "outputId": "a78094fa-5aaf-4c79-fd0e-51dc3887b8e5"
      },
      "execution_count": 3,
      "outputs": [
        {
          "output_type": "execute_result",
          "data": {
            "text/plain": [
              "<bound method ZipFile.close of <zipfile.ZipFile filename='/content/dogs-vs-cats.zip' mode='r'>>"
            ]
          },
          "metadata": {},
          "execution_count": 3
        }
      ]
    },
    {
      "cell_type": "code",
      "source": [
        "import tensorflow as tf\n",
        "from tensorflow import keras\n",
        "from tensorflow.keras import Sequential\n",
        "from tensorflow.keras.layers import Dense, Flatten\n",
        "from tensorflow.keras.applications import VGG16"
      ],
      "metadata": {
        "id": "lQtsz6pjhYwE"
      },
      "execution_count": 4,
      "outputs": []
    },
    {
      "cell_type": "code",
      "source": [
        "\n",
        "conv_base = VGG16(\n",
        "    weights='imagenet',  # take same weight on which VGG16 was trained\n",
        "    include_top=False,   # Not inclue fully connected layer only use convolutional and pooling layers\n",
        "    input_shape=(150, 150, 3))\n",
        ""
      ],
      "metadata": {
        "colab": {
          "base_uri": "https://localhost:8080/"
        },
        "id": "RQOa-5JxhkD4",
        "outputId": "643bdb68-9d6e-4693-b663-63839c0f23bf"
      },
      "execution_count": 5,
      "outputs": [
        {
          "output_type": "stream",
          "name": "stdout",
          "text": [
            "Downloading data from https://storage.googleapis.com/tensorflow/keras-applications/vgg16/vgg16_weights_tf_dim_ordering_tf_kernels_notop.h5\n",
            "58889256/58889256 [==============================] - 2s 0us/step\n"
          ]
        }
      ]
    },
    {
      "cell_type": "code",
      "source": [
        "# Summary of VGG16 model\n",
        "\n",
        "conv_base.summary()"
      ],
      "metadata": {
        "colab": {
          "base_uri": "https://localhost:8080/"
        },
        "id": "CIcgg8phhkGd",
        "outputId": "5eba33da-1deb-4332-9077-9db9a3673249"
      },
      "execution_count": 6,
      "outputs": [
        {
          "output_type": "stream",
          "name": "stdout",
          "text": [
            "Model: \"vgg16\"\n",
            "_________________________________________________________________\n",
            " Layer (type)                Output Shape              Param #   \n",
            "=================================================================\n",
            " input_1 (InputLayer)        [(None, 150, 150, 3)]     0         \n",
            "                                                                 \n",
            " block1_conv1 (Conv2D)       (None, 150, 150, 64)      1792      \n",
            "                                                                 \n",
            " block1_conv2 (Conv2D)       (None, 150, 150, 64)      36928     \n",
            "                                                                 \n",
            " block1_pool (MaxPooling2D)  (None, 75, 75, 64)        0         \n",
            "                                                                 \n",
            " block2_conv1 (Conv2D)       (None, 75, 75, 128)       73856     \n",
            "                                                                 \n",
            " block2_conv2 (Conv2D)       (None, 75, 75, 128)       147584    \n",
            "                                                                 \n",
            " block2_pool (MaxPooling2D)  (None, 37, 37, 128)       0         \n",
            "                                                                 \n",
            " block3_conv1 (Conv2D)       (None, 37, 37, 256)       295168    \n",
            "                                                                 \n",
            " block3_conv2 (Conv2D)       (None, 37, 37, 256)       590080    \n",
            "                                                                 \n",
            " block3_conv3 (Conv2D)       (None, 37, 37, 256)       590080    \n",
            "                                                                 \n",
            " block3_pool (MaxPooling2D)  (None, 18, 18, 256)       0         \n",
            "                                                                 \n",
            " block4_conv1 (Conv2D)       (None, 18, 18, 512)       1180160   \n",
            "                                                                 \n",
            " block4_conv2 (Conv2D)       (None, 18, 18, 512)       2359808   \n",
            "                                                                 \n",
            " block4_conv3 (Conv2D)       (None, 18, 18, 512)       2359808   \n",
            "                                                                 \n",
            " block4_pool (MaxPooling2D)  (None, 9, 9, 512)         0         \n",
            "                                                                 \n",
            " block5_conv1 (Conv2D)       (None, 9, 9, 512)         2359808   \n",
            "                                                                 \n",
            " block5_conv2 (Conv2D)       (None, 9, 9, 512)         2359808   \n",
            "                                                                 \n",
            " block5_conv3 (Conv2D)       (None, 9, 9, 512)         2359808   \n",
            "                                                                 \n",
            " block5_pool (MaxPooling2D)  (None, 4, 4, 512)         0         \n",
            "                                                                 \n",
            "=================================================================\n",
            "Total params: 14,714,688\n",
            "Trainable params: 14,714,688\n",
            "Non-trainable params: 0\n",
            "_________________________________________________________________\n"
          ]
        }
      ]
    },
    {
      "cell_type": "markdown",
      "source": [
        "**To see the architecture of fully connected layers use include_top=True parameter while importing pretrained model.**"
      ],
      "metadata": {
        "id": "MQe2rx9nhuzW"
      }
    },
    {
      "cell_type": "code",
      "source": [
        "# Building fully connected layes for VGG16\n",
        "\n",
        "model = Sequential()\n",
        "\n",
        "model.add(conv_base) # Take convolutional and pooling layers of VGG16\n",
        "model.add(Flatten()) # Perform flattening\n",
        "model.add(Dense(256, activation='relu'))  # First hidden layer with 256 neuron and perfrom 'relu' activation function on it\n",
        "model.add(Dense(1, activation='sigmoid')) # Hidden layer with 1 neuron and activation function is sigmoid"
      ],
      "metadata": {
        "id": "7UaLX-dnhkIX"
      },
      "execution_count": 7,
      "outputs": []
    },
    {
      "cell_type": "code",
      "source": [
        "conv_base.trainable=False"
      ],
      "metadata": {
        "id": "-MyL1G_Ahq4q"
      },
      "execution_count": 8,
      "outputs": []
    },
    {
      "cell_type": "markdown",
      "source": [
        "**Do not build VGG16 from strach only customize their fully connected layers.**"
      ],
      "metadata": {
        "id": "QdZ9yE66hzTQ"
      }
    },
    {
      "cell_type": "code",
      "source": [
        "# importing libraries for data augmentation and creating dataset\n",
        "\n",
        "from tensorflow.keras.preprocessing.image import ImageDataGenerator, array_to_img, img_to_array, load_img"
      ],
      "metadata": {
        "id": "jNb0LAcHh2E5"
      },
      "execution_count": 9,
      "outputs": []
    },
    {
      "cell_type": "code",
      "source": [
        "# Apply data augmentation and create dataset\n",
        "\n",
        "batch_size = 32\n",
        "\n",
        "train_datagen = ImageDataGenerator(\n",
        "    rescale=1./255,\n",
        "    shear_range=0.2,\n",
        "    zoom_range=0.2,\n",
        "    horizontal_flip=True\n",
        ")\n",
        "\n",
        "test_datagen = ImageDataGenerator(rescale=1./255)\n",
        "\n",
        "train_generator = train_datagen.flow_from_directory(\n",
        "    '/content/train',\n",
        "    target_size=(150, 150),\n",
        "    batch_size=batch_size,\n",
        "    class_mode='binary'\n",
        ")\n",
        "\n",
        "validation_generator = test_datagen.flow_from_directory(\n",
        "    '/content/test',\n",
        "    target_size=(150, 150),\n",
        "    batch_size=batch_size,\n",
        "    class_mode='binary'\n",
        ")"
      ],
      "metadata": {
        "colab": {
          "base_uri": "https://localhost:8080/"
        },
        "id": "4m_nRzgYiYnX",
        "outputId": "ace2e7b6-0cc6-487f-b935-9c9f933b0603"
      },
      "execution_count": 11,
      "outputs": [
        {
          "output_type": "stream",
          "name": "stdout",
          "text": [
            "Found 20000 images belonging to 2 classes.\n",
            "Found 5000 images belonging to 2 classes.\n"
          ]
        }
      ]
    },
    {
      "cell_type": "code",
      "source": [
        "model.compile(optimizer='adam', loss='binary_crossentropy', metrics=['accuracy'])\n"
      ],
      "metadata": {
        "id": "3gqR-HRmjMr7"
      },
      "execution_count": 12,
      "outputs": []
    },
    {
      "cell_type": "code",
      "source": [
        "history = model.fit(\n",
        "    train_generator,\n",
        "    epochs=5,\n",
        "    validation_data=validation_generator\n",
        ")"
      ],
      "metadata": {
        "colab": {
          "base_uri": "https://localhost:8080/"
        },
        "id": "sFdARlM3igdy",
        "outputId": "0082038b-a03e-4b71-c16e-be3f0380edca"
      },
      "execution_count": 15,
      "outputs": [
        {
          "output_type": "stream",
          "name": "stdout",
          "text": [
            "Epoch 1/5\n",
            "625/625 [==============================] - 172s 276ms/step - loss: 0.2719 - accuracy: 0.8846 - val_loss: 0.2249 - val_accuracy: 0.9018\n",
            "Epoch 2/5\n",
            "625/625 [==============================] - 163s 261ms/step - loss: 0.2314 - accuracy: 0.9000 - val_loss: 0.2014 - val_accuracy: 0.9174\n",
            "Epoch 3/5\n",
            "625/625 [==============================] - 162s 259ms/step - loss: 0.2224 - accuracy: 0.9060 - val_loss: 0.1941 - val_accuracy: 0.9214\n",
            "Epoch 4/5\n",
            "625/625 [==============================] - 163s 261ms/step - loss: 0.2115 - accuracy: 0.9107 - val_loss: 0.1982 - val_accuracy: 0.9150\n",
            "Epoch 5/5\n",
            "625/625 [==============================] - 162s 260ms/step - loss: 0.1991 - accuracy: 0.9154 - val_loss: 0.1973 - val_accuracy: 0.9172\n"
          ]
        }
      ]
    },
    {
      "cell_type": "markdown",
      "source": [
        "**Model uses the same architecture of VGG16 in convolutional and pooling layers and uses given architecture of fully-connected layer and only train the parameters of fully-connected layers and dataset created by data augmentation.**"
      ],
      "metadata": {
        "id": "cQqfznZMjnv7"
      }
    },
    {
      "cell_type": "code",
      "source": [
        "# Plotting graph of training and validation accuracy\n",
        "\n",
        "import matplotlib.pyplot as plt\n",
        "\n",
        "plt.plot(history.history[\"accuracy\"], color='red', label='train')\n",
        "plt.plot(history.history[\"val_accuracy\"], color='blue', label='validation')\n",
        "plt.legend()\n",
        "plt.show()"
      ],
      "metadata": {
        "colab": {
          "base_uri": "https://localhost:8080/",
          "height": 430
        },
        "id": "G6ofwJUzjRya",
        "outputId": "2238462b-a172-4f38-e944-db48236c0bae"
      },
      "execution_count": 16,
      "outputs": [
        {
          "output_type": "display_data",
          "data": {
            "text/plain": [
              "<Figure size 640x480 with 1 Axes>"
            ],
            "image/png": "[encoded data removed]"
          },
          "metadata": {}
        }
      ]
    },
    {
      "cell_type": "code",
      "source": [
        "# Plotting graph of training and validation loss\n",
        "\n",
        "plt.plot(history.history[\"loss\"], color='red', label='train')\n",
        "plt.plot(history.history[\"val_loss\"], color='blue', label='validation')\n",
        "plt.legend()\n",
        "plt.show()"
      ],
      "metadata": {
        "colab": {
          "base_uri": "https://localhost:8080/",
          "height": 430
        },
        "id": "K_p5m0Avj-7X",
        "outputId": "4af04b98-cde2-49af-b37e-9601095cee40"
      },
      "execution_count": 17,
      "outputs": [
        {
          "output_type": "display_data",
          "data": {
            "text/plain": [
              "<Figure size 640x480 with 1 Axes>"
            ],
            "image/png": "[encoded data removed]"
          },
          "metadata": {}
        }
      ]
    },
    {
      "cell_type": "markdown",
      "source": [
        "**After Data Augmentation accuracy and loss of training and test set is almost similar. Hence, problem of overfitting not occurs.**"
      ],
      "metadata": {
        "id": "ggIVcmESsLiQ"
      }
    },
    {
      "cell_type": "code",
      "source": [],
      "metadata": {
        "id": "rc2K1bBFsBfK"
      },
      "execution_count": null,
      "outputs": []
    }
  ]
}
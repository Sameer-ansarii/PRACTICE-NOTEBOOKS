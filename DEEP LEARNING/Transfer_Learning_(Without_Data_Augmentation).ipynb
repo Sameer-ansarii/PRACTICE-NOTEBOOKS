{
  "nbformat": 4,
  "nbformat_minor": 0,
  "metadata": {
    "colab": {
      "provenance": [],
      "gpuType": "T4"
    },
    "kernelspec": {
      "name": "python3",
      "display_name": "Python 3"
    },
    "language_info": {
      "name": "python"
    },
    "accelerator": "GPU"
  },
  "cells": [
    {
      "cell_type": "code",
      "execution_count": 1,
      "metadata": {
        "id": "T4vx-3TNS54k"
      },
      "outputs": [],
      "source": [
        "# Connecting through API Key\n",
        "\n",
        "!mkdir -p ~/.kaggle\n",
        "!cp kaggle.json ~/.kaggle/"
      ]
    },
    {
      "cell_type": "code",
      "source": [
        "# Download Dataset from kaggle through API (Application Programming Interface)\n",
        "\n",
        "!kaggle datasets download -d salader/dogs-vs-cats"
      ],
      "metadata": {
        "colab": {
          "base_uri": "https://localhost:8080/"
        },
        "id": "CRjP-KNZTrBL",
        "outputId": "cbba2ec5-6226-4c96-f884-80aee62a1628"
      },
      "execution_count": 2,
      "outputs": [
        {
          "output_type": "stream",
          "name": "stdout",
          "text": [
            "Warning: Your Kaggle API key is readable by other users on this system! To fix this, you can run 'chmod 600 /root/.kaggle/kaggle.json'\n",
            "Downloading dogs-vs-cats.zip to /content\n",
            "100% 1.06G/1.06G [00:35<00:00, 39.3MB/s]\n",
            "100% 1.06G/1.06G [00:35<00:00, 32.4MB/s]\n"
          ]
        }
      ]
    },
    {
      "cell_type": "code",
      "source": [
        "# Extract all folders and files from Zip File\n",
        "\n",
        "import zipfile\n",
        "zip_rfe = zipfile.ZipFile('/content/dogs-vs-cats.zip', 'r')\n",
        "zip_rfe.extractall('/content')\n",
        "zip_rfe.close"
      ],
      "metadata": {
        "colab": {
          "base_uri": "https://localhost:8080/"
        },
        "id": "NGrVhKa-TrDo",
        "outputId": "3de6bb2a-5700-40f3-8702-a6c4965848ab"
      },
      "execution_count": 3,
      "outputs": [
        {
          "output_type": "execute_result",
          "data": {
            "text/plain": [
              "<bound method ZipFile.close of <zipfile.ZipFile filename='/content/dogs-vs-cats.zip' mode='r'>>"
            ]
          },
          "metadata": {},
          "execution_count": 3
        }
      ]
    },
    {
      "cell_type": "code",
      "source": [
        "import tensorflow as tf\n",
        "from tensorflow import keras\n",
        "from tensorflow.keras import Sequential\n",
        "from tensorflow.keras.layers import Dense, Flatten\n",
        "from tensorflow.keras.applications import VGG16"
      ],
      "metadata": {
        "id": "YFeRgY4nTrFx"
      },
      "execution_count": 4,
      "outputs": []
    },
    {
      "cell_type": "code",
      "source": [
        "conv_base = VGG16(\n",
        "    weights='imagenet',  # take same weight on which VGG16 was trained\n",
        "    include_top=False,   # Not inclue fully connected layer only use convolutional and pooling layers\n",
        "    input_shape=(150, 150, 3))"
      ],
      "metadata": {
        "colab": {
          "base_uri": "https://localhost:8080/"
        },
        "id": "9g3t7j9hUIeV",
        "outputId": "d7905e71-3f23-435f-8d63-c78c60c5324c"
      },
      "execution_count": 5,
      "outputs": [
        {
          "output_type": "stream",
          "name": "stdout",
          "text": [
            "Downloading data from https://storage.googleapis.com/tensorflow/keras-applications/vgg16/vgg16_weights_tf_dim_ordering_tf_kernels_notop.h5\n",
            "58889256/58889256 [==============================] - 2s 0us/step\n"
          ]
        }
      ]
    },
    {
      "cell_type": "markdown",
      "source": [
        "**Now VGG 16 model is imported and it's extension is '.h5'**"
      ],
      "metadata": {
        "id": "hcb7YvUPVSJl"
      }
    },
    {
      "cell_type": "code",
      "source": [
        "# Summary of VGG16 model\n",
        "\n",
        "conv_base.summary()"
      ],
      "metadata": {
        "colab": {
          "base_uri": "https://localhost:8080/"
        },
        "id": "swfSrEJCVb6R",
        "outputId": "620d2422-be5b-4626-c2a4-c46d315f5108"
      },
      "execution_count": 7,
      "outputs": [
        {
          "output_type": "stream",
          "name": "stdout",
          "text": [
            "Model: \"vgg16\"\n",
            "_________________________________________________________________\n",
            " Layer (type)                Output Shape              Param #   \n",
            "=================================================================\n",
            " input_1 (InputLayer)        [(None, 150, 150, 3)]     0         \n",
            "                                                                 \n",
            " block1_conv1 (Conv2D)       (None, 150, 150, 64)      1792      \n",
            "                                                                 \n",
            " block1_conv2 (Conv2D)       (None, 150, 150, 64)      36928     \n",
            "                                                                 \n",
            " block1_pool (MaxPooling2D)  (None, 75, 75, 64)        0         \n",
            "                                                                 \n",
            " block2_conv1 (Conv2D)       (None, 75, 75, 128)       73856     \n",
            "                                                                 \n",
            " block2_conv2 (Conv2D)       (None, 75, 75, 128)       147584    \n",
            "                                                                 \n",
            " block2_pool (MaxPooling2D)  (None, 37, 37, 128)       0         \n",
            "                                                                 \n",
            " block3_conv1 (Conv2D)       (None, 37, 37, 256)       295168    \n",
            "                                                                 \n",
            " block3_conv2 (Conv2D)       (None, 37, 37, 256)       590080    \n",
            "                                                                 \n",
            " block3_conv3 (Conv2D)       (None, 37, 37, 256)       590080    \n",
            "                                                                 \n",
            " block3_pool (MaxPooling2D)  (None, 18, 18, 256)       0         \n",
            "                                                                 \n",
            " block4_conv1 (Conv2D)       (None, 18, 18, 512)       1180160   \n",
            "                                                                 \n",
            " block4_conv2 (Conv2D)       (None, 18, 18, 512)       2359808   \n",
            "                                                                 \n",
            " block4_conv3 (Conv2D)       (None, 18, 18, 512)       2359808   \n",
            "                                                                 \n",
            " block4_pool (MaxPooling2D)  (None, 9, 9, 512)         0         \n",
            "                                                                 \n",
            " block5_conv1 (Conv2D)       (None, 9, 9, 512)         2359808   \n",
            "                                                                 \n",
            " block5_conv2 (Conv2D)       (None, 9, 9, 512)         2359808   \n",
            "                                                                 \n",
            " block5_conv3 (Conv2D)       (None, 9, 9, 512)         2359808   \n",
            "                                                                 \n",
            " block5_pool (MaxPooling2D)  (None, 4, 4, 512)         0         \n",
            "                                                                 \n",
            "=================================================================\n",
            "Total params: 14,714,688\n",
            "Trainable params: 14,714,688\n",
            "Non-trainable params: 0\n",
            "_________________________________________________________________\n"
          ]
        }
      ]
    },
    {
      "cell_type": "markdown",
      "source": [
        "**To see the architecture of fully connected layers use include_top=True parameter while importing pretrained model.**"
      ],
      "metadata": {
        "id": "40DCAHzxWXg-"
      }
    },
    {
      "cell_type": "code",
      "source": [
        "# Building fully connected layes for VGG16\n",
        "\n",
        "model = Sequential()\n",
        "\n",
        "model.add(conv_base) # Take convolutional and pooling layers of VGG16\n",
        "model.add(Flatten()) # Perform flattening\n",
        "model.add(Dense(256, activation='relu'))  # First hidden layer with 256 neuron and perfrom 'relu' activation function on it\n",
        "model.add(Dense(1, activation='sigmoid')) # Hidden layer with 1 neuron and activation function is sigmoid"
      ],
      "metadata": {
        "id": "98QyOEVaXohY"
      },
      "execution_count": 10,
      "outputs": []
    },
    {
      "cell_type": "code",
      "source": [
        "conv_base.trainable=False"
      ],
      "metadata": {
        "id": "rZaWIfS3X4Kf"
      },
      "execution_count": 11,
      "outputs": []
    },
    {
      "cell_type": "markdown",
      "source": [
        "**Do not build VGG16 from strach only customize their fully connected layers.**"
      ],
      "metadata": {
        "id": "53djxbLjYUeP"
      }
    },
    {
      "cell_type": "code",
      "source": [
        "# Summary of newly build fully-connected layer\n",
        "\n",
        "model.summary()"
      ],
      "metadata": {
        "colab": {
          "base_uri": "https://localhost:8080/"
        },
        "id": "kwnKkaYnYS50",
        "outputId": "c05311d9-a235-4416-993b-4657acaa0687"
      },
      "execution_count": 12,
      "outputs": [
        {
          "output_type": "stream",
          "name": "stdout",
          "text": [
            "Model: \"sequential_1\"\n",
            "_________________________________________________________________\n",
            " Layer (type)                Output Shape              Param #   \n",
            "=================================================================\n",
            " vgg16 (Functional)          (None, 4, 4, 512)         14714688  \n",
            "                                                                 \n",
            " flatten_1 (Flatten)         (None, 8192)              0         \n",
            "                                                                 \n",
            " dense_2 (Dense)             (None, 256)               2097408   \n",
            "                                                                 \n",
            " dense_3 (Dense)             (None, 1)                 257       \n",
            "                                                                 \n",
            "=================================================================\n",
            "Total params: 16,812,353\n",
            "Trainable params: 2,097,665\n",
            "Non-trainable params: 14,714,688\n",
            "_________________________________________________________________\n"
          ]
        }
      ]
    },
    {
      "cell_type": "code",
      "source": [
        "# Creating datset of new add\n",
        "\n",
        "# Training dataset\n",
        "train_ds = keras.utils.image_dataset_from_directory(\n",
        "    directory=\"/content/train\",\n",
        "    labels='inferred', # Automatically infer class labels from subdirectory names\n",
        "    label_mode='int',  # Represent class labels as integers\n",
        "    batch_size=32,\n",
        "    image_size=(150,150),\n",
        ")\n",
        "\n",
        "# Validation dataset\n",
        "validation_ds =  keras.utils.image_dataset_from_directory(\n",
        "    directory=\"/content/test\",\n",
        "    labels='inferred',\n",
        "    label_mode='int',\n",
        "    batch_size=32,\n",
        "    image_size=(150,150),\n",
        ")"
      ],
      "metadata": {
        "colab": {
          "base_uri": "https://localhost:8080/"
        },
        "id": "00VFjQXMYf2X",
        "outputId": "45df6e95-e385-4ff4-92a2-228a52dfafc0"
      },
      "execution_count": 19,
      "outputs": [
        {
          "output_type": "stream",
          "name": "stdout",
          "text": [
            "Found 20000 files belonging to 2 classes.\n",
            "Found 5000 files belonging to 2 classes.\n"
          ]
        }
      ]
    },
    {
      "cell_type": "code",
      "source": [
        "# Normalize dataset\n",
        "\n",
        "def process(image, label):\n",
        "    image = tf.cast(image / 255.0, tf.float32)\n",
        "    return image, label\n",
        "\n",
        "# Apply the process function to the training dataset\n",
        "train_ds = train_ds.map(process)\n",
        "\n",
        "# Apply the process function to the validation dataset\n",
        "validation_ds = validation_ds.map(process)"
      ],
      "metadata": {
        "id": "HGPXyNahZRT1"
      },
      "execution_count": 20,
      "outputs": []
    },
    {
      "cell_type": "code",
      "source": [
        "model.compile(optimizer='adam', loss='binary_crossentropy', metrics=['accuracy'])"
      ],
      "metadata": {
        "id": "5KteE6MqZ2-I"
      },
      "execution_count": 21,
      "outputs": []
    },
    {
      "cell_type": "code",
      "source": [
        "# adding new information and train fully-connected layers\n",
        "\n",
        "history = model.fit(train_ds, epochs=5, validation_data=validation_ds)"
      ],
      "metadata": {
        "colab": {
          "base_uri": "https://localhost:8080/"
        },
        "id": "pq3AS9_eZUey",
        "outputId": "a25e04be-e51d-467e-e2c4-e07d5d1ad58f"
      },
      "execution_count": 22,
      "outputs": [
        {
          "output_type": "stream",
          "name": "stdout",
          "text": [
            "Epoch 1/5\n",
            "625/625 [==============================] - 69s 89ms/step - loss: 0.2690 - accuracy: 0.8852 - val_loss: 0.2386 - val_accuracy: 0.8942\n",
            "Epoch 2/5\n",
            "625/625 [==============================] - 54s 86ms/step - loss: 0.1915 - accuracy: 0.9204 - val_loss: 0.3143 - val_accuracy: 0.8534\n",
            "Epoch 3/5\n",
            "625/625 [==============================] - 54s 87ms/step - loss: 0.1551 - accuracy: 0.9366 - val_loss: 0.2071 - val_accuracy: 0.9104\n",
            "Epoch 4/5\n",
            "625/625 [==============================] - 65s 103ms/step - loss: 0.1295 - accuracy: 0.9464 - val_loss: 0.2064 - val_accuracy: 0.9172\n",
            "Epoch 5/5\n",
            "625/625 [==============================] - 56s 89ms/step - loss: 0.1045 - accuracy: 0.9587 - val_loss: 0.2295 - val_accuracy: 0.9076\n"
          ]
        }
      ]
    },
    {
      "cell_type": "markdown",
      "source": [
        "**Model uses the same architecture of VGG16 in convolutional and pooling layers and uses given architecture of fully-connected layer and only train the parameters of fully-connected layers.**"
      ],
      "metadata": {
        "id": "CsYsHPt0cICm"
      }
    },
    {
      "cell_type": "code",
      "source": [
        "# Plotting graph of training and validation accuracy\n",
        "\n",
        "import matplotlib.pyplot as plt\n",
        "\n",
        "plt.plot(history.history[\"accuracy\"], color='red', label='train')\n",
        "plt.plot(history.history[\"val_accuracy\"], color='blue', label='validation')\n",
        "plt.legend()\n",
        "plt.show()"
      ],
      "metadata": {
        "colab": {
          "base_uri": "https://localhost:8080/",
          "height": 430
        },
        "id": "LWQscS2xZlBm",
        "outputId": "3ec340aa-d3a2-4224-9ba7-4bb9cff669f5"
      },
      "execution_count": 23,
      "outputs": [
        {
          "output_type": "display_data",
          "data": {
            "text/plain": [
              "<Figure size 640x480 with 1 Axes>"
            ],
            "image/png": "[encoded data removed]"
          },
          "metadata": {}
        }
      ]
    },
    {
      "cell_type": "code",
      "source": [
        "# Plotting graph of training and validation loss\n",
        "\n",
        "plt.plot(history.history[\"loss\"], color='red', label='train')\n",
        "plt.plot(history.history[\"val_loss\"], color='blue', label='validation')\n",
        "plt.legend()\n",
        "plt.show()"
      ],
      "metadata": {
        "colab": {
          "base_uri": "https://localhost:8080/",
          "height": 430
        },
        "id": "gPZiZa1pdU9Q",
        "outputId": "96a09a4d-beab-496d-9da9-811d8b416f18"
      },
      "execution_count": 24,
      "outputs": [
        {
          "output_type": "display_data",
          "data": {
            "text/plain": [
              "<Figure size 640x480 with 1 Axes>"
            ],
            "image/png": "[encoded data removed]"
          },
          "metadata": {}
        }
      ]
    },
    {
      "cell_type": "code",
      "source": [],
      "metadata": {
        "id": "bl_mmETWdXQl"
      },
      "execution_count": null,
      "outputs": []
    }
  ]
}
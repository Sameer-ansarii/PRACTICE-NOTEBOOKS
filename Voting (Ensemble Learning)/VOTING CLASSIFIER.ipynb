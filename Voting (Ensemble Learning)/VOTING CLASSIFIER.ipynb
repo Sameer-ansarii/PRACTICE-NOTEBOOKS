{
 "cells": [
  {
   "cell_type": "code",
   "execution_count": 1,
   "id": "d8d3ef85",
   "metadata": {},
   "outputs": [],
   "source": [
    "import pandas as pd\n",
    "import warnings\n",
    "warnings.filterwarnings('ignore')"
   ]
  },
  {
   "cell_type": "code",
   "execution_count": 2,
   "id": "43b461ff",
   "metadata": {},
   "outputs": [
    {
     "data": {
      "text/html": [
       "<div>\n",
       "<style scoped>\n",
       "    .dataframe tbody tr th:only-of-type {\n",
       "        vertical-align: middle;\n",
       "    }\n",
       "\n",
       "    .dataframe tbody tr th {\n",
       "        vertical-align: top;\n",
       "    }\n",
       "\n",
       "    .dataframe thead th {\n",
       "        text-align: right;\n",
       "    }\n",
       "</style>\n",
       "<table border=\"1\" class=\"dataframe\">\n",
       "  <thead>\n",
       "    <tr style=\"text-align: right;\">\n",
       "      <th></th>\n",
       "      <th>age</th>\n",
       "      <th>sex</th>\n",
       "      <th>BP</th>\n",
       "      <th>cholestrol</th>\n",
       "      <th>heart disease</th>\n",
       "    </tr>\n",
       "  </thead>\n",
       "  <tbody>\n",
       "    <tr>\n",
       "      <th>0</th>\n",
       "      <td>70</td>\n",
       "      <td>1</td>\n",
       "      <td>130</td>\n",
       "      <td>322</td>\n",
       "      <td>1</td>\n",
       "    </tr>\n",
       "    <tr>\n",
       "      <th>1</th>\n",
       "      <td>67</td>\n",
       "      <td>0</td>\n",
       "      <td>115</td>\n",
       "      <td>564</td>\n",
       "      <td>0</td>\n",
       "    </tr>\n",
       "    <tr>\n",
       "      <th>2</th>\n",
       "      <td>57</td>\n",
       "      <td>1</td>\n",
       "      <td>124</td>\n",
       "      <td>261</td>\n",
       "      <td>1</td>\n",
       "    </tr>\n",
       "    <tr>\n",
       "      <th>3</th>\n",
       "      <td>64</td>\n",
       "      <td>1</td>\n",
       "      <td>128</td>\n",
       "      <td>263</td>\n",
       "      <td>0</td>\n",
       "    </tr>\n",
       "    <tr>\n",
       "      <th>4</th>\n",
       "      <td>74</td>\n",
       "      <td>0</td>\n",
       "      <td>120</td>\n",
       "      <td>269</td>\n",
       "      <td>0</td>\n",
       "    </tr>\n",
       "  </tbody>\n",
       "</table>\n",
       "</div>"
      ],
      "text/plain": [
       "   age  sex   BP  cholestrol  heart disease\n",
       "0   70    1  130         322              1\n",
       "1   67    0  115         564              0\n",
       "2   57    1  124         261              1\n",
       "3   64    1  128         263              0\n",
       "4   74    0  120         269              0"
      ]
     },
     "execution_count": 2,
     "metadata": {},
     "output_type": "execute_result"
    }
   ],
   "source": [
    "df = pd.read_csv(r'C:\\Users\\HP\\Desktop\\Data Science\\Data Sets For Practice\\heart_v2.csv')\n",
    "df.head()"
   ]
  },
  {
   "cell_type": "code",
   "execution_count": 3,
   "id": "e1752096",
   "metadata": {},
   "outputs": [
    {
     "data": {
      "text/html": [
       "<div>\n",
       "<style scoped>\n",
       "    .dataframe tbody tr th:only-of-type {\n",
       "        vertical-align: middle;\n",
       "    }\n",
       "\n",
       "    .dataframe tbody tr th {\n",
       "        vertical-align: top;\n",
       "    }\n",
       "\n",
       "    .dataframe thead th {\n",
       "        text-align: right;\n",
       "    }\n",
       "</style>\n",
       "<table border=\"1\" class=\"dataframe\">\n",
       "  <thead>\n",
       "    <tr style=\"text-align: right;\">\n",
       "      <th></th>\n",
       "      <th>age</th>\n",
       "      <th>sex</th>\n",
       "      <th>BP</th>\n",
       "      <th>cholestrol</th>\n",
       "      <th>heart disease</th>\n",
       "    </tr>\n",
       "  </thead>\n",
       "  <tbody>\n",
       "    <tr>\n",
       "      <th>0</th>\n",
       "      <td>1.712094</td>\n",
       "      <td>1</td>\n",
       "      <td>-0.075410</td>\n",
       "      <td>1.402212</td>\n",
       "      <td>1</td>\n",
       "    </tr>\n",
       "    <tr>\n",
       "      <th>1</th>\n",
       "      <td>1.382140</td>\n",
       "      <td>0</td>\n",
       "      <td>-0.916759</td>\n",
       "      <td>6.093004</td>\n",
       "      <td>0</td>\n",
       "    </tr>\n",
       "    <tr>\n",
       "      <th>2</th>\n",
       "      <td>0.282294</td>\n",
       "      <td>1</td>\n",
       "      <td>-0.411950</td>\n",
       "      <td>0.219823</td>\n",
       "      <td>1</td>\n",
       "    </tr>\n",
       "    <tr>\n",
       "      <th>3</th>\n",
       "      <td>1.052186</td>\n",
       "      <td>1</td>\n",
       "      <td>-0.187590</td>\n",
       "      <td>0.258589</td>\n",
       "      <td>0</td>\n",
       "    </tr>\n",
       "    <tr>\n",
       "      <th>4</th>\n",
       "      <td>2.152032</td>\n",
       "      <td>0</td>\n",
       "      <td>-0.636310</td>\n",
       "      <td>0.374890</td>\n",
       "      <td>0</td>\n",
       "    </tr>\n",
       "  </tbody>\n",
       "</table>\n",
       "</div>"
      ],
      "text/plain": [
       "        age  sex        BP  cholestrol  heart disease\n",
       "0  1.712094    1 -0.075410    1.402212              1\n",
       "1  1.382140    0 -0.916759    6.093004              0\n",
       "2  0.282294    1 -0.411950    0.219823              1\n",
       "3  1.052186    1 -0.187590    0.258589              0\n",
       "4  2.152032    0 -0.636310    0.374890              0"
      ]
     },
     "execution_count": 3,
     "metadata": {},
     "output_type": "execute_result"
    }
   ],
   "source": [
    "from sklearn.preprocessing import StandardScaler\n",
    "\n",
    "scaler = StandardScaler()\n",
    "\n",
    "df[['age','BP','cholestrol']] = scaler.fit_transform(df[['age','BP','cholestrol']])\n",
    "\n",
    "df.head()"
   ]
  },
  {
   "cell_type": "code",
   "execution_count": 4,
   "id": "796d4cf1",
   "metadata": {},
   "outputs": [],
   "source": [
    "X = df.drop('heart disease',axis=1)\n",
    "y = df['heart disease']"
   ]
  },
  {
   "cell_type": "code",
   "execution_count": 5,
   "id": "f29f0ffb",
   "metadata": {},
   "outputs": [],
   "source": [
    "from sklearn.model_selection import train_test_split\n",
    "\n",
    "X_train, X_test, y_train, y_test = train_test_split(X, y, test_size=0.3, random_state=10)"
   ]
  },
  {
   "cell_type": "code",
   "execution_count": 6,
   "id": "f228bde4",
   "metadata": {},
   "outputs": [],
   "source": [
    "from sklearn.linear_model import LogisticRegression\n",
    "from sklearn.neighbors import KNeighborsClassifier\n",
    "from sklearn.ensemble import RandomForestClassifier\n",
    "from sklearn.tree import DecisionTreeClassifier"
   ]
  },
  {
   "cell_type": "code",
   "execution_count": 7,
   "id": "8bcd3d63",
   "metadata": {},
   "outputs": [],
   "source": [
    "clf1 = DecisionTreeClassifier()\n",
    "clf2 = KNeighborsClassifier()\n",
    "clf3 = LogisticRegression()\n",
    "clf4 = RandomForestClassifier()"
   ]
  },
  {
   "cell_type": "code",
   "execution_count": 8,
   "id": "9825e04c",
   "metadata": {},
   "outputs": [
    {
     "data": {
      "text/plain": [
       "RandomForestClassifier()"
      ]
     },
     "execution_count": 8,
     "metadata": {},
     "output_type": "execute_result"
    }
   ],
   "source": [
    "# Fit and predict using individual classifiers\n",
    "\n",
    "clf1.fit(X_train, y_train)\n",
    "clf2.fit(X_train, y_train)\n",
    "clf3.fit(X_train, y_train)\n",
    "clf4.fit(X_train, y_train)"
   ]
  },
  {
   "cell_type": "code",
   "execution_count": 9,
   "id": "60cd9235",
   "metadata": {},
   "outputs": [],
   "source": [
    "y_test_pred1 = clf1.predict(X_test)\n",
    "y_test_pred2 = clf2.predict(X_test)\n",
    "y_test_pred3 = clf3.predict(X_test)\n",
    "y_test_pred4 = clf4.predict(X_test)\n",
    "\n",
    "y_train_pred1 = clf1.predict(X_train)\n",
    "y_train_pred2 = clf2.predict(X_train)\n",
    "y_train_pred3 = clf3.predict(X_train)\n",
    "y_train_pred4 = clf4.predict(X_train)"
   ]
  },
  {
   "cell_type": "code",
   "execution_count": 10,
   "id": "a2f15ae9",
   "metadata": {},
   "outputs": [],
   "source": [
    "from sklearn.metrics import accuracy_score"
   ]
  },
  {
   "cell_type": "code",
   "execution_count": 11,
   "id": "85a2070e",
   "metadata": {},
   "outputs": [],
   "source": [
    "# Compute testing accuracy score for individual classifiers\n",
    "accuracy1 = accuracy_score(y_test, y_test_pred1)\n",
    "accuracy2 = accuracy_score(y_test, y_test_pred2)\n",
    "accuracy3 = accuracy_score(y_test, y_test_pred3)\n",
    "accuracy4 = accuracy_score(y_test, y_test_pred4)\n",
    "\n",
    "# Compute training accuracy score for individual classifiers\n",
    "accuracy5 = accuracy_score(y_train, y_train_pred1)\n",
    "accuracy6 = accuracy_score(y_train, y_train_pred2)\n",
    "accuracy7 = accuracy_score(y_train, y_train_pred3)\n",
    "accuracy8 = accuracy_score(y_train, y_train_pred4)"
   ]
  },
  {
   "cell_type": "code",
   "execution_count": 12,
   "id": "692d441e",
   "metadata": {},
   "outputs": [
    {
     "name": "stdout",
     "output_type": "stream",
     "text": [
      "Decision Tree\n",
      "\n",
      "Train Performance : 1.0\n",
      "Test Performance : 0.7160493827160493\n",
      "--------------------------------------------------\n",
      "KNeighbors\n",
      "\n",
      "Train Performance : 0.7566137566137566\n",
      "Test Performance : 0.6172839506172839\n",
      "--------------------------------------------------\n",
      "Logistic Regression\n",
      "\n",
      "Train Performance : 0.6931216931216931\n",
      "Test Performance : 0.5555555555555556\n",
      "--------------------------------------------------\n",
      "Random Forest\n",
      "\n",
      "Train Performance : 1.0\n",
      "Test Performance : 0.6666666666666666\n"
     ]
    }
   ],
   "source": [
    "print('Decision Tree\\n')\n",
    "print(\"Train Performance :\", accuracy5)\n",
    "print(\"Test Performance :\", accuracy1)\n",
    "print(\"-\"*50)\n",
    "print('KNeighbors\\n')\n",
    "print(\"Train Performance :\", accuracy6)\n",
    "print(\"Test Performance :\", accuracy2)\n",
    "print(\"-\"*50)\n",
    "print('Logistic Regression\\n')\n",
    "print(\"Train Performance :\", accuracy7)\n",
    "print(\"Test Performance :\", accuracy3)\n",
    "print(\"-\"*50)\n",
    "print('Random Forest\\n')\n",
    "print(\"Train Performance :\", accuracy8)\n",
    "print(\"Test Performance :\", accuracy4)"
   ]
  },
  {
   "cell_type": "markdown",
   "id": "41996296",
   "metadata": {},
   "source": [
    "# Let's use Voting Classifier and Check the Result with Hard Voting"
   ]
  },
  {
   "cell_type": "code",
   "execution_count": 13,
   "id": "2feb42c7",
   "metadata": {},
   "outputs": [],
   "source": [
    "from sklearn.ensemble import VotingClassifier"
   ]
  },
  {
   "cell_type": "code",
   "execution_count": 14,
   "id": "4bd65ac3",
   "metadata": {},
   "outputs": [],
   "source": [
    "estimators=[('dt', clf1), ('knn', clf2), ('lr', clf3), ('rf', clf4)]"
   ]
  },
  {
   "cell_type": "code",
   "execution_count": 15,
   "id": "59b6714a",
   "metadata": {},
   "outputs": [],
   "source": [
    "voting_clf = VotingClassifier(estimators=estimators, voting='hard')"
   ]
  },
  {
   "cell_type": "code",
   "execution_count": 16,
   "id": "8cb53482",
   "metadata": {},
   "outputs": [
    {
     "data": {
      "text/plain": [
       "VotingClassifier(estimators=[('dt', DecisionTreeClassifier()),\n",
       "                             ('knn', KNeighborsClassifier()),\n",
       "                             ('lr', LogisticRegression()),\n",
       "                             ('rf', RandomForestClassifier())])"
      ]
     },
     "execution_count": 16,
     "metadata": {},
     "output_type": "execute_result"
    }
   ],
   "source": [
    "voting_clf.fit(X_train, y_train)"
   ]
  },
  {
   "cell_type": "code",
   "execution_count": 17,
   "id": "46927a0c",
   "metadata": {},
   "outputs": [],
   "source": [
    "# Predict on training and testing data\n",
    "\n",
    "y_test_pred = voting_clf.predict(X_test)\n",
    "y_train_pred = voting_clf.predict(X_train)"
   ]
  },
  {
   "cell_type": "code",
   "execution_count": 18,
   "id": "18bcf07e",
   "metadata": {},
   "outputs": [
    {
     "name": "stdout",
     "output_type": "stream",
     "text": [
      "Train Performance : 0.8994708994708994\n",
      "Test Performance : 0.654320987654321\n"
     ]
    }
   ],
   "source": [
    "print(\"Train Performance :\", accuracy_score(y_train, y_train_pred))\n",
    "print(\"Test Performance :\", accuracy_score(y_test, y_test_pred))"
   ]
  },
  {
   "cell_type": "markdown",
   "id": "8afa792a",
   "metadata": {},
   "source": [
    "# Let's use Voting Classifier and Check the Result with Soft Voting"
   ]
  },
  {
   "cell_type": "code",
   "execution_count": 19,
   "id": "1ac9187c",
   "metadata": {},
   "outputs": [],
   "source": [
    "voting_clf1 = VotingClassifier(estimators=estimators, voting='soft')"
   ]
  },
  {
   "cell_type": "code",
   "execution_count": 20,
   "id": "7352a3d9",
   "metadata": {},
   "outputs": [
    {
     "data": {
      "text/plain": [
       "VotingClassifier(estimators=[('dt', DecisionTreeClassifier()),\n",
       "                             ('knn', KNeighborsClassifier()),\n",
       "                             ('lr', LogisticRegression()),\n",
       "                             ('rf', RandomForestClassifier())],\n",
       "                 voting='soft')"
      ]
     },
     "execution_count": 20,
     "metadata": {},
     "output_type": "execute_result"
    }
   ],
   "source": [
    "voting_clf1.fit(X_train, y_train)"
   ]
  },
  {
   "cell_type": "code",
   "execution_count": 21,
   "id": "5ea51b32",
   "metadata": {},
   "outputs": [],
   "source": [
    "# Predict on training and testing data\n",
    "\n",
    "y_test_pred = voting_clf1.predict(X_test)\n",
    "y_train_pred = voting_clf1.predict(X_train)"
   ]
  },
  {
   "cell_type": "code",
   "execution_count": 22,
   "id": "070ae0e0",
   "metadata": {},
   "outputs": [
    {
     "name": "stdout",
     "output_type": "stream",
     "text": [
      "Train Performance : 1.0\n",
      "Test Performance : 0.7037037037037037\n"
     ]
    }
   ],
   "source": [
    "print(\"Train Performance :\", accuracy_score(y_train, y_train_pred))\n",
    "print(\"Test Performance :\", accuracy_score(y_test, y_test_pred))"
   ]
  },
  {
   "cell_type": "code",
   "execution_count": null,
   "id": "5abc8683",
   "metadata": {},
   "outputs": [],
   "source": []
  },
  {
   "cell_type": "code",
   "execution_count": null,
   "id": "90a8bc73",
   "metadata": {},
   "outputs": [],
   "source": []
  }
 ],
 "metadata": {
  "kernelspec": {
   "display_name": "Python 3 (ipykernel)",
   "language": "python",
   "name": "python3"
  },
  "language_info": {
   "codemirror_mode": {
    "name": "ipython",
    "version": 3
   },
   "file_extension": ".py",
   "mimetype": "text/x-python",
   "name": "python",
   "nbconvert_exporter": "python",
   "pygments_lexer": "ipython3",
   "version": "3.9.13"
  }
 },
 "nbformat": 4,
 "nbformat_minor": 5
}

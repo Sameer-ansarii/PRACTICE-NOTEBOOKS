{
 "cells": [
  {
   "cell_type": "markdown",
   "id": "f6f8b41d",
   "metadata": {},
   "source": [
    "# Lemmatization\n",
    "\n",
    "\n",
    "* Lemmatization is a pre-processing technique in NLP which breakdown a individual word into it's root meaning. It is used to identifies the similarities between words. The output will be get after lemmatization is called lemma.\n",
    "\n",
    "\n",
    "* The goal of lemmatization is to group together different forms of a word which has a similar meaning. Eg:- The word 'run', 'running' and 'ran' can be reduced to run because all these 3 words have the similar meaning. Another example is 'information' and 'informative' could not be changed to 'inform', it will remain.\n",
    "\n",
    "\n",
    "* Lemmatization is more advance and customized technique than stemming because stemming removes affixes from the word with considering the POS(Part of speech) and lemmatization gives option to lemmatize word accord POS(Part of Speech). Eg:- 'noun', 'verb', 'adverb', 'adjective'. \n",
    "\n",
    "\n",
    "* Lemmatization is also more useful when dealing with languages that have complex inflectional morphology, where the same word can have multiple forms depending on its tense, gender, number, and other grammatical features.\n",
    "\n",
    "\n",
    "* Lemmatization uses vocabulary and morphological analysis to remove inflectional endings and return a root meaning of a word. \n",
    "\n",
    "\n",
    "* Use of Lemmatization:- In various NLP applications such as search engines, chatbox, text classification, and information retrieval.\n",
    "\n",
    "\n",
    "* Lemmatization can help computers to understand the proper meaning of a text "
   ]
  },
  {
   "attachments": {
    "stemmin_lemm_ex-1.png": {
     "image/png": "[encoded data removed]"
    }
   },
   "cell_type": "markdown",
   "id": "a9de5089",
   "metadata": {},
   "source": [
    "![stemmin_lemm_ex-1.png](attachment:stemmin_lemm_ex-1.png)"
   ]
  },
  {
   "cell_type": "code",
   "execution_count": 1,
   "id": "3e52ea6d",
   "metadata": {},
   "outputs": [
    {
     "name": "stderr",
     "output_type": "stream",
     "text": [
      "[nltk_data] Downloading package wordnet to\n",
      "[nltk_data]     C:\\Users\\HP\\AppData\\Roaming\\nltk_data...\n",
      "[nltk_data]   Package wordnet is already up-to-date!\n",
      "[nltk_data] Downloading package omw-1.4 to\n",
      "[nltk_data]     C:\\Users\\HP\\AppData\\Roaming\\nltk_data...\n",
      "[nltk_data]   Package omw-1.4 is already up-to-date!\n"
     ]
    },
    {
     "data": {
      "text/plain": [
       "True"
      ]
     },
     "execution_count": 1,
     "metadata": {},
     "output_type": "execute_result"
    }
   ],
   "source": [
    "import nltk\n",
    "nltk.download('wordnet')\n",
    "nltk.download('omw-1.4')"
   ]
  },
  {
   "cell_type": "code",
   "execution_count": 2,
   "id": "38248dbd",
   "metadata": {},
   "outputs": [],
   "source": [
    "from nltk.stem import WordNetLemmatizer\n",
    "\n",
    "lemmatizer = WordNetLemmatizer()"
   ]
  },
  {
   "cell_type": "code",
   "execution_count": 3,
   "id": "7a3b0b8a",
   "metadata": {},
   "outputs": [
    {
     "data": {
      "text/plain": [
       "'foot'"
      ]
     },
     "execution_count": 3,
     "metadata": {},
     "output_type": "execute_result"
    }
   ],
   "source": [
    "lemmatizer.lemmatize('feet')"
   ]
  },
  {
   "cell_type": "code",
   "execution_count": 4,
   "id": "704a13d0",
   "metadata": {},
   "outputs": [],
   "source": [
    "text = ['unacceptable', 'eating','EATS', 'eaten', 'playing','played','running', 'ran', 'run', 'lovely', 'writing', \n",
    "        'writes', 'programming', 'programs', 'feet', 'sportingly', 'feet','information','informative', 'computers',\n",
    "       'better','corpora', 'played']\n"
   ]
  },
  {
   "cell_type": "code",
   "execution_count": 5,
   "id": "07052b0b",
   "metadata": {},
   "outputs": [
    {
     "name": "stdout",
     "output_type": "stream",
     "text": [
      "['unacceptable', 'eating', 'EATS', 'eaten', 'playing', 'played', 'running', 'ran', 'run', 'lovely', 'writing', 'writes', 'programming', 'program', 'foot', 'sportingly', 'foot', 'information', 'informative', 'computer', 'better', 'corpus', 'played']\n"
     ]
    },
    {
     "data": {
      "text/plain": [
       "23"
      ]
     },
     "execution_count": 5,
     "metadata": {},
     "output_type": "execute_result"
    }
   ],
   "source": [
    "Word_Net_Lemmatizer = [lemmatizer.lemmatize(x) for x in text]\n",
    "\n",
    "print(Word_Net_Lemmatizer)\n",
    "\n",
    "len(Word_Net_Lemmatizer)"
   ]
  },
  {
   "cell_type": "code",
   "execution_count": 6,
   "id": "b422b35c",
   "metadata": {},
   "outputs": [
    {
     "name": "stdout",
     "output_type": "stream",
     "text": [
      "unacceptable----->UNACCEPTABLE\n",
      "eating----->EATING\n",
      "EATS----->EATS\n",
      "eaten----->EATEN\n",
      "playing----->PLAYING\n",
      "played----->PLAYED\n",
      "running----->RUNNING\n",
      "ran----->RAN\n",
      "run----->RUN\n",
      "lovely----->LOVELY\n",
      "writing----->WRITING\n",
      "writes----->WRITES\n",
      "programming----->PROGRAMMING\n",
      "programs----->PROGRAMS\n",
      "feet----->FEET\n",
      "sportingly----->SPORTINGLY\n",
      "feet----->FEET\n",
      "information----->INFORMATION\n",
      "informative----->INFORMATIVE\n",
      "computers----->COMPUTERS\n",
      "better----->BETTER\n",
      "corpora----->CORPORA\n",
      "played----->PLAYED\n"
     ]
    }
   ],
   "source": [
    "for x in text:\n",
    "    print(x+\"----->\"+lemmatizer.lemmatize(x.upper()))"
   ]
  },
  {
   "cell_type": "markdown",
   "id": "1244aeae",
   "metadata": {},
   "source": [
    "## 'pos' :- 'pos' or POS tag means (Part of Speech) This parameter is used to specific that what kind of words you want to lemmatize. By default it is set to 'n' means noun. Other options are 'a' for adjective, 'r' for adverb and 'v' for verb. "
   ]
  },
  {
   "cell_type": "code",
   "execution_count": 7,
   "id": "444d2413",
   "metadata": {},
   "outputs": [
    {
     "name": "stdout",
     "output_type": "stream",
     "text": [
      "['unacceptable', 'eating', 'EATS', 'eaten', 'playing', 'played', 'running', 'ran', 'run', 'lovely', 'writing', 'writes', 'programming', 'program', 'foot', 'sportingly', 'foot', 'information', 'informative', 'computer', 'better', 'corpus', 'played']\n"
     ]
    },
    {
     "data": {
      "text/plain": [
       "23"
      ]
     },
     "execution_count": 7,
     "metadata": {},
     "output_type": "execute_result"
    }
   ],
   "source": [
    "# noun\n",
    "\n",
    "Word_Net_Lemmatizer_noun = [lemmatizer.lemmatize(x, pos='n') for x in text]\n",
    "\n",
    "print(Word_Net_Lemmatizer)\n",
    "\n",
    "len(Word_Net_Lemmatizer)"
   ]
  },
  {
   "cell_type": "code",
   "execution_count": 8,
   "id": "643ea6a0",
   "metadata": {},
   "outputs": [
    {
     "name": "stdout",
     "output_type": "stream",
     "text": [
      "['unacceptable', 'eating', 'EATS', 'eaten', 'playing', 'played', 'running', 'ran', 'run', 'lovely', 'writing', 'writes', 'programming', 'program', 'foot', 'sportingly', 'foot', 'information', 'informative', 'computer', 'better', 'corpus', 'played']\n"
     ]
    },
    {
     "data": {
      "text/plain": [
       "23"
      ]
     },
     "execution_count": 8,
     "metadata": {},
     "output_type": "execute_result"
    }
   ],
   "source": [
    "# verb\n",
    "\n",
    "Word_Net_Lemmatizer_verb = [lemmatizer.lemmatize(x, pos='v') for x in text]\n",
    "\n",
    "print(Word_Net_Lemmatizer)\n",
    "\n",
    "len(Word_Net_Lemmatizer)"
   ]
  },
  {
   "cell_type": "code",
   "execution_count": 9,
   "id": "e6b3b82a",
   "metadata": {},
   "outputs": [
    {
     "name": "stdout",
     "output_type": "stream",
     "text": [
      "['unacceptable', 'eating', 'EATS', 'eaten', 'playing', 'played', 'running', 'ran', 'run', 'lovely', 'writing', 'writes', 'programming', 'program', 'foot', 'sportingly', 'foot', 'information', 'informative', 'computer', 'better', 'corpus', 'played']\n"
     ]
    },
    {
     "data": {
      "text/plain": [
       "23"
      ]
     },
     "execution_count": 9,
     "metadata": {},
     "output_type": "execute_result"
    }
   ],
   "source": [
    "# adverb\n",
    "\n",
    "Word_Net_Lemmatizer_adverb = [lemmatizer.lemmatize(x, pos='r') for x in text]\n",
    "\n",
    "print(Word_Net_Lemmatizer)\n",
    "\n",
    "len(Word_Net_Lemmatizer)"
   ]
  },
  {
   "cell_type": "code",
   "execution_count": 10,
   "id": "a892f501",
   "metadata": {},
   "outputs": [
    {
     "name": "stdout",
     "output_type": "stream",
     "text": [
      "['unacceptable', 'eating', 'EATS', 'eaten', 'playing', 'played', 'running', 'ran', 'run', 'lovely', 'writing', 'writes', 'programming', 'program', 'foot', 'sportingly', 'foot', 'information', 'informative', 'computer', 'better', 'corpus', 'played']\n"
     ]
    },
    {
     "data": {
      "text/plain": [
       "23"
      ]
     },
     "execution_count": 10,
     "metadata": {},
     "output_type": "execute_result"
    }
   ],
   "source": [
    "# adjective\n",
    "\n",
    "Word_Net_Lemmatizer_adjective = [lemmatizer.lemmatize(x, pos='a') for x in text]\n",
    "\n",
    "print(Word_Net_Lemmatizer)\n",
    "\n",
    "len(Word_Net_Lemmatizer)"
   ]
  },
  {
   "cell_type": "markdown",
   "id": "e9af6cad",
   "metadata": {},
   "source": [
    "# Compare the result of all Lemmatizer using different POS tags."
   ]
  },
  {
   "cell_type": "code",
   "execution_count": 11,
   "id": "165959d2",
   "metadata": {},
   "outputs": [
    {
     "data": {
      "text/html": [
       "<div>\n",
       "<style scoped>\n",
       "    .dataframe tbody tr th:only-of-type {\n",
       "        vertical-align: middle;\n",
       "    }\n",
       "\n",
       "    .dataframe tbody tr th {\n",
       "        vertical-align: top;\n",
       "    }\n",
       "\n",
       "    .dataframe thead th {\n",
       "        text-align: right;\n",
       "    }\n",
       "</style>\n",
       "<table border=\"1\" class=\"dataframe\">\n",
       "  <thead>\n",
       "    <tr style=\"text-align: right;\">\n",
       "      <th></th>\n",
       "      <th>Text</th>\n",
       "      <th>Word_Net_Lemmatizer_noun</th>\n",
       "      <th>Word_Net_Lemmatizer_verb</th>\n",
       "      <th>Word_Net_Lemmatizer_adverb</th>\n",
       "      <th>Word_Net_Lemmatizer_adjective</th>\n",
       "    </tr>\n",
       "  </thead>\n",
       "  <tbody>\n",
       "    <tr>\n",
       "      <th>0</th>\n",
       "      <td>unacceptable</td>\n",
       "      <td>unacceptable</td>\n",
       "      <td>unacceptable</td>\n",
       "      <td>unacceptable</td>\n",
       "      <td>unacceptable</td>\n",
       "    </tr>\n",
       "    <tr>\n",
       "      <th>1</th>\n",
       "      <td>eating</td>\n",
       "      <td>eating</td>\n",
       "      <td>eat</td>\n",
       "      <td>eating</td>\n",
       "      <td>eating</td>\n",
       "    </tr>\n",
       "    <tr>\n",
       "      <th>2</th>\n",
       "      <td>EATS</td>\n",
       "      <td>EATS</td>\n",
       "      <td>EATS</td>\n",
       "      <td>EATS</td>\n",
       "      <td>EATS</td>\n",
       "    </tr>\n",
       "    <tr>\n",
       "      <th>3</th>\n",
       "      <td>eaten</td>\n",
       "      <td>eaten</td>\n",
       "      <td>eat</td>\n",
       "      <td>eaten</td>\n",
       "      <td>eaten</td>\n",
       "    </tr>\n",
       "    <tr>\n",
       "      <th>4</th>\n",
       "      <td>playing</td>\n",
       "      <td>playing</td>\n",
       "      <td>play</td>\n",
       "      <td>playing</td>\n",
       "      <td>playing</td>\n",
       "    </tr>\n",
       "    <tr>\n",
       "      <th>5</th>\n",
       "      <td>played</td>\n",
       "      <td>played</td>\n",
       "      <td>play</td>\n",
       "      <td>played</td>\n",
       "      <td>played</td>\n",
       "    </tr>\n",
       "    <tr>\n",
       "      <th>6</th>\n",
       "      <td>running</td>\n",
       "      <td>running</td>\n",
       "      <td>run</td>\n",
       "      <td>running</td>\n",
       "      <td>running</td>\n",
       "    </tr>\n",
       "    <tr>\n",
       "      <th>7</th>\n",
       "      <td>ran</td>\n",
       "      <td>ran</td>\n",
       "      <td>run</td>\n",
       "      <td>ran</td>\n",
       "      <td>ran</td>\n",
       "    </tr>\n",
       "    <tr>\n",
       "      <th>8</th>\n",
       "      <td>run</td>\n",
       "      <td>run</td>\n",
       "      <td>run</td>\n",
       "      <td>run</td>\n",
       "      <td>run</td>\n",
       "    </tr>\n",
       "    <tr>\n",
       "      <th>9</th>\n",
       "      <td>lovely</td>\n",
       "      <td>lovely</td>\n",
       "      <td>lovely</td>\n",
       "      <td>lovely</td>\n",
       "      <td>lovely</td>\n",
       "    </tr>\n",
       "    <tr>\n",
       "      <th>10</th>\n",
       "      <td>writing</td>\n",
       "      <td>writing</td>\n",
       "      <td>write</td>\n",
       "      <td>writing</td>\n",
       "      <td>writing</td>\n",
       "    </tr>\n",
       "    <tr>\n",
       "      <th>11</th>\n",
       "      <td>writes</td>\n",
       "      <td>writes</td>\n",
       "      <td>write</td>\n",
       "      <td>writes</td>\n",
       "      <td>writes</td>\n",
       "    </tr>\n",
       "    <tr>\n",
       "      <th>12</th>\n",
       "      <td>programming</td>\n",
       "      <td>programming</td>\n",
       "      <td>program</td>\n",
       "      <td>programming</td>\n",
       "      <td>programming</td>\n",
       "    </tr>\n",
       "    <tr>\n",
       "      <th>13</th>\n",
       "      <td>programs</td>\n",
       "      <td>program</td>\n",
       "      <td>program</td>\n",
       "      <td>programs</td>\n",
       "      <td>programs</td>\n",
       "    </tr>\n",
       "    <tr>\n",
       "      <th>14</th>\n",
       "      <td>feet</td>\n",
       "      <td>foot</td>\n",
       "      <td>feet</td>\n",
       "      <td>feet</td>\n",
       "      <td>feet</td>\n",
       "    </tr>\n",
       "    <tr>\n",
       "      <th>15</th>\n",
       "      <td>sportingly</td>\n",
       "      <td>sportingly</td>\n",
       "      <td>sportingly</td>\n",
       "      <td>sportingly</td>\n",
       "      <td>sportingly</td>\n",
       "    </tr>\n",
       "    <tr>\n",
       "      <th>16</th>\n",
       "      <td>feet</td>\n",
       "      <td>foot</td>\n",
       "      <td>feet</td>\n",
       "      <td>feet</td>\n",
       "      <td>feet</td>\n",
       "    </tr>\n",
       "    <tr>\n",
       "      <th>17</th>\n",
       "      <td>information</td>\n",
       "      <td>information</td>\n",
       "      <td>information</td>\n",
       "      <td>information</td>\n",
       "      <td>information</td>\n",
       "    </tr>\n",
       "    <tr>\n",
       "      <th>18</th>\n",
       "      <td>informative</td>\n",
       "      <td>informative</td>\n",
       "      <td>informative</td>\n",
       "      <td>informative</td>\n",
       "      <td>informative</td>\n",
       "    </tr>\n",
       "    <tr>\n",
       "      <th>19</th>\n",
       "      <td>computers</td>\n",
       "      <td>computer</td>\n",
       "      <td>computers</td>\n",
       "      <td>computers</td>\n",
       "      <td>computers</td>\n",
       "    </tr>\n",
       "    <tr>\n",
       "      <th>20</th>\n",
       "      <td>better</td>\n",
       "      <td>better</td>\n",
       "      <td>better</td>\n",
       "      <td>well</td>\n",
       "      <td>good</td>\n",
       "    </tr>\n",
       "    <tr>\n",
       "      <th>21</th>\n",
       "      <td>corpora</td>\n",
       "      <td>corpus</td>\n",
       "      <td>corpora</td>\n",
       "      <td>corpora</td>\n",
       "      <td>corpora</td>\n",
       "    </tr>\n",
       "    <tr>\n",
       "      <th>22</th>\n",
       "      <td>played</td>\n",
       "      <td>played</td>\n",
       "      <td>play</td>\n",
       "      <td>played</td>\n",
       "      <td>played</td>\n",
       "    </tr>\n",
       "  </tbody>\n",
       "</table>\n",
       "</div>"
      ],
      "text/plain": [
       "            Text Word_Net_Lemmatizer_noun Word_Net_Lemmatizer_verb  \\\n",
       "0   unacceptable             unacceptable             unacceptable   \n",
       "1         eating                   eating                      eat   \n",
       "2           EATS                     EATS                     EATS   \n",
       "3          eaten                    eaten                      eat   \n",
       "4        playing                  playing                     play   \n",
       "5         played                   played                     play   \n",
       "6        running                  running                      run   \n",
       "7            ran                      ran                      run   \n",
       "8            run                      run                      run   \n",
       "9         lovely                   lovely                   lovely   \n",
       "10       writing                  writing                    write   \n",
       "11        writes                   writes                    write   \n",
       "12   programming              programming                  program   \n",
       "13      programs                  program                  program   \n",
       "14          feet                     foot                     feet   \n",
       "15    sportingly               sportingly               sportingly   \n",
       "16          feet                     foot                     feet   \n",
       "17   information              information              information   \n",
       "18   informative              informative              informative   \n",
       "19     computers                 computer                computers   \n",
       "20        better                   better                   better   \n",
       "21       corpora                   corpus                  corpora   \n",
       "22        played                   played                     play   \n",
       "\n",
       "   Word_Net_Lemmatizer_adverb Word_Net_Lemmatizer_adjective  \n",
       "0                unacceptable                  unacceptable  \n",
       "1                      eating                        eating  \n",
       "2                        EATS                          EATS  \n",
       "3                       eaten                         eaten  \n",
       "4                     playing                       playing  \n",
       "5                      played                        played  \n",
       "6                     running                       running  \n",
       "7                         ran                           ran  \n",
       "8                         run                           run  \n",
       "9                      lovely                        lovely  \n",
       "10                    writing                       writing  \n",
       "11                     writes                        writes  \n",
       "12                programming                   programming  \n",
       "13                   programs                      programs  \n",
       "14                       feet                          feet  \n",
       "15                 sportingly                    sportingly  \n",
       "16                       feet                          feet  \n",
       "17                information                   information  \n",
       "18                informative                   informative  \n",
       "19                  computers                     computers  \n",
       "20                       well                          good  \n",
       "21                    corpora                       corpora  \n",
       "22                     played                        played  "
      ]
     },
     "execution_count": 11,
     "metadata": {},
     "output_type": "execute_result"
    }
   ],
   "source": [
    "import pandas as pd \n",
    "\n",
    "df = pd.DataFrame({'Text': text, 'Word_Net_Lemmatizer_noun': Word_Net_Lemmatizer_noun,\n",
    "                   'Word_Net_Lemmatizer_verb': Word_Net_Lemmatizer_verb, 'Word_Net_Lemmatizer_adverb':Word_Net_Lemmatizer_adverb,\n",
    "                   'Word_Net_Lemmatizer_adjective':Word_Net_Lemmatizer_adjective})\n",
    "\n",
    "df"
   ]
  },
  {
   "cell_type": "markdown",
   "id": "16cb1f48",
   "metadata": {},
   "source": [
    "# POS(Part Of Speech)\n",
    "\n",
    "\n",
    "Verbs, adverbs, nouns, and adjectives are the four main parts of speech in English grammar.\n",
    "\n",
    "\n",
    "* Verbs: A verb is a word that describes an action, occurrence, or state of being. Examples of verbs include \"run\", \"jump\", \"eat\", \"sleep\", \"think\", \"feel\", etc.\n",
    "\n",
    "\n",
    "* Adverbs: An adverb is a word that modifies or describes a verb, an adjective, or another adverb. Adverbs usually end in -ly, and examples include \"quickly\", \"slowly\", \"happily\", \"sadly\", \"loudly\", etc.\n",
    "\n",
    "\n",
    "* Nouns: A noun is a word that represents a person, place, thing, or idea. Examples of nouns include \"dog\", \"cat\", \"car\", \"house\", \"book\", \"love\", \"happiness\", etc.\n",
    "\n",
    "\n",
    "* Adjectives: An adjective is a word that describes or modifies a noun or pronoun. Adjectives provide more information about the noun or pronoun, such as its size, shape, color, or quality. Examples of adjectives include \"big\", \"small\", \"red\", \"blue\", \"happy\", \"sad\", \"smart\", etc."
   ]
  },
  {
   "cell_type": "markdown",
   "id": "cf3e7662",
   "metadata": {},
   "source": [
    "# Part-of-speech (POS) Tagging \n",
    "\n",
    "Part-of-speech (POS) tagging is a process of identifying the grammatical parts of speech of words in a sentence, such as noun, verb, adjective, adverb, etc. In NLTK (Natural Language Toolkit), you can perform POS tagging using the pos_tag() function."
   ]
  },
  {
   "cell_type": "code",
   "execution_count": 12,
   "id": "9cf6015c",
   "metadata": {},
   "outputs": [
    {
     "name": "stderr",
     "output_type": "stream",
     "text": [
      "[nltk_data] Downloading package averaged_perceptron_tagger to\n",
      "[nltk_data]     C:\\Users\\HP\\AppData\\Roaming\\nltk_data...\n",
      "[nltk_data]   Package averaged_perceptron_tagger is already up-to-\n",
      "[nltk_data]       date!\n"
     ]
    },
    {
     "data": {
      "text/plain": [
       "True"
      ]
     },
     "execution_count": 12,
     "metadata": {},
     "output_type": "execute_result"
    }
   ],
   "source": [
    "nltk.download('averaged_perceptron_tagger')"
   ]
  },
  {
   "cell_type": "code",
   "execution_count": 13,
   "id": "233430a1",
   "metadata": {},
   "outputs": [
    {
     "data": {
      "text/plain": [
       "[('unacceptable', 'JJ'),\n",
       " ('eating', 'VBG'),\n",
       " ('EATS', 'NNP'),\n",
       " ('eaten', 'VBP'),\n",
       " ('playing', 'VBG'),\n",
       " ('played', 'VBD'),\n",
       " ('running', 'VBG'),\n",
       " ('ran', 'NN'),\n",
       " ('run', 'VB'),\n",
       " ('lovely', 'RB'),\n",
       " ('writing', 'VBG'),\n",
       " ('writes', 'NNS'),\n",
       " ('programming', 'VBG'),\n",
       " ('programs', 'NNS'),\n",
       " ('feet', 'NNS'),\n",
       " ('sportingly', 'RB'),\n",
       " ('feet', 'NNS'),\n",
       " ('information', 'NN'),\n",
       " ('informative', 'JJ'),\n",
       " ('computers', 'NNS'),\n",
       " ('better', 'RBR'),\n",
       " ('corpora', 'NNS'),\n",
       " ('played', 'VBD')]"
      ]
     },
     "execution_count": 13,
     "metadata": {},
     "output_type": "execute_result"
    }
   ],
   "source": [
    "nltk.pos_tag(text)"
   ]
  },
  {
   "cell_type": "markdown",
   "id": "a3a70d17",
   "metadata": {},
   "source": [
    "# Commonly used POS tags in NLTK along with their corresponding meanings:\n",
    "\n",
    "* CC: coordinating conjunction\n",
    "\n",
    "\n",
    "* CD: cardinal digit\n",
    "\n",
    "\n",
    "* DT: determiner\n",
    "\n",
    "\n",
    "* EX: existential there\n",
    "\n",
    "\n",
    "* FW: foreign word\n",
    "\n",
    "\n",
    "* IN: preposition/subordinating conjunction\n",
    "\n",
    "\n",
    "* JJ: adjective\n",
    "\n",
    "\n",
    "* JJR: adjective, comparative\n",
    "\n",
    "\n",
    "* JJS: adjective, superlative\n",
    "\n",
    "\n",
    "* LS: list marker\n",
    "\n",
    "\n",
    "* MD: modal (could, will, would, etc.)\n",
    "\n",
    "\n",
    "* NN: noun, singular or mass\n",
    "\n",
    "\n",
    "* NNS: noun, plural\n",
    "\n",
    "\n",
    "* NNP: proper noun, singular\n",
    "\n",
    "\n",
    "* NNPS: proper noun, plural\n",
    "\n",
    "\n",
    "* PDT: predeterminer\n",
    "\n",
    "\n",
    "* POS: possessive ending\n",
    "\n",
    "\n",
    "* PRP: personal pronoun\n",
    "\n",
    "\n",
    "* PRP$: possessive pronoun\n",
    "\n",
    "\n",
    "* RB: adverb\n",
    "\n",
    "\n",
    "* RBR: adverb, comparative\n",
    "\n",
    "\n",
    "* RBS: adverb, superlative\n",
    "\n",
    "\n",
    "* RP: particle\n",
    "\n",
    "\n",
    "* SYM: symbol\n",
    "\n",
    "\n",
    "* TO: to\n",
    "\n",
    "\n",
    "* UH: interjection\n",
    "\n",
    "\n",
    "* VB: verb, base form\n",
    "\n",
    "\n",
    "* VBD: verb, past tense\n",
    "\n",
    "\n",
    "* VBG: verb, gerund/present participle\n",
    "\n",
    "\n",
    "* VBN: verb, past participle\n",
    "\n",
    "\n",
    "* VBP: verb, non-3rd person singular present\n",
    "\n",
    "\n",
    "* VBZ: verb, 3rd person singular present\n",
    "\n",
    "\n",
    "* WDT: wh-determiner\n",
    "\n",
    "\n",
    "* WP: wh-pronoun\n",
    "\n",
    "\n",
    "* WP$: possessive wh"
   ]
  },
  {
   "cell_type": "code",
   "execution_count": null,
   "id": "48b54fb3",
   "metadata": {},
   "outputs": [],
   "source": []
  }
 ],
 "metadata": {
  "kernelspec": {
   "display_name": "Python 3 (ipykernel)",
   "language": "python",
   "name": "python3"
  },
  "language_info": {
   "codemirror_mode": {
    "name": "ipython",
    "version": 3
   },
   "file_extension": ".py",
   "mimetype": "text/x-python",
   "name": "python",
   "nbconvert_exporter": "python",
   "pygments_lexer": "ipython3",
   "version": "3.9.13"
  }
 },
 "nbformat": 4,
 "nbformat_minor": 5
}

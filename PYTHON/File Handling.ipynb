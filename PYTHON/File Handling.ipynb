{
 "cells": [
  {
   "cell_type": "markdown",
   "id": "53b4fa2c",
   "metadata": {},
   "source": [
    "### Create File in Python"
   ]
  },
  {
   "cell_type": "code",
   "execution_count": 2,
   "id": "89be2e5d",
   "metadata": {},
   "outputs": [
    {
     "data": {
      "text/plain": [
       "'C:\\\\Users\\\\HP\\\\Desktop\\\\Data Science\\\\Study Material\\\\Python'"
      ]
     },
     "execution_count": 2,
     "metadata": {},
     "output_type": "execute_result"
    }
   ],
   "source": [
    "pwd"
   ]
  },
  {
   "cell_type": "code",
   "execution_count": 2,
   "id": "61d7c5f4",
   "metadata": {},
   "outputs": [],
   "source": [
    "# create a empty text file\n",
    "# in current directory\n",
    "fp = open('sales.txt', 'x')\n",
    "fp.close()"
   ]
  },
  {
   "cell_type": "markdown",
   "id": "fc93525e",
   "metadata": {},
   "source": [
    "**`x`: it means open a file if present otherwise create it.**"
   ]
  },
  {
   "cell_type": "code",
   "execution_count": 3,
   "id": "d9fab7c6",
   "metadata": {},
   "outputs": [],
   "source": [
    "# create a empty text file\n",
    "fp = open('sales_2.txt', 'w')\n",
    "fp.write('first line')\n",
    "fp.close()"
   ]
  },
  {
   "cell_type": "markdown",
   "id": "fe0e3490",
   "metadata": {},
   "source": [
    "**`w`: it is used to overwrite in a file and write in a new file.**"
   ]
  },
  {
   "cell_type": "code",
   "execution_count": 1,
   "id": "2aad1799",
   "metadata": {},
   "outputs": [
    {
     "name": "stdout",
     "output_type": "stream",
     "text": [
      "['.ipynb_checkpoints', 'DocStrings.ipynb', 'Exception handling.ipynb', 'File Handling.ipynb', 'L01_Python_Operators.ipynb', 'L02_Data Types_Master.ipynb', 'L03_Conditional Statements_User Functions_Special Functions_Master.ipynb', 'String, Float, Slicing (Sir).pdf', 'String, Slicing, List (Sir).pdf']\n"
     ]
    }
   ],
   "source": [
    "import os\n",
    "\n",
    "# list files from a working directory\n",
    "print(os.listdir())"
   ]
  },
  {
   "cell_type": "code",
   "execution_count": 6,
   "id": "0636d64d",
   "metadata": {},
   "outputs": [
    {
     "name": "stdout",
     "output_type": "stream",
     "text": [
      "True\n"
     ]
    }
   ],
   "source": [
    "# verify file exist\n",
    "print(os.path.isfile('sales.txt'))"
   ]
  },
  {
   "cell_type": "code",
   "execution_count": 7,
   "id": "2dfc3cc1",
   "metadata": {},
   "outputs": [],
   "source": [
    "# create a text file for writing\n",
    "with open(r'C:\\Users\\hp\\Music\\File_Handling\\Test\\profit.txt', 'w') as fp:\n",
    "    fp.write('This is first line')\n",
    "    "
   ]
  },
  {
   "cell_type": "code",
   "execution_count": 8,
   "id": "072b9e6d",
   "metadata": {},
   "outputs": [
    {
     "name": "stdout",
     "output_type": "stream",
     "text": [
      "['File Handling.ipynb', 'profit.txt']\n"
     ]
    }
   ],
   "source": [
    "import os\n",
    "\n",
    "# list files a directory\n",
    "print(os.listdir(r'C:\\Users\\hp\\Music\\File_Handling\\Test'))\n"
   ]
  },
  {
   "cell_type": "code",
   "execution_count": 13,
   "id": "4f47e0ac",
   "metadata": {},
   "outputs": [
    {
     "name": "stdout",
     "output_type": "stream",
     "text": [
      "True\n"
     ]
    }
   ],
   "source": [
    "# verify file exist\n",
    "print(os.path.isfile(r'C:\\Users\\hp\\Music\\File_Handling\\Test\\profit.txt'))\n"
   ]
  },
  {
   "cell_type": "code",
   "execution_count": 10,
   "id": "d79e3e56",
   "metadata": {},
   "outputs": [],
   "source": [
    "import os\n",
    "\n",
    "# Specify the directory path\n",
    "path = r'C:\\Users\\hp\\Music\\File_Handling\\Test'\n",
    "file_name = 'revenue.txt'\n",
    "\n",
    "# Creating a file at specified folder\n",
    "# join directory and file path\n",
    "with open(os.path.join(path, file_name), 'w') as fp:\n",
    "    # uncomment below line if you want to create an empty file\n",
    "    fp.write('This is a new line')"
   ]
  },
  {
   "cell_type": "markdown",
   "id": "7422aef7",
   "metadata": {},
   "source": [
    "### Open a File in Python"
   ]
  },
  {
   "cell_type": "code",
   "execution_count": 12,
   "id": "0563ab75",
   "metadata": {},
   "outputs": [
    {
     "ename": "FileNotFoundError",
     "evalue": "[Errno 2] No such file or directory: 'C:\\\\Users\\\\hp\\\\Music\\\\File_Handling\\\\Test\\\\revenue_2.txt'",
     "output_type": "error",
     "traceback": [
      "\u001b[1;31m---------------------------------------------------------------------------\u001b[0m",
      "\u001b[1;31mFileNotFoundError\u001b[0m                         Traceback (most recent call last)",
      "Input \u001b[1;32mIn [12]\u001b[0m, in \u001b[0;36m<cell line: 2>\u001b[1;34m()\u001b[0m\n\u001b[0;32m      1\u001b[0m \u001b[38;5;66;03m# Opening the file with absolute path\u001b[39;00m\n\u001b[1;32m----> 2\u001b[0m fp \u001b[38;5;241m=\u001b[39m \u001b[38;5;28;43mopen\u001b[39;49m\u001b[43m(\u001b[49m\u001b[38;5;124;43mr\u001b[39;49m\u001b[38;5;124;43m'\u001b[39;49m\u001b[38;5;124;43mC:\u001b[39;49m\u001b[38;5;124;43m\\\u001b[39;49m\u001b[38;5;124;43mUsers\u001b[39;49m\u001b[38;5;124;43m\\\u001b[39;49m\u001b[38;5;124;43mhp\u001b[39;49m\u001b[38;5;124;43m\\\u001b[39;49m\u001b[38;5;124;43mMusic\u001b[39;49m\u001b[38;5;124;43m\\\u001b[39;49m\u001b[38;5;124;43mFile_Handling\u001b[39;49m\u001b[38;5;124;43m\\\u001b[39;49m\u001b[38;5;124;43mTest\u001b[39;49m\u001b[38;5;124;43m\\\u001b[39;49m\u001b[38;5;124;43mrevenue_2.txt\u001b[39;49m\u001b[38;5;124;43m'\u001b[39;49m\u001b[43m,\u001b[49m\u001b[43m \u001b[49m\u001b[38;5;124;43m'\u001b[39;49m\u001b[38;5;124;43mr\u001b[39;49m\u001b[38;5;124;43m'\u001b[39;49m\u001b[43m)\u001b[49m\n\u001b[0;32m      3\u001b[0m \u001b[38;5;66;03m# read file\u001b[39;00m\n\u001b[0;32m      4\u001b[0m \u001b[38;5;28mprint\u001b[39m(fp\u001b[38;5;241m.\u001b[39mread())\n",
      "\u001b[1;31mFileNotFoundError\u001b[0m: [Errno 2] No such file or directory: 'C:\\\\Users\\\\hp\\\\Music\\\\File_Handling\\\\Test\\\\revenue_2.txt'"
     ]
    }
   ],
   "source": [
    "# Opening the file with absolute path\n",
    "fp = open(r'C:\\Users\\hp\\Music\\File_Handling\\Test\\revenue_2.txt', 'r')\n",
    "# read file\n",
    "print(fp.read())\n",
    "# Closing the file after reading\n",
    "fp.close()\n"
   ]
  },
  {
   "cell_type": "code",
   "execution_count": 15,
   "id": "daa0b468",
   "metadata": {},
   "outputs": [
    {
     "name": "stdout",
     "output_type": "stream",
     "text": [
      "Please check the path.\n"
     ]
    }
   ],
   "source": [
    "# Opening the file with relative path\n",
    "try:\n",
    "    fp = open(\"sales_6.txt\", \"r\")\n",
    "    print(fp.read())\n",
    "    fp.close()\n",
    "except FileNotFoundError:\n",
    "    print(\"Please check the path.\")"
   ]
  },
  {
   "cell_type": "code",
   "execution_count": 25,
   "id": "4a07bc47",
   "metadata": {},
   "outputs": [
    {
     "ename": "FileNotFoundError",
     "evalue": "[Errno 2] No such file or directory: 'C:\\\\Users\\\\hp\\\\Music\\\\File_Handling\\\\Test\\\\reports.txt'",
     "output_type": "error",
     "traceback": [
      "\u001b[1;31m---------------------------------------------------------------------------\u001b[0m",
      "\u001b[1;31mFileNotFoundError\u001b[0m                         Traceback (most recent call last)",
      "Input \u001b[1;32mIn [25]\u001b[0m, in \u001b[0;36m<cell line: 1>\u001b[1;34m()\u001b[0m\n\u001b[1;32m----> 1\u001b[0m fp \u001b[38;5;241m=\u001b[39m \u001b[38;5;28;43mopen\u001b[39;49m\u001b[43m(\u001b[49m\u001b[38;5;124;43mr\u001b[39;49m\u001b[38;5;124;43m'\u001b[39;49m\u001b[38;5;124;43mC:\u001b[39;49m\u001b[38;5;124;43m\\\u001b[39;49m\u001b[38;5;124;43mUsers\u001b[39;49m\u001b[38;5;124;43m\\\u001b[39;49m\u001b[38;5;124;43mhp\u001b[39;49m\u001b[38;5;124;43m\\\u001b[39;49m\u001b[38;5;124;43mMusic\u001b[39;49m\u001b[38;5;124;43m\\\u001b[39;49m\u001b[38;5;124;43mFile_Handling\u001b[39;49m\u001b[38;5;124;43m\\\u001b[39;49m\u001b[38;5;124;43mTest\u001b[39;49m\u001b[38;5;124;43m\\\u001b[39;49m\u001b[38;5;124;43mreports.txt\u001b[39;49m\u001b[38;5;124;43m'\u001b[39;49m\u001b[43m,\u001b[49m\u001b[43m \u001b[49m\u001b[38;5;124;43m'\u001b[39;49m\u001b[38;5;124;43mr\u001b[39;49m\u001b[38;5;124;43m'\u001b[39;49m\u001b[43m)\u001b[49m\n\u001b[0;32m      2\u001b[0m \u001b[38;5;28mprint\u001b[39m(f\u001b[38;5;241m.\u001b[39mread())\n",
      "\u001b[1;31mFileNotFoundError\u001b[0m: [Errno 2] No such file or directory: 'C:\\\\Users\\\\hp\\\\Music\\\\File_Handling\\\\Test\\\\reports.txt'"
     ]
    }
   ],
   "source": [
    "fp = open(r'C:\\Users\\hp\\Music\\File_Handling\\Test\\reports.txt', 'r')\n",
    "print(f.read())"
   ]
  },
  {
   "cell_type": "code",
   "execution_count": 17,
   "id": "9b6cfd0b",
   "metadata": {},
   "outputs": [
    {
     "name": "stdout",
     "output_type": "stream",
     "text": [
      "File not found. Please check the path.\n",
      "Exit\n"
     ]
    }
   ],
   "source": [
    "try:\n",
    "    fp = open(r'C:\\Users\\hp\\Music\\File_Handling\\Test\\revenue_5.txt', 'r')\n",
    "    print(fp.read())\n",
    "    fp.close()\n",
    "except IOError:\n",
    "    print(\"File not found. Please check the path.\")\n",
    "finally:\n",
    "    print(\"Exit\")"
   ]
  },
  {
   "cell_type": "markdown",
   "id": "4ec3ad5a",
   "metadata": {},
   "source": [
    "**Opening a File in Read mode**"
   ]
  },
  {
   "cell_type": "code",
   "execution_count": 30,
   "id": "f59c3f25",
   "metadata": {},
   "outputs": [
    {
     "name": "stdout",
     "output_type": "stream",
     "text": [
      "Please check the path.\n"
     ]
    }
   ],
   "source": [
    "try:\n",
    "    fp = open(\"sample.txt\", \"r\")\n",
    "    # Reading the contents of the file and closing\n",
    "    print(fp.read())\n",
    "    fp.close()\n",
    "except IOError:\n",
    "    print(\"Please check the path.\")"
   ]
  },
  {
   "cell_type": "markdown",
   "id": "d3931a85",
   "metadata": {},
   "source": [
    "**Opening a File in Write Mode**"
   ]
  },
  {
   "cell_type": "code",
   "execution_count": 18,
   "id": "a3da0548",
   "metadata": {},
   "outputs": [
    {
     "name": "stdout",
     "output_type": "stream",
     "text": [
      "New line\n"
     ]
    }
   ],
   "source": [
    "fp = open(\"sample2.txt\", \"w\")\n",
    "# Writing content\n",
    "fp.write(\"New line\")\n",
    "\n",
    "# Opening the file again for reading the content\n",
    "fp = open(\"sample2.txt\", \"r\")\n",
    "\n",
    "# Reading the contents of the file and closing\n",
    "print(fp.read())\n",
    "fp.close()"
   ]
  },
  {
   "cell_type": "markdown",
   "id": "c7cafea8",
   "metadata": {},
   "source": [
    "**Opening a File in Append Mode**"
   ]
  },
  {
   "cell_type": "code",
   "execution_count": 19,
   "id": "c62e7153",
   "metadata": {},
   "outputs": [
    {
     "name": "stdout",
     "output_type": "stream",
     "text": [
      "New line \n",
      "Added this line by opening the file in append mode \n"
     ]
    }
   ],
   "source": [
    "# Open and Append at last\n",
    "fp = open(\"sample2.txt\", \"a\")\n",
    "fp.write(\" \\nAdded this line by opening the file in append mode \")\n",
    "\n",
    "# Opening the file again to read\n",
    "fp = open(\"sample2.txt\", \"r\")\n",
    "print(fp.read())\n",
    "fp.close()"
   ]
  },
  {
   "cell_type": "markdown",
   "id": "8f579774",
   "metadata": {},
   "source": [
    "**`a`: it is used to add stuff in a existing file.**"
   ]
  },
  {
   "cell_type": "markdown",
   "id": "961274b6",
   "metadata": {},
   "source": [
    "**Closing a File**"
   ]
  },
  {
   "cell_type": "code",
   "execution_count": 20,
   "id": "60050599",
   "metadata": {},
   "outputs": [
    {
     "name": "stdout",
     "output_type": "stream",
     "text": [
      "New line \n",
      "Added this line by opening the file in append mode \n"
     ]
    }
   ],
   "source": [
    "# Opening the file to read the contents\n",
    "f = open(\"sample2.txt\", \"r\")\n",
    "print(f.read())\n",
    "\n",
    "# Closing the file once our job is done\n",
    "f.close()"
   ]
  },
  {
   "cell_type": "markdown",
   "id": "670f8c3f",
   "metadata": {},
   "source": [
    "### Creating a new file"
   ]
  },
  {
   "cell_type": "code",
   "execution_count": 22,
   "id": "4950d3d6",
   "metadata": {},
   "outputs": [
    {
     "name": "stdout",
     "output_type": "stream",
     "text": [
      "The file already exists\n"
     ]
    }
   ],
   "source": [
    "try:\n",
    "    # Creating a new file\n",
    "    with open(\"sample3.txt\", \"x\") as fp:\n",
    "        fp.write(\"Hello World! I am a new file\")\n",
    "\n",
    "    # reading the contents of the new file\n",
    "    fp = open(\"sample3.txt\", \"r\")\n",
    "    print(fp.read())\n",
    "except FileExistsError:\n",
    "    print(\"The file already exists\")"
   ]
  },
  {
   "cell_type": "markdown",
   "id": "c079ce84",
   "metadata": {},
   "source": [
    "### Read File in Python"
   ]
  },
  {
   "cell_type": "code",
   "execution_count": 23,
   "id": "b09e28a5",
   "metadata": {},
   "outputs": [
    {
     "name": "stdout",
     "output_type": "stream",
     "text": [
      "This is a new line\n"
     ]
    }
   ],
   "source": [
    "# read file with absolute path\n",
    "try:\n",
    "    fp = open(r\"C:\\Users\\hp\\Music\\File_Handling\\Test\\revenue.txt\", \"r\")\n",
    "    print(fp.read())\n",
    "    fp.close()\n",
    "except FileNotFoundError:\n",
    "    print(\"Please check the path\")"
   ]
  },
  {
   "cell_type": "code",
   "execution_count": 25,
   "id": "cce2a691",
   "metadata": {},
   "outputs": [
    {
     "name": "stdout",
     "output_type": "stream",
     "text": [
      "This is a first line\n",
      "This is a second line\n",
      "This is a third line\n",
      "This is a fourth line\n"
     ]
    }
   ],
   "source": [
    "# Reading files using 'with'\n",
    "with open(r'C:\\Users\\hp\\Music\\File_Handling\\Test\\revenue.txt', 'r') as file:\n",
    "    print(file.read())"
   ]
  },
  {
   "cell_type": "markdown",
   "id": "836d1ff1",
   "metadata": {},
   "source": [
    "**`r'` stands for raw data in (`r'`C:\\Users\\hp\\Music\\File_Handling\\Test\\revenue.txt', 'r')**\n",
    "\n",
    "\n",
    "**`r` stands for reading mode in (r'C:\\Users\\hp\\Music\\File_Handling\\Test\\revenue.txt', '`r`')**"
   ]
  },
  {
   "cell_type": "code",
   "execution_count": 28,
   "id": "c6129dea",
   "metadata": {},
   "outputs": [
    {
     "name": "stdout",
     "output_type": "stream",
     "text": [
      "This is a first line\n",
      "This is a second line\n",
      "This is a third line\n"
     ]
    }
   ],
   "source": [
    "with open(r'C:\\Users\\hp\\Music\\File_Handling\\Test\\revenue.txt', 'r') as file:\n",
    "    # read first 3 lines\n",
    "    for i in range(3):\n",
    "        print(file.readline(),end='')"
   ]
  },
  {
   "cell_type": "markdown",
   "id": "d1db3b3a",
   "metadata": {},
   "source": [
    "**Here `range`  function is used to read first 3 lines.**"
   ]
  },
  {
   "cell_type": "markdown",
   "id": "77caa7cc",
   "metadata": {},
   "source": [
    "### Reading File in Reverse Order"
   ]
  },
  {
   "cell_type": "code",
   "execution_count": 29,
   "id": "3c68f15e",
   "metadata": {},
   "outputs": [
    {
     "name": "stdout",
     "output_type": "stream",
     "text": [
      "This is a fourth line\n",
      "This is a third line\n",
      "\n",
      "This is a second line\n",
      "\n",
      "This is a first line\n",
      "\n"
     ]
    }
   ],
   "source": [
    "with open(r'C:\\Users\\hp\\Music\\File_Handling\\Test\\revenue.txt', 'r') as f:\n",
    "  lines = f.readlines()\n",
    "  for line in reversed(lines):\n",
    "    print(line)"
   ]
  },
  {
   "cell_type": "markdown",
   "id": "27148355",
   "metadata": {},
   "source": [
    "### Python Write to File"
   ]
  },
  {
   "cell_type": "markdown",
   "id": "8390551a",
   "metadata": {},
   "source": [
    "**Write to a Text file in Python**"
   ]
  },
  {
   "cell_type": "code",
   "execution_count": 52,
   "id": "4ce8000a",
   "metadata": {},
   "outputs": [
    {
     "name": "stdout",
     "output_type": "stream",
     "text": [
      "Done Writing\n",
      "This is new content\n"
     ]
    }
   ],
   "source": [
    "text = \"This is new content\"\n",
    "# writing new content to the file\n",
    "fp = open(\"write_demo.txt\", 'w')\n",
    "fp.write(text)\n",
    "print('Done Writing')\n",
    "fp.close()\n",
    "\n",
    "# Open the file for reading the new contents\n",
    "fp = open(\"write_demo.txt\", 'r')\n",
    "print(fp.read())\n",
    "fp.close()"
   ]
  },
  {
   "cell_type": "markdown",
   "id": "cdfb8368",
   "metadata": {},
   "source": [
    "**Writing To An Existing File**"
   ]
  },
  {
   "cell_type": "code",
   "execution_count": 53,
   "id": "56f0a871",
   "metadata": {},
   "outputs": [
    {
     "name": "stdout",
     "output_type": "stream",
     "text": [
      "This is first line\n",
      "Opening file again..\n",
      "This is overwritten content\n"
     ]
    }
   ],
   "source": [
    "file_path = r\"C:\\Users\\hp\\Music\\File_Handling\\Test\\profit.txt\"\n",
    "fp = open(file_path, 'r')\n",
    "print(fp.read())\n",
    "fp.close()\n",
    "\n",
    "# overwriting existing content of a file\n",
    "fp = open(file_path, 'w')\n",
    "fp.write(\"This is overwritten content\")\n",
    "fp.close()\n",
    "\n",
    "# Read file\n",
    "fp = open(file_path, 'r')\n",
    "print(\"Opening file again..\")\n",
    "print(fp.read())\n",
    "fp.close()"
   ]
  },
  {
   "cell_type": "markdown",
   "id": "c711d7f0",
   "metadata": {},
   "source": [
    "with Statement to Write a File"
   ]
  },
  {
   "cell_type": "code",
   "execution_count": 54,
   "id": "11c2376c",
   "metadata": {},
   "outputs": [
    {
     "name": "stdout",
     "output_type": "stream",
     "text": [
      "Written using a context manager\n"
     ]
    }
   ],
   "source": [
    "name = \"Written using a context manager\"\n",
    "with open(\"Write_demo.txt\", \"w\") as f:\n",
    "    f.write(name)\n",
    "\n",
    "# opening the file in read mode to access the file\n",
    "with open(\"Write_demo.txt\", \"r\") as f:\n",
    "    print(f.read())"
   ]
  },
  {
   "cell_type": "markdown",
   "id": "cb6c7c69",
   "metadata": {},
   "source": [
    "Appending New Content to an Existing File"
   ]
  },
  {
   "cell_type": "code",
   "execution_count": 55,
   "id": "3bb877f0",
   "metadata": {},
   "outputs": [
    {
     "name": "stdout",
     "output_type": "stream",
     "text": [
      "Written using a context manager\n",
      "Emma\n",
      "Address: 221 Baker Street\n",
      "City: London\n",
      "Country:United Kingdom\n"
     ]
    }
   ],
   "source": [
    "name = '\\nEmma'\n",
    "address = ['\\nAddress: 221 Baker Street', '\\nCity: London', '\\nCountry:United Kingdom']\n",
    "# append to file\n",
    "with open(\"Write_demo.txt\", \"a\") as f:\n",
    "    f.write(name)\n",
    "    f.writelines(address)\n",
    "\n",
    "# opening the file in read mode to access the file\n",
    "with open(\"Write_demo.txt\", \"r\") as f:\n",
    "    print(f.read())\n"
   ]
  },
  {
   "cell_type": "markdown",
   "id": "7e91cb74",
   "metadata": {},
   "source": [
    "### How to Delete a File in Python"
   ]
  },
  {
   "cell_type": "code",
   "execution_count": 57,
   "id": "56325a2d",
   "metadata": {},
   "outputs": [],
   "source": [
    "import os\n",
    "\n",
    "# removing a file with relative path\n",
    "os.remove(\"sales_2.txt\")\n"
   ]
  },
  {
   "cell_type": "markdown",
   "id": "2c00b21b",
   "metadata": {},
   "source": [
    "Remove file with absolute path"
   ]
  },
  {
   "cell_type": "code",
   "execution_count": 58,
   "id": "092bf72a",
   "metadata": {},
   "outputs": [],
   "source": [
    "import os\n",
    "\n",
    "# remove file with absolute path\n",
    "os.remove(r\"C:\\Users\\hp\\Music\\File_Handling\\Test\\profit.txt\")"
   ]
  },
  {
   "cell_type": "markdown",
   "id": "4b771403",
   "metadata": {},
   "source": [
    "Check if File Exist Before Deleting It"
   ]
  },
  {
   "cell_type": "code",
   "execution_count": 60,
   "id": "2b985508",
   "metadata": {},
   "outputs": [
    {
     "name": "stdout",
     "output_type": "stream",
     "text": [
      "The system cannot find the file specified\n"
     ]
    }
   ],
   "source": [
    "import os\n",
    "\n",
    "file_path = r'C:\\Users\\hp\\Music\\File_Handling\\Test\\sales_2.txt'\n",
    "if os.path.exists(file_path):\n",
    "    os.remove(file_path)\n",
    "else:\n",
    "    print(\"The system cannot find the file specified\")"
   ]
  },
  {
   "cell_type": "markdown",
   "id": "198e0795",
   "metadata": {},
   "source": [
    "### Delete all Files from a Directory"
   ]
  },
  {
   "cell_type": "code",
   "execution_count": 30,
   "id": "a30fcaca",
   "metadata": {},
   "outputs": [
    {
     "name": "stdout",
     "output_type": "stream",
     "text": [
      "Deleting file: C:\\Users\\hp\\Music\\File_Handling\\Test\\\\File Handling.ipynb\n",
      "Deleting file: C:\\Users\\hp\\Music\\File_Handling\\Test\\\\profit.txt\n",
      "Deleting file: C:\\Users\\hp\\Music\\File_Handling\\Test\\\\revenue.txt\n"
     ]
    }
   ],
   "source": [
    "import os\n",
    "\n",
    "path = r\"C:\\Users\\hp\\Music\\File_Handling\\Test\\\\\"\n",
    "for file_name in os.listdir(path):\n",
    "    # construct full file path\n",
    "    file = path + file_name\n",
    "    if os.path.isfile(file):\n",
    "        print('Deleting file:', file)\n",
    "        os.remove(file)"
   ]
  },
  {
   "cell_type": "markdown",
   "id": "27d8b424",
   "metadata": {},
   "source": [
    "**os.path.`isfile`(path_address) means if file is present.**"
   ]
  },
  {
   "cell_type": "markdown",
   "id": "c9356b05",
   "metadata": {},
   "source": [
    "### Copy Files and Directories in Python"
   ]
  },
  {
   "cell_type": "code",
   "execution_count": 31,
   "id": "4465b22c",
   "metadata": {},
   "outputs": [
    {
     "name": "stdout",
     "output_type": "stream",
     "text": [
      "Copied\n"
     ]
    }
   ],
   "source": [
    "import shutil\n",
    "\n",
    "src_path = r\"C:\\Users\\hp\\Music\\File_Handling\\sample3.txt\"\n",
    "dst_path = r\"C:\\Users\\hp\\Music\\File_Handling\\test\\sample3.txt\"\n",
    "shutil.copy(src_path, dst_path)\n",
    "print('Copied')"
   ]
  },
  {
   "cell_type": "markdown",
   "id": "c039955f",
   "metadata": {},
   "source": [
    "**`src_path`: source path**\n",
    "\n",
    "\n",
    "**`dst_path`: destination path**"
   ]
  },
  {
   "cell_type": "markdown",
   "id": "07443af8",
   "metadata": {},
   "source": [
    "#### Copy All Files From A Directory"
   ]
  },
  {
   "cell_type": "code",
   "execution_count": 32,
   "id": "b7990a1c",
   "metadata": {},
   "outputs": [
    {
     "name": "stdout",
     "output_type": "stream",
     "text": [
      "copied File Handling.ipynb\n",
      "copied sales.txt\n",
      "copied sales_2.txt\n",
      "copied sample2.txt\n",
      "copied sample3.txt\n"
     ]
    }
   ],
   "source": [
    "import os\n",
    "import shutil\n",
    "\n",
    "source_folder = r\"C:\\Users\\hp\\Music\\File_Handling\\\\\"\n",
    "destination_folder = r\"C:\\Users\\hp\\Music\\File_Handling\\test\\\\\"\n",
    "\n",
    "# fetch all files\n",
    "for file_name in os.listdir(source_folder):\n",
    "    # construct full file path\n",
    "    source = source_folder + file_name\n",
    "    destination = destination_folder + file_name\n",
    "    # copy only files\n",
    "    if os.path.isfile(source):\n",
    "        shutil.copy(source, destination)\n",
    "        print('copied', file_name)"
   ]
  },
  {
   "cell_type": "markdown",
   "id": "492962d3",
   "metadata": {},
   "source": [
    "### Rename Files in Python"
   ]
  },
  {
   "cell_type": "code",
   "execution_count": 33,
   "id": "086c5fea",
   "metadata": {},
   "outputs": [],
   "source": [
    "import os\n",
    "\n",
    "# Absolute path of a file\n",
    "old_name = r\"C:\\Users\\hp\\Music\\File_Handling\\Test\\sales.txt\"\n",
    "new_name = r\"C:\\Users\\hp\\Music\\File_Handling\\Test\\sales_test.txt\"\n",
    "\n",
    "# Renaming the file\n",
    "os.rename(old_name, new_name)"
   ]
  },
  {
   "cell_type": "markdown",
   "id": "15ef0acd",
   "metadata": {},
   "source": [
    "### Rename a file after checking whether it exists"
   ]
  },
  {
   "cell_type": "code",
   "execution_count": 35,
   "id": "045a1d03",
   "metadata": {},
   "outputs": [],
   "source": [
    "import os\n",
    "\n",
    "old_name = r\"C:\\Users\\hp\\Music\\File_Handling\\Test\\sales_test.txt\"\n",
    "new_name = r\"C:\\Users\\hp\\Music\\File_Handling\\Test\\sales_2_new.txt\"\n",
    "\n",
    "if os.path.isfile(new_name):\n",
    "    print(\"The file already exists\")\n",
    "else:\n",
    "    # Rename the file\n",
    "    os.rename(old_name, new_name)"
   ]
  },
  {
   "cell_type": "code",
   "execution_count": null,
   "id": "c5b18cb9",
   "metadata": {},
   "outputs": [],
   "source": []
  },
  {
   "cell_type": "code",
   "execution_count": null,
   "id": "889b1cbd",
   "metadata": {},
   "outputs": [],
   "source": []
  }
 ],
 "metadata": {
  "kernelspec": {
   "display_name": "Python 3 (ipykernel)",
   "language": "python",
   "name": "python3"
  },
  "language_info": {
   "codemirror_mode": {
    "name": "ipython",
    "version": 3
   },
   "file_extension": ".py",
   "mimetype": "text/x-python",
   "name": "python",
   "nbconvert_exporter": "python",
   "pygments_lexer": "ipython3",
   "version": "3.9.13"
  }
 },
 "nbformat": 4,
 "nbformat_minor": 5
}

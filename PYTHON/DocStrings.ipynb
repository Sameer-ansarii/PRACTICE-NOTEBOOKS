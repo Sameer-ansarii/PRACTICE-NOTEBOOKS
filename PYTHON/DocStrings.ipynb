{
 "cells": [
  {
   "cell_type": "markdown",
   "id": "85bef265",
   "metadata": {},
   "source": [
    "**Python docstrings are the string literals that appear right after the definition of a function, method, class, or module.**"
   ]
  },
  {
   "cell_type": "code",
   "execution_count": 14,
   "id": "6465e52e",
   "metadata": {},
   "outputs": [],
   "source": [
    "def test(n):\n",
    "    '''Takes in a number n, returns the square of n'''\n",
    "    return n**2"
   ]
  },
  {
   "cell_type": "code",
   "execution_count": 16,
   "id": "7bf7fc25",
   "metadata": {},
   "outputs": [
    {
     "data": {
      "text/plain": [
       "25"
      ]
     },
     "execution_count": 16,
     "metadata": {},
     "output_type": "execute_result"
    }
   ],
   "source": [
    "test(5)"
   ]
  },
  {
   "cell_type": "code",
   "execution_count": 5,
   "id": "b973e45f",
   "metadata": {},
   "outputs": [
    {
     "name": "stdout",
     "output_type": "stream",
     "text": [
      "Takes in a number n, returns the square of n\n"
     ]
    }
   ],
   "source": [
    "print(square.__doc__)"
   ]
  },
  {
   "cell_type": "markdown",
   "id": "450535f4",
   "metadata": {},
   "source": [
    "In Python, we use the hash symbol # to write a single-line comment."
   ]
  },
  {
   "cell_type": "code",
   "execution_count": 3,
   "id": "33465826",
   "metadata": {},
   "outputs": [
    {
     "name": "stdout",
     "output_type": "stream",
     "text": [
      "Hello World\n"
     ]
    }
   ],
   "source": [
    "# Program to print \"Hello World\"\n",
    "print(\"Hello World\")"
   ]
  },
  {
   "cell_type": "markdown",
   "id": "a3ed8a78",
   "metadata": {},
   "source": [
    "Python Comments Using Strings"
   ]
  },
  {
   "cell_type": "code",
   "execution_count": 4,
   "id": "7ad4e856",
   "metadata": {},
   "outputs": [
    {
     "name": "stdout",
     "output_type": "stream",
     "text": [
      "Hello World\n"
     ]
    }
   ],
   "source": [
    "\"I am a single-line comment\"\n",
    "\n",
    "'''\n",
    "I am a\n",
    "multi-line comment!\n",
    "'''\n",
    "\n",
    "print(\"Hello World\")"
   ]
  },
  {
   "cell_type": "markdown",
   "id": "2c61b591",
   "metadata": {},
   "source": [
    "Docstrings for the built-in print() function"
   ]
  },
  {
   "cell_type": "code",
   "execution_count": 7,
   "id": "bdd93862",
   "metadata": {},
   "outputs": [
    {
     "name": "stdout",
     "output_type": "stream",
     "text": [
      "print(value, ..., sep=' ', end='\\n', file=sys.stdout, flush=False)\n",
      "\n",
      "Prints the values to a stream, or to sys.stdout by default.\n",
      "Optional keyword arguments:\n",
      "file:  a file-like object (stream); defaults to the current sys.stdout.\n",
      "sep:   string inserted between values, default a space.\n",
      "end:   string appended after the last value, default a newline.\n",
      "flush: whether to forcibly flush the stream.\n"
     ]
    }
   ],
   "source": [
    "print(print.__doc__)"
   ]
  },
  {
   "cell_type": "markdown",
   "id": "349a3b59",
   "metadata": {},
   "source": [
    "### single-line docstrings"
   ]
  },
  {
   "cell_type": "code",
   "execution_count": 20,
   "id": "6cd8fa9b",
   "metadata": {},
   "outputs": [],
   "source": [
    "def multiplier(a, b):\n",
    "    \"\"\"Takes in two numbers, returns their product. Created by Arihant on 19th March\"\"\"\n",
    "    return a*b"
   ]
  },
  {
   "cell_type": "code",
   "execution_count": 19,
   "id": "de9026fc",
   "metadata": {},
   "outputs": [
    {
     "data": {
      "text/plain": [
       "10"
      ]
     },
     "execution_count": 19,
     "metadata": {},
     "output_type": "execute_result"
    }
   ],
   "source": [
    "multiplier(2,5)"
   ]
  },
  {
   "cell_type": "code",
   "execution_count": 18,
   "id": "fd66d8e1",
   "metadata": {},
   "outputs": [
    {
     "name": "stdout",
     "output_type": "stream",
     "text": [
      "Takes in two numbers, returns their product.\n"
     ]
    }
   ],
   "source": [
    "print(multiplier.__doc__)"
   ]
  },
  {
   "cell_type": "code",
   "execution_count": 21,
   "id": "e02b35e2",
   "metadata": {},
   "outputs": [
    {
     "name": "stdout",
     "output_type": "stream",
     "text": [
      "\n",
      "    Returns the sum of two decimal numbers in binary digits.\n",
      "\n",
      "            Parameters:\n",
      "                    a (int): A decimal integer\n",
      "                    b (int): Another decimal integer\n",
      "\n",
      "            Returns:\n",
      "                    binary_sum (str): Binary string of the sum of a and b\n",
      "    \n"
     ]
    }
   ],
   "source": [
    "def add_binary(a, b):\n",
    "    '''\n",
    "    Returns the sum of two decimal numbers in binary digits.\n",
    "\n",
    "            Parameters:\n",
    "                    a (int): A decimal integer\n",
    "                    b (int): Another decimal integer\n",
    "\n",
    "            Returns:\n",
    "                    binary_sum (str): Binary string of the sum of a and b\n",
    "    '''\n",
    "    binary_sum = bin(a+b)[2:]\n",
    "    return binary_sum\n",
    "\n",
    "\n",
    "print(add_binary.__doc__)"
   ]
  },
  {
   "cell_type": "code",
   "execution_count": 11,
   "id": "e0913e7b",
   "metadata": {},
   "outputs": [
    {
     "data": {
      "text/plain": [
       "'1100'"
      ]
     },
     "execution_count": 11,
     "metadata": {},
     "output_type": "execute_result"
    }
   ],
   "source": [
    "add_binary(5, 7)"
   ]
  },
  {
   "cell_type": "code",
   "execution_count": null,
   "id": "2904907f",
   "metadata": {},
   "outputs": [],
   "source": []
  }
 ],
 "metadata": {
  "kernelspec": {
   "display_name": "Python 3 (ipykernel)",
   "language": "python",
   "name": "python3"
  },
  "language_info": {
   "codemirror_mode": {
    "name": "ipython",
    "version": 3
   },
   "file_extension": ".py",
   "mimetype": "text/x-python",
   "name": "python",
   "nbconvert_exporter": "python",
   "pygments_lexer": "ipython3",
   "version": "3.9.13"
  }
 },
 "nbformat": 4,
 "nbformat_minor": 5
}

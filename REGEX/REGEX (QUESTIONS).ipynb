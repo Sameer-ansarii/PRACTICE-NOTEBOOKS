{
 "cells": [
  {
   "cell_type": "markdown",
   "id": "6c207050",
   "metadata": {},
   "source": [
    "#### \n",
    "Write a regular expression to match all the files that have either .exe, .xml or .jar extensions. A valid file name can contain any alphabet, digit and underscore followed by the extension."
   ]
  },
  {
   "cell_type": "code",
   "execution_count": null,
   "id": "8205e852",
   "metadata": {
    "scrolled": true
   },
   "outputs": [],
   "source": [
    "import re\n",
    "files = ['employees.xml', 'calculator.jar', 'nfsmw.exe', 'bkgrnd001.jpg', 'sales_report.ppt']\n",
    "pattern = \"\" #write pattern inside \"\"\n",
    "result = []\n",
    "for file in files:\n",
    "    match = re.search(pattern, file)\n",
    "    if match !=None:\n",
    "        result.append(file)\n",
    "print(result)"
   ]
  },
  {
   "cell_type": "markdown",
   "id": "13331e97",
   "metadata": {},
   "source": [
    "##### Write a regular expression to match all the addresses that have Koramangala embedded in them.\n",
    "Strings that should match:\n",
    "466, 5th block, Koramangala, Bangalore\n",
    "4th BLOCK, KORAMANGALA - 560034\n",
    "Strings that shouldn't match:\n",
    "999, St. Marks Road, Bangalore"
   ]
  },
  {
   "cell_type": "code",
   "execution_count": null,
   "id": "62a675b7",
   "metadata": {},
   "outputs": [],
   "source": [
    "addresses = ['466, 5th block, Koramangala, Bangalore', '4th BLOCK, KORAMANGALA - 560034', '999, St. Marks Road, Bangalore']\n",
    "pattern = \"\" #write pattern inside \"\"\n",
    "result = []\n",
    "for address in addresses:\n",
    "    match = re.search(pattern, address, re.I)\n",
    "    if match !=None:\n",
    "        result.append(address)\n",
    "print(result)"
   ]
  },
  {
   "cell_type": "markdown",
   "id": "d6c974c2",
   "metadata": {},
   "source": [
    "##### \n",
    "Write a regular expression to match the model names of smartphones which follow the following pattern:\n",
    "mobile company name followed by underscore followed by model name followed by underscore followed by model number\n",
    "\n",
    "Strings that should match:\n",
    "\n",
    "apple_iphone_6\n",
    "samsung_note_4\n",
    "google_pixel_2\n",
    "Strings that shouldn’t match:\n",
    "\n",
    "apple_6\n",
    "iphone_6\n",
    "google_pixel_"
   ]
  },
  {
   "cell_type": "code",
   "execution_count": null,
   "id": "cbed30e3",
   "metadata": {},
   "outputs": [],
   "source": [
    "phones = ['apple_iphone_6', 'samsung_note_4', 'google_pixel_2', 'apple_6', 'iphone_6', 'google_pixel_']\n",
    "\n",
    "pattern = \"\"  #write pattern inside \"\"\n",
    "\n",
    "result = []\n",
    "\n",
    "for phone in phones:\n",
    "    match = re.search(pattern, phone)\n",
    "    if match !=None:\n",
    "        result.append(phone)\n",
    "\n",
    "# print result - result should only contain the items that match the pattern\n",
    "print(result)"
   ]
  },
  {
   "cell_type": "markdown",
   "id": "d1f0de2b",
   "metadata": {},
   "source": [
    "##### Write a regular expression that can be used to match the emails present in a database.\n",
    "\n",
    "The pattern of a valid email address is defined as follows: The '@' character can be preceded either by alphanumeric characters, period characters or underscore characters. The length of the part that precedes the '@' character should be between 4 to 20 characters.\n",
    "\n",
    "The '@' character should be followed by a domain name (e.g. gmail.com). The domain name has three parts - a prefix (e.g. 'gmail'), the period character and a suffix (e.g. 'com'). The prefix can have a length between 3 to 15 characters followed by a period character followed by either of these suffixes - 'com', 'in' or 'org'.\n",
    "\n",
    "Emails that should match:\n",
    "\n",
    "random.guy123@gmail.com\n",
    "mr_x_in_bombay@gov.in\n",
    "Emails that shouldn’t match:\n",
    "\n",
    "1@ued.org\n",
    "@gmail.com\n",
    "abc!@yahoo.in\n",
    "sam_12@gov.us\n",
    "neeraj@"
   ]
  },
  {
   "cell_type": "code",
   "execution_count": null,
   "id": "44596c00",
   "metadata": {},
   "outputs": [],
   "source": [
    "emails = ['random.guy123@gmail.com', 'mr_x_in_bombay@gov.in', '1@ued.org',\n",
    "          '@gmail.com', 'abc!@yahoo.in', 'sam_12@gov.us', 'neeraj@']\n",
    "pattern = \"\"  #write pattern inside \"\"\n",
    "result = []\n",
    "for email in emails:\n",
    "    match = re.search(pattern, email, re.I)\n",
    "    if match !=None:\n",
    "        result.append(email)\n",
    "print(result)"
   ]
  }
 ],
 "metadata": {
  "kernelspec": {
   "display_name": "Python 3 (ipykernel)",
   "language": "python",
   "name": "python3"
  },
  "language_info": {
   "codemirror_mode": {
    "name": "ipython",
    "version": 3
   },
   "file_extension": ".py",
   "mimetype": "text/x-python",
   "name": "python",
   "nbconvert_exporter": "python",
   "pygments_lexer": "ipython3",
   "version": "3.9.13"
  }
 },
 "nbformat": 4,
 "nbformat_minor": 5
}

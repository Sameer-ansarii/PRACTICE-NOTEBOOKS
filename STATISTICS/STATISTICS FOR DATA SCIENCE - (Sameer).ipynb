{
 "cells": [
  {
   "cell_type": "markdown",
   "id": "5f425c1d",
   "metadata": {},
   "source": [
    "# What is Statistics?\n",
    "Statistics is the science of collecting, organizing and analzsing data."
   ]
  },
  {
   "cell_type": "markdown",
   "id": "3612dc22",
   "metadata": {},
   "source": [
    "# What is data?\n",
    "Data are facts or peice of information."
   ]
  },
  {
   "cell_type": "markdown",
   "id": "d10b8654",
   "metadata": {},
   "source": [
    "# How mean and median used in data science?\n",
    "Mean and Median used for descriptive analysis and filling NA values in data set "
   ]
  },
  {
   "cell_type": "markdown",
   "id": "87f004b2",
   "metadata": {},
   "source": [
    "# What is Mean?\n",
    "Mean means average."
   ]
  },
  {
   "cell_type": "markdown",
   "id": "595d8c93",
   "metadata": {},
   "source": [
    "# What is Mode?\n",
    "Mode means most occurring value in a dataset."
   ]
  },
  {
   "cell_type": "markdown",
   "id": "1c6c3599",
   "metadata": {},
   "source": [
    "# What is the use of percentile in data science?\n",
    "Percentile is used for general data analyis and outliers removal."
   ]
  },
  {
   "cell_type": "markdown",
   "id": "3f7b0850",
   "metadata": {},
   "source": [
    "# What is outlier?\n",
    "Outlier is a data point that is very different than rest of the data points. "
   ]
  },
  {
   "cell_type": "markdown",
   "id": "716070a1",
   "metadata": {},
   "source": [
    "# What is IQR?\n",
    "The range between 25 and 75 percentile is known as interquartile range or IQR."
   ]
  },
  {
   "cell_type": "markdown",
   "id": "4f5704c1",
   "metadata": {},
   "source": [
    "# Population / (N)\n",
    "The group that we are interested in studying"
   ]
  },
  {
   "cell_type": "markdown",
   "id": "82dd6499",
   "metadata": {},
   "source": [
    "# Sample / (n)\n",
    "It is a subset of the population. Eg:- Media conduct exit pole through sample of population to predict the resullt or conclusion."
   ]
  },
  {
   "cell_type": "markdown",
   "id": "4ec7d237",
   "metadata": {},
   "source": [
    "# Sampling Techniques\n",
    "The goal of sampling is to create a sample that is representative of the entire population."
   ]
  },
  {
   "cell_type": "markdown",
   "id": "f677d7a8",
   "metadata": {},
   "source": [
    "## 1) Simple Random Sampling :-\n",
    " When performing Simple Random Sampling, every member of population(N) has an equal chance of being selected for your sample(n). \n",
    "## 2) Statified Sampling :- \n",
    "Perform sampling of particular catogory of people which can not be overlaped. Eg :- sampling of particular catogory like male and female. \n",
    "## 3) Systematic Sampling :- \n",
    "It is usually perform when conducted a survey. Like you decide to take samples from every 4th person you see outside the mall.\n",
    "## 4) Convenience Sampling / Voluntary Response Sampling :- \n",
    "It is perfrom when you conduct a survey in particular domain / things. Like If you conduct a survey of Data Science then you have to collect samples of only that people who have knowledge or expertise in Data Science.\n",
    "\n"
   ]
  },
  {
   "cell_type": "markdown",
   "id": "60d3fde2",
   "metadata": {},
   "source": [
    "# Variable\n",
    "Variable is a property that can take on  many values."
   ]
  },
  {
   "cell_type": "markdown",
   "id": "3f51fe8e",
   "metadata": {},
   "source": [
    "# Types of Variable\n",
    "## 1) Quantitative Variable\n",
    "## (i) Discrete Variable :- \n",
    "Consists of only Whole Numbers like integers not float.\n",
    "## (ii) Continuous Variable :-\n",
    " Consists of infinite numbers like float, integers both.\n",
    "## 2) Qualitative / Categorical Variable :-\n",
    " Consists of classification of property. Eg:- Gender is property and male/female is their classification so variable contains only male or female"
   ]
  },
  {
   "cell_type": "markdown",
   "id": "96296685",
   "metadata": {},
   "source": [
    "# Percentile\n",
    "A Percantile is a value below which a certain percentage of observations lie. Eg:- 95 percentile means that the person has got better marks than 95% of entire students."
   ]
  },
  {
   "cell_type": "markdown",
   "id": "64805523",
   "metadata": {},
   "source": [
    "# Types of Statistics"
   ]
  },
  {
   "cell_type": "markdown",
   "id": "b047d919",
   "metadata": {},
   "source": [
    "# 1) Descriptive Statistics :-\n",
    " It consists of organizing and summarizing of data.\n"
   ]
  },
  {
   "cell_type": "markdown",
   "id": "ec58b55c",
   "metadata": {},
   "source": [
    "## (i) Measure Of Central Tendency (Mean, Median, Mode) :- \n",
    "Central Tendency refers to the measure used to determine the \"centre\" of the distribution of data.\n",
    "\n",
    " "
   ]
  },
  {
   "cell_type": "markdown",
   "id": "8f510878",
   "metadata": {},
   "source": [
    "## (ii) Measure Of Dispersion (Variance and Standard Deviation)\n",
    "## (iii) Different types of distribution of data\n",
    "## (iv) Histograms, Probability Density Function (PDF), Probability Mass Function (PMF)"
   ]
  },
  {
   "cell_type": "markdown",
   "id": "41b10f62",
   "metadata": {},
   "source": [
    "# 2) Inferential Statistics :- \n",
    "It consists of using data you have measured to form conclusion."
   ]
  },
  {
   "cell_type": "markdown",
   "id": "56994740",
   "metadata": {},
   "source": [
    "# HYPOTHESIS TESTING\n",
    "Hypothesis testing is a form of statistical inference that use data from a sample to draw conclusion about a population parameter or a population probability distribution."
   ]
  },
  {
   "cell_type": "markdown",
   "id": "d0d7dcd1",
   "metadata": {},
   "source": [
    "# What is Hypothesis Testing?\n",
    "Hypothesis testing is an act in statistics whereby an analyst tests an assumption regarding a population parameter. The methodology employed by the analyst depends on the nature of the data used and the reason for the analysis."
   ]
  },
  {
   "cell_type": "markdown",
   "id": "9ca2eb25",
   "metadata": {},
   "source": [
    "# Types of Hypothesis Tests"
   ]
  },
  {
   "cell_type": "markdown",
   "id": "dbc8210c",
   "metadata": {},
   "source": [
    "## If P value is <= 0.05 we reject null hypothesis and accept alternate hypothesis\n",
    "## If P value is > 0.05 we accept null hypothesis"
   ]
  },
  {
   "cell_type": "markdown",
   "id": "fe9bdb1a",
   "metadata": {},
   "source": [
    "##  One Sample Propotion Test  :- One Catogorical feature"
   ]
  },
  {
   "cell_type": "markdown",
   "id": "e0d7968e",
   "metadata": {},
   "source": [
    "## Chi-Square Test :- Two Catogorical Feature"
   ]
  },
  {
   "cell_type": "markdown",
   "id": "fee778c1",
   "metadata": {},
   "source": [
    "## T-Test :- One Numerical Feature or One Numerical Feature and One Catogorical Feature that having not more than 2 catogories "
   ]
  },
  {
   "cell_type": "markdown",
   "id": "2f4488f2",
   "metadata": {},
   "source": [
    "##  There are 3 types of T-Test :- One Sample or 1 Tail Test, Two Sample or 2 Tail Test and Paired T-Test"
   ]
  },
  {
   "cell_type": "markdown",
   "id": "9d59112a",
   "metadata": {},
   "source": [
    "##  Correlation Test :- Two Numerical Feature "
   ]
  },
  {
   "cell_type": "markdown",
   "id": "0490e600",
   "metadata": {},
   "source": [
    "## Anova Test/F-Test :- One Numerical and One or Multiple Catogorical Features having multiple catogories"
   ]
  },
  {
   "cell_type": "code",
   "execution_count": null,
   "id": "eb7b989e",
   "metadata": {},
   "outputs": [],
   "source": []
  },
  {
   "cell_type": "markdown",
   "id": "154d514b",
   "metadata": {},
   "source": [
    "# Chi-Square Test\n",
    "The test is applied when you have two categorical variables from a single population. It is used to determine whether there is a significant association between the two variables."
   ]
  },
  {
   "cell_type": "code",
   "execution_count": 1,
   "id": "565a35f2",
   "metadata": {},
   "outputs": [],
   "source": [
    "import scipy.stats as stats"
   ]
  },
  {
   "cell_type": "code",
   "execution_count": 2,
   "id": "587a1853",
   "metadata": {},
   "outputs": [],
   "source": [
    "import seaborn as sns\n",
    "import pandas as pd\n",
    "import numpy as np\n",
    "dataset=sns.load_dataset('tips')"
   ]
  },
  {
   "cell_type": "code",
   "execution_count": 3,
   "id": "4ee8a5fd",
   "metadata": {},
   "outputs": [
    {
     "data": {
      "text/html": [
       "<div>\n",
       "<style scoped>\n",
       "    .dataframe tbody tr th:only-of-type {\n",
       "        vertical-align: middle;\n",
       "    }\n",
       "\n",
       "    .dataframe tbody tr th {\n",
       "        vertical-align: top;\n",
       "    }\n",
       "\n",
       "    .dataframe thead th {\n",
       "        text-align: right;\n",
       "    }\n",
       "</style>\n",
       "<table border=\"1\" class=\"dataframe\">\n",
       "  <thead>\n",
       "    <tr style=\"text-align: right;\">\n",
       "      <th></th>\n",
       "      <th>total_bill</th>\n",
       "      <th>tip</th>\n",
       "      <th>sex</th>\n",
       "      <th>smoker</th>\n",
       "      <th>day</th>\n",
       "      <th>time</th>\n",
       "      <th>size</th>\n",
       "    </tr>\n",
       "  </thead>\n",
       "  <tbody>\n",
       "    <tr>\n",
       "      <th>0</th>\n",
       "      <td>16.99</td>\n",
       "      <td>1.01</td>\n",
       "      <td>Female</td>\n",
       "      <td>No</td>\n",
       "      <td>Sun</td>\n",
       "      <td>Dinner</td>\n",
       "      <td>2</td>\n",
       "    </tr>\n",
       "    <tr>\n",
       "      <th>1</th>\n",
       "      <td>10.34</td>\n",
       "      <td>1.66</td>\n",
       "      <td>Male</td>\n",
       "      <td>No</td>\n",
       "      <td>Sun</td>\n",
       "      <td>Dinner</td>\n",
       "      <td>3</td>\n",
       "    </tr>\n",
       "    <tr>\n",
       "      <th>2</th>\n",
       "      <td>21.01</td>\n",
       "      <td>3.50</td>\n",
       "      <td>Male</td>\n",
       "      <td>No</td>\n",
       "      <td>Sun</td>\n",
       "      <td>Dinner</td>\n",
       "      <td>3</td>\n",
       "    </tr>\n",
       "    <tr>\n",
       "      <th>3</th>\n",
       "      <td>23.68</td>\n",
       "      <td>3.31</td>\n",
       "      <td>Male</td>\n",
       "      <td>No</td>\n",
       "      <td>Sun</td>\n",
       "      <td>Dinner</td>\n",
       "      <td>2</td>\n",
       "    </tr>\n",
       "    <tr>\n",
       "      <th>4</th>\n",
       "      <td>24.59</td>\n",
       "      <td>3.61</td>\n",
       "      <td>Female</td>\n",
       "      <td>No</td>\n",
       "      <td>Sun</td>\n",
       "      <td>Dinner</td>\n",
       "      <td>4</td>\n",
       "    </tr>\n",
       "  </tbody>\n",
       "</table>\n",
       "</div>"
      ],
      "text/plain": [
       "   total_bill   tip     sex smoker  day    time  size\n",
       "0       16.99  1.01  Female     No  Sun  Dinner     2\n",
       "1       10.34  1.66    Male     No  Sun  Dinner     3\n",
       "2       21.01  3.50    Male     No  Sun  Dinner     3\n",
       "3       23.68  3.31    Male     No  Sun  Dinner     2\n",
       "4       24.59  3.61  Female     No  Sun  Dinner     4"
      ]
     },
     "execution_count": 3,
     "metadata": {},
     "output_type": "execute_result"
    }
   ],
   "source": [
    "dataset.head()"
   ]
  },
  {
   "cell_type": "code",
   "execution_count": 4,
   "id": "ee1eef06",
   "metadata": {},
   "outputs": [
    {
     "name": "stdout",
     "output_type": "stream",
     "text": [
      "smoker  Yes  No\n",
      "sex            \n",
      "Male     60  97\n",
      "Female   33  54\n"
     ]
    }
   ],
   "source": [
    "dataset_table=pd.crosstab(dataset['sex'],dataset['smoker'])\n",
    "print(dataset_table)"
   ]
  },
  {
   "cell_type": "code",
   "execution_count": 5,
   "id": "ed8f0bb9",
   "metadata": {},
   "outputs": [
    {
     "data": {
      "text/plain": [
       "array([[60, 97],\n",
       "       [33, 54]], dtype=int64)"
      ]
     },
     "execution_count": 5,
     "metadata": {},
     "output_type": "execute_result"
    }
   ],
   "source": [
    "dataset_table.values "
   ]
  },
  {
   "cell_type": "code",
   "execution_count": 6,
   "id": "28edbba6",
   "metadata": {},
   "outputs": [
    {
     "name": "stdout",
     "output_type": "stream",
     "text": [
      "Observed Values :-\n",
      " [[60 97]\n",
      " [33 54]]\n"
     ]
    }
   ],
   "source": [
    "#Observed Values\n",
    "\n",
    "Observed_Values = dataset_table.values \n",
    "print(\"Observed Values :-\\n\",Observed_Values)"
   ]
  },
  {
   "cell_type": "code",
   "execution_count": 7,
   "id": "a7d6898c",
   "metadata": {},
   "outputs": [],
   "source": [
    "val=stats.chi2_contingency(dataset_table)"
   ]
  },
  {
   "cell_type": "code",
   "execution_count": 8,
   "id": "fd9d5f43",
   "metadata": {},
   "outputs": [
    {
     "data": {
      "text/plain": [
       "(0.0,\n",
       " 1.0,\n",
       " 1,\n",
       " array([[59.84016393, 97.15983607],\n",
       "        [33.15983607, 53.84016393]]))"
      ]
     },
     "execution_count": 8,
     "metadata": {},
     "output_type": "execute_result"
    }
   ],
   "source": [
    "val"
   ]
  },
  {
   "cell_type": "code",
   "execution_count": 9,
   "id": "f060ff6a",
   "metadata": {},
   "outputs": [],
   "source": [
    "Expected_Values=val[3]"
   ]
  },
  {
   "cell_type": "code",
   "execution_count": 10,
   "id": "a1a21d33",
   "metadata": {},
   "outputs": [
    {
     "name": "stdout",
     "output_type": "stream",
     "text": [
      "Degree of Freedom:- 1\n"
     ]
    }
   ],
   "source": [
    "no_of_rows=len(dataset_table.iloc[0:2,0])\n",
    "no_of_columns=len(dataset_table.iloc[0,0:2])\n",
    "ddof=(no_of_rows-1)*(no_of_columns-1)\n",
    "print(\"Degree of Freedom:-\",ddof)\n",
    "alpha = 0.05"
   ]
  },
  {
   "cell_type": "code",
   "execution_count": 11,
   "id": "55af32ad",
   "metadata": {},
   "outputs": [],
   "source": [
    "from scipy.stats import chi2\n",
    "chi_square=sum([(o-e)**2./e for o,e in zip(Observed_Values,Expected_Values)])\n",
    "chi_square_statistic=chi_square[0]+chi_square[1]\n"
   ]
  },
  {
   "cell_type": "code",
   "execution_count": 12,
   "id": "406dde5d",
   "metadata": {},
   "outputs": [
    {
     "name": "stdout",
     "output_type": "stream",
     "text": [
      "chi-square statistic:- 0.001934818536627623\n"
     ]
    }
   ],
   "source": [
    "print(\"chi-square statistic:-\",chi_square_statistic)"
   ]
  },
  {
   "cell_type": "code",
   "execution_count": 13,
   "id": "368c02ed",
   "metadata": {},
   "outputs": [
    {
     "name": "stdout",
     "output_type": "stream",
     "text": [
      "critical_value: 3.841458820694124\n"
     ]
    }
   ],
   "source": [
    "critical_value=chi2.ppf(q=1-alpha,df=ddof)\n",
    "print('critical_value:',critical_value)"
   ]
  },
  {
   "cell_type": "code",
   "execution_count": 14,
   "id": "87f6629c",
   "metadata": {},
   "outputs": [
    {
     "name": "stdout",
     "output_type": "stream",
     "text": [
      "p-value: 0.964915107315732\n",
      "Significance level:  0.05\n",
      "Degree of Freedom:  1\n",
      "p-value: 0.964915107315732\n"
     ]
    }
   ],
   "source": [
    "#p-value\n",
    "p_value=1-chi2.cdf(x=chi_square_statistic,df=ddof)\n",
    "print('p-value:',p_value)\n",
    "print('Significance level: ',alpha)\n",
    "print('Degree of Freedom: ',ddof)\n",
    "print('p-value:',p_value)"
   ]
  },
  {
   "cell_type": "code",
   "execution_count": 15,
   "id": "d3a958c7",
   "metadata": {},
   "outputs": [
    {
     "name": "stdout",
     "output_type": "stream",
     "text": [
      "Retain H0,There is no relationship between 2 categorical variables\n",
      "Retain H0,There is no relationship between 2 categorical variables\n"
     ]
    }
   ],
   "source": [
    "if chi_square_statistic>=critical_value:\n",
    "    print(\"Reject H0,There is a relationship between 2 categorical variables\")\n",
    "else:\n",
    "    print(\"Retain H0,There is no relationship between 2 categorical variables\")\n",
    "    \n",
    "if p_value<=alpha:\n",
    "    print(\"Reject H0,There is a relationship between 2 categorical variables\")\n",
    "else:\n",
    "    print(\"Retain H0,There is no relationship between 2 categorical variables\")"
   ]
  },
  {
   "cell_type": "markdown",
   "id": "38c2d843",
   "metadata": {},
   "source": [
    "# T Test\n",
    "A t-test is a type of inferential statistic which is used to determine if there is a significant difference between the means of two groups which may be related in certain features\n",
    "T-test has 2 types : 1. one sampled t-test 2. two-sampled t-test."
   ]
  },
  {
   "cell_type": "markdown",
   "id": "a767943d",
   "metadata": {},
   "source": [
    "# One-sample T-test with Python\n",
    "The test will tell us whether means of the sample and the population are different"
   ]
  },
  {
   "cell_type": "code",
   "execution_count": 16,
   "id": "a99d3af7",
   "metadata": {},
   "outputs": [],
   "source": [
    "ages=[10,20,35,50,28,40,55,18,16,55,30,25,43,18,30,28,14,24,16,17,32,35,26,27,65,18,43,23,21,20,19,70]"
   ]
  },
  {
   "cell_type": "code",
   "execution_count": 17,
   "id": "8e6e67fd",
   "metadata": {},
   "outputs": [
    {
     "data": {
      "text/plain": [
       "32"
      ]
     },
     "execution_count": 17,
     "metadata": {},
     "output_type": "execute_result"
    }
   ],
   "source": [
    "len(ages)"
   ]
  },
  {
   "cell_type": "code",
   "execution_count": 18,
   "id": "eb58bd94",
   "metadata": {},
   "outputs": [
    {
     "name": "stdout",
     "output_type": "stream",
     "text": [
      "30.34375\n"
     ]
    }
   ],
   "source": [
    "import numpy as np\n",
    "ages_mean=np.mean(ages)\n",
    "print(ages_mean)"
   ]
  },
  {
   "cell_type": "code",
   "execution_count": 19,
   "id": "4f917dbc",
   "metadata": {},
   "outputs": [],
   "source": [
    "## Lets take sample\n",
    "\n",
    "sample_size=10\n",
    "age_sample=np.random.choice(ages,sample_size)"
   ]
  },
  {
   "cell_type": "code",
   "execution_count": 20,
   "id": "c4a51865",
   "metadata": {},
   "outputs": [
    {
     "data": {
      "text/plain": [
       "array([70, 23, 18, 70, 26, 23, 43, 27, 24, 18])"
      ]
     },
     "execution_count": 20,
     "metadata": {},
     "output_type": "execute_result"
    }
   ],
   "source": [
    "age_sample"
   ]
  },
  {
   "cell_type": "code",
   "execution_count": 21,
   "id": "c47284a9",
   "metadata": {},
   "outputs": [],
   "source": [
    "from scipy.stats import ttest_1samp"
   ]
  },
  {
   "cell_type": "code",
   "execution_count": 22,
   "id": "67f268f5",
   "metadata": {},
   "outputs": [],
   "source": [
    "ttest,p_value=ttest_1samp(age_sample,30)"
   ]
  },
  {
   "cell_type": "code",
   "execution_count": 23,
   "id": "4075402e",
   "metadata": {},
   "outputs": [
    {
     "name": "stdout",
     "output_type": "stream",
     "text": [
      "0.5255030263059943\n"
     ]
    }
   ],
   "source": [
    "print(p_value)"
   ]
  },
  {
   "cell_type": "code",
   "execution_count": 24,
   "id": "1c6069ab",
   "metadata": {},
   "outputs": [
    {
     "name": "stdout",
     "output_type": "stream",
     "text": [
      "we are accepting null hypothesis\n"
     ]
    }
   ],
   "source": [
    "if p_value < 0.05:    # alpha value is 0.05 or 5%\n",
    "    print(\" we are rejecting null hypothesis\")\n",
    "else:\n",
    "    print(\"we are accepting null hypothesis\")"
   ]
  },
  {
   "cell_type": "markdown",
   "id": "c05235ce",
   "metadata": {},
   "source": [
    "# Some More Examples\n",
    "Consider the age of students in a college and in Class A"
   ]
  },
  {
   "cell_type": "code",
   "execution_count": 25,
   "id": "eeafa2f3",
   "metadata": {},
   "outputs": [],
   "source": [
    "import numpy as np\n",
    "import pandas as pd\n",
    "import matplotlib.pyplot as plt\n",
    "import scipy.stats as stats\n",
    "import math\n",
    "np.random.seed(6)\n",
    "school_ages=stats.poisson.rvs(loc=18,mu=35,size=1500)\n",
    "classA_ages=stats.poisson.rvs(loc=18,mu=30,size=60)"
   ]
  },
  {
   "cell_type": "code",
   "execution_count": 26,
   "id": "b330e028",
   "metadata": {},
   "outputs": [
    {
     "data": {
      "text/plain": [
       "46.9"
      ]
     },
     "execution_count": 26,
     "metadata": {},
     "output_type": "execute_result"
    }
   ],
   "source": [
    "classA_ages.mean()"
   ]
  },
  {
   "cell_type": "code",
   "execution_count": 27,
   "id": "33cdd665",
   "metadata": {},
   "outputs": [],
   "source": [
    "_,p_value=stats.ttest_1samp(a=classA_ages,popmean=school_ages.mean())"
   ]
  },
  {
   "cell_type": "code",
   "execution_count": 28,
   "id": "8b5ea820",
   "metadata": {},
   "outputs": [
    {
     "data": {
      "text/plain": [
       "1.139027071016194e-13"
      ]
     },
     "execution_count": 28,
     "metadata": {},
     "output_type": "execute_result"
    }
   ],
   "source": [
    "p_value"
   ]
  },
  {
   "cell_type": "code",
   "execution_count": 29,
   "id": "f4791b47",
   "metadata": {},
   "outputs": [
    {
     "data": {
      "text/plain": [
       "53.303333333333335"
      ]
     },
     "execution_count": 29,
     "metadata": {},
     "output_type": "execute_result"
    }
   ],
   "source": [
    "school_ages.mean()"
   ]
  },
  {
   "cell_type": "code",
   "execution_count": 30,
   "id": "297693fa",
   "metadata": {},
   "outputs": [
    {
     "name": "stdout",
     "output_type": "stream",
     "text": [
      " we are rejecting null hypothesis\n"
     ]
    }
   ],
   "source": [
    "if p_value < 0.05:    # alpha value is 0.05 or 5%\n",
    "    print(\" we are rejecting null hypothesis\")\n",
    "else:\n",
    "    print(\"we are accepting null hypothesis\")"
   ]
  },
  {
   "cell_type": "markdown",
   "id": "50cd2a2f",
   "metadata": {},
   "source": [
    "# Two-sample T-test With Python\n",
    "The Independent Samples t Test or 2-sample t-test compares the means of two independent groups in order to determine whether there is statistical evidence that the associated population means are significantly different. The Independent Samples t Test is a parametric test. This test is also known as: Independent t Test"
   ]
  },
  {
   "cell_type": "code",
   "execution_count": 31,
   "id": "544b0fe9",
   "metadata": {},
   "outputs": [
    {
     "data": {
      "text/plain": [
       "50.63333333333333"
      ]
     },
     "execution_count": 31,
     "metadata": {},
     "output_type": "execute_result"
    }
   ],
   "source": [
    "np.random.seed(12)\n",
    "ClassB_ages=stats.poisson.rvs(loc=18,mu=33,size=60)\n",
    "ClassB_ages.mean()"
   ]
  },
  {
   "cell_type": "code",
   "execution_count": 32,
   "id": "c6bb908b",
   "metadata": {},
   "outputs": [],
   "source": [
    "_,p_value=stats.ttest_ind(a=classA_ages,b=ClassB_ages,equal_var=False)"
   ]
  },
  {
   "cell_type": "code",
   "execution_count": 33,
   "id": "2c92ce71",
   "metadata": {},
   "outputs": [
    {
     "name": "stdout",
     "output_type": "stream",
     "text": [
      " we are rejecting null hypothesis\n"
     ]
    }
   ],
   "source": [
    "if p_value < 0.05:    # alpha value is 0.05 or 5%\n",
    "    print(\" we are rejecting null hypothesis\")\n",
    "else:\n",
    "    print(\"we are accepting null hypothesis\")"
   ]
  },
  {
   "cell_type": "markdown",
   "id": "64628e59",
   "metadata": {},
   "source": [
    "# Paired T-test With Python\n",
    "When you want to check how different samples from the same group are, you can go for a paired T-test"
   ]
  },
  {
   "cell_type": "code",
   "execution_count": 34,
   "id": "45977e2b",
   "metadata": {},
   "outputs": [],
   "source": [
    "weight1=[25,30,28,35,28,34,26,29,30,26,28,32,31,30,45]\n",
    "weight2=weight1+stats.norm.rvs(scale=5,loc=-1.25,size=15)"
   ]
  },
  {
   "cell_type": "code",
   "execution_count": 35,
   "id": "19907eaf",
   "metadata": {},
   "outputs": [
    {
     "name": "stdout",
     "output_type": "stream",
     "text": [
      "[25, 30, 28, 35, 28, 34, 26, 29, 30, 26, 28, 32, 31, 30, 45]\n",
      "[30.57926457 34.91022437 29.00444617 30.54295091 19.86201983 37.57873174\n",
      " 18.3299827  21.3771395  36.36420881 32.05941216 26.93827982 29.519014\n",
      " 26.42851213 30.50667769 41.32984284]\n"
     ]
    }
   ],
   "source": [
    "print(weight1)\n",
    "print(weight2)"
   ]
  },
  {
   "cell_type": "code",
   "execution_count": 36,
   "id": "9d5126f7",
   "metadata": {},
   "outputs": [],
   "source": [
    "weight_df=pd.DataFrame({\"weight_10\":np.array(weight1),\n",
    "                         \"weight_20\":np.array(weight2),\n",
    "                       \"weight_change\":np.array(weight2)-np.array(weight1)})"
   ]
  },
  {
   "cell_type": "code",
   "execution_count": 37,
   "id": "c534fcb6",
   "metadata": {},
   "outputs": [
    {
     "data": {
      "text/html": [
       "<div>\n",
       "<style scoped>\n",
       "    .dataframe tbody tr th:only-of-type {\n",
       "        vertical-align: middle;\n",
       "    }\n",
       "\n",
       "    .dataframe tbody tr th {\n",
       "        vertical-align: top;\n",
       "    }\n",
       "\n",
       "    .dataframe thead th {\n",
       "        text-align: right;\n",
       "    }\n",
       "</style>\n",
       "<table border=\"1\" class=\"dataframe\">\n",
       "  <thead>\n",
       "    <tr style=\"text-align: right;\">\n",
       "      <th></th>\n",
       "      <th>weight_10</th>\n",
       "      <th>weight_20</th>\n",
       "      <th>weight_change</th>\n",
       "    </tr>\n",
       "  </thead>\n",
       "  <tbody>\n",
       "    <tr>\n",
       "      <th>0</th>\n",
       "      <td>25</td>\n",
       "      <td>30.579265</td>\n",
       "      <td>5.579265</td>\n",
       "    </tr>\n",
       "    <tr>\n",
       "      <th>1</th>\n",
       "      <td>30</td>\n",
       "      <td>34.910224</td>\n",
       "      <td>4.910224</td>\n",
       "    </tr>\n",
       "    <tr>\n",
       "      <th>2</th>\n",
       "      <td>28</td>\n",
       "      <td>29.004446</td>\n",
       "      <td>1.004446</td>\n",
       "    </tr>\n",
       "    <tr>\n",
       "      <th>3</th>\n",
       "      <td>35</td>\n",
       "      <td>30.542951</td>\n",
       "      <td>-4.457049</td>\n",
       "    </tr>\n",
       "    <tr>\n",
       "      <th>4</th>\n",
       "      <td>28</td>\n",
       "      <td>19.862020</td>\n",
       "      <td>-8.137980</td>\n",
       "    </tr>\n",
       "    <tr>\n",
       "      <th>5</th>\n",
       "      <td>34</td>\n",
       "      <td>37.578732</td>\n",
       "      <td>3.578732</td>\n",
       "    </tr>\n",
       "    <tr>\n",
       "      <th>6</th>\n",
       "      <td>26</td>\n",
       "      <td>18.329983</td>\n",
       "      <td>-7.670017</td>\n",
       "    </tr>\n",
       "    <tr>\n",
       "      <th>7</th>\n",
       "      <td>29</td>\n",
       "      <td>21.377139</td>\n",
       "      <td>-7.622861</td>\n",
       "    </tr>\n",
       "    <tr>\n",
       "      <th>8</th>\n",
       "      <td>30</td>\n",
       "      <td>36.364209</td>\n",
       "      <td>6.364209</td>\n",
       "    </tr>\n",
       "    <tr>\n",
       "      <th>9</th>\n",
       "      <td>26</td>\n",
       "      <td>32.059412</td>\n",
       "      <td>6.059412</td>\n",
       "    </tr>\n",
       "    <tr>\n",
       "      <th>10</th>\n",
       "      <td>28</td>\n",
       "      <td>26.938280</td>\n",
       "      <td>-1.061720</td>\n",
       "    </tr>\n",
       "    <tr>\n",
       "      <th>11</th>\n",
       "      <td>32</td>\n",
       "      <td>29.519014</td>\n",
       "      <td>-2.480986</td>\n",
       "    </tr>\n",
       "    <tr>\n",
       "      <th>12</th>\n",
       "      <td>31</td>\n",
       "      <td>26.428512</td>\n",
       "      <td>-4.571488</td>\n",
       "    </tr>\n",
       "    <tr>\n",
       "      <th>13</th>\n",
       "      <td>30</td>\n",
       "      <td>30.506678</td>\n",
       "      <td>0.506678</td>\n",
       "    </tr>\n",
       "    <tr>\n",
       "      <th>14</th>\n",
       "      <td>45</td>\n",
       "      <td>41.329843</td>\n",
       "      <td>-3.670157</td>\n",
       "    </tr>\n",
       "  </tbody>\n",
       "</table>\n",
       "</div>"
      ],
      "text/plain": [
       "    weight_10  weight_20  weight_change\n",
       "0          25  30.579265       5.579265\n",
       "1          30  34.910224       4.910224\n",
       "2          28  29.004446       1.004446\n",
       "3          35  30.542951      -4.457049\n",
       "4          28  19.862020      -8.137980\n",
       "5          34  37.578732       3.578732\n",
       "6          26  18.329983      -7.670017\n",
       "7          29  21.377139      -7.622861\n",
       "8          30  36.364209       6.364209\n",
       "9          26  32.059412       6.059412\n",
       "10         28  26.938280      -1.061720\n",
       "11         32  29.519014      -2.480986\n",
       "12         31  26.428512      -4.571488\n",
       "13         30  30.506678       0.506678\n",
       "14         45  41.329843      -3.670157"
      ]
     },
     "execution_count": 37,
     "metadata": {},
     "output_type": "execute_result"
    }
   ],
   "source": [
    "weight_df"
   ]
  },
  {
   "cell_type": "code",
   "execution_count": 38,
   "id": "ab56758d",
   "metadata": {},
   "outputs": [],
   "source": [
    "_,p_value=stats.ttest_rel(a=weight1,b=weight2)"
   ]
  },
  {
   "cell_type": "code",
   "execution_count": 39,
   "id": "9c0bbb1d",
   "metadata": {},
   "outputs": [
    {
     "name": "stdout",
     "output_type": "stream",
     "text": [
      "0.5732936534411279\n"
     ]
    }
   ],
   "source": [
    "print(p_value)"
   ]
  },
  {
   "cell_type": "code",
   "execution_count": 40,
   "id": "f803dc8b",
   "metadata": {},
   "outputs": [
    {
     "name": "stdout",
     "output_type": "stream",
     "text": [
      "we are accepting null hypothesis\n"
     ]
    }
   ],
   "source": [
    "if p_value < 0.05:    # alpha value is 0.05 or 5%\n",
    "    print(\" we are rejecting null hypothesis\")\n",
    "else:\n",
    "    print(\"we are accepting null hypothesis\")"
   ]
  },
  {
   "cell_type": "markdown",
   "id": "21226630",
   "metadata": {},
   "source": [
    "# Correlation"
   ]
  },
  {
   "cell_type": "code",
   "execution_count": 41,
   "id": "16caafc9",
   "metadata": {},
   "outputs": [],
   "source": [
    "import seaborn as sns\n",
    "df=sns.load_dataset('iris')"
   ]
  },
  {
   "cell_type": "code",
   "execution_count": 42,
   "id": "4234181e",
   "metadata": {},
   "outputs": [
    {
     "data": {
      "text/plain": [
       "(150, 5)"
      ]
     },
     "execution_count": 42,
     "metadata": {},
     "output_type": "execute_result"
    }
   ],
   "source": [
    "df.shape"
   ]
  },
  {
   "cell_type": "code",
   "execution_count": 43,
   "id": "689e9cfa",
   "metadata": {},
   "outputs": [
    {
     "data": {
      "text/html": [
       "<div>\n",
       "<style scoped>\n",
       "    .dataframe tbody tr th:only-of-type {\n",
       "        vertical-align: middle;\n",
       "    }\n",
       "\n",
       "    .dataframe tbody tr th {\n",
       "        vertical-align: top;\n",
       "    }\n",
       "\n",
       "    .dataframe thead th {\n",
       "        text-align: right;\n",
       "    }\n",
       "</style>\n",
       "<table border=\"1\" class=\"dataframe\">\n",
       "  <thead>\n",
       "    <tr style=\"text-align: right;\">\n",
       "      <th></th>\n",
       "      <th>sepal_length</th>\n",
       "      <th>sepal_width</th>\n",
       "      <th>petal_length</th>\n",
       "      <th>petal_width</th>\n",
       "    </tr>\n",
       "  </thead>\n",
       "  <tbody>\n",
       "    <tr>\n",
       "      <th>sepal_length</th>\n",
       "      <td>1.000000</td>\n",
       "      <td>-0.117570</td>\n",
       "      <td>0.871754</td>\n",
       "      <td>0.817941</td>\n",
       "    </tr>\n",
       "    <tr>\n",
       "      <th>sepal_width</th>\n",
       "      <td>-0.117570</td>\n",
       "      <td>1.000000</td>\n",
       "      <td>-0.428440</td>\n",
       "      <td>-0.366126</td>\n",
       "    </tr>\n",
       "    <tr>\n",
       "      <th>petal_length</th>\n",
       "      <td>0.871754</td>\n",
       "      <td>-0.428440</td>\n",
       "      <td>1.000000</td>\n",
       "      <td>0.962865</td>\n",
       "    </tr>\n",
       "    <tr>\n",
       "      <th>petal_width</th>\n",
       "      <td>0.817941</td>\n",
       "      <td>-0.366126</td>\n",
       "      <td>0.962865</td>\n",
       "      <td>1.000000</td>\n",
       "    </tr>\n",
       "  </tbody>\n",
       "</table>\n",
       "</div>"
      ],
      "text/plain": [
       "              sepal_length  sepal_width  petal_length  petal_width\n",
       "sepal_length      1.000000    -0.117570      0.871754     0.817941\n",
       "sepal_width      -0.117570     1.000000     -0.428440    -0.366126\n",
       "petal_length      0.871754    -0.428440      1.000000     0.962865\n",
       "petal_width       0.817941    -0.366126      0.962865     1.000000"
      ]
     },
     "execution_count": 43,
     "metadata": {},
     "output_type": "execute_result"
    }
   ],
   "source": [
    "df.corr()"
   ]
  },
  {
   "cell_type": "code",
   "execution_count": 44,
   "id": "0e71e96a",
   "metadata": {},
   "outputs": [
    {
     "data": {
      "text/plain": [
       "<seaborn.axisgrid.PairGrid at 0x2922eb7f370>"
      ]
     },
     "execution_count": 44,
     "metadata": {},
     "output_type": "execute_result"
    },
    {
     "data": {
      "image/png": "[encoded data removed]",
      "text/plain": [
       "<Figure size 1000x1000 with 20 Axes>"
      ]
     },
     "metadata": {},
     "output_type": "display_data"
    }
   ],
   "source": [
    "sns.pairplot(df)"
   ]
  },
  {
   "cell_type": "markdown",
   "id": "1b4c362e",
   "metadata": {},
   "source": [
    "# Anova Test(F-Test)\n",
    "The t-test works well when dealing with two groups, but sometimes we want to compare more than two groups at the same time.\n",
    "\n",
    "For example, if we wanted to test whether petal_width age differs based on some categorical variable like species, we have to compare the means of each level or group the variable"
   ]
  },
  {
   "cell_type": "markdown",
   "id": "f94b421e",
   "metadata": {},
   "source": [
    "# One Way F-test(Anova) :-\n",
    "It tell whether two or more groups are similar or not based on their mean similarity and f-score.\n",
    "\n",
    "Example : there are 3 different category of iris flowers and their petal width and need to check whether all 3 group are similar or not"
   ]
  },
  {
   "cell_type": "code",
   "execution_count": 45,
   "id": "b58c0424",
   "metadata": {},
   "outputs": [],
   "source": [
    "import seaborn as sns\n",
    "df1=sns.load_dataset('iris')"
   ]
  },
  {
   "cell_type": "code",
   "execution_count": 46,
   "id": "6e7f889b",
   "metadata": {},
   "outputs": [
    {
     "data": {
      "text/html": [
       "<div>\n",
       "<style scoped>\n",
       "    .dataframe tbody tr th:only-of-type {\n",
       "        vertical-align: middle;\n",
       "    }\n",
       "\n",
       "    .dataframe tbody tr th {\n",
       "        vertical-align: top;\n",
       "    }\n",
       "\n",
       "    .dataframe thead th {\n",
       "        text-align: right;\n",
       "    }\n",
       "</style>\n",
       "<table border=\"1\" class=\"dataframe\">\n",
       "  <thead>\n",
       "    <tr style=\"text-align: right;\">\n",
       "      <th></th>\n",
       "      <th>sepal_length</th>\n",
       "      <th>sepal_width</th>\n",
       "      <th>petal_length</th>\n",
       "      <th>petal_width</th>\n",
       "      <th>species</th>\n",
       "    </tr>\n",
       "  </thead>\n",
       "  <tbody>\n",
       "    <tr>\n",
       "      <th>0</th>\n",
       "      <td>5.1</td>\n",
       "      <td>3.5</td>\n",
       "      <td>1.4</td>\n",
       "      <td>0.2</td>\n",
       "      <td>setosa</td>\n",
       "    </tr>\n",
       "    <tr>\n",
       "      <th>1</th>\n",
       "      <td>4.9</td>\n",
       "      <td>3.0</td>\n",
       "      <td>1.4</td>\n",
       "      <td>0.2</td>\n",
       "      <td>setosa</td>\n",
       "    </tr>\n",
       "    <tr>\n",
       "      <th>2</th>\n",
       "      <td>4.7</td>\n",
       "      <td>3.2</td>\n",
       "      <td>1.3</td>\n",
       "      <td>0.2</td>\n",
       "      <td>setosa</td>\n",
       "    </tr>\n",
       "    <tr>\n",
       "      <th>3</th>\n",
       "      <td>4.6</td>\n",
       "      <td>3.1</td>\n",
       "      <td>1.5</td>\n",
       "      <td>0.2</td>\n",
       "      <td>setosa</td>\n",
       "    </tr>\n",
       "    <tr>\n",
       "      <th>4</th>\n",
       "      <td>5.0</td>\n",
       "      <td>3.6</td>\n",
       "      <td>1.4</td>\n",
       "      <td>0.2</td>\n",
       "      <td>setosa</td>\n",
       "    </tr>\n",
       "  </tbody>\n",
       "</table>\n",
       "</div>"
      ],
      "text/plain": [
       "   sepal_length  sepal_width  petal_length  petal_width species\n",
       "0           5.1          3.5           1.4          0.2  setosa\n",
       "1           4.9          3.0           1.4          0.2  setosa\n",
       "2           4.7          3.2           1.3          0.2  setosa\n",
       "3           4.6          3.1           1.5          0.2  setosa\n",
       "4           5.0          3.6           1.4          0.2  setosa"
      ]
     },
     "execution_count": 46,
     "metadata": {},
     "output_type": "execute_result"
    }
   ],
   "source": [
    "df1.head()"
   ]
  },
  {
   "cell_type": "code",
   "execution_count": 47,
   "id": "a3c204c0",
   "metadata": {},
   "outputs": [],
   "source": [
    "df_anova = df1[['petal_width','species']]\n"
   ]
  },
  {
   "cell_type": "code",
   "execution_count": 48,
   "id": "f23e1039",
   "metadata": {},
   "outputs": [],
   "source": [
    "grps = pd.unique(df_anova.species.values)\n"
   ]
  },
  {
   "cell_type": "code",
   "execution_count": 49,
   "id": "7ca7bebd",
   "metadata": {},
   "outputs": [
    {
     "data": {
      "text/plain": [
       "array(['setosa', 'versicolor', 'virginica'], dtype=object)"
      ]
     },
     "execution_count": 49,
     "metadata": {},
     "output_type": "execute_result"
    }
   ],
   "source": [
    "grps"
   ]
  },
  {
   "cell_type": "code",
   "execution_count": 50,
   "id": "963045fd",
   "metadata": {},
   "outputs": [],
   "source": [
    "d_data = {grp:df_anova['petal_width'][df_anova.species == grp] for grp in grps}\n"
   ]
  },
  {
   "cell_type": "code",
   "execution_count": 51,
   "id": "38ffb16e",
   "metadata": {},
   "outputs": [
    {
     "data": {
      "text/plain": [
       "{'setosa': 0     0.2\n",
       " 1     0.2\n",
       " 2     0.2\n",
       " 3     0.2\n",
       " 4     0.2\n",
       " 5     0.4\n",
       " 6     0.3\n",
       " 7     0.2\n",
       " 8     0.2\n",
       " 9     0.1\n",
       " 10    0.2\n",
       " 11    0.2\n",
       " 12    0.1\n",
       " 13    0.1\n",
       " 14    0.2\n",
       " 15    0.4\n",
       " 16    0.4\n",
       " 17    0.3\n",
       " 18    0.3\n",
       " 19    0.3\n",
       " 20    0.2\n",
       " 21    0.4\n",
       " 22    0.2\n",
       " 23    0.5\n",
       " 24    0.2\n",
       " 25    0.2\n",
       " 26    0.4\n",
       " 27    0.2\n",
       " 28    0.2\n",
       " 29    0.2\n",
       " 30    0.2\n",
       " 31    0.4\n",
       " 32    0.1\n",
       " 33    0.2\n",
       " 34    0.2\n",
       " 35    0.2\n",
       " 36    0.2\n",
       " 37    0.1\n",
       " 38    0.2\n",
       " 39    0.2\n",
       " 40    0.3\n",
       " 41    0.3\n",
       " 42    0.2\n",
       " 43    0.6\n",
       " 44    0.4\n",
       " 45    0.3\n",
       " 46    0.2\n",
       " 47    0.2\n",
       " 48    0.2\n",
       " 49    0.2\n",
       " Name: petal_width, dtype: float64,\n",
       " 'versicolor': 50    1.4\n",
       " 51    1.5\n",
       " 52    1.5\n",
       " 53    1.3\n",
       " 54    1.5\n",
       " 55    1.3\n",
       " 56    1.6\n",
       " 57    1.0\n",
       " 58    1.3\n",
       " 59    1.4\n",
       " 60    1.0\n",
       " 61    1.5\n",
       " 62    1.0\n",
       " 63    1.4\n",
       " 64    1.3\n",
       " 65    1.4\n",
       " 66    1.5\n",
       " 67    1.0\n",
       " 68    1.5\n",
       " 69    1.1\n",
       " 70    1.8\n",
       " 71    1.3\n",
       " 72    1.5\n",
       " 73    1.2\n",
       " 74    1.3\n",
       " 75    1.4\n",
       " 76    1.4\n",
       " 77    1.7\n",
       " 78    1.5\n",
       " 79    1.0\n",
       " 80    1.1\n",
       " 81    1.0\n",
       " 82    1.2\n",
       " 83    1.6\n",
       " 84    1.5\n",
       " 85    1.6\n",
       " 86    1.5\n",
       " 87    1.3\n",
       " 88    1.3\n",
       " 89    1.3\n",
       " 90    1.2\n",
       " 91    1.4\n",
       " 92    1.2\n",
       " 93    1.0\n",
       " 94    1.3\n",
       " 95    1.2\n",
       " 96    1.3\n",
       " 97    1.3\n",
       " 98    1.1\n",
       " 99    1.3\n",
       " Name: petal_width, dtype: float64,\n",
       " 'virginica': 100    2.5\n",
       " 101    1.9\n",
       " 102    2.1\n",
       " 103    1.8\n",
       " 104    2.2\n",
       " 105    2.1\n",
       " 106    1.7\n",
       " 107    1.8\n",
       " 108    1.8\n",
       " 109    2.5\n",
       " 110    2.0\n",
       " 111    1.9\n",
       " 112    2.1\n",
       " 113    2.0\n",
       " 114    2.4\n",
       " 115    2.3\n",
       " 116    1.8\n",
       " 117    2.2\n",
       " 118    2.3\n",
       " 119    1.5\n",
       " 120    2.3\n",
       " 121    2.0\n",
       " 122    2.0\n",
       " 123    1.8\n",
       " 124    2.1\n",
       " 125    1.8\n",
       " 126    1.8\n",
       " 127    1.8\n",
       " 128    2.1\n",
       " 129    1.6\n",
       " 130    1.9\n",
       " 131    2.0\n",
       " 132    2.2\n",
       " 133    1.5\n",
       " 134    1.4\n",
       " 135    2.3\n",
       " 136    2.4\n",
       " 137    1.8\n",
       " 138    1.8\n",
       " 139    2.1\n",
       " 140    2.4\n",
       " 141    2.3\n",
       " 142    1.9\n",
       " 143    2.3\n",
       " 144    2.5\n",
       " 145    2.3\n",
       " 146    1.9\n",
       " 147    2.0\n",
       " 148    2.3\n",
       " 149    1.8\n",
       " Name: petal_width, dtype: float64}"
      ]
     },
     "execution_count": 51,
     "metadata": {},
     "output_type": "execute_result"
    }
   ],
   "source": [
    "d_data"
   ]
  },
  {
   "cell_type": "code",
   "execution_count": 52,
   "id": "ffa705ab",
   "metadata": {},
   "outputs": [],
   "source": [
    "F, p = stats.f_oneway(d_data['setosa'], d_data['versicolor'], d_data['virginica'])\n"
   ]
  },
  {
   "cell_type": "code",
   "execution_count": 53,
   "id": "f2b10ea8",
   "metadata": {},
   "outputs": [
    {
     "name": "stdout",
     "output_type": "stream",
     "text": [
      "4.169445839443116e-85\n"
     ]
    }
   ],
   "source": [
    "print(p)\n"
   ]
  },
  {
   "cell_type": "code",
   "execution_count": 54,
   "id": "1c438eda",
   "metadata": {},
   "outputs": [
    {
     "name": "stdout",
     "output_type": "stream",
     "text": [
      "reject null hypothesis\n"
     ]
    }
   ],
   "source": [
    "if p<0.05:\n",
    "    print(\"reject null hypothesis\")\n",
    "else:\n",
    "    print(\"accept null hypothesis\")\n"
   ]
  },
  {
   "cell_type": "markdown",
   "id": "bc112677",
   "metadata": {},
   "source": [
    "# Statistics Practical Implementation\n",
    "## Measure Of Central Tendency\n",
    "## Mean\n",
    "## Median\n",
    "## Mode"
   ]
  },
  {
   "cell_type": "code",
   "execution_count": 55,
   "id": "e36f0752",
   "metadata": {},
   "outputs": [],
   "source": [
    "ages=[23,24,32,45,12,43,67,45,32,56,32,120]"
   ]
  },
  {
   "cell_type": "code",
   "execution_count": 56,
   "id": "88b7bef9",
   "metadata": {},
   "outputs": [
    {
     "name": "stdout",
     "output_type": "stream",
     "text": [
      "44.25\n",
      "37.5\n"
     ]
    }
   ],
   "source": [
    "import numpy as np\n",
    "print(np.mean(ages))\n",
    "print(np.median(ages))"
   ]
  },
  {
   "cell_type": "code",
   "execution_count": 57,
   "id": "bb1b621a",
   "metadata": {},
   "outputs": [
    {
     "name": "stdout",
     "output_type": "stream",
     "text": [
      "44.25\n",
      "37.5\n"
     ]
    }
   ],
   "source": [
    "import statistics\n",
    "print(statistics.mean(ages))\n",
    "print(statistics.median(ages))"
   ]
  },
  {
   "cell_type": "code",
   "execution_count": 58,
   "id": "348482d0",
   "metadata": {},
   "outputs": [
    {
     "data": {
      "text/plain": [
       "32"
      ]
     },
     "execution_count": 58,
     "metadata": {},
     "output_type": "execute_result"
    }
   ],
   "source": [
    "import statistics\n",
    "statistics.mode(ages)"
   ]
  },
  {
   "cell_type": "code",
   "execution_count": 59,
   "id": "95d84e77",
   "metadata": {},
   "outputs": [
    {
     "data": {
      "image/png": "[encoded data removed]",
      "text/plain": [
       "<Figure size 640x480 with 1 Axes>"
      ]
     },
     "metadata": {},
     "output_type": "display_data"
    }
   ],
   "source": [
    "import seaborn as sns\n",
    "sns.boxplot(y=ages)\n",
    "plt.show()"
   ]
  },
  {
   "cell_type": "markdown",
   "id": "13cd2e67",
   "metadata": {},
   "source": [
    "# 5 Number Summary\n",
    "## Indented block"
   ]
  },
  {
   "cell_type": "code",
   "execution_count": 60,
   "id": "7714c9da",
   "metadata": {},
   "outputs": [],
   "source": [
    "import numpy as np\n",
    "q1,q3=np.percentile(ages,[25,75])"
   ]
  },
  {
   "cell_type": "code",
   "execution_count": 61,
   "id": "68ddaa51",
   "metadata": {},
   "outputs": [
    {
     "name": "stdout",
     "output_type": "stream",
     "text": [
      "30.0 47.75\n"
     ]
    }
   ],
   "source": [
    "print(q1,q3)"
   ]
  },
  {
   "cell_type": "code",
   "execution_count": 62,
   "id": "a51e9b64",
   "metadata": {},
   "outputs": [
    {
     "name": "stdout",
     "output_type": "stream",
     "text": [
      "3.375 74.375\n"
     ]
    }
   ],
   "source": [
    "## to check outlier[Lower Fence- Higher fence]\n",
    "IQR=q3-q1\n",
    "lower_fence=q1-1.5*(IQR)\n",
    "higher_fence=q3+1.5*(IQR)\n",
    "print(lower_fence,higher_fence)"
   ]
  },
  {
   "cell_type": "markdown",
   "id": "fa1a1561",
   "metadata": {},
   "source": [
    "# Measure Of Dispersion\n",
    "\n",
    "## 1. Variance\n",
    "## 2. Standard Deviation"
   ]
  },
  {
   "cell_type": "code",
   "execution_count": 63,
   "id": "4bce32c1",
   "metadata": {},
   "outputs": [
    {
     "data": {
      "text/plain": [
       "795.2954545454545"
      ]
     },
     "execution_count": 63,
     "metadata": {},
     "output_type": "execute_result"
    }
   ],
   "source": [
    "statistics.variance(ages)"
   ]
  },
  {
   "cell_type": "code",
   "execution_count": 64,
   "id": "8bfa437f",
   "metadata": {},
   "outputs": [
    {
     "data": {
      "text/plain": [
       "729.0208333333334"
      ]
     },
     "execution_count": 64,
     "metadata": {},
     "output_type": "execute_result"
    }
   ],
   "source": [
    "np.var(ages,axis=0)"
   ]
  },
  {
   "cell_type": "code",
   "execution_count": 65,
   "id": "7f717458",
   "metadata": {},
   "outputs": [],
   "source": [
    "def variance(data):\n",
    "  n=len(ages)\n",
    "  ## mean of the data\n",
    "  mean=sum(data)/n\n",
    "  ## variance\n",
    "  deviation=[(x - mean) ** 2 for x in data]\n",
    "  variance=sum(deviation)/(n-1)\n",
    "  return variance\n",
    "\n"
   ]
  },
  {
   "cell_type": "code",
   "execution_count": 66,
   "id": "5e7de09d",
   "metadata": {},
   "outputs": [
    {
     "data": {
      "text/plain": [
       "795.2954545454545"
      ]
     },
     "execution_count": 66,
     "metadata": {},
     "output_type": "execute_result"
    }
   ],
   "source": [
    "variance(ages)"
   ]
  },
  {
   "cell_type": "code",
   "execution_count": 67,
   "id": "652a7f75",
   "metadata": {},
   "outputs": [],
   "source": [
    "def variance(data,dof=0):\n",
    "  n=len(ages)\n",
    "  ## mean of the data\n",
    "  mean=sum(data)/n\n",
    "  ## variance\n",
    "  deviation=[(x - mean) ** 2 for x in data]\n",
    "  variance=sum(deviation)/(n-dof)\n",
    "  return variance"
   ]
  },
  {
   "cell_type": "code",
   "execution_count": 68,
   "id": "ebd28b8e",
   "metadata": {},
   "outputs": [
    {
     "data": {
      "text/plain": [
       "795.2954545454545"
      ]
     },
     "execution_count": 68,
     "metadata": {},
     "output_type": "execute_result"
    }
   ],
   "source": [
    "variance(ages,dof=1)"
   ]
  },
  {
   "cell_type": "code",
   "execution_count": 69,
   "id": "f2294b18",
   "metadata": {},
   "outputs": [
    {
     "data": {
      "text/plain": [
       "729.0208333333334"
      ]
     },
     "execution_count": 69,
     "metadata": {},
     "output_type": "execute_result"
    }
   ],
   "source": [
    "statistics.pvariance(ages)"
   ]
  },
  {
   "cell_type": "code",
   "execution_count": 70,
   "id": "7b97cbc4",
   "metadata": {},
   "outputs": [
    {
     "data": {
      "text/plain": [
       "27.000385799712813"
      ]
     },
     "execution_count": 70,
     "metadata": {},
     "output_type": "execute_result"
    }
   ],
   "source": [
    "import math\n",
    "math.sqrt(statistics.pvariance(ages))"
   ]
  },
  {
   "cell_type": "markdown",
   "id": "f62555f4",
   "metadata": {},
   "source": [
    "# Histograms And PDF"
   ]
  },
  {
   "cell_type": "code",
   "execution_count": 71,
   "id": "f591cfe9",
   "metadata": {},
   "outputs": [
    {
     "data": {
      "image/png": "[encoded data removed]",
      "text/plain": [
       "<Figure size 640x480 with 1 Axes>"
      ]
     },
     "metadata": {},
     "output_type": "display_data"
    }
   ],
   "source": [
    "import seaborn as sns\n",
    "sns.histplot(ages,kde=True)\n",
    "plt.show()"
   ]
  },
  {
   "cell_type": "code",
   "execution_count": 72,
   "id": "ea991799",
   "metadata": {},
   "outputs": [],
   "source": [
    "df=sns.load_dataset('iris')"
   ]
  },
  {
   "cell_type": "code",
   "execution_count": 73,
   "id": "649f11e7",
   "metadata": {},
   "outputs": [
    {
     "data": {
      "text/html": [
       "<div>\n",
       "<style scoped>\n",
       "    .dataframe tbody tr th:only-of-type {\n",
       "        vertical-align: middle;\n",
       "    }\n",
       "\n",
       "    .dataframe tbody tr th {\n",
       "        vertical-align: top;\n",
       "    }\n",
       "\n",
       "    .dataframe thead th {\n",
       "        text-align: right;\n",
       "    }\n",
       "</style>\n",
       "<table border=\"1\" class=\"dataframe\">\n",
       "  <thead>\n",
       "    <tr style=\"text-align: right;\">\n",
       "      <th></th>\n",
       "      <th>sepal_length</th>\n",
       "      <th>sepal_width</th>\n",
       "      <th>petal_length</th>\n",
       "      <th>petal_width</th>\n",
       "      <th>species</th>\n",
       "    </tr>\n",
       "  </thead>\n",
       "  <tbody>\n",
       "    <tr>\n",
       "      <th>0</th>\n",
       "      <td>5.1</td>\n",
       "      <td>3.5</td>\n",
       "      <td>1.4</td>\n",
       "      <td>0.2</td>\n",
       "      <td>setosa</td>\n",
       "    </tr>\n",
       "    <tr>\n",
       "      <th>1</th>\n",
       "      <td>4.9</td>\n",
       "      <td>3.0</td>\n",
       "      <td>1.4</td>\n",
       "      <td>0.2</td>\n",
       "      <td>setosa</td>\n",
       "    </tr>\n",
       "    <tr>\n",
       "      <th>2</th>\n",
       "      <td>4.7</td>\n",
       "      <td>3.2</td>\n",
       "      <td>1.3</td>\n",
       "      <td>0.2</td>\n",
       "      <td>setosa</td>\n",
       "    </tr>\n",
       "    <tr>\n",
       "      <th>3</th>\n",
       "      <td>4.6</td>\n",
       "      <td>3.1</td>\n",
       "      <td>1.5</td>\n",
       "      <td>0.2</td>\n",
       "      <td>setosa</td>\n",
       "    </tr>\n",
       "    <tr>\n",
       "      <th>4</th>\n",
       "      <td>5.0</td>\n",
       "      <td>3.6</td>\n",
       "      <td>1.4</td>\n",
       "      <td>0.2</td>\n",
       "      <td>setosa</td>\n",
       "    </tr>\n",
       "  </tbody>\n",
       "</table>\n",
       "</div>"
      ],
      "text/plain": [
       "   sepal_length  sepal_width  petal_length  petal_width species\n",
       "0           5.1          3.5           1.4          0.2  setosa\n",
       "1           4.9          3.0           1.4          0.2  setosa\n",
       "2           4.7          3.2           1.3          0.2  setosa\n",
       "3           4.6          3.1           1.5          0.2  setosa\n",
       "4           5.0          3.6           1.4          0.2  setosa"
      ]
     },
     "execution_count": 73,
     "metadata": {},
     "output_type": "execute_result"
    }
   ],
   "source": [
    "df.head()"
   ]
  },
  {
   "cell_type": "code",
   "execution_count": 74,
   "id": "696b5752",
   "metadata": {},
   "outputs": [
    {
     "data": {
      "image/png": "[encoded data removed]",
      "text/plain": [
       "<Figure size 640x480 with 1 Axes>"
      ]
     },
     "metadata": {},
     "output_type": "display_data"
    }
   ],
   "source": [
    "sns.histplot(df['sepal_length'],kde=True)\n",
    "plt.show()"
   ]
  },
  {
   "cell_type": "code",
   "execution_count": 75,
   "id": "d2e1ef72",
   "metadata": {},
   "outputs": [
    {
     "data": {
      "image/png": "[encoded data removed]",
      "text/plain": [
       "<Figure size 640x480 with 1 Axes>"
      ]
     },
     "metadata": {},
     "output_type": "display_data"
    }
   ],
   "source": [
    "sns.histplot(df['sepal_width'],kde=True)\n",
    "plt.show()"
   ]
  },
  {
   "cell_type": "code",
   "execution_count": 76,
   "id": "f5d52bda",
   "metadata": {},
   "outputs": [
    {
     "data": {
      "image/png": "[encoded data removed]",
      "text/plain": [
       "<Figure size 640x480 with 1 Axes>"
      ]
     },
     "metadata": {},
     "output_type": "display_data"
    }
   ],
   "source": [
    "sns.histplot(df['petal_length'],kde=True)\n",
    "plt.show()"
   ]
  },
  {
   "cell_type": "code",
   "execution_count": 77,
   "id": "16f7e935",
   "metadata": {},
   "outputs": [
    {
     "data": {
      "image/png": "[encoded data removed]",
      "text/plain": [
       "<Figure size 640x480 with 1 Axes>"
      ]
     },
     "metadata": {},
     "output_type": "display_data"
    }
   ],
   "source": [
    "sns.histplot(df['petal_width'],kde=True)\n",
    "plt.show()"
   ]
  },
  {
   "cell_type": "code",
   "execution_count": 78,
   "id": "10f80e1f",
   "metadata": {},
   "outputs": [],
   "source": [
    "## create a normal distributed data\n",
    "s=np.random.normal(0.5,0.2,1000)"
   ]
  },
  {
   "cell_type": "code",
   "execution_count": 79,
   "id": "092de62c",
   "metadata": {},
   "outputs": [
    {
     "data": {
      "text/plain": [
       "array([ 0.19738255,  0.3472939 ,  0.54984064,  0.18203828,  0.30409482,\n",
       "        0.52455233,  0.83785842,  0.53554997,  0.5064012 ,  0.88664311,\n",
       "        0.28758106,  0.35347418,  0.66854828,  0.715348  ,  0.59153811,\n",
       "       -0.02389866,  0.64780927,  0.63350021,  0.50928053,  0.63321552,\n",
       "        0.7815897 ,  0.51022984,  0.31280503,  0.13217814,  0.51275575,\n",
       "        0.35720638,  0.38762307,  0.27350623,  0.5548582 ,  0.64718242,\n",
       "        0.58686375,  0.27599178,  0.67781892,  0.56290139,  0.00239911,\n",
       "        0.61918172,  0.09282759,  0.27234367,  0.71152846,  0.63055371,\n",
       "        0.37110663,  0.32330758,  0.56913847,  0.14063451,  0.58214192,\n",
       "        0.44163531,  0.64682953,  0.47490087,  0.28229652,  0.54044618,\n",
       "        0.43003312,  0.21574462,  0.26728233,  0.29866474,  0.51000435,\n",
       "        0.65308603,  0.49429702,  0.25887088,  0.42369103,  0.61336873,\n",
       "        0.71546735,  0.31192826,  0.55672142,  0.4219359 ,  0.06917511,\n",
       "        0.24106325,  0.38675586,  0.39645816,  0.42082434,  0.37926095,\n",
       "        0.57347858,  0.30819764,  0.18094066,  0.60150454,  0.3763259 ,\n",
       "        0.6581586 ,  0.33311899,  0.76189399,  0.25225158,  0.2594525 ,\n",
       "        0.63922932,  0.85579688,  0.34073654,  0.81396784,  0.8043327 ,\n",
       "        0.65798312,  0.45655582,  0.06318803,  0.18654632,  0.33806595,\n",
       "        0.60009902,  0.46129803,  0.36715936,  0.51670537,  0.16831494,\n",
       "        0.57602272,  0.30866539,  0.7539718 ,  0.53010388,  0.34697373,\n",
       "        0.39259593,  0.17774102,  0.53299777,  0.29784476,  0.47692013,\n",
       "        0.72800774,  0.56760049,  0.59510289,  1.02780922,  0.63822151,\n",
       "        0.72224711,  0.44846314,  0.26080974,  0.54490941,  0.26730662,\n",
       "       -0.10318309,  0.61879389,  0.5662786 ,  0.28543705,  0.75788972,\n",
       "        0.48289572,  0.40467524,  0.30725709,  0.73079661,  0.41102679,\n",
       "        0.3980712 ,  0.40500135,  0.34171439,  0.16137628,  0.35176742,\n",
       "        0.32246971,  0.63887692,  0.23644339,  0.63651107,  0.39540348,\n",
       "        0.33631638,  0.46454007,  0.50650042,  0.5202543 ,  0.61519225,\n",
       "        0.54207539,  0.18873713,  0.36133695,  0.82492182,  0.47586689,\n",
       "        0.03028365,  0.53345145,  0.83999294,  0.73377976,  0.51106758,\n",
       "        0.54357616,  0.62911495,  0.46834778,  0.4022358 ,  0.82642446,\n",
       "        0.4197549 ,  0.70187198,  0.18449633,  0.34233534,  0.2687105 ,\n",
       "        0.58210906,  0.37335754,  0.36982832,  0.31498824,  0.52863271,\n",
       "        0.69510242,  0.38004898,  0.62141981,  0.49627937,  0.37568808,\n",
       "        0.56932208,  0.76749827, -0.02099928,  0.63904954,  0.85317428,\n",
       "        0.46533665,  0.65268714,  0.69538741,  0.60352125,  0.54983419,\n",
       "        0.76089057,  0.72330871,  0.53723113,  0.6325968 ,  0.31901825,\n",
       "        0.46821226,  0.52637306,  0.49122964,  0.36672888,  0.75305963,\n",
       "        0.57012535,  0.6475343 ,  0.23996971,  0.39772728,  0.36143212,\n",
       "        0.46329668,  0.83647546,  1.00666474,  0.54019231,  0.57529579,\n",
       "        0.46133249,  0.39272538,  0.67807305,  0.41884588,  0.2925122 ,\n",
       "        0.62780961,  0.46869682,  0.56627856,  0.56421332,  0.69619784,\n",
       "        0.62736306,  0.68665246,  0.48346335,  0.48450073,  0.58208616,\n",
       "        0.55505548,  0.60504145,  0.57974162,  0.93869014,  0.46814343,\n",
       "        0.60294176,  0.53365962,  0.77410598,  0.35423985,  0.25921918,\n",
       "        0.74585902,  0.65591002,  0.54314727,  0.35363268,  0.75816374,\n",
       "        0.59105024,  0.38573442,  0.40691988,  0.37348584,  0.78272483,\n",
       "        0.46654535,  0.29677371,  0.38406823,  0.72425538,  0.62391153,\n",
       "        0.35952214,  0.26782239,  0.38413427,  0.55596815,  0.41807964,\n",
       "        0.38605666,  0.50418052,  0.38477125,  0.27925593,  0.21800261,\n",
       "        0.31200711,  0.35554957,  0.55030494,  0.51570321,  0.33255097,\n",
       "        0.718959  ,  0.25716077,  0.69199298,  0.26643993,  0.43318202,\n",
       "        0.66548484,  0.6730034 ,  0.32891901,  0.51436337,  0.27480903,\n",
       "        0.45873813,  0.58431607,  0.38954205,  0.7962104 ,  0.59918518,\n",
       "        0.63653467,  0.38692465,  0.47363891,  0.56017478,  0.67355192,\n",
       "        0.64163249,  0.41898341,  0.33216612,  0.26312292,  0.92790871,\n",
       "        0.72711139,  0.7909401 ,  0.47055422,  0.90548984,  0.60285539,\n",
       "        0.54759381,  0.3948699 ,  0.21764967,  0.63658309,  0.51494386,\n",
       "        0.49927371,  0.23021697,  0.09956214,  0.27802972,  0.6773504 ,\n",
       "        0.88078756,  0.36952438,  0.43411701,  0.18599112,  0.29763308,\n",
       "        0.56395296,  0.3453554 ,  0.52040533,  0.74650193,  0.46247844,\n",
       "        0.26800206,  0.83274225,  0.62138856,  0.54102089,  0.56317702,\n",
       "        0.45652637,  0.63829474,  0.22190871,  0.49581526,  0.26322829,\n",
       "        0.48586895,  0.6284113 ,  0.46565342,  0.85127624,  0.49389357,\n",
       "        0.36186042,  0.56462497,  0.54839339,  0.56780207,  0.51115224,\n",
       "        0.48187116,  0.68932133,  0.17580194,  0.65144973,  0.38619068,\n",
       "        0.4797643 ,  0.32365905,  0.7540953 ,  0.0884163 ,  0.25445419,\n",
       "        0.41581147,  0.63721203,  0.23611357,  0.60465734,  0.71755056,\n",
       "        0.32033647, -0.01171427,  0.65070177,  0.4659942 ,  0.48152221,\n",
       "        0.71499085,  0.65167064,  0.38639923,  0.53024047,  0.3234711 ,\n",
       "        0.58939625,  0.48558904,  0.60185006,  0.37150602,  0.54406153,\n",
       "        0.56649274,  0.61363029,  0.51659243,  0.0942437 ,  0.60146293,\n",
       "        0.26266735,  0.70425521,  0.49617932,  0.49947696,  0.37000994,\n",
       "        0.85081032,  0.34447561,  0.77793602,  0.8283845 ,  1.13331137,\n",
       "        0.77679111,  0.48453674,  0.31763473,  0.35707594,  0.20779448,\n",
       "        0.78096954,  0.57570086,  0.28729578,  0.65987168,  0.52906844,\n",
       "        0.71683966,  0.58308484,  0.29289022,  0.54452577,  0.69456707,\n",
       "        0.53394934,  0.53299193,  0.26347987,  0.38390815,  0.52358768,\n",
       "        0.67247646,  0.39536109,  0.43716318,  0.93996612,  0.31811866,\n",
       "        0.46383943,  0.31711875,  0.50902733,  0.67265213,  0.67438101,\n",
       "        0.59049977,  0.7614973 ,  0.50657963,  0.63948714,  0.30708331,\n",
       "        0.71234391,  0.38255834,  0.76484752,  0.29740124,  0.56901311,\n",
       "        0.5658111 ,  0.56523734,  0.47558521,  0.81921226,  0.58572454,\n",
       "        0.27490282,  0.40151271,  0.75361928,  0.32519523,  0.8718561 ,\n",
       "        0.43100506,  0.13743081,  0.68330069,  0.322272  , -0.24213589,\n",
       "        0.5063766 ,  0.24208823,  0.53791182,  0.63869666,  0.66039016,\n",
       "        0.45405453,  0.17916741,  0.75835852,  0.51797161,  0.50870238,\n",
       "        0.1882524 ,  0.35696726,  0.52625659,  0.45503558,  0.52906574,\n",
       "        0.29705154,  0.15337611,  0.56206538,  0.46571471,  0.71481023,\n",
       "        0.7674079 ,  0.46575497,  0.42452737,  0.75747972,  0.68146351,\n",
       "        0.32060978,  0.87309784,  0.55365754,  0.46776979,  0.23467852,\n",
       "        0.42665237,  0.61319957,  0.57438557,  0.78495817,  0.69685285,\n",
       "        0.30503647,  0.45780888,  0.42869517,  0.35321108,  0.35320259,\n",
       "        0.31080864,  0.30752208,  0.47959088,  0.56698613,  0.74284104,\n",
       "        0.32753502,  0.38927494, -0.13100274,  0.46136943,  0.5349595 ,\n",
       "        0.38672413,  0.50465465,  0.33242048,  0.34141955,  0.209603  ,\n",
       "        0.27467712,  0.12215404,  0.73034298,  0.661433  ,  0.50905325,\n",
       "        0.4691214 ,  0.79798992,  0.60391792,  0.35810133,  0.51165738,\n",
       "        0.5670378 ,  0.55685161,  0.56254861,  0.16464988,  0.34267776,\n",
       "        0.09877868,  0.56261654,  0.41831004,  0.24393766,  0.94042065,\n",
       "        0.75827179,  0.40195182,  0.66708051,  0.37785877,  0.69326889,\n",
       "        0.66301816,  0.40277692,  0.62202496,  0.86646778,  0.70887944,\n",
       "        0.27309638,  0.59518348,  0.6701487 ,  0.5620418 ,  0.74237393,\n",
       "        0.38220813,  0.0522838 ,  0.82930841,  0.29771778,  0.49916159,\n",
       "        0.21200387,  0.68925869,  0.31027986,  0.54931832,  0.52362847,\n",
       "        0.81881642,  0.90797328,  0.67975494,  0.73181148,  0.57524739,\n",
       "        0.5681302 ,  0.34896493,  0.6303365 ,  0.11233411,  0.69046917,\n",
       "        0.53685366,  0.50938425,  0.74454235,  0.13826718,  0.31860355,\n",
       "        0.62259066,  0.44275381,  0.62808548,  0.46096771,  0.27485381,\n",
       "        0.59496014,  0.54809268,  0.61602174,  0.61197207,  0.91389001,\n",
       "        0.31391895,  0.38731906,  0.79668189,  0.33590772,  0.52845283,\n",
       "        0.73068059,  0.58634773,  0.60463659,  0.49440344,  0.14309607,\n",
       "        0.65249054,  0.67889215,  0.59340476,  0.42145984,  0.55028313,\n",
       "        0.65185919,  0.43231192,  0.40550393,  0.28824955,  0.59728751,\n",
       "        0.25729476,  0.40820714,  0.77561801,  0.09452929,  0.34608281,\n",
       "        0.68813276,  0.44945183,  0.74128415,  0.26529592,  0.3181284 ,\n",
       "        0.7316739 ,  0.30154884,  0.51039631,  0.44901104,  0.7779253 ,\n",
       "        0.28030754,  0.52051503,  0.6793552 ,  0.76326143,  0.53772204,\n",
       "        0.67136812,  0.38154079,  0.90222428,  0.61315832,  0.67877   ,\n",
       "        0.88412818,  0.57883794,  0.53094907,  0.6729842 ,  0.79627398,\n",
       "        0.24034693,  0.17961713,  0.6479531 ,  0.48127777,  0.52559492,\n",
       "        0.92636723,  0.47926035,  0.49884006,  0.7672026 ,  0.34960802,\n",
       "        0.54622814,  0.47334219,  0.54734275,  0.55918441,  0.2706368 ,\n",
       "        0.41528889,  0.38432257,  0.2339584 ,  0.58606084,  0.36953315,\n",
       "        0.2646073 ,  0.17477495,  0.39738263,  0.25845772,  0.57176081,\n",
       "        0.68591931,  0.3967372 ,  0.34646152,  0.40573253,  0.63257528,\n",
       "        0.34764354,  0.60741267,  0.36623132,  0.01245023,  0.82441748,\n",
       "        0.66604358,  0.45167284,  0.52691465,  0.53377955,  0.83400441,\n",
       "        0.43340255,  0.55799268,  0.45107137,  0.38190194,  0.59757545,\n",
       "        0.60106763,  0.40138804,  0.98821653, -0.06471126,  0.80302812,\n",
       "        0.27521812,  0.35187587,  0.63603328,  0.69873172,  0.78702642,\n",
       "        0.22581206,  0.93490827,  0.3119228 ,  0.58569635,  0.78455829,\n",
       "        0.53246953,  0.50721888,  0.69454266,  0.52589011,  0.29465971,\n",
       "        0.75022339,  0.75255813,  0.65346479,  0.6145207 ,  0.76631629,\n",
       "        0.74041212,  0.78473541,  0.62109973,  0.1488391 ,  0.68327921,\n",
       "        0.67474549,  0.71991563,  0.84376036,  0.25958421, -0.0589785 ,\n",
       "        0.73864156,  0.67840137,  0.54243643,  0.28624679,  0.8887973 ,\n",
       "        0.46118311,  0.96020928,  0.60298713,  0.75986766,  0.00240131,\n",
       "        0.64570302,  0.376689  ,  0.25616175,  0.4543217 ,  1.09372984,\n",
       "        0.39968492,  0.15961591,  0.75397127,  0.33842992,  0.50067284,\n",
       "        0.85623623,  0.73624387,  0.66097256,  0.74780319,  0.50652723,\n",
       "        0.26448637,  0.48995879,  0.4218086 ,  0.51380312,  0.49517628,\n",
       "        0.61309202,  0.70884618,  0.39454974,  0.4521999 ,  0.57399154,\n",
       "        0.75570275,  0.44014629,  0.10687665,  0.70767341,  0.24326676,\n",
       "        0.42786551,  0.41019328,  0.63248501,  0.14262134,  0.78240591,\n",
       "        0.43043798,  0.75629973,  0.45656652,  1.10826353,  0.55155658,\n",
       "        0.45800008,  0.38056988,  0.02248847,  0.86718094,  0.22873416,\n",
       "        0.5673343 ,  0.69678452,  0.67388529,  0.51409656,  0.37850204,\n",
       "        0.64588328,  0.5029437 ,  0.19515544,  0.31834436,  0.64812095,\n",
       "        0.7057607 ,  0.0154255 ,  0.57911701,  0.46470138,  0.70487263,\n",
       "        0.53302982,  0.46769536,  0.70925331,  0.74566995,  0.7573578 ,\n",
       "        0.52327523,  0.62556998,  0.8857698 ,  0.5019252 ,  0.37332594,\n",
       "        0.61744267,  0.33454925,  0.71933142,  0.35720072,  0.46197838,\n",
       "        0.76190773,  0.34252022,  0.46185284,  0.61229134,  0.60224964,\n",
       "        0.23694222,  0.71914397,  0.49405947,  0.55678869,  0.67322039,\n",
       "        0.69373216,  0.57905016,  0.70727174,  0.5754113 ,  0.26405976,\n",
       "        0.25703919,  0.33612155,  0.31271247,  0.44273323,  0.04783968,\n",
       "        0.52597045,  0.65458425,  0.65922345,  0.50950582,  0.27749177,\n",
       "        0.94245647,  0.35370566,  0.40706542,  0.51451873,  0.19808902,\n",
       "        0.23036176,  0.51025078,  0.7252553 ,  0.42353917,  0.59520859,\n",
       "        0.6153993 ,  0.56020709,  0.32370661,  0.71878863,  0.46350668,\n",
       "        0.30157615,  0.28338919,  0.70830437,  0.52877495,  0.36850788,\n",
       "        0.71412775,  0.66263816,  0.51109839,  0.26225504,  0.48359913,\n",
       "        0.5687629 ,  0.30953237,  1.02149868,  0.48644961,  0.2924874 ,\n",
       "        0.1849243 ,  0.72730972,  0.48327128,  0.50269836,  0.3607075 ,\n",
       "        0.64627611,  0.57634375,  0.28564969,  0.4133404 ,  0.23867661,\n",
       "        0.59312499,  0.49792553,  0.69063411,  0.61902721,  0.66942041,\n",
       "        0.13971994,  0.35582561,  0.26911002,  0.20731607,  0.33051513,\n",
       "        0.71054263,  0.66575143,  0.80283711,  0.61385808,  0.60918073,\n",
       "        0.43512106,  0.43790885,  0.42865607,  0.33251297,  0.23301506,\n",
       "        0.52436573,  0.77054667,  0.29086917,  0.25156795,  0.70638562,\n",
       "        0.46998006,  0.15856558,  0.45671269,  0.0142199 ,  0.54947855,\n",
       "        0.41287195,  0.23949507,  0.53147718,  0.39838553,  0.78154083,\n",
       "        0.35996513,  0.59539555,  0.3025219 ,  0.57965486,  0.64591775,\n",
       "        0.67161019,  0.69992804,  0.25535359,  0.87782985,  0.84676778,\n",
       "        0.49394115,  0.5568601 ,  0.70069413,  0.16730466,  0.46252008,\n",
       "        0.5935305 ,  0.60928992,  0.60471618,  0.26927588,  0.69626867,\n",
       "        0.69104813,  0.59420437,  0.37852426,  0.28757252,  0.46516967,\n",
       "        0.57633599,  0.27244381,  0.40245955,  0.59908497,  0.57910438,\n",
       "        0.31592569,  0.08628585,  0.43282147,  0.12849761,  0.1761136 ,\n",
       "        0.62877162,  0.54611334,  0.24645816,  0.4353147 ,  0.47639647,\n",
       "        0.57175356,  0.71073767,  0.57178605,  0.02528096,  0.5597518 ,\n",
       "        0.42402617,  0.45713026,  0.47824674,  0.44051607,  0.40316242,\n",
       "        0.69381261,  0.7057909 ,  0.78229043,  0.68060833,  0.66053004,\n",
       "        0.58146344,  0.24912015,  0.71089616,  0.43730076,  0.47421329,\n",
       "        0.19512994,  0.39212192,  1.11750785,  0.42588763,  0.66216015,\n",
       "        0.73461973,  0.60237514,  0.39669418,  0.47543272,  0.59595737,\n",
       "        0.42536071,  0.24135203,  0.29351799,  0.8195181 ,  0.64995875,\n",
       "        0.64691678,  0.69496676,  0.56310922,  0.31227221,  0.96282555,\n",
       "        0.43831033,  0.56801708,  0.54582663,  0.77005268,  0.47514214,\n",
       "        0.2139772 ,  0.20820019,  0.31407805,  0.68603929,  0.77612802,\n",
       "        0.47642008,  0.43024667,  0.65550902,  0.54080379,  0.3787894 ,\n",
       "        0.3059574 ,  0.54251083,  0.72703437,  0.73682443,  0.67010852,\n",
       "        0.40839775,  0.75732948,  0.10215795,  0.55215308,  0.66073906,\n",
       "        0.33236394,  0.23768496,  0.82318764,  0.45760772,  0.4677082 ,\n",
       "        0.80684622,  0.63072476,  0.28893466,  0.55512158,  0.5086342 ,\n",
       "        0.73580178,  0.80470979,  0.18962906,  0.37675932,  0.83818013,\n",
       "        0.52937948,  0.52162751,  0.38703218,  0.62148759,  0.39659507,\n",
       "        0.53306706,  0.52133924,  0.38865955,  0.24015924,  0.20478916,\n",
       "        0.36841059,  0.38541918,  0.5928416 ,  0.51394991,  0.53145703])"
      ]
     },
     "execution_count": 79,
     "metadata": {},
     "output_type": "execute_result"
    }
   ],
   "source": [
    "s"
   ]
  },
  {
   "cell_type": "code",
   "execution_count": 80,
   "id": "18adf167",
   "metadata": {},
   "outputs": [
    {
     "data": {
      "image/png": "[encoded data removed]",
      "text/plain": [
       "<Figure size 640x480 with 1 Axes>"
      ]
     },
     "metadata": {},
     "output_type": "display_data"
    }
   ],
   "source": [
    "sns.histplot(s,kde=True)\n",
    "plt.show()"
   ]
  },
  {
   "cell_type": "markdown",
   "id": "07676359",
   "metadata": {},
   "source": [
    "# Other Distribuiton\n",
    "## Log Normal Distribution,Power Law Distribution"
   ]
  },
  {
   "cell_type": "code",
   "execution_count": 81,
   "id": "380185f5",
   "metadata": {},
   "outputs": [],
   "source": [
    "mu, sigma = 3., 1. # mean and standard deviation\n",
    "s = np.random.lognormal(mu, sigma, 1000)"
   ]
  },
  {
   "cell_type": "code",
   "execution_count": 82,
   "id": "b494be02",
   "metadata": {},
   "outputs": [
    {
     "data": {
      "image/png": "[encoded data removed]",
      "text/plain": [
       "<Figure size 640x480 with 1 Axes>"
      ]
     },
     "metadata": {},
     "output_type": "display_data"
    }
   ],
   "source": [
    "sns.histplot(s,kde=True)\n",
    "plt.show()"
   ]
  },
  {
   "cell_type": "code",
   "execution_count": 83,
   "id": "1f789e41",
   "metadata": {},
   "outputs": [
    {
     "data": {
      "image/png": "[encoded data removed]",
      "text/plain": [
       "<Figure size 640x480 with 1 Axes>"
      ]
     },
     "metadata": {},
     "output_type": "display_data"
    }
   ],
   "source": [
    "sns.histplot(np.log(s),kde=True)\n",
    "plt.show()"
   ]
  },
  {
   "cell_type": "markdown",
   "id": "e54ee9af",
   "metadata": {},
   "source": [
    "# Check whether Disstribution is Normal Distribution"
   ]
  },
  {
   "cell_type": "code",
   "execution_count": 84,
   "id": "af7aedf7",
   "metadata": {},
   "outputs": [],
   "source": [
    "#### If you want to check whether feature is guassian or normal distributed\n",
    "#### Q-Q plot\n",
    "import matplotlib.pyplot as plt\n",
    "import scipy.stats as stat\n",
    "import pylab\n",
    "def plot_data(sample):\n",
    "    plt.figure(figsize=(10,6))\n",
    "    plt.subplot(1,2,1)\n",
    "    sns.histplot(sample)\n",
    "    plt.subplot(1,2,2)\n",
    "    stat.probplot(sample,dist='norm',plot=pylab)\n",
    "    plt.show()\n"
   ]
  },
  {
   "cell_type": "code",
   "execution_count": 85,
   "id": "4cf51f47",
   "metadata": {},
   "outputs": [
    {
     "data": {
      "image/png": "[encoded data removed]",
      "text/plain": [
       "<Figure size 1000x600 with 2 Axes>"
      ]
     },
     "metadata": {},
     "output_type": "display_data"
    }
   ],
   "source": [
    "## create a normal distributed data\n",
    "s=np.random.normal(0.5,0.2,1000)\n",
    "plot_data(s)"
   ]
  },
  {
   "cell_type": "code",
   "execution_count": 86,
   "id": "d724c78f",
   "metadata": {},
   "outputs": [
    {
     "data": {
      "image/png": "[encoded data removed]",
      "text/plain": [
       "<Figure size 1000x600 with 2 Axes>"
      ]
     },
     "metadata": {},
     "output_type": "display_data"
    }
   ],
   "source": [
    "plot_data(df['sepal_width'])"
   ]
  },
  {
   "cell_type": "code",
   "execution_count": 87,
   "id": "65d061ba",
   "metadata": {},
   "outputs": [],
   "source": [
    "mu, sigma = 3., 1. # mean and standard deviation\n",
    "sample = np.random.lognormal(mu, sigma, 100)"
   ]
  },
  {
   "cell_type": "code",
   "execution_count": 88,
   "id": "c209a44e",
   "metadata": {},
   "outputs": [],
   "source": [
    "def plot_data_log(sample):\n",
    "    plt.figure(figsize=(10,6))\n",
    "    plt.subplot(1,2,1)\n",
    "    sns.histplot(sample)\n",
    "    plt.subplot(1,2,2)\n",
    "    stat.probplot(np.log(sample),dist='norm',plot=pylab)\n",
    "    plt.show()"
   ]
  },
  {
   "cell_type": "code",
   "execution_count": 89,
   "id": "9439e1f6",
   "metadata": {},
   "outputs": [
    {
     "data": {
      "image/png": "[encoded data removed]",
      "text/plain": [
       "<Figure size 1000x600 with 2 Axes>"
      ]
     },
     "metadata": {},
     "output_type": "display_data"
    }
   ],
   "source": [
    "plot_data_log(sample)"
   ]
  },
  {
   "cell_type": "markdown",
   "id": "6a5eb741",
   "metadata": {},
   "source": [
    "# Pearson and Sperman Rank Correlation "
   ]
  },
  {
   "cell_type": "code",
   "execution_count": 90,
   "id": "6f37817b",
   "metadata": {},
   "outputs": [],
   "source": [
    "df=sns.load_dataset('tips')"
   ]
  },
  {
   "cell_type": "code",
   "execution_count": 91,
   "id": "2a8a7f6f",
   "metadata": {},
   "outputs": [
    {
     "data": {
      "text/html": [
       "<div>\n",
       "<style scoped>\n",
       "    .dataframe tbody tr th:only-of-type {\n",
       "        vertical-align: middle;\n",
       "    }\n",
       "\n",
       "    .dataframe tbody tr th {\n",
       "        vertical-align: top;\n",
       "    }\n",
       "\n",
       "    .dataframe thead th {\n",
       "        text-align: right;\n",
       "    }\n",
       "</style>\n",
       "<table border=\"1\" class=\"dataframe\">\n",
       "  <thead>\n",
       "    <tr style=\"text-align: right;\">\n",
       "      <th></th>\n",
       "      <th>total_bill</th>\n",
       "      <th>tip</th>\n",
       "      <th>sex</th>\n",
       "      <th>smoker</th>\n",
       "      <th>day</th>\n",
       "      <th>time</th>\n",
       "      <th>size</th>\n",
       "    </tr>\n",
       "  </thead>\n",
       "  <tbody>\n",
       "    <tr>\n",
       "      <th>0</th>\n",
       "      <td>16.99</td>\n",
       "      <td>1.01</td>\n",
       "      <td>Female</td>\n",
       "      <td>No</td>\n",
       "      <td>Sun</td>\n",
       "      <td>Dinner</td>\n",
       "      <td>2</td>\n",
       "    </tr>\n",
       "    <tr>\n",
       "      <th>1</th>\n",
       "      <td>10.34</td>\n",
       "      <td>1.66</td>\n",
       "      <td>Male</td>\n",
       "      <td>No</td>\n",
       "      <td>Sun</td>\n",
       "      <td>Dinner</td>\n",
       "      <td>3</td>\n",
       "    </tr>\n",
       "    <tr>\n",
       "      <th>2</th>\n",
       "      <td>21.01</td>\n",
       "      <td>3.50</td>\n",
       "      <td>Male</td>\n",
       "      <td>No</td>\n",
       "      <td>Sun</td>\n",
       "      <td>Dinner</td>\n",
       "      <td>3</td>\n",
       "    </tr>\n",
       "    <tr>\n",
       "      <th>3</th>\n",
       "      <td>23.68</td>\n",
       "      <td>3.31</td>\n",
       "      <td>Male</td>\n",
       "      <td>No</td>\n",
       "      <td>Sun</td>\n",
       "      <td>Dinner</td>\n",
       "      <td>2</td>\n",
       "    </tr>\n",
       "    <tr>\n",
       "      <th>4</th>\n",
       "      <td>24.59</td>\n",
       "      <td>3.61</td>\n",
       "      <td>Female</td>\n",
       "      <td>No</td>\n",
       "      <td>Sun</td>\n",
       "      <td>Dinner</td>\n",
       "      <td>4</td>\n",
       "    </tr>\n",
       "  </tbody>\n",
       "</table>\n",
       "</div>"
      ],
      "text/plain": [
       "   total_bill   tip     sex smoker  day    time  size\n",
       "0       16.99  1.01  Female     No  Sun  Dinner     2\n",
       "1       10.34  1.66    Male     No  Sun  Dinner     3\n",
       "2       21.01  3.50    Male     No  Sun  Dinner     3\n",
       "3       23.68  3.31    Male     No  Sun  Dinner     2\n",
       "4       24.59  3.61  Female     No  Sun  Dinner     4"
      ]
     },
     "execution_count": 91,
     "metadata": {},
     "output_type": "execute_result"
    }
   ],
   "source": [
    "df.head()"
   ]
  },
  {
   "cell_type": "code",
   "execution_count": 92,
   "id": "bcd0868f",
   "metadata": {},
   "outputs": [],
   "source": [
    "import pandas as pd"
   ]
  },
  {
   "cell_type": "code",
   "execution_count": 93,
   "id": "4b9cfbb4",
   "metadata": {},
   "outputs": [
    {
     "data": {
      "text/html": [
       "<div>\n",
       "<style scoped>\n",
       "    .dataframe tbody tr th:only-of-type {\n",
       "        vertical-align: middle;\n",
       "    }\n",
       "\n",
       "    .dataframe tbody tr th {\n",
       "        vertical-align: top;\n",
       "    }\n",
       "\n",
       "    .dataframe thead th {\n",
       "        text-align: right;\n",
       "    }\n",
       "</style>\n",
       "<table border=\"1\" class=\"dataframe\">\n",
       "  <thead>\n",
       "    <tr style=\"text-align: right;\">\n",
       "      <th></th>\n",
       "      <th>total_bill</th>\n",
       "      <th>tip</th>\n",
       "      <th>size</th>\n",
       "    </tr>\n",
       "  </thead>\n",
       "  <tbody>\n",
       "    <tr>\n",
       "      <th>total_bill</th>\n",
       "      <td>1.000000</td>\n",
       "      <td>0.675734</td>\n",
       "      <td>0.598315</td>\n",
       "    </tr>\n",
       "    <tr>\n",
       "      <th>tip</th>\n",
       "      <td>0.675734</td>\n",
       "      <td>1.000000</td>\n",
       "      <td>0.489299</td>\n",
       "    </tr>\n",
       "    <tr>\n",
       "      <th>size</th>\n",
       "      <td>0.598315</td>\n",
       "      <td>0.489299</td>\n",
       "      <td>1.000000</td>\n",
       "    </tr>\n",
       "  </tbody>\n",
       "</table>\n",
       "</div>"
      ],
      "text/plain": [
       "            total_bill       tip      size\n",
       "total_bill    1.000000  0.675734  0.598315\n",
       "tip           0.675734  1.000000  0.489299\n",
       "size          0.598315  0.489299  1.000000"
      ]
     },
     "execution_count": 93,
     "metadata": {},
     "output_type": "execute_result"
    }
   ],
   "source": [
    "df.corr()"
   ]
  },
  {
   "cell_type": "code",
   "execution_count": 94,
   "id": "65168695",
   "metadata": {},
   "outputs": [
    {
     "data": {
      "image/png": "[encoded data removed]",
      "text/plain": [
       "<Figure size 750x750 with 12 Axes>"
      ]
     },
     "metadata": {},
     "output_type": "display_data"
    }
   ],
   "source": [
    "sns.pairplot(df)\n",
    "plt.show()"
   ]
  },
  {
   "cell_type": "markdown",
   "id": "007105c8",
   "metadata": {},
   "source": [
    "# Normal Distribution and Z Score"
   ]
  },
  {
   "cell_type": "code",
   "execution_count": 95,
   "id": "7a77819f",
   "metadata": {},
   "outputs": [],
   "source": [
    "import pandas as pd\n",
    "import seaborn as sn\n",
    "import matplotlib.pyplot as plt"
   ]
  },
  {
   "cell_type": "markdown",
   "id": "4672b679",
   "metadata": {},
   "source": [
    "We are going to use heights dataset from kaggle.com. Dataset has heights and weights both but I have removed weights to make it simple\n",
    "\n",
    "https://www.kaggle.com/mustafaali96/weight-height"
   ]
  },
  {
   "cell_type": "code",
   "execution_count": 96,
   "id": "e9b6d5fa",
   "metadata": {},
   "outputs": [
    {
     "data": {
      "text/html": [
       "<div>\n",
       "<style scoped>\n",
       "    .dataframe tbody tr th:only-of-type {\n",
       "        vertical-align: middle;\n",
       "    }\n",
       "\n",
       "    .dataframe tbody tr th {\n",
       "        vertical-align: top;\n",
       "    }\n",
       "\n",
       "    .dataframe thead th {\n",
       "        text-align: right;\n",
       "    }\n",
       "</style>\n",
       "<table border=\"1\" class=\"dataframe\">\n",
       "  <thead>\n",
       "    <tr style=\"text-align: right;\">\n",
       "      <th></th>\n",
       "      <th>Gender</th>\n",
       "      <th>Height</th>\n",
       "      <th>Weight</th>\n",
       "    </tr>\n",
       "  </thead>\n",
       "  <tbody>\n",
       "    <tr>\n",
       "      <th>0</th>\n",
       "      <td>Male</td>\n",
       "      <td>73.847017</td>\n",
       "      <td>241.893563</td>\n",
       "    </tr>\n",
       "    <tr>\n",
       "      <th>1</th>\n",
       "      <td>Male</td>\n",
       "      <td>68.781904</td>\n",
       "      <td>162.310473</td>\n",
       "    </tr>\n",
       "    <tr>\n",
       "      <th>2</th>\n",
       "      <td>Male</td>\n",
       "      <td>74.110105</td>\n",
       "      <td>212.740856</td>\n",
       "    </tr>\n",
       "    <tr>\n",
       "      <th>3</th>\n",
       "      <td>Male</td>\n",
       "      <td>71.730978</td>\n",
       "      <td>220.042470</td>\n",
       "    </tr>\n",
       "    <tr>\n",
       "      <th>4</th>\n",
       "      <td>Male</td>\n",
       "      <td>69.881796</td>\n",
       "      <td>206.349801</td>\n",
       "    </tr>\n",
       "  </tbody>\n",
       "</table>\n",
       "</div>"
      ],
      "text/plain": [
       "  Gender     Height      Weight\n",
       "0   Male  73.847017  241.893563\n",
       "1   Male  68.781904  162.310473\n",
       "2   Male  74.110105  212.740856\n",
       "3   Male  71.730978  220.042470\n",
       "4   Male  69.881796  206.349801"
      ]
     },
     "execution_count": 96,
     "metadata": {},
     "output_type": "execute_result"
    }
   ],
   "source": [
    "df = pd.read_csv(\"weight-height.csv\")\n",
    "df.head()"
   ]
  },
  {
   "cell_type": "markdown",
   "id": "7174c034",
   "metadata": {},
   "source": [
    "# (1) Outlier detection and removal using Standard Deviation"
   ]
  },
  {
   "cell_type": "code",
   "execution_count": 97,
   "id": "715253a7",
   "metadata": {},
   "outputs": [
    {
     "data": {
      "text/plain": [
       "count    10000.000000\n",
       "mean        66.367560\n",
       "std          3.847528\n",
       "min         54.263133\n",
       "25%         63.505620\n",
       "50%         66.318070\n",
       "75%         69.174262\n",
       "max         78.998742\n",
       "Name: Height, dtype: float64"
      ]
     },
     "execution_count": 97,
     "metadata": {},
     "output_type": "execute_result"
    }
   ],
   "source": [
    "df.Height.describe()\n"
   ]
  },
  {
   "cell_type": "code",
   "execution_count": 98,
   "id": "4a4e0685",
   "metadata": {},
   "outputs": [
    {
     "data": {
      "text/plain": [
       "<AxesSubplot:xlabel='Height', ylabel='Count'>"
      ]
     },
     "execution_count": 98,
     "metadata": {},
     "output_type": "execute_result"
    }
   ],
   "source": [
    "sn.histplot(df.Height, kde=True)\n"
   ]
  },
  {
   "cell_type": "code",
   "execution_count": 99,
   "id": "f332bb12",
   "metadata": {},
   "outputs": [
    {
     "data": {
      "text/plain": [
       "66.36755975482106"
      ]
     },
     "execution_count": 99,
     "metadata": {},
     "output_type": "execute_result"
    }
   ],
   "source": [
    "mean = df.Height.mean()\n",
    "mean"
   ]
  },
  {
   "cell_type": "code",
   "execution_count": 100,
   "id": "8ee9b7f0",
   "metadata": {},
   "outputs": [
    {
     "data": {
      "text/plain": [
       "3.8475281207732324"
      ]
     },
     "execution_count": 100,
     "metadata": {},
     "output_type": "execute_result"
    }
   ],
   "source": [
    "std_deviation = df.Height.std()\n",
    "std_deviation"
   ]
  },
  {
   "cell_type": "code",
   "execution_count": 101,
   "id": "dd332926",
   "metadata": {},
   "outputs": [
    {
     "data": {
      "text/plain": [
       "54.82497539250136"
      ]
     },
     "execution_count": 101,
     "metadata": {},
     "output_type": "execute_result"
    }
   ],
   "source": [
    "mean-3*std_deviation"
   ]
  },
  {
   "cell_type": "code",
   "execution_count": 102,
   "id": "ce66754f",
   "metadata": {},
   "outputs": [
    {
     "data": {
      "text/plain": [
       "77.91014411714076"
      ]
     },
     "execution_count": 102,
     "metadata": {},
     "output_type": "execute_result"
    }
   ],
   "source": [
    "mean+3*std_deviation"
   ]
  },
  {
   "cell_type": "code",
   "execution_count": 103,
   "id": "cde1ba5d",
   "metadata": {},
   "outputs": [
    {
     "data": {
      "text/html": [
       "<div>\n",
       "<style scoped>\n",
       "    .dataframe tbody tr th:only-of-type {\n",
       "        vertical-align: middle;\n",
       "    }\n",
       "\n",
       "    .dataframe tbody tr th {\n",
       "        vertical-align: top;\n",
       "    }\n",
       "\n",
       "    .dataframe thead th {\n",
       "        text-align: right;\n",
       "    }\n",
       "</style>\n",
       "<table border=\"1\" class=\"dataframe\">\n",
       "  <thead>\n",
       "    <tr style=\"text-align: right;\">\n",
       "      <th></th>\n",
       "      <th>Gender</th>\n",
       "      <th>Height</th>\n",
       "      <th>Weight</th>\n",
       "    </tr>\n",
       "  </thead>\n",
       "  <tbody>\n",
       "    <tr>\n",
       "      <th>994</th>\n",
       "      <td>Male</td>\n",
       "      <td>78.095867</td>\n",
       "      <td>255.690835</td>\n",
       "    </tr>\n",
       "    <tr>\n",
       "      <th>1317</th>\n",
       "      <td>Male</td>\n",
       "      <td>78.462053</td>\n",
       "      <td>227.342565</td>\n",
       "    </tr>\n",
       "    <tr>\n",
       "      <th>2014</th>\n",
       "      <td>Male</td>\n",
       "      <td>78.998742</td>\n",
       "      <td>269.989699</td>\n",
       "    </tr>\n",
       "    <tr>\n",
       "      <th>3285</th>\n",
       "      <td>Male</td>\n",
       "      <td>78.528210</td>\n",
       "      <td>253.889004</td>\n",
       "    </tr>\n",
       "    <tr>\n",
       "      <th>3757</th>\n",
       "      <td>Male</td>\n",
       "      <td>78.621374</td>\n",
       "      <td>245.733783</td>\n",
       "    </tr>\n",
       "    <tr>\n",
       "      <th>6624</th>\n",
       "      <td>Female</td>\n",
       "      <td>54.616858</td>\n",
       "      <td>71.393749</td>\n",
       "    </tr>\n",
       "    <tr>\n",
       "      <th>9285</th>\n",
       "      <td>Female</td>\n",
       "      <td>54.263133</td>\n",
       "      <td>64.700127</td>\n",
       "    </tr>\n",
       "  </tbody>\n",
       "</table>\n",
       "</div>"
      ],
      "text/plain": [
       "      Gender     Height      Weight\n",
       "994     Male  78.095867  255.690835\n",
       "1317    Male  78.462053  227.342565\n",
       "2014    Male  78.998742  269.989699\n",
       "3285    Male  78.528210  253.889004\n",
       "3757    Male  78.621374  245.733783\n",
       "6624  Female  54.616858   71.393749\n",
       "9285  Female  54.263133   64.700127"
      ]
     },
     "execution_count": 103,
     "metadata": {},
     "output_type": "execute_result"
    }
   ],
   "source": [
    "df[(df.Height < 54.82) | (df.Height > 77.91)]"
   ]
  },
  {
   "cell_type": "code",
   "execution_count": 104,
   "id": "85806c27",
   "metadata": {},
   "outputs": [
    {
     "data": {
      "text/plain": [
       "(9993, 3)"
      ]
     },
     "execution_count": 104,
     "metadata": {},
     "output_type": "execute_result"
    }
   ],
   "source": [
    "df_no_outlier = df[(df.Height<77.91) & (df.Height>54.82)]\n",
    "df_no_outlier.shape"
   ]
  },
  {
   "cell_type": "markdown",
   "id": "1f018296",
   "metadata": {},
   "source": [
    "# (2) Outlier detection and removal using Z Score\n",
    "\n",
    "Z score is a way to achieve same thing that we did above in part (1)\n",
    "\n",
    "Z score indicates how many standard deviation away a data point is.\n",
    "\n",
    "For example in our case mean is 66.37 and standard deviation is 3.84.\n",
    "\n",
    "If a value of a data point is 77.91 then Z score for that is 3 because it is 3 standard deviation away (77.91 = 66.37 + 3 * 3.84)"
   ]
  },
  {
   "cell_type": "markdown",
   "id": "ab6fa325",
   "metadata": {},
   "source": [
    "Calculate the Z Score\n",
    "\n",
    "\n",
    "Let's add a new column in our dataframe for this Z score"
   ]
  },
  {
   "cell_type": "code",
   "execution_count": 105,
   "id": "c43bb35b",
   "metadata": {},
   "outputs": [
    {
     "data": {
      "text/html": [
       "<div>\n",
       "<style scoped>\n",
       "    .dataframe tbody tr th:only-of-type {\n",
       "        vertical-align: middle;\n",
       "    }\n",
       "\n",
       "    .dataframe tbody tr th {\n",
       "        vertical-align: top;\n",
       "    }\n",
       "\n",
       "    .dataframe thead th {\n",
       "        text-align: right;\n",
       "    }\n",
       "</style>\n",
       "<table border=\"1\" class=\"dataframe\">\n",
       "  <thead>\n",
       "    <tr style=\"text-align: right;\">\n",
       "      <th></th>\n",
       "      <th>Gender</th>\n",
       "      <th>Height</th>\n",
       "      <th>Weight</th>\n",
       "      <th>zscore</th>\n",
       "    </tr>\n",
       "  </thead>\n",
       "  <tbody>\n",
       "    <tr>\n",
       "      <th>0</th>\n",
       "      <td>Male</td>\n",
       "      <td>73.847017</td>\n",
       "      <td>241.893563</td>\n",
       "      <td>1.943964</td>\n",
       "    </tr>\n",
       "    <tr>\n",
       "      <th>1</th>\n",
       "      <td>Male</td>\n",
       "      <td>68.781904</td>\n",
       "      <td>162.310473</td>\n",
       "      <td>0.627505</td>\n",
       "    </tr>\n",
       "    <tr>\n",
       "      <th>2</th>\n",
       "      <td>Male</td>\n",
       "      <td>74.110105</td>\n",
       "      <td>212.740856</td>\n",
       "      <td>2.012343</td>\n",
       "    </tr>\n",
       "    <tr>\n",
       "      <th>3</th>\n",
       "      <td>Male</td>\n",
       "      <td>71.730978</td>\n",
       "      <td>220.042470</td>\n",
       "      <td>1.393991</td>\n",
       "    </tr>\n",
       "    <tr>\n",
       "      <th>4</th>\n",
       "      <td>Male</td>\n",
       "      <td>69.881796</td>\n",
       "      <td>206.349801</td>\n",
       "      <td>0.913375</td>\n",
       "    </tr>\n",
       "  </tbody>\n",
       "</table>\n",
       "</div>"
      ],
      "text/plain": [
       "  Gender     Height      Weight    zscore\n",
       "0   Male  73.847017  241.893563  1.943964\n",
       "1   Male  68.781904  162.310473  0.627505\n",
       "2   Male  74.110105  212.740856  2.012343\n",
       "3   Male  71.730978  220.042470  1.393991\n",
       "4   Male  69.881796  206.349801  0.913375"
      ]
     },
     "execution_count": 105,
     "metadata": {},
     "output_type": "execute_result"
    }
   ],
   "source": [
    "df['zscore'] = ( df.Height - df.Height.mean() ) / df.Height.std()\n",
    "df.head(5)"
   ]
  },
  {
   "cell_type": "markdown",
   "id": "0d022c61",
   "metadata": {},
   "source": [
    "Above for first record with height 73.84, z score is 1.94. This means 73.84 is 1.94 standard deviation away from mean"
   ]
  },
  {
   "cell_type": "code",
   "execution_count": 106,
   "id": "e474660c",
   "metadata": {},
   "outputs": [
    {
     "data": {
      "text/plain": [
       "66.36755975482106"
      ]
     },
     "execution_count": 106,
     "metadata": {},
     "output_type": "execute_result"
    }
   ],
   "source": [
    "df.Height.mean()"
   ]
  },
  {
   "cell_type": "code",
   "execution_count": 107,
   "id": "dd0ba485",
   "metadata": {},
   "outputs": [
    {
     "data": {
      "text/plain": [
       "3.8475281207732324"
      ]
     },
     "execution_count": 107,
     "metadata": {},
     "output_type": "execute_result"
    }
   ],
   "source": [
    "df.Height.std()"
   ]
  },
  {
   "cell_type": "code",
   "execution_count": 108,
   "id": "371f9cca",
   "metadata": {},
   "outputs": [
    {
     "data": {
      "text/plain": [
       "1.9453124999999998"
      ]
     },
     "execution_count": 108,
     "metadata": {},
     "output_type": "execute_result"
    }
   ],
   "source": [
    "(73.84-66.37)/3.84"
   ]
  },
  {
   "cell_type": "code",
   "execution_count": 109,
   "id": "2a2a8ffd",
   "metadata": {},
   "outputs": [
    {
     "data": {
      "text/html": [
       "<div>\n",
       "<style scoped>\n",
       "    .dataframe tbody tr th:only-of-type {\n",
       "        vertical-align: middle;\n",
       "    }\n",
       "\n",
       "    .dataframe tbody tr th {\n",
       "        vertical-align: top;\n",
       "    }\n",
       "\n",
       "    .dataframe thead th {\n",
       "        text-align: right;\n",
       "    }\n",
       "</style>\n",
       "<table border=\"1\" class=\"dataframe\">\n",
       "  <thead>\n",
       "    <tr style=\"text-align: right;\">\n",
       "      <th></th>\n",
       "      <th>Gender</th>\n",
       "      <th>Height</th>\n",
       "      <th>Weight</th>\n",
       "      <th>zscore</th>\n",
       "    </tr>\n",
       "  </thead>\n",
       "  <tbody>\n",
       "    <tr>\n",
       "      <th>994</th>\n",
       "      <td>Male</td>\n",
       "      <td>78.095867</td>\n",
       "      <td>255.690835</td>\n",
       "      <td>3.048271</td>\n",
       "    </tr>\n",
       "    <tr>\n",
       "      <th>1317</th>\n",
       "      <td>Male</td>\n",
       "      <td>78.462053</td>\n",
       "      <td>227.342565</td>\n",
       "      <td>3.143445</td>\n",
       "    </tr>\n",
       "    <tr>\n",
       "      <th>2014</th>\n",
       "      <td>Male</td>\n",
       "      <td>78.998742</td>\n",
       "      <td>269.989699</td>\n",
       "      <td>3.282934</td>\n",
       "    </tr>\n",
       "    <tr>\n",
       "      <th>3285</th>\n",
       "      <td>Male</td>\n",
       "      <td>78.528210</td>\n",
       "      <td>253.889004</td>\n",
       "      <td>3.160640</td>\n",
       "    </tr>\n",
       "    <tr>\n",
       "      <th>3757</th>\n",
       "      <td>Male</td>\n",
       "      <td>78.621374</td>\n",
       "      <td>245.733783</td>\n",
       "      <td>3.184854</td>\n",
       "    </tr>\n",
       "  </tbody>\n",
       "</table>\n",
       "</div>"
      ],
      "text/plain": [
       "     Gender     Height      Weight    zscore\n",
       "994    Male  78.095867  255.690835  3.048271\n",
       "1317   Male  78.462053  227.342565  3.143445\n",
       "2014   Male  78.998742  269.989699  3.282934\n",
       "3285   Male  78.528210  253.889004  3.160640\n",
       "3757   Male  78.621374  245.733783  3.184854"
      ]
     },
     "execution_count": 109,
     "metadata": {},
     "output_type": "execute_result"
    }
   ],
   "source": [
    "df[df['zscore']>3]"
   ]
  },
  {
   "cell_type": "code",
   "execution_count": 110,
   "id": "75197f8f",
   "metadata": {},
   "outputs": [
    {
     "data": {
      "text/html": [
       "<div>\n",
       "<style scoped>\n",
       "    .dataframe tbody tr th:only-of-type {\n",
       "        vertical-align: middle;\n",
       "    }\n",
       "\n",
       "    .dataframe tbody tr th {\n",
       "        vertical-align: top;\n",
       "    }\n",
       "\n",
       "    .dataframe thead th {\n",
       "        text-align: right;\n",
       "    }\n",
       "</style>\n",
       "<table border=\"1\" class=\"dataframe\">\n",
       "  <thead>\n",
       "    <tr style=\"text-align: right;\">\n",
       "      <th></th>\n",
       "      <th>Gender</th>\n",
       "      <th>Height</th>\n",
       "      <th>Weight</th>\n",
       "      <th>zscore</th>\n",
       "    </tr>\n",
       "  </thead>\n",
       "  <tbody>\n",
       "    <tr>\n",
       "      <th>6624</th>\n",
       "      <td>Female</td>\n",
       "      <td>54.616858</td>\n",
       "      <td>71.393749</td>\n",
       "      <td>-3.054091</td>\n",
       "    </tr>\n",
       "    <tr>\n",
       "      <th>9285</th>\n",
       "      <td>Female</td>\n",
       "      <td>54.263133</td>\n",
       "      <td>64.700127</td>\n",
       "      <td>-3.146027</td>\n",
       "    </tr>\n",
       "  </tbody>\n",
       "</table>\n",
       "</div>"
      ],
      "text/plain": [
       "      Gender     Height     Weight    zscore\n",
       "6624  Female  54.616858  71.393749 -3.054091\n",
       "9285  Female  54.263133  64.700127 -3.146027"
      ]
     },
     "execution_count": 110,
     "metadata": {},
     "output_type": "execute_result"
    }
   ],
   "source": [
    "df[df['zscore']<-3]"
   ]
  },
  {
   "cell_type": "markdown",
   "id": "779e170b",
   "metadata": {},
   "source": [
    "# Exercise\n",
    "You are given bhp.csv which contains property prices in the city of banglore, India. You need to examine price_per_sqft column and do following,\n",
    "\n",
    "(1) Remove outliers using percentile technique first. Use [0.001, 0.999] for lower and upper bound percentiles\n",
    "\n",
    "(2) After removing outliers in step 1, you get a new dataframe.\n",
    "\n",
    "(3) On step(2) dataframe, use 4 standard deviation to remove outliers\n",
    "\n",
    "(4) Plot histogram for new dataframe that is generated after step (3). Also plot bell curve on same histogram\n",
    "\n",
    "(5) On step(2) dataframe, use zscore of 4 to remove outliers. This is quite similar to step (3) and you will get exact same result"
   ]
  },
  {
   "cell_type": "code",
   "execution_count": 111,
   "id": "ca8a6a2b",
   "metadata": {},
   "outputs": [
    {
     "data": {
      "text/html": [
       "<div>\n",
       "<style scoped>\n",
       "    .dataframe tbody tr th:only-of-type {\n",
       "        vertical-align: middle;\n",
       "    }\n",
       "\n",
       "    .dataframe tbody tr th {\n",
       "        vertical-align: top;\n",
       "    }\n",
       "\n",
       "    .dataframe thead th {\n",
       "        text-align: right;\n",
       "    }\n",
       "</style>\n",
       "<table border=\"1\" class=\"dataframe\">\n",
       "  <thead>\n",
       "    <tr style=\"text-align: right;\">\n",
       "      <th></th>\n",
       "      <th>area_type</th>\n",
       "      <th>availability</th>\n",
       "      <th>location</th>\n",
       "      <th>size</th>\n",
       "      <th>society</th>\n",
       "      <th>total_sqft</th>\n",
       "      <th>bath</th>\n",
       "      <th>balcony</th>\n",
       "      <th>price</th>\n",
       "    </tr>\n",
       "  </thead>\n",
       "  <tbody>\n",
       "    <tr>\n",
       "      <th>0</th>\n",
       "      <td>Super built-up  Area</td>\n",
       "      <td>19-Dec</td>\n",
       "      <td>Electronic City Phase II</td>\n",
       "      <td>2 BHK</td>\n",
       "      <td>Coomee</td>\n",
       "      <td>1056</td>\n",
       "      <td>2.0</td>\n",
       "      <td>1.0</td>\n",
       "      <td>39.07</td>\n",
       "    </tr>\n",
       "    <tr>\n",
       "      <th>1</th>\n",
       "      <td>Plot  Area</td>\n",
       "      <td>Ready To Move</td>\n",
       "      <td>Chikka Tirupathi</td>\n",
       "      <td>4 Bedroom</td>\n",
       "      <td>Theanmp</td>\n",
       "      <td>2600</td>\n",
       "      <td>5.0</td>\n",
       "      <td>3.0</td>\n",
       "      <td>120.00</td>\n",
       "    </tr>\n",
       "    <tr>\n",
       "      <th>2</th>\n",
       "      <td>Built-up  Area</td>\n",
       "      <td>Ready To Move</td>\n",
       "      <td>Uttarahalli</td>\n",
       "      <td>3 BHK</td>\n",
       "      <td>NaN</td>\n",
       "      <td>1440</td>\n",
       "      <td>2.0</td>\n",
       "      <td>3.0</td>\n",
       "      <td>62.00</td>\n",
       "    </tr>\n",
       "    <tr>\n",
       "      <th>3</th>\n",
       "      <td>Super built-up  Area</td>\n",
       "      <td>Ready To Move</td>\n",
       "      <td>Lingadheeranahalli</td>\n",
       "      <td>3 BHK</td>\n",
       "      <td>Soiewre</td>\n",
       "      <td>1521</td>\n",
       "      <td>3.0</td>\n",
       "      <td>1.0</td>\n",
       "      <td>95.00</td>\n",
       "    </tr>\n",
       "    <tr>\n",
       "      <th>4</th>\n",
       "      <td>Super built-up  Area</td>\n",
       "      <td>Ready To Move</td>\n",
       "      <td>Kothanur</td>\n",
       "      <td>2 BHK</td>\n",
       "      <td>NaN</td>\n",
       "      <td>1200</td>\n",
       "      <td>2.0</td>\n",
       "      <td>1.0</td>\n",
       "      <td>51.00</td>\n",
       "    </tr>\n",
       "  </tbody>\n",
       "</table>\n",
       "</div>"
      ],
      "text/plain": [
       "              area_type   availability                  location       size  \\\n",
       "0  Super built-up  Area         19-Dec  Electronic City Phase II      2 BHK   \n",
       "1            Plot  Area  Ready To Move          Chikka Tirupathi  4 Bedroom   \n",
       "2        Built-up  Area  Ready To Move               Uttarahalli      3 BHK   \n",
       "3  Super built-up  Area  Ready To Move        Lingadheeranahalli      3 BHK   \n",
       "4  Super built-up  Area  Ready To Move                  Kothanur      2 BHK   \n",
       "\n",
       "   society total_sqft  bath  balcony   price  \n",
       "0  Coomee        1056   2.0      1.0   39.07  \n",
       "1  Theanmp       2600   5.0      3.0  120.00  \n",
       "2      NaN       1440   2.0      3.0   62.00  \n",
       "3  Soiewre       1521   3.0      1.0   95.00  \n",
       "4      NaN       1200   2.0      1.0   51.00  "
      ]
     },
     "execution_count": 111,
     "metadata": {},
     "output_type": "execute_result"
    }
   ],
   "source": [
    "df = pd.read_csv(\"Bengaluru_House_Data.csv\")\n",
    "df.head()"
   ]
  },
  {
   "cell_type": "markdown",
   "id": "474ff07d",
   "metadata": {},
   "source": [
    "# (1) Outlier detection and removal using Standard Deviation"
   ]
  },
  {
   "cell_type": "code",
   "execution_count": 112,
   "id": "68f380cd",
   "metadata": {},
   "outputs": [
    {
     "data": {
      "text/html": [
       "<div>\n",
       "<style scoped>\n",
       "    .dataframe tbody tr th:only-of-type {\n",
       "        vertical-align: middle;\n",
       "    }\n",
       "\n",
       "    .dataframe tbody tr th {\n",
       "        vertical-align: top;\n",
       "    }\n",
       "\n",
       "    .dataframe thead th {\n",
       "        text-align: right;\n",
       "    }\n",
       "</style>\n",
       "<table border=\"1\" class=\"dataframe\">\n",
       "  <thead>\n",
       "    <tr style=\"text-align: right;\">\n",
       "      <th></th>\n",
       "      <th>bath</th>\n",
       "      <th>balcony</th>\n",
       "      <th>price</th>\n",
       "    </tr>\n",
       "  </thead>\n",
       "  <tbody>\n",
       "    <tr>\n",
       "      <th>count</th>\n",
       "      <td>13247.000000</td>\n",
       "      <td>12711.000000</td>\n",
       "      <td>13320.000000</td>\n",
       "    </tr>\n",
       "    <tr>\n",
       "      <th>mean</th>\n",
       "      <td>2.692610</td>\n",
       "      <td>1.584376</td>\n",
       "      <td>112.565627</td>\n",
       "    </tr>\n",
       "    <tr>\n",
       "      <th>std</th>\n",
       "      <td>1.341458</td>\n",
       "      <td>0.817263</td>\n",
       "      <td>148.971674</td>\n",
       "    </tr>\n",
       "    <tr>\n",
       "      <th>min</th>\n",
       "      <td>1.000000</td>\n",
       "      <td>0.000000</td>\n",
       "      <td>8.000000</td>\n",
       "    </tr>\n",
       "    <tr>\n",
       "      <th>25%</th>\n",
       "      <td>2.000000</td>\n",
       "      <td>1.000000</td>\n",
       "      <td>50.000000</td>\n",
       "    </tr>\n",
       "    <tr>\n",
       "      <th>50%</th>\n",
       "      <td>2.000000</td>\n",
       "      <td>2.000000</td>\n",
       "      <td>72.000000</td>\n",
       "    </tr>\n",
       "    <tr>\n",
       "      <th>75%</th>\n",
       "      <td>3.000000</td>\n",
       "      <td>2.000000</td>\n",
       "      <td>120.000000</td>\n",
       "    </tr>\n",
       "    <tr>\n",
       "      <th>max</th>\n",
       "      <td>40.000000</td>\n",
       "      <td>3.000000</td>\n",
       "      <td>3600.000000</td>\n",
       "    </tr>\n",
       "  </tbody>\n",
       "</table>\n",
       "</div>"
      ],
      "text/plain": [
       "               bath       balcony         price\n",
       "count  13247.000000  12711.000000  13320.000000\n",
       "mean       2.692610      1.584376    112.565627\n",
       "std        1.341458      0.817263    148.971674\n",
       "min        1.000000      0.000000      8.000000\n",
       "25%        2.000000      1.000000     50.000000\n",
       "50%        2.000000      2.000000     72.000000\n",
       "75%        3.000000      2.000000    120.000000\n",
       "max       40.000000      3.000000   3600.000000"
      ]
     },
     "execution_count": 112,
     "metadata": {},
     "output_type": "execute_result"
    }
   ],
   "source": [
    "df.describe()"
   ]
  },
  {
   "cell_type": "code",
   "execution_count": 113,
   "id": "52eaa698",
   "metadata": {},
   "outputs": [
    {
     "data": {
      "text/plain": [
       "<AxesSubplot:xlabel='Height', ylabel='Count'>"
      ]
     },
     "execution_count": 113,
     "metadata": {},
     "output_type": "execute_result"
    }
   ],
   "source": [
    "sn.histplot(df.price, kde=True)\n"
   ]
  },
  {
   "cell_type": "code",
   "execution_count": 114,
   "id": "e64a2661",
   "metadata": {},
   "outputs": [
    {
     "data": {
      "text/plain": [
       "112.56562650150138"
      ]
     },
     "execution_count": 114,
     "metadata": {},
     "output_type": "execute_result"
    }
   ],
   "source": [
    "mean = df.price.mean()\n",
    "mean"
   ]
  },
  {
   "cell_type": "code",
   "execution_count": 115,
   "id": "0fa006b4",
   "metadata": {},
   "outputs": [
    {
     "data": {
      "text/plain": [
       "148.9716737696744"
      ]
     },
     "execution_count": 115,
     "metadata": {},
     "output_type": "execute_result"
    }
   ],
   "source": [
    "std_deviation = df.price.std()\n",
    "std_deviation"
   ]
  },
  {
   "cell_type": "code",
   "execution_count": 116,
   "id": "4806d6c1",
   "metadata": {},
   "outputs": [
    {
     "data": {
      "text/plain": [
       "-334.3493948075218"
      ]
     },
     "execution_count": 116,
     "metadata": {},
     "output_type": "execute_result"
    }
   ],
   "source": [
    "mean-3*std_deviation"
   ]
  },
  {
   "cell_type": "code",
   "execution_count": 117,
   "id": "b2bbb388",
   "metadata": {},
   "outputs": [
    {
     "data": {
      "text/plain": [
       "559.4806478105246"
      ]
     },
     "execution_count": 117,
     "metadata": {},
     "output_type": "execute_result"
    }
   ],
   "source": [
    "mean+3*std_deviation"
   ]
  },
  {
   "cell_type": "code",
   "execution_count": 118,
   "id": "84f90727",
   "metadata": {},
   "outputs": [
    {
     "data": {
      "text/html": [
       "<div>\n",
       "<style scoped>\n",
       "    .dataframe tbody tr th:only-of-type {\n",
       "        vertical-align: middle;\n",
       "    }\n",
       "\n",
       "    .dataframe tbody tr th {\n",
       "        vertical-align: top;\n",
       "    }\n",
       "\n",
       "    .dataframe thead th {\n",
       "        text-align: right;\n",
       "    }\n",
       "</style>\n",
       "<table border=\"1\" class=\"dataframe\">\n",
       "  <thead>\n",
       "    <tr style=\"text-align: right;\">\n",
       "      <th></th>\n",
       "      <th>area_type</th>\n",
       "      <th>availability</th>\n",
       "      <th>location</th>\n",
       "      <th>size</th>\n",
       "      <th>society</th>\n",
       "      <th>total_sqft</th>\n",
       "      <th>bath</th>\n",
       "      <th>balcony</th>\n",
       "      <th>price</th>\n",
       "    </tr>\n",
       "  </thead>\n",
       "  <tbody>\n",
       "    <tr>\n",
       "      <th>7</th>\n",
       "      <td>Super built-up  Area</td>\n",
       "      <td>Ready To Move</td>\n",
       "      <td>Rajaji Nagar</td>\n",
       "      <td>4 BHK</td>\n",
       "      <td>Brway G</td>\n",
       "      <td>3300</td>\n",
       "      <td>4.0</td>\n",
       "      <td>NaN</td>\n",
       "      <td>600.0</td>\n",
       "    </tr>\n",
       "    <tr>\n",
       "      <th>62</th>\n",
       "      <td>Plot  Area</td>\n",
       "      <td>Ready To Move</td>\n",
       "      <td>Whitefield</td>\n",
       "      <td>4 Bedroom</td>\n",
       "      <td>Chranya</td>\n",
       "      <td>5700</td>\n",
       "      <td>5.0</td>\n",
       "      <td>3.0</td>\n",
       "      <td>650.0</td>\n",
       "    </tr>\n",
       "    <tr>\n",
       "      <th>159</th>\n",
       "      <td>Plot  Area</td>\n",
       "      <td>Ready To Move</td>\n",
       "      <td>Mahalakshmi Layout</td>\n",
       "      <td>4 Bedroom</td>\n",
       "      <td>NaN</td>\n",
       "      <td>3750</td>\n",
       "      <td>4.0</td>\n",
       "      <td>0.0</td>\n",
       "      <td>760.0</td>\n",
       "    </tr>\n",
       "    <tr>\n",
       "      <th>408</th>\n",
       "      <td>Super built-up  Area</td>\n",
       "      <td>19-Jan</td>\n",
       "      <td>Rajaji Nagar</td>\n",
       "      <td>7 BHK</td>\n",
       "      <td>NaN</td>\n",
       "      <td>12000</td>\n",
       "      <td>6.0</td>\n",
       "      <td>3.0</td>\n",
       "      <td>2200.0</td>\n",
       "    </tr>\n",
       "    <tr>\n",
       "      <th>440</th>\n",
       "      <td>Plot  Area</td>\n",
       "      <td>Ready To Move</td>\n",
       "      <td>Whitefield</td>\n",
       "      <td>4 Bedroom</td>\n",
       "      <td>NaN</td>\n",
       "      <td>11890</td>\n",
       "      <td>4.0</td>\n",
       "      <td>3.0</td>\n",
       "      <td>700.0</td>\n",
       "    </tr>\n",
       "    <tr>\n",
       "      <th>...</th>\n",
       "      <td>...</td>\n",
       "      <td>...</td>\n",
       "      <td>...</td>\n",
       "      <td>...</td>\n",
       "      <td>...</td>\n",
       "      <td>...</td>\n",
       "      <td>...</td>\n",
       "      <td>...</td>\n",
       "      <td>...</td>\n",
       "    </tr>\n",
       "    <tr>\n",
       "      <th>13086</th>\n",
       "      <td>Super built-up  Area</td>\n",
       "      <td>Ready To Move</td>\n",
       "      <td>Sindhi Colony</td>\n",
       "      <td>5 BHK</td>\n",
       "      <td>HMeuran</td>\n",
       "      <td>5665.84</td>\n",
       "      <td>7.0</td>\n",
       "      <td>NaN</td>\n",
       "      <td>988.0</td>\n",
       "    </tr>\n",
       "    <tr>\n",
       "      <th>13095</th>\n",
       "      <td>Super built-up  Area</td>\n",
       "      <td>Ready To Move</td>\n",
       "      <td>Sathya Sai Layout</td>\n",
       "      <td>4 BHK</td>\n",
       "      <td>Prowshi</td>\n",
       "      <td>6652</td>\n",
       "      <td>6.0</td>\n",
       "      <td>1.0</td>\n",
       "      <td>660.0</td>\n",
       "    </tr>\n",
       "    <tr>\n",
       "      <th>13119</th>\n",
       "      <td>Plot  Area</td>\n",
       "      <td>Ready To Move</td>\n",
       "      <td>Sathya Sai Layout</td>\n",
       "      <td>4 Bedroom</td>\n",
       "      <td>Prowshi</td>\n",
       "      <td>6688</td>\n",
       "      <td>6.0</td>\n",
       "      <td>1.0</td>\n",
       "      <td>700.0</td>\n",
       "    </tr>\n",
       "    <tr>\n",
       "      <th>13197</th>\n",
       "      <td>Plot  Area</td>\n",
       "      <td>Ready To Move</td>\n",
       "      <td>Ramakrishnappa Layout</td>\n",
       "      <td>4 Bedroom</td>\n",
       "      <td>NaN</td>\n",
       "      <td>9200</td>\n",
       "      <td>4.0</td>\n",
       "      <td>NaN</td>\n",
       "      <td>2600.0</td>\n",
       "    </tr>\n",
       "    <tr>\n",
       "      <th>13200</th>\n",
       "      <td>Plot  Area</td>\n",
       "      <td>Ready To Move</td>\n",
       "      <td>Defence Colony</td>\n",
       "      <td>6 Bedroom</td>\n",
       "      <td>NaN</td>\n",
       "      <td>8000</td>\n",
       "      <td>6.0</td>\n",
       "      <td>3.0</td>\n",
       "      <td>2800.0</td>\n",
       "    </tr>\n",
       "  </tbody>\n",
       "</table>\n",
       "<p>192 rows × 9 columns</p>\n",
       "</div>"
      ],
      "text/plain": [
       "                  area_type   availability               location       size  \\\n",
       "7      Super built-up  Area  Ready To Move           Rajaji Nagar      4 BHK   \n",
       "62               Plot  Area  Ready To Move             Whitefield  4 Bedroom   \n",
       "159              Plot  Area  Ready To Move     Mahalakshmi Layout  4 Bedroom   \n",
       "408    Super built-up  Area         19-Jan           Rajaji Nagar      7 BHK   \n",
       "440              Plot  Area  Ready To Move             Whitefield  4 Bedroom   \n",
       "...                     ...            ...                    ...        ...   \n",
       "13086  Super built-up  Area  Ready To Move          Sindhi Colony      5 BHK   \n",
       "13095  Super built-up  Area  Ready To Move      Sathya Sai Layout      4 BHK   \n",
       "13119            Plot  Area  Ready To Move      Sathya Sai Layout  4 Bedroom   \n",
       "13197            Plot  Area  Ready To Move  Ramakrishnappa Layout  4 Bedroom   \n",
       "13200            Plot  Area  Ready To Move         Defence Colony  6 Bedroom   \n",
       "\n",
       "       society total_sqft  bath  balcony   price  \n",
       "7      Brway G       3300   4.0      NaN   600.0  \n",
       "62     Chranya       5700   5.0      3.0   650.0  \n",
       "159        NaN       3750   4.0      0.0   760.0  \n",
       "408        NaN      12000   6.0      3.0  2200.0  \n",
       "440        NaN      11890   4.0      3.0   700.0  \n",
       "...        ...        ...   ...      ...     ...  \n",
       "13086  HMeuran    5665.84   7.0      NaN   988.0  \n",
       "13095  Prowshi       6652   6.0      1.0   660.0  \n",
       "13119  Prowshi       6688   6.0      1.0   700.0  \n",
       "13197      NaN       9200   4.0      NaN  2600.0  \n",
       "13200      NaN       8000   6.0      3.0  2800.0  \n",
       "\n",
       "[192 rows x 9 columns]"
      ]
     },
     "execution_count": 118,
     "metadata": {},
     "output_type": "execute_result"
    }
   ],
   "source": [
    "df[(df.price < -334.34) | (df.price > 559.48)]"
   ]
  },
  {
   "cell_type": "markdown",
   "id": "fe9a93d0",
   "metadata": {},
   "source": [
    "# (2) Outlier detection and removal using Z Score"
   ]
  },
  {
   "cell_type": "code",
   "execution_count": 119,
   "id": "1daf12ee",
   "metadata": {},
   "outputs": [
    {
     "data": {
      "text/html": [
       "<div>\n",
       "<style scoped>\n",
       "    .dataframe tbody tr th:only-of-type {\n",
       "        vertical-align: middle;\n",
       "    }\n",
       "\n",
       "    .dataframe tbody tr th {\n",
       "        vertical-align: top;\n",
       "    }\n",
       "\n",
       "    .dataframe thead th {\n",
       "        text-align: right;\n",
       "    }\n",
       "</style>\n",
       "<table border=\"1\" class=\"dataframe\">\n",
       "  <thead>\n",
       "    <tr style=\"text-align: right;\">\n",
       "      <th></th>\n",
       "      <th>area_type</th>\n",
       "      <th>availability</th>\n",
       "      <th>location</th>\n",
       "      <th>size</th>\n",
       "      <th>society</th>\n",
       "      <th>total_sqft</th>\n",
       "      <th>bath</th>\n",
       "      <th>balcony</th>\n",
       "      <th>price</th>\n",
       "      <th>zscore</th>\n",
       "    </tr>\n",
       "  </thead>\n",
       "  <tbody>\n",
       "    <tr>\n",
       "      <th>0</th>\n",
       "      <td>Super built-up  Area</td>\n",
       "      <td>19-Dec</td>\n",
       "      <td>Electronic City Phase II</td>\n",
       "      <td>2 BHK</td>\n",
       "      <td>Coomee</td>\n",
       "      <td>1056</td>\n",
       "      <td>2.0</td>\n",
       "      <td>1.0</td>\n",
       "      <td>39.07</td>\n",
       "      <td>-0.493353</td>\n",
       "    </tr>\n",
       "    <tr>\n",
       "      <th>1</th>\n",
       "      <td>Plot  Area</td>\n",
       "      <td>Ready To Move</td>\n",
       "      <td>Chikka Tirupathi</td>\n",
       "      <td>4 Bedroom</td>\n",
       "      <td>Theanmp</td>\n",
       "      <td>2600</td>\n",
       "      <td>5.0</td>\n",
       "      <td>3.0</td>\n",
       "      <td>120.00</td>\n",
       "      <td>0.049905</td>\n",
       "    </tr>\n",
       "    <tr>\n",
       "      <th>2</th>\n",
       "      <td>Built-up  Area</td>\n",
       "      <td>Ready To Move</td>\n",
       "      <td>Uttarahalli</td>\n",
       "      <td>3 BHK</td>\n",
       "      <td>NaN</td>\n",
       "      <td>1440</td>\n",
       "      <td>2.0</td>\n",
       "      <td>3.0</td>\n",
       "      <td>62.00</td>\n",
       "      <td>-0.339431</td>\n",
       "    </tr>\n",
       "    <tr>\n",
       "      <th>3</th>\n",
       "      <td>Super built-up  Area</td>\n",
       "      <td>Ready To Move</td>\n",
       "      <td>Lingadheeranahalli</td>\n",
       "      <td>3 BHK</td>\n",
       "      <td>Soiewre</td>\n",
       "      <td>1521</td>\n",
       "      <td>3.0</td>\n",
       "      <td>1.0</td>\n",
       "      <td>95.00</td>\n",
       "      <td>-0.117913</td>\n",
       "    </tr>\n",
       "    <tr>\n",
       "      <th>4</th>\n",
       "      <td>Super built-up  Area</td>\n",
       "      <td>Ready To Move</td>\n",
       "      <td>Kothanur</td>\n",
       "      <td>2 BHK</td>\n",
       "      <td>NaN</td>\n",
       "      <td>1200</td>\n",
       "      <td>2.0</td>\n",
       "      <td>1.0</td>\n",
       "      <td>51.00</td>\n",
       "      <td>-0.413271</td>\n",
       "    </tr>\n",
       "  </tbody>\n",
       "</table>\n",
       "</div>"
      ],
      "text/plain": [
       "              area_type   availability                  location       size  \\\n",
       "0  Super built-up  Area         19-Dec  Electronic City Phase II      2 BHK   \n",
       "1            Plot  Area  Ready To Move          Chikka Tirupathi  4 Bedroom   \n",
       "2        Built-up  Area  Ready To Move               Uttarahalli      3 BHK   \n",
       "3  Super built-up  Area  Ready To Move        Lingadheeranahalli      3 BHK   \n",
       "4  Super built-up  Area  Ready To Move                  Kothanur      2 BHK   \n",
       "\n",
       "   society total_sqft  bath  balcony   price    zscore  \n",
       "0  Coomee        1056   2.0      1.0   39.07 -0.493353  \n",
       "1  Theanmp       2600   5.0      3.0  120.00  0.049905  \n",
       "2      NaN       1440   2.0      3.0   62.00 -0.339431  \n",
       "3  Soiewre       1521   3.0      1.0   95.00 -0.117913  \n",
       "4      NaN       1200   2.0      1.0   51.00 -0.413271  "
      ]
     },
     "execution_count": 119,
     "metadata": {},
     "output_type": "execute_result"
    }
   ],
   "source": [
    "df['zscore'] = ( df.price - df.price.mean() ) / df.price.std()\n",
    "df.head(5)"
   ]
  },
  {
   "cell_type": "markdown",
   "id": "35c75169",
   "metadata": {},
   "source": [
    "Above for first record with price 39.07, z score is -0.493353. This means 39.07 is -0.493353 standard deviation away from mean"
   ]
  },
  {
   "cell_type": "code",
   "execution_count": 120,
   "id": "9ddc37ea",
   "metadata": {},
   "outputs": [
    {
     "data": {
      "text/plain": [
       "112.56562650150138"
      ]
     },
     "execution_count": 120,
     "metadata": {},
     "output_type": "execute_result"
    }
   ],
   "source": [
    "df.price.mean()"
   ]
  },
  {
   "cell_type": "code",
   "execution_count": 121,
   "id": "79818455",
   "metadata": {},
   "outputs": [
    {
     "data": {
      "text/plain": [
       "148.9716737696744"
      ]
     },
     "execution_count": 121,
     "metadata": {},
     "output_type": "execute_result"
    }
   ],
   "source": [
    "df.price.std()"
   ]
  },
  {
   "cell_type": "code",
   "execution_count": 122,
   "id": "eef56f54",
   "metadata": {},
   "outputs": [
    {
     "data": {
      "text/plain": [
       "-0.4933208028462107"
      ]
     },
     "execution_count": 122,
     "metadata": {},
     "output_type": "execute_result"
    }
   ],
   "source": [
    "(39.07-112.56)/148.97"
   ]
  },
  {
   "cell_type": "code",
   "execution_count": 123,
   "id": "3df56ed9",
   "metadata": {},
   "outputs": [
    {
     "data": {
      "text/html": [
       "<div>\n",
       "<style scoped>\n",
       "    .dataframe tbody tr th:only-of-type {\n",
       "        vertical-align: middle;\n",
       "    }\n",
       "\n",
       "    .dataframe tbody tr th {\n",
       "        vertical-align: top;\n",
       "    }\n",
       "\n",
       "    .dataframe thead th {\n",
       "        text-align: right;\n",
       "    }\n",
       "</style>\n",
       "<table border=\"1\" class=\"dataframe\">\n",
       "  <thead>\n",
       "    <tr style=\"text-align: right;\">\n",
       "      <th></th>\n",
       "      <th>area_type</th>\n",
       "      <th>availability</th>\n",
       "      <th>location</th>\n",
       "      <th>size</th>\n",
       "      <th>society</th>\n",
       "      <th>total_sqft</th>\n",
       "      <th>bath</th>\n",
       "      <th>balcony</th>\n",
       "      <th>price</th>\n",
       "      <th>zscore</th>\n",
       "    </tr>\n",
       "  </thead>\n",
       "  <tbody>\n",
       "    <tr>\n",
       "      <th>7</th>\n",
       "      <td>Super built-up  Area</td>\n",
       "      <td>Ready To Move</td>\n",
       "      <td>Rajaji Nagar</td>\n",
       "      <td>4 BHK</td>\n",
       "      <td>Brway G</td>\n",
       "      <td>3300</td>\n",
       "      <td>4.0</td>\n",
       "      <td>NaN</td>\n",
       "      <td>600.0</td>\n",
       "      <td>3.271994</td>\n",
       "    </tr>\n",
       "    <tr>\n",
       "      <th>62</th>\n",
       "      <td>Plot  Area</td>\n",
       "      <td>Ready To Move</td>\n",
       "      <td>Whitefield</td>\n",
       "      <td>4 Bedroom</td>\n",
       "      <td>Chranya</td>\n",
       "      <td>5700</td>\n",
       "      <td>5.0</td>\n",
       "      <td>3.0</td>\n",
       "      <td>650.0</td>\n",
       "      <td>3.607628</td>\n",
       "    </tr>\n",
       "    <tr>\n",
       "      <th>159</th>\n",
       "      <td>Plot  Area</td>\n",
       "      <td>Ready To Move</td>\n",
       "      <td>Mahalakshmi Layout</td>\n",
       "      <td>4 Bedroom</td>\n",
       "      <td>NaN</td>\n",
       "      <td>3750</td>\n",
       "      <td>4.0</td>\n",
       "      <td>0.0</td>\n",
       "      <td>760.0</td>\n",
       "      <td>4.346023</td>\n",
       "    </tr>\n",
       "    <tr>\n",
       "      <th>408</th>\n",
       "      <td>Super built-up  Area</td>\n",
       "      <td>19-Jan</td>\n",
       "      <td>Rajaji Nagar</td>\n",
       "      <td>7 BHK</td>\n",
       "      <td>NaN</td>\n",
       "      <td>12000</td>\n",
       "      <td>6.0</td>\n",
       "      <td>3.0</td>\n",
       "      <td>2200.0</td>\n",
       "      <td>14.012291</td>\n",
       "    </tr>\n",
       "    <tr>\n",
       "      <th>440</th>\n",
       "      <td>Plot  Area</td>\n",
       "      <td>Ready To Move</td>\n",
       "      <td>Whitefield</td>\n",
       "      <td>4 Bedroom</td>\n",
       "      <td>NaN</td>\n",
       "      <td>11890</td>\n",
       "      <td>4.0</td>\n",
       "      <td>3.0</td>\n",
       "      <td>700.0</td>\n",
       "      <td>3.943262</td>\n",
       "    </tr>\n",
       "    <tr>\n",
       "      <th>...</th>\n",
       "      <td>...</td>\n",
       "      <td>...</td>\n",
       "      <td>...</td>\n",
       "      <td>...</td>\n",
       "      <td>...</td>\n",
       "      <td>...</td>\n",
       "      <td>...</td>\n",
       "      <td>...</td>\n",
       "      <td>...</td>\n",
       "      <td>...</td>\n",
       "    </tr>\n",
       "    <tr>\n",
       "      <th>13086</th>\n",
       "      <td>Super built-up  Area</td>\n",
       "      <td>Ready To Move</td>\n",
       "      <td>Sindhi Colony</td>\n",
       "      <td>5 BHK</td>\n",
       "      <td>HMeuran</td>\n",
       "      <td>5665.84</td>\n",
       "      <td>7.0</td>\n",
       "      <td>NaN</td>\n",
       "      <td>988.0</td>\n",
       "      <td>5.876516</td>\n",
       "    </tr>\n",
       "    <tr>\n",
       "      <th>13095</th>\n",
       "      <td>Super built-up  Area</td>\n",
       "      <td>Ready To Move</td>\n",
       "      <td>Sathya Sai Layout</td>\n",
       "      <td>4 BHK</td>\n",
       "      <td>Prowshi</td>\n",
       "      <td>6652</td>\n",
       "      <td>6.0</td>\n",
       "      <td>1.0</td>\n",
       "      <td>660.0</td>\n",
       "      <td>3.674755</td>\n",
       "    </tr>\n",
       "    <tr>\n",
       "      <th>13119</th>\n",
       "      <td>Plot  Area</td>\n",
       "      <td>Ready To Move</td>\n",
       "      <td>Sathya Sai Layout</td>\n",
       "      <td>4 Bedroom</td>\n",
       "      <td>Prowshi</td>\n",
       "      <td>6688</td>\n",
       "      <td>6.0</td>\n",
       "      <td>1.0</td>\n",
       "      <td>700.0</td>\n",
       "      <td>3.943262</td>\n",
       "    </tr>\n",
       "    <tr>\n",
       "      <th>13197</th>\n",
       "      <td>Plot  Area</td>\n",
       "      <td>Ready To Move</td>\n",
       "      <td>Ramakrishnappa Layout</td>\n",
       "      <td>4 Bedroom</td>\n",
       "      <td>NaN</td>\n",
       "      <td>9200</td>\n",
       "      <td>4.0</td>\n",
       "      <td>NaN</td>\n",
       "      <td>2600.0</td>\n",
       "      <td>16.697365</td>\n",
       "    </tr>\n",
       "    <tr>\n",
       "      <th>13200</th>\n",
       "      <td>Plot  Area</td>\n",
       "      <td>Ready To Move</td>\n",
       "      <td>Defence Colony</td>\n",
       "      <td>6 Bedroom</td>\n",
       "      <td>NaN</td>\n",
       "      <td>8000</td>\n",
       "      <td>6.0</td>\n",
       "      <td>3.0</td>\n",
       "      <td>2800.0</td>\n",
       "      <td>18.039902</td>\n",
       "    </tr>\n",
       "  </tbody>\n",
       "</table>\n",
       "<p>192 rows × 10 columns</p>\n",
       "</div>"
      ],
      "text/plain": [
       "                  area_type   availability               location       size  \\\n",
       "7      Super built-up  Area  Ready To Move           Rajaji Nagar      4 BHK   \n",
       "62               Plot  Area  Ready To Move             Whitefield  4 Bedroom   \n",
       "159              Plot  Area  Ready To Move     Mahalakshmi Layout  4 Bedroom   \n",
       "408    Super built-up  Area         19-Jan           Rajaji Nagar      7 BHK   \n",
       "440              Plot  Area  Ready To Move             Whitefield  4 Bedroom   \n",
       "...                     ...            ...                    ...        ...   \n",
       "13086  Super built-up  Area  Ready To Move          Sindhi Colony      5 BHK   \n",
       "13095  Super built-up  Area  Ready To Move      Sathya Sai Layout      4 BHK   \n",
       "13119            Plot  Area  Ready To Move      Sathya Sai Layout  4 Bedroom   \n",
       "13197            Plot  Area  Ready To Move  Ramakrishnappa Layout  4 Bedroom   \n",
       "13200            Plot  Area  Ready To Move         Defence Colony  6 Bedroom   \n",
       "\n",
       "       society total_sqft  bath  balcony   price     zscore  \n",
       "7      Brway G       3300   4.0      NaN   600.0   3.271994  \n",
       "62     Chranya       5700   5.0      3.0   650.0   3.607628  \n",
       "159        NaN       3750   4.0      0.0   760.0   4.346023  \n",
       "408        NaN      12000   6.0      3.0  2200.0  14.012291  \n",
       "440        NaN      11890   4.0      3.0   700.0   3.943262  \n",
       "...        ...        ...   ...      ...     ...        ...  \n",
       "13086  HMeuran    5665.84   7.0      NaN   988.0   5.876516  \n",
       "13095  Prowshi       6652   6.0      1.0   660.0   3.674755  \n",
       "13119  Prowshi       6688   6.0      1.0   700.0   3.943262  \n",
       "13197      NaN       9200   4.0      NaN  2600.0  16.697365  \n",
       "13200      NaN       8000   6.0      3.0  2800.0  18.039902  \n",
       "\n",
       "[192 rows x 10 columns]"
      ]
     },
     "execution_count": 123,
     "metadata": {},
     "output_type": "execute_result"
    }
   ],
   "source": [
    "df[df['zscore']>3]"
   ]
  },
  {
   "cell_type": "code",
   "execution_count": 124,
   "id": "a7c16ddf",
   "metadata": {},
   "outputs": [
    {
     "data": {
      "text/html": [
       "<div>\n",
       "<style scoped>\n",
       "    .dataframe tbody tr th:only-of-type {\n",
       "        vertical-align: middle;\n",
       "    }\n",
       "\n",
       "    .dataframe tbody tr th {\n",
       "        vertical-align: top;\n",
       "    }\n",
       "\n",
       "    .dataframe thead th {\n",
       "        text-align: right;\n",
       "    }\n",
       "</style>\n",
       "<table border=\"1\" class=\"dataframe\">\n",
       "  <thead>\n",
       "    <tr style=\"text-align: right;\">\n",
       "      <th></th>\n",
       "      <th>area_type</th>\n",
       "      <th>availability</th>\n",
       "      <th>location</th>\n",
       "      <th>size</th>\n",
       "      <th>society</th>\n",
       "      <th>total_sqft</th>\n",
       "      <th>bath</th>\n",
       "      <th>balcony</th>\n",
       "      <th>price</th>\n",
       "      <th>zscore</th>\n",
       "    </tr>\n",
       "  </thead>\n",
       "  <tbody>\n",
       "  </tbody>\n",
       "</table>\n",
       "</div>"
      ],
      "text/plain": [
       "Empty DataFrame\n",
       "Columns: [area_type, availability, location, size, society, total_sqft, bath, balcony, price, zscore]\n",
       "Index: []"
      ]
     },
     "execution_count": 124,
     "metadata": {},
     "output_type": "execute_result"
    }
   ],
   "source": [
    "df[df['zscore']<-3]"
   ]
  },
  {
   "cell_type": "code",
   "execution_count": 125,
   "id": "b9fbb8f7",
   "metadata": {},
   "outputs": [
    {
     "data": {
      "image/png": "[encoded data removed]",
      "text/plain": [
       "<Figure size 640x480 with 1 Axes>"
      ]
     },
     "metadata": {},
     "output_type": "display_data"
    }
   ],
   "source": [
    "import seaborn as sns\n",
    "sns.boxplot(y=\"price\",data=df)\n",
    "plt.show()"
   ]
  },
  {
   "cell_type": "markdown",
   "id": "0c5329ef",
   "metadata": {},
   "source": [
    "# How to detect outliers and how to fill NaN values "
   ]
  },
  {
   "cell_type": "code",
   "execution_count": 2,
   "id": "b6621e84",
   "metadata": {},
   "outputs": [],
   "source": [
    "import pandas as pd\n",
    "import numpy as np"
   ]
  },
  {
   "cell_type": "code",
   "execution_count": 7,
   "id": "47c5fa39",
   "metadata": {},
   "outputs": [
    {
     "data": {
      "text/html": [
       "<div>\n",
       "<style scoped>\n",
       "    .dataframe tbody tr th:only-of-type {\n",
       "        vertical-align: middle;\n",
       "    }\n",
       "\n",
       "    .dataframe tbody tr th {\n",
       "        vertical-align: top;\n",
       "    }\n",
       "\n",
       "    .dataframe thead th {\n",
       "        text-align: right;\n",
       "    }\n",
       "</style>\n",
       "<table border=\"1\" class=\"dataframe\">\n",
       "  <thead>\n",
       "    <tr style=\"text-align: right;\">\n",
       "      <th></th>\n",
       "      <th>name</th>\n",
       "      <th>income</th>\n",
       "    </tr>\n",
       "  </thead>\n",
       "  <tbody>\n",
       "    <tr>\n",
       "      <th>0</th>\n",
       "      <td>Rob</td>\n",
       "      <td>5000</td>\n",
       "    </tr>\n",
       "    <tr>\n",
       "      <th>1</th>\n",
       "      <td>Rafiq</td>\n",
       "      <td>6000</td>\n",
       "    </tr>\n",
       "    <tr>\n",
       "      <th>2</th>\n",
       "      <td>Nina</td>\n",
       "      <td>4000</td>\n",
       "    </tr>\n",
       "    <tr>\n",
       "      <th>3</th>\n",
       "      <td>Sofia</td>\n",
       "      <td>7500</td>\n",
       "    </tr>\n",
       "    <tr>\n",
       "      <th>4</th>\n",
       "      <td>Mohan</td>\n",
       "      <td>8000</td>\n",
       "    </tr>\n",
       "    <tr>\n",
       "      <th>5</th>\n",
       "      <td>Tao</td>\n",
       "      <td>7000</td>\n",
       "    </tr>\n",
       "    <tr>\n",
       "      <th>6</th>\n",
       "      <td>Elon Musk</td>\n",
       "      <td>10000000</td>\n",
       "    </tr>\n",
       "  </tbody>\n",
       "</table>\n",
       "</div>"
      ],
      "text/plain": [
       "        name    income\n",
       "0        Rob      5000\n",
       "1      Rafiq      6000\n",
       "2       Nina      4000\n",
       "3      Sofia      7500\n",
       "4      Mohan      8000\n",
       "5        Tao      7000\n",
       "6  Elon Musk  10000000"
      ]
     },
     "execution_count": 7,
     "metadata": {},
     "output_type": "execute_result"
    }
   ],
   "source": [
    "df = pd.read_csv(\"Book1.csv\")\n",
    "df"
   ]
  },
  {
   "cell_type": "code",
   "execution_count": 8,
   "id": "05a50397",
   "metadata": {},
   "outputs": [
    {
     "data": {
      "text/plain": [
       "count    7.000000e+00\n",
       "mean     1.433929e+06\n",
       "std      3.777283e+06\n",
       "min      4.000000e+03\n",
       "25%      5.500000e+03\n",
       "50%      7.000000e+03\n",
       "75%      7.750000e+03\n",
       "max      1.000000e+07\n",
       "Name: income, dtype: float64"
      ]
     },
     "execution_count": 8,
     "metadata": {},
     "output_type": "execute_result"
    }
   ],
   "source": [
    "df.income.describe()"
   ]
  },
  {
   "cell_type": "code",
   "execution_count": 9,
   "id": "76c28b74",
   "metadata": {},
   "outputs": [
    {
     "data": {
      "text/plain": [
       "4000.0"
      ]
     },
     "execution_count": 9,
     "metadata": {},
     "output_type": "execute_result"
    }
   ],
   "source": [
    "df.income.quantile(0)"
   ]
  },
  {
   "cell_type": "code",
   "execution_count": 10,
   "id": "e2933683",
   "metadata": {},
   "outputs": [
    {
     "data": {
      "text/plain": [
       "6000"
      ]
     },
     "execution_count": 10,
     "metadata": {},
     "output_type": "execute_result"
    }
   ],
   "source": [
    "df.income.quantile(0.25,interpolation=\"higher\")"
   ]
  },
  {
   "cell_type": "code",
   "execution_count": 11,
   "id": "6dea4e09",
   "metadata": {},
   "outputs": [
    {
     "data": {
      "text/plain": [
       "7000"
      ]
     },
     "execution_count": 11,
     "metadata": {},
     "output_type": "execute_result"
    }
   ],
   "source": [
    "df.income.quantile(0.5,interpolation=\"higher\")"
   ]
  },
  {
   "cell_type": "code",
   "execution_count": 12,
   "id": "55626a78",
   "metadata": {},
   "outputs": [
    {
     "data": {
      "text/plain": [
       "7750.0"
      ]
     },
     "execution_count": 12,
     "metadata": {},
     "output_type": "execute_result"
    }
   ],
   "source": [
    "df.income.quantile(0.75)"
   ]
  },
  {
   "cell_type": "code",
   "execution_count": 13,
   "id": "9ee62839",
   "metadata": {},
   "outputs": [
    {
     "data": {
      "text/plain": [
       "10000000.0"
      ]
     },
     "execution_count": 13,
     "metadata": {},
     "output_type": "execute_result"
    }
   ],
   "source": [
    "df.income.quantile(1)"
   ]
  },
  {
   "cell_type": "code",
   "execution_count": 14,
   "id": "db8ae202",
   "metadata": {},
   "outputs": [
    {
     "data": {
      "text/plain": [
       "9400479.999999994"
      ]
     },
     "execution_count": 14,
     "metadata": {},
     "output_type": "execute_result"
    }
   ],
   "source": [
    "percentile_99 = df.income.quantile(0.99)\n",
    "percentile_99"
   ]
  },
  {
   "cell_type": "code",
   "execution_count": 15,
   "id": "8ed313ef",
   "metadata": {},
   "outputs": [
    {
     "data": {
      "text/html": [
       "<div>\n",
       "<style scoped>\n",
       "    .dataframe tbody tr th:only-of-type {\n",
       "        vertical-align: middle;\n",
       "    }\n",
       "\n",
       "    .dataframe tbody tr th {\n",
       "        vertical-align: top;\n",
       "    }\n",
       "\n",
       "    .dataframe thead th {\n",
       "        text-align: right;\n",
       "    }\n",
       "</style>\n",
       "<table border=\"1\" class=\"dataframe\">\n",
       "  <thead>\n",
       "    <tr style=\"text-align: right;\">\n",
       "      <th></th>\n",
       "      <th>name</th>\n",
       "      <th>income</th>\n",
       "    </tr>\n",
       "  </thead>\n",
       "  <tbody>\n",
       "    <tr>\n",
       "      <th>6</th>\n",
       "      <td>Elon Musk</td>\n",
       "      <td>10000000</td>\n",
       "    </tr>\n",
       "  </tbody>\n",
       "</table>\n",
       "</div>"
      ],
      "text/plain": [
       "        name    income\n",
       "6  Elon Musk  10000000"
      ]
     },
     "execution_count": 15,
     "metadata": {},
     "output_type": "execute_result"
    }
   ],
   "source": [
    "df[df.income>percentile_99]"
   ]
  },
  {
   "cell_type": "code",
   "execution_count": 16,
   "id": "a8c3398c",
   "metadata": {},
   "outputs": [
    {
     "data": {
      "text/html": [
       "<div>\n",
       "<style scoped>\n",
       "    .dataframe tbody tr th:only-of-type {\n",
       "        vertical-align: middle;\n",
       "    }\n",
       "\n",
       "    .dataframe tbody tr th {\n",
       "        vertical-align: top;\n",
       "    }\n",
       "\n",
       "    .dataframe thead th {\n",
       "        text-align: right;\n",
       "    }\n",
       "</style>\n",
       "<table border=\"1\" class=\"dataframe\">\n",
       "  <thead>\n",
       "    <tr style=\"text-align: right;\">\n",
       "      <th></th>\n",
       "      <th>name</th>\n",
       "      <th>income</th>\n",
       "    </tr>\n",
       "  </thead>\n",
       "  <tbody>\n",
       "    <tr>\n",
       "      <th>0</th>\n",
       "      <td>Rob</td>\n",
       "      <td>5000</td>\n",
       "    </tr>\n",
       "    <tr>\n",
       "      <th>1</th>\n",
       "      <td>Rafiq</td>\n",
       "      <td>6000</td>\n",
       "    </tr>\n",
       "    <tr>\n",
       "      <th>2</th>\n",
       "      <td>Nina</td>\n",
       "      <td>4000</td>\n",
       "    </tr>\n",
       "    <tr>\n",
       "      <th>3</th>\n",
       "      <td>Sofia</td>\n",
       "      <td>7500</td>\n",
       "    </tr>\n",
       "    <tr>\n",
       "      <th>4</th>\n",
       "      <td>Mohan</td>\n",
       "      <td>8000</td>\n",
       "    </tr>\n",
       "    <tr>\n",
       "      <th>5</th>\n",
       "      <td>Tao</td>\n",
       "      <td>7000</td>\n",
       "    </tr>\n",
       "    <tr>\n",
       "      <th>6</th>\n",
       "      <td>Elon Musk</td>\n",
       "      <td>10000000</td>\n",
       "    </tr>\n",
       "  </tbody>\n",
       "</table>\n",
       "</div>"
      ],
      "text/plain": [
       "        name    income\n",
       "0        Rob      5000\n",
       "1      Rafiq      6000\n",
       "2       Nina      4000\n",
       "3      Sofia      7500\n",
       "4      Mohan      8000\n",
       "5        Tao      7000\n",
       "6  Elon Musk  10000000"
      ]
     },
     "execution_count": 16,
     "metadata": {},
     "output_type": "execute_result"
    }
   ],
   "source": [
    "df"
   ]
  },
  {
   "cell_type": "code",
   "execution_count": 17,
   "id": "999b9e02",
   "metadata": {},
   "outputs": [
    {
     "name": "stderr",
     "output_type": "stream",
     "text": [
      "C:\\Users\\HP\\AppData\\Local\\Temp\\ipykernel_12776\\3054271026.py:1: SettingWithCopyWarning: \n",
      "A value is trying to be set on a copy of a slice from a DataFrame\n",
      "\n",
      "See the caveats in the documentation: https://pandas.pydata.org/pandas-docs/stable/user_guide/indexing.html#returning-a-view-versus-a-copy\n",
      "  df['income'][3]=np.NaN\n"
     ]
    }
   ],
   "source": [
    "df['income'][3]=np.NaN"
   ]
  },
  {
   "cell_type": "code",
   "execution_count": 18,
   "id": "2423633e",
   "metadata": {},
   "outputs": [
    {
     "data": {
      "text/html": [
       "<div>\n",
       "<style scoped>\n",
       "    .dataframe tbody tr th:only-of-type {\n",
       "        vertical-align: middle;\n",
       "    }\n",
       "\n",
       "    .dataframe tbody tr th {\n",
       "        vertical-align: top;\n",
       "    }\n",
       "\n",
       "    .dataframe thead th {\n",
       "        text-align: right;\n",
       "    }\n",
       "</style>\n",
       "<table border=\"1\" class=\"dataframe\">\n",
       "  <thead>\n",
       "    <tr style=\"text-align: right;\">\n",
       "      <th></th>\n",
       "      <th>name</th>\n",
       "      <th>income</th>\n",
       "    </tr>\n",
       "  </thead>\n",
       "  <tbody>\n",
       "    <tr>\n",
       "      <th>0</th>\n",
       "      <td>Rob</td>\n",
       "      <td>5000.0</td>\n",
       "    </tr>\n",
       "    <tr>\n",
       "      <th>1</th>\n",
       "      <td>Rafiq</td>\n",
       "      <td>6000.0</td>\n",
       "    </tr>\n",
       "    <tr>\n",
       "      <th>2</th>\n",
       "      <td>Nina</td>\n",
       "      <td>4000.0</td>\n",
       "    </tr>\n",
       "    <tr>\n",
       "      <th>3</th>\n",
       "      <td>Sofia</td>\n",
       "      <td>NaN</td>\n",
       "    </tr>\n",
       "    <tr>\n",
       "      <th>4</th>\n",
       "      <td>Mohan</td>\n",
       "      <td>8000.0</td>\n",
       "    </tr>\n",
       "    <tr>\n",
       "      <th>5</th>\n",
       "      <td>Tao</td>\n",
       "      <td>7000.0</td>\n",
       "    </tr>\n",
       "    <tr>\n",
       "      <th>6</th>\n",
       "      <td>Elon Musk</td>\n",
       "      <td>10000000.0</td>\n",
       "    </tr>\n",
       "  </tbody>\n",
       "</table>\n",
       "</div>"
      ],
      "text/plain": [
       "        name      income\n",
       "0        Rob      5000.0\n",
       "1      Rafiq      6000.0\n",
       "2       Nina      4000.0\n",
       "3      Sofia         NaN\n",
       "4      Mohan      8000.0\n",
       "5        Tao      7000.0\n",
       "6  Elon Musk  10000000.0"
      ]
     },
     "execution_count": 18,
     "metadata": {},
     "output_type": "execute_result"
    }
   ],
   "source": [
    "df"
   ]
  },
  {
   "cell_type": "code",
   "execution_count": 19,
   "id": "5ac8506c",
   "metadata": {},
   "outputs": [
    {
     "data": {
      "text/plain": [
       "1671666.6666666667"
      ]
     },
     "execution_count": 19,
     "metadata": {},
     "output_type": "execute_result"
    }
   ],
   "source": [
    "df.income.mean()"
   ]
  },
  {
   "cell_type": "code",
   "execution_count": 20,
   "id": "9587a858",
   "metadata": {},
   "outputs": [
    {
     "data": {
      "text/html": [
       "<div>\n",
       "<style scoped>\n",
       "    .dataframe tbody tr th:only-of-type {\n",
       "        vertical-align: middle;\n",
       "    }\n",
       "\n",
       "    .dataframe tbody tr th {\n",
       "        vertical-align: top;\n",
       "    }\n",
       "\n",
       "    .dataframe thead th {\n",
       "        text-align: right;\n",
       "    }\n",
       "</style>\n",
       "<table border=\"1\" class=\"dataframe\">\n",
       "  <thead>\n",
       "    <tr style=\"text-align: right;\">\n",
       "      <th></th>\n",
       "      <th>name</th>\n",
       "      <th>income</th>\n",
       "    </tr>\n",
       "  </thead>\n",
       "  <tbody>\n",
       "    <tr>\n",
       "      <th>0</th>\n",
       "      <td>Rob</td>\n",
       "      <td>5.000000e+03</td>\n",
       "    </tr>\n",
       "    <tr>\n",
       "      <th>1</th>\n",
       "      <td>Rafiq</td>\n",
       "      <td>6.000000e+03</td>\n",
       "    </tr>\n",
       "    <tr>\n",
       "      <th>2</th>\n",
       "      <td>Nina</td>\n",
       "      <td>4.000000e+03</td>\n",
       "    </tr>\n",
       "    <tr>\n",
       "      <th>3</th>\n",
       "      <td>Sofia</td>\n",
       "      <td>1.671667e+06</td>\n",
       "    </tr>\n",
       "    <tr>\n",
       "      <th>4</th>\n",
       "      <td>Mohan</td>\n",
       "      <td>8.000000e+03</td>\n",
       "    </tr>\n",
       "    <tr>\n",
       "      <th>5</th>\n",
       "      <td>Tao</td>\n",
       "      <td>7.000000e+03</td>\n",
       "    </tr>\n",
       "    <tr>\n",
       "      <th>6</th>\n",
       "      <td>Elon Musk</td>\n",
       "      <td>1.000000e+07</td>\n",
       "    </tr>\n",
       "  </tbody>\n",
       "</table>\n",
       "</div>"
      ],
      "text/plain": [
       "        name        income\n",
       "0        Rob  5.000000e+03\n",
       "1      Rafiq  6.000000e+03\n",
       "2       Nina  4.000000e+03\n",
       "3      Sofia  1.671667e+06\n",
       "4      Mohan  8.000000e+03\n",
       "5        Tao  7.000000e+03\n",
       "6  Elon Musk  1.000000e+07"
      ]
     },
     "execution_count": 20,
     "metadata": {},
     "output_type": "execute_result"
    }
   ],
   "source": [
    "df_new = df.fillna(df.income.mean())\n",
    "df_new"
   ]
  },
  {
   "cell_type": "code",
   "execution_count": 21,
   "id": "16e2cfca",
   "metadata": {},
   "outputs": [
    {
     "data": {
      "text/html": [
       "<div>\n",
       "<style scoped>\n",
       "    .dataframe tbody tr th:only-of-type {\n",
       "        vertical-align: middle;\n",
       "    }\n",
       "\n",
       "    .dataframe tbody tr th {\n",
       "        vertical-align: top;\n",
       "    }\n",
       "\n",
       "    .dataframe thead th {\n",
       "        text-align: right;\n",
       "    }\n",
       "</style>\n",
       "<table border=\"1\" class=\"dataframe\">\n",
       "  <thead>\n",
       "    <tr style=\"text-align: right;\">\n",
       "      <th></th>\n",
       "      <th>name</th>\n",
       "      <th>income</th>\n",
       "    </tr>\n",
       "  </thead>\n",
       "  <tbody>\n",
       "    <tr>\n",
       "      <th>0</th>\n",
       "      <td>Rob</td>\n",
       "      <td>5000.0</td>\n",
       "    </tr>\n",
       "    <tr>\n",
       "      <th>1</th>\n",
       "      <td>Rafiq</td>\n",
       "      <td>6000.0</td>\n",
       "    </tr>\n",
       "    <tr>\n",
       "      <th>2</th>\n",
       "      <td>Nina</td>\n",
       "      <td>4000.0</td>\n",
       "    </tr>\n",
       "    <tr>\n",
       "      <th>3</th>\n",
       "      <td>Sofia</td>\n",
       "      <td>6500.0</td>\n",
       "    </tr>\n",
       "    <tr>\n",
       "      <th>4</th>\n",
       "      <td>Mohan</td>\n",
       "      <td>8000.0</td>\n",
       "    </tr>\n",
       "    <tr>\n",
       "      <th>5</th>\n",
       "      <td>Tao</td>\n",
       "      <td>7000.0</td>\n",
       "    </tr>\n",
       "    <tr>\n",
       "      <th>6</th>\n",
       "      <td>Elon Musk</td>\n",
       "      <td>10000000.0</td>\n",
       "    </tr>\n",
       "  </tbody>\n",
       "</table>\n",
       "</div>"
      ],
      "text/plain": [
       "        name      income\n",
       "0        Rob      5000.0\n",
       "1      Rafiq      6000.0\n",
       "2       Nina      4000.0\n",
       "3      Sofia      6500.0\n",
       "4      Mohan      8000.0\n",
       "5        Tao      7000.0\n",
       "6  Elon Musk  10000000.0"
      ]
     },
     "execution_count": 21,
     "metadata": {},
     "output_type": "execute_result"
    }
   ],
   "source": [
    "df_new = df.fillna(df.income.median())\n",
    "df_new"
   ]
  },
  {
   "cell_type": "code",
   "execution_count": null,
   "id": "7c0e0019",
   "metadata": {},
   "outputs": [],
   "source": []
  },
  {
   "cell_type": "code",
   "execution_count": null,
   "id": "14ec6e89",
   "metadata": {},
   "outputs": [],
   "source": []
  },
  {
   "cell_type": "code",
   "execution_count": null,
   "id": "be622688",
   "metadata": {},
   "outputs": [],
   "source": []
  }
 ],
 "metadata": {
  "kernelspec": {
   "display_name": "Python 3 (ipykernel)",
   "language": "python",
   "name": "python3"
  },
  "language_info": {
   "codemirror_mode": {
    "name": "ipython",
    "version": 3
   },
   "file_extension": ".py",
   "mimetype": "text/x-python",
   "name": "python",
   "nbconvert_exporter": "python",
   "pygments_lexer": "ipython3",
   "version": "3.9.13"
  }
 },
 "nbformat": 4,
 "nbformat_minor": 5
}

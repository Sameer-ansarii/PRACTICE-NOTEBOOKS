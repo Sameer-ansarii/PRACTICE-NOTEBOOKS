{
 "cells": [
  {
   "cell_type": "markdown",
   "id": "462b86be",
   "metadata": {},
   "source": [
    "## predictive analysis - \n",
    "#1st method as SLR"
   ]
  },
  {
   "cell_type": "code",
   "execution_count": 2,
   "id": "2f063546",
   "metadata": {},
   "outputs": [],
   "source": [
    "import pandas as pd \n",
    "import numpy as np\n",
    "import matplotlib.pyplot as plt\n",
    "import seaborn as sns\n",
    "%matplotlib inline "
   ]
  },
  {
   "cell_type": "code",
   "execution_count": 3,
   "id": "b963558f",
   "metadata": {},
   "outputs": [],
   "source": [
    "#step 1 : collect/ extract / read data file \n",
    "#step 2 : pre - process the data and assigning/ectracting target features in the database \n",
    "#step 3 : breaking the data inti triainig (80%) and testing (20%) data\n",
    "#step 4 : build the model \n",
    "#step 5 : validate/measure the model"
   ]
  },
  {
   "cell_type": "code",
   "execution_count": 4,
   "id": "f439dc62",
   "metadata": {},
   "outputs": [],
   "source": [
    "df = pd.read_csv(\"D:/PBA/50_Startups 0102.csv\")"
   ]
  },
  {
   "cell_type": "code",
   "execution_count": 5,
   "id": "6d9a6872",
   "metadata": {},
   "outputs": [
    {
     "data": {
      "text/html": [
       "<div>\n",
       "<style scoped>\n",
       "    .dataframe tbody tr th:only-of-type {\n",
       "        vertical-align: middle;\n",
       "    }\n",
       "\n",
       "    .dataframe tbody tr th {\n",
       "        vertical-align: top;\n",
       "    }\n",
       "\n",
       "    .dataframe thead th {\n",
       "        text-align: right;\n",
       "    }\n",
       "</style>\n",
       "<table border=\"1\" class=\"dataframe\">\n",
       "  <thead>\n",
       "    <tr style=\"text-align: right;\">\n",
       "      <th></th>\n",
       "      <th>Startups</th>\n",
       "      <th>State</th>\n",
       "      <th>R&amp;D Spend</th>\n",
       "      <th>Administrative Spend</th>\n",
       "      <th>Marketing Spend</th>\n",
       "      <th>Total Expenditure</th>\n",
       "      <th>Profit</th>\n",
       "    </tr>\n",
       "  </thead>\n",
       "  <tbody>\n",
       "    <tr>\n",
       "      <th>0</th>\n",
       "      <td>S1</td>\n",
       "      <td>New York</td>\n",
       "      <td>165349.20</td>\n",
       "      <td>136897.80</td>\n",
       "      <td>471784.10</td>\n",
       "      <td>774031.10</td>\n",
       "      <td>192261.83</td>\n",
       "    </tr>\n",
       "    <tr>\n",
       "      <th>1</th>\n",
       "      <td>S2</td>\n",
       "      <td>California</td>\n",
       "      <td>162597.70</td>\n",
       "      <td>151377.59</td>\n",
       "      <td>443898.53</td>\n",
       "      <td>757873.82</td>\n",
       "      <td>191792.06</td>\n",
       "    </tr>\n",
       "    <tr>\n",
       "      <th>2</th>\n",
       "      <td>S3</td>\n",
       "      <td>Florida</td>\n",
       "      <td>153441.51</td>\n",
       "      <td>101145.55</td>\n",
       "      <td>407934.54</td>\n",
       "      <td>662521.60</td>\n",
       "      <td>191050.39</td>\n",
       "    </tr>\n",
       "    <tr>\n",
       "      <th>3</th>\n",
       "      <td>S4</td>\n",
       "      <td>New York</td>\n",
       "      <td>144372.41</td>\n",
       "      <td>118671.85</td>\n",
       "      <td>383199.62</td>\n",
       "      <td>646243.88</td>\n",
       "      <td>182901.99</td>\n",
       "    </tr>\n",
       "    <tr>\n",
       "      <th>4</th>\n",
       "      <td>S5</td>\n",
       "      <td>Florida</td>\n",
       "      <td>142107.34</td>\n",
       "      <td>91391.77</td>\n",
       "      <td>366168.42</td>\n",
       "      <td>599667.53</td>\n",
       "      <td>166187.94</td>\n",
       "    </tr>\n",
       "    <tr>\n",
       "      <th>5</th>\n",
       "      <td>S6</td>\n",
       "      <td>New York</td>\n",
       "      <td>131876.90</td>\n",
       "      <td>99814.71</td>\n",
       "      <td>362861.36</td>\n",
       "      <td>594552.97</td>\n",
       "      <td>156991.12</td>\n",
       "    </tr>\n",
       "    <tr>\n",
       "      <th>6</th>\n",
       "      <td>S7</td>\n",
       "      <td>California</td>\n",
       "      <td>134615.46</td>\n",
       "      <td>147198.87</td>\n",
       "      <td>127716.82</td>\n",
       "      <td>409531.15</td>\n",
       "      <td>156122.51</td>\n",
       "    </tr>\n",
       "    <tr>\n",
       "      <th>7</th>\n",
       "      <td>S8</td>\n",
       "      <td>Florida</td>\n",
       "      <td>130298.13</td>\n",
       "      <td>145530.06</td>\n",
       "      <td>323876.68</td>\n",
       "      <td>599704.87</td>\n",
       "      <td>155752.60</td>\n",
       "    </tr>\n",
       "    <tr>\n",
       "      <th>8</th>\n",
       "      <td>S9</td>\n",
       "      <td>New York</td>\n",
       "      <td>120542.52</td>\n",
       "      <td>148718.95</td>\n",
       "      <td>311613.29</td>\n",
       "      <td>580874.76</td>\n",
       "      <td>152211.77</td>\n",
       "    </tr>\n",
       "    <tr>\n",
       "      <th>9</th>\n",
       "      <td>S10</td>\n",
       "      <td>California</td>\n",
       "      <td>123334.88</td>\n",
       "      <td>108679.17</td>\n",
       "      <td>304981.62</td>\n",
       "      <td>536995.67</td>\n",
       "      <td>149759.96</td>\n",
       "    </tr>\n",
       "    <tr>\n",
       "      <th>10</th>\n",
       "      <td>S11</td>\n",
       "      <td>Florida</td>\n",
       "      <td>101913.08</td>\n",
       "      <td>110594.11</td>\n",
       "      <td>229160.95</td>\n",
       "      <td>441668.14</td>\n",
       "      <td>146121.95</td>\n",
       "    </tr>\n",
       "    <tr>\n",
       "      <th>11</th>\n",
       "      <td>S12</td>\n",
       "      <td>California</td>\n",
       "      <td>100671.96</td>\n",
       "      <td>91790.61</td>\n",
       "      <td>249744.55</td>\n",
       "      <td>442207.12</td>\n",
       "      <td>144259.40</td>\n",
       "    </tr>\n",
       "    <tr>\n",
       "      <th>12</th>\n",
       "      <td>S13</td>\n",
       "      <td>Florida</td>\n",
       "      <td>93863.75</td>\n",
       "      <td>127320.38</td>\n",
       "      <td>249839.44</td>\n",
       "      <td>471023.57</td>\n",
       "      <td>141585.52</td>\n",
       "    </tr>\n",
       "    <tr>\n",
       "      <th>13</th>\n",
       "      <td>S14</td>\n",
       "      <td>California</td>\n",
       "      <td>91992.39</td>\n",
       "      <td>135495.07</td>\n",
       "      <td>252664.93</td>\n",
       "      <td>480152.39</td>\n",
       "      <td>134307.35</td>\n",
       "    </tr>\n",
       "    <tr>\n",
       "      <th>14</th>\n",
       "      <td>S15</td>\n",
       "      <td>Florida</td>\n",
       "      <td>119943.24</td>\n",
       "      <td>156547.42</td>\n",
       "      <td>256512.92</td>\n",
       "      <td>533003.58</td>\n",
       "      <td>132602.65</td>\n",
       "    </tr>\n",
       "    <tr>\n",
       "      <th>15</th>\n",
       "      <td>S16</td>\n",
       "      <td>New York</td>\n",
       "      <td>114523.61</td>\n",
       "      <td>122616.84</td>\n",
       "      <td>261776.23</td>\n",
       "      <td>498916.68</td>\n",
       "      <td>129917.04</td>\n",
       "    </tr>\n",
       "    <tr>\n",
       "      <th>16</th>\n",
       "      <td>S17</td>\n",
       "      <td>California</td>\n",
       "      <td>78013.11</td>\n",
       "      <td>121597.55</td>\n",
       "      <td>264346.06</td>\n",
       "      <td>463956.72</td>\n",
       "      <td>126992.93</td>\n",
       "    </tr>\n",
       "    <tr>\n",
       "      <th>17</th>\n",
       "      <td>S18</td>\n",
       "      <td>New York</td>\n",
       "      <td>94657.16</td>\n",
       "      <td>145077.58</td>\n",
       "      <td>282574.31</td>\n",
       "      <td>522309.05</td>\n",
       "      <td>125370.37</td>\n",
       "    </tr>\n",
       "    <tr>\n",
       "      <th>18</th>\n",
       "      <td>S19</td>\n",
       "      <td>Florida</td>\n",
       "      <td>91749.16</td>\n",
       "      <td>114175.79</td>\n",
       "      <td>294919.57</td>\n",
       "      <td>500844.52</td>\n",
       "      <td>124266.90</td>\n",
       "    </tr>\n",
       "    <tr>\n",
       "      <th>19</th>\n",
       "      <td>S20</td>\n",
       "      <td>New York</td>\n",
       "      <td>86419.70</td>\n",
       "      <td>153514.11</td>\n",
       "      <td>0.00</td>\n",
       "      <td>239933.81</td>\n",
       "      <td>122776.86</td>\n",
       "    </tr>\n",
       "    <tr>\n",
       "      <th>20</th>\n",
       "      <td>S21</td>\n",
       "      <td>California</td>\n",
       "      <td>76253.86</td>\n",
       "      <td>113867.30</td>\n",
       "      <td>298664.47</td>\n",
       "      <td>488785.63</td>\n",
       "      <td>118474.03</td>\n",
       "    </tr>\n",
       "    <tr>\n",
       "      <th>21</th>\n",
       "      <td>S22</td>\n",
       "      <td>New York</td>\n",
       "      <td>78389.47</td>\n",
       "      <td>153773.43</td>\n",
       "      <td>299737.29</td>\n",
       "      <td>531900.19</td>\n",
       "      <td>111313.02</td>\n",
       "    </tr>\n",
       "    <tr>\n",
       "      <th>22</th>\n",
       "      <td>S23</td>\n",
       "      <td>Florida</td>\n",
       "      <td>73994.56</td>\n",
       "      <td>122782.75</td>\n",
       "      <td>303319.26</td>\n",
       "      <td>500096.57</td>\n",
       "      <td>110352.25</td>\n",
       "    </tr>\n",
       "    <tr>\n",
       "      <th>23</th>\n",
       "      <td>S24</td>\n",
       "      <td>Florida</td>\n",
       "      <td>67532.53</td>\n",
       "      <td>105751.03</td>\n",
       "      <td>304768.73</td>\n",
       "      <td>478052.29</td>\n",
       "      <td>108733.99</td>\n",
       "    </tr>\n",
       "    <tr>\n",
       "      <th>24</th>\n",
       "      <td>S25</td>\n",
       "      <td>New York</td>\n",
       "      <td>77044.01</td>\n",
       "      <td>99281.34</td>\n",
       "      <td>140574.81</td>\n",
       "      <td>316900.16</td>\n",
       "      <td>108552.04</td>\n",
       "    </tr>\n",
       "    <tr>\n",
       "      <th>25</th>\n",
       "      <td>S26</td>\n",
       "      <td>California</td>\n",
       "      <td>64664.71</td>\n",
       "      <td>139553.16</td>\n",
       "      <td>137962.62</td>\n",
       "      <td>342180.49</td>\n",
       "      <td>107404.34</td>\n",
       "    </tr>\n",
       "    <tr>\n",
       "      <th>26</th>\n",
       "      <td>S27</td>\n",
       "      <td>Florida</td>\n",
       "      <td>75328.87</td>\n",
       "      <td>144135.98</td>\n",
       "      <td>134050.07</td>\n",
       "      <td>353514.92</td>\n",
       "      <td>105733.54</td>\n",
       "    </tr>\n",
       "    <tr>\n",
       "      <th>27</th>\n",
       "      <td>S28</td>\n",
       "      <td>New York</td>\n",
       "      <td>72107.60</td>\n",
       "      <td>127864.55</td>\n",
       "      <td>353183.81</td>\n",
       "      <td>553155.96</td>\n",
       "      <td>105008.31</td>\n",
       "    </tr>\n",
       "    <tr>\n",
       "      <th>28</th>\n",
       "      <td>S29</td>\n",
       "      <td>Florida</td>\n",
       "      <td>66051.52</td>\n",
       "      <td>182645.56</td>\n",
       "      <td>118148.20</td>\n",
       "      <td>366845.28</td>\n",
       "      <td>103282.38</td>\n",
       "    </tr>\n",
       "    <tr>\n",
       "      <th>29</th>\n",
       "      <td>S30</td>\n",
       "      <td>New York</td>\n",
       "      <td>65605.48</td>\n",
       "      <td>153032.06</td>\n",
       "      <td>107138.38</td>\n",
       "      <td>325775.92</td>\n",
       "      <td>101004.64</td>\n",
       "    </tr>\n",
       "    <tr>\n",
       "      <th>30</th>\n",
       "      <td>S31</td>\n",
       "      <td>Florida</td>\n",
       "      <td>61994.48</td>\n",
       "      <td>115641.28</td>\n",
       "      <td>91131.24</td>\n",
       "      <td>268767.00</td>\n",
       "      <td>99937.59</td>\n",
       "    </tr>\n",
       "    <tr>\n",
       "      <th>31</th>\n",
       "      <td>S32</td>\n",
       "      <td>New York</td>\n",
       "      <td>61136.38</td>\n",
       "      <td>152701.92</td>\n",
       "      <td>88218.23</td>\n",
       "      <td>302056.53</td>\n",
       "      <td>97483.56</td>\n",
       "    </tr>\n",
       "    <tr>\n",
       "      <th>32</th>\n",
       "      <td>S33</td>\n",
       "      <td>California</td>\n",
       "      <td>63408.86</td>\n",
       "      <td>129219.61</td>\n",
       "      <td>46085.25</td>\n",
       "      <td>238713.72</td>\n",
       "      <td>97427.84</td>\n",
       "    </tr>\n",
       "    <tr>\n",
       "      <th>33</th>\n",
       "      <td>S34</td>\n",
       "      <td>Florida</td>\n",
       "      <td>55493.95</td>\n",
       "      <td>103057.49</td>\n",
       "      <td>214634.81</td>\n",
       "      <td>373186.25</td>\n",
       "      <td>96778.92</td>\n",
       "    </tr>\n",
       "    <tr>\n",
       "      <th>34</th>\n",
       "      <td>S35</td>\n",
       "      <td>California</td>\n",
       "      <td>46426.07</td>\n",
       "      <td>157693.92</td>\n",
       "      <td>210797.67</td>\n",
       "      <td>414917.66</td>\n",
       "      <td>96712.80</td>\n",
       "    </tr>\n",
       "    <tr>\n",
       "      <th>35</th>\n",
       "      <td>S36</td>\n",
       "      <td>New York</td>\n",
       "      <td>46014.02</td>\n",
       "      <td>85047.44</td>\n",
       "      <td>205517.64</td>\n",
       "      <td>336579.10</td>\n",
       "      <td>96479.51</td>\n",
       "    </tr>\n",
       "    <tr>\n",
       "      <th>36</th>\n",
       "      <td>S37</td>\n",
       "      <td>Florida</td>\n",
       "      <td>28663.76</td>\n",
       "      <td>127056.21</td>\n",
       "      <td>201126.82</td>\n",
       "      <td>356846.79</td>\n",
       "      <td>90708.19</td>\n",
       "    </tr>\n",
       "    <tr>\n",
       "      <th>37</th>\n",
       "      <td>S38</td>\n",
       "      <td>California</td>\n",
       "      <td>44069.95</td>\n",
       "      <td>51283.14</td>\n",
       "      <td>197029.42</td>\n",
       "      <td>292382.51</td>\n",
       "      <td>89949.14</td>\n",
       "    </tr>\n",
       "    <tr>\n",
       "      <th>38</th>\n",
       "      <td>S39</td>\n",
       "      <td>New York</td>\n",
       "      <td>20229.59</td>\n",
       "      <td>65947.93</td>\n",
       "      <td>185265.10</td>\n",
       "      <td>271442.62</td>\n",
       "      <td>81229.06</td>\n",
       "    </tr>\n",
       "    <tr>\n",
       "      <th>39</th>\n",
       "      <td>S40</td>\n",
       "      <td>California</td>\n",
       "      <td>38558.51</td>\n",
       "      <td>82982.09</td>\n",
       "      <td>174999.30</td>\n",
       "      <td>296539.90</td>\n",
       "      <td>81005.76</td>\n",
       "    </tr>\n",
       "    <tr>\n",
       "      <th>40</th>\n",
       "      <td>S41</td>\n",
       "      <td>California</td>\n",
       "      <td>28754.33</td>\n",
       "      <td>118546.05</td>\n",
       "      <td>172795.67</td>\n",
       "      <td>320096.05</td>\n",
       "      <td>78239.91</td>\n",
       "    </tr>\n",
       "    <tr>\n",
       "      <th>41</th>\n",
       "      <td>S42</td>\n",
       "      <td>Florida</td>\n",
       "      <td>27892.92</td>\n",
       "      <td>84710.77</td>\n",
       "      <td>164470.71</td>\n",
       "      <td>277074.40</td>\n",
       "      <td>77798.83</td>\n",
       "    </tr>\n",
       "    <tr>\n",
       "      <th>42</th>\n",
       "      <td>S43</td>\n",
       "      <td>California</td>\n",
       "      <td>23640.93</td>\n",
       "      <td>96189.63</td>\n",
       "      <td>148001.11</td>\n",
       "      <td>267831.67</td>\n",
       "      <td>71498.49</td>\n",
       "    </tr>\n",
       "    <tr>\n",
       "      <th>43</th>\n",
       "      <td>S44</td>\n",
       "      <td>New York</td>\n",
       "      <td>15505.73</td>\n",
       "      <td>127382.30</td>\n",
       "      <td>35534.17</td>\n",
       "      <td>178422.20</td>\n",
       "      <td>69758.98</td>\n",
       "    </tr>\n",
       "    <tr>\n",
       "      <th>44</th>\n",
       "      <td>S45</td>\n",
       "      <td>California</td>\n",
       "      <td>22177.74</td>\n",
       "      <td>154806.14</td>\n",
       "      <td>28334.72</td>\n",
       "      <td>205318.60</td>\n",
       "      <td>65200.33</td>\n",
       "    </tr>\n",
       "    <tr>\n",
       "      <th>45</th>\n",
       "      <td>S46</td>\n",
       "      <td>New York</td>\n",
       "      <td>1000.23</td>\n",
       "      <td>124153.04</td>\n",
       "      <td>1903.93</td>\n",
       "      <td>127057.20</td>\n",
       "      <td>64926.08</td>\n",
       "    </tr>\n",
       "    <tr>\n",
       "      <th>46</th>\n",
       "      <td>S47</td>\n",
       "      <td>Florida</td>\n",
       "      <td>1315.46</td>\n",
       "      <td>115816.21</td>\n",
       "      <td>297114.46</td>\n",
       "      <td>414246.13</td>\n",
       "      <td>49490.75</td>\n",
       "    </tr>\n",
       "    <tr>\n",
       "      <th>47</th>\n",
       "      <td>S48</td>\n",
       "      <td>California</td>\n",
       "      <td>0.00</td>\n",
       "      <td>135426.92</td>\n",
       "      <td>0.00</td>\n",
       "      <td>135426.92</td>\n",
       "      <td>42559.73</td>\n",
       "    </tr>\n",
       "    <tr>\n",
       "      <th>48</th>\n",
       "      <td>S49</td>\n",
       "      <td>New York</td>\n",
       "      <td>542.05</td>\n",
       "      <td>51743.15</td>\n",
       "      <td>0.00</td>\n",
       "      <td>52285.20</td>\n",
       "      <td>35673.41</td>\n",
       "    </tr>\n",
       "    <tr>\n",
       "      <th>49</th>\n",
       "      <td>S50</td>\n",
       "      <td>California</td>\n",
       "      <td>0.00</td>\n",
       "      <td>116983.80</td>\n",
       "      <td>45173.06</td>\n",
       "      <td>162156.86</td>\n",
       "      <td>14681.40</td>\n",
       "    </tr>\n",
       "  </tbody>\n",
       "</table>\n",
       "</div>"
      ],
      "text/plain": [
       "   Startups       State  R&D Spend  Administrative Spend  Marketing Spend  \\\n",
       "0        S1    New York  165349.20             136897.80        471784.10   \n",
       "1        S2  California  162597.70             151377.59        443898.53   \n",
       "2        S3     Florida  153441.51             101145.55        407934.54   \n",
       "3        S4    New York  144372.41             118671.85        383199.62   \n",
       "4        S5     Florida  142107.34              91391.77        366168.42   \n",
       "5        S6    New York  131876.90              99814.71        362861.36   \n",
       "6        S7  California  134615.46             147198.87        127716.82   \n",
       "7        S8     Florida  130298.13             145530.06        323876.68   \n",
       "8        S9    New York  120542.52             148718.95        311613.29   \n",
       "9       S10  California  123334.88             108679.17        304981.62   \n",
       "10      S11     Florida  101913.08             110594.11        229160.95   \n",
       "11      S12  California  100671.96              91790.61        249744.55   \n",
       "12      S13     Florida   93863.75             127320.38        249839.44   \n",
       "13      S14  California   91992.39             135495.07        252664.93   \n",
       "14      S15     Florida  119943.24             156547.42        256512.92   \n",
       "15      S16    New York  114523.61             122616.84        261776.23   \n",
       "16      S17  California   78013.11             121597.55        264346.06   \n",
       "17      S18    New York   94657.16             145077.58        282574.31   \n",
       "18      S19     Florida   91749.16             114175.79        294919.57   \n",
       "19      S20    New York   86419.70             153514.11             0.00   \n",
       "20      S21  California   76253.86             113867.30        298664.47   \n",
       "21      S22    New York   78389.47             153773.43        299737.29   \n",
       "22      S23     Florida   73994.56             122782.75        303319.26   \n",
       "23      S24     Florida   67532.53             105751.03        304768.73   \n",
       "24      S25    New York   77044.01              99281.34        140574.81   \n",
       "25      S26  California   64664.71             139553.16        137962.62   \n",
       "26      S27     Florida   75328.87             144135.98        134050.07   \n",
       "27      S28    New York   72107.60             127864.55        353183.81   \n",
       "28      S29     Florida   66051.52             182645.56        118148.20   \n",
       "29      S30    New York   65605.48             153032.06        107138.38   \n",
       "30      S31     Florida   61994.48             115641.28         91131.24   \n",
       "31      S32    New York   61136.38             152701.92         88218.23   \n",
       "32      S33  California   63408.86             129219.61         46085.25   \n",
       "33      S34     Florida   55493.95             103057.49        214634.81   \n",
       "34      S35  California   46426.07             157693.92        210797.67   \n",
       "35      S36    New York   46014.02              85047.44        205517.64   \n",
       "36      S37     Florida   28663.76             127056.21        201126.82   \n",
       "37      S38  California   44069.95              51283.14        197029.42   \n",
       "38      S39    New York   20229.59              65947.93        185265.10   \n",
       "39      S40  California   38558.51              82982.09        174999.30   \n",
       "40      S41  California   28754.33             118546.05        172795.67   \n",
       "41      S42     Florida   27892.92              84710.77        164470.71   \n",
       "42      S43  California   23640.93              96189.63        148001.11   \n",
       "43      S44    New York   15505.73             127382.30         35534.17   \n",
       "44      S45  California   22177.74             154806.14         28334.72   \n",
       "45      S46    New York    1000.23             124153.04          1903.93   \n",
       "46      S47     Florida    1315.46             115816.21        297114.46   \n",
       "47      S48  California       0.00             135426.92             0.00   \n",
       "48      S49    New York     542.05              51743.15             0.00   \n",
       "49      S50  California       0.00             116983.80         45173.06   \n",
       "\n",
       "    Total Expenditure     Profit  \n",
       "0           774031.10  192261.83  \n",
       "1           757873.82  191792.06  \n",
       "2           662521.60  191050.39  \n",
       "3           646243.88  182901.99  \n",
       "4           599667.53  166187.94  \n",
       "5           594552.97  156991.12  \n",
       "6           409531.15  156122.51  \n",
       "7           599704.87  155752.60  \n",
       "8           580874.76  152211.77  \n",
       "9           536995.67  149759.96  \n",
       "10          441668.14  146121.95  \n",
       "11          442207.12  144259.40  \n",
       "12          471023.57  141585.52  \n",
       "13          480152.39  134307.35  \n",
       "14          533003.58  132602.65  \n",
       "15          498916.68  129917.04  \n",
       "16          463956.72  126992.93  \n",
       "17          522309.05  125370.37  \n",
       "18          500844.52  124266.90  \n",
       "19          239933.81  122776.86  \n",
       "20          488785.63  118474.03  \n",
       "21          531900.19  111313.02  \n",
       "22          500096.57  110352.25  \n",
       "23          478052.29  108733.99  \n",
       "24          316900.16  108552.04  \n",
       "25          342180.49  107404.34  \n",
       "26          353514.92  105733.54  \n",
       "27          553155.96  105008.31  \n",
       "28          366845.28  103282.38  \n",
       "29          325775.92  101004.64  \n",
       "30          268767.00   99937.59  \n",
       "31          302056.53   97483.56  \n",
       "32          238713.72   97427.84  \n",
       "33          373186.25   96778.92  \n",
       "34          414917.66   96712.80  \n",
       "35          336579.10   96479.51  \n",
       "36          356846.79   90708.19  \n",
       "37          292382.51   89949.14  \n",
       "38          271442.62   81229.06  \n",
       "39          296539.90   81005.76  \n",
       "40          320096.05   78239.91  \n",
       "41          277074.40   77798.83  \n",
       "42          267831.67   71498.49  \n",
       "43          178422.20   69758.98  \n",
       "44          205318.60   65200.33  \n",
       "45          127057.20   64926.08  \n",
       "46          414246.13   49490.75  \n",
       "47          135426.92   42559.73  \n",
       "48           52285.20   35673.41  \n",
       "49          162156.86   14681.40  "
      ]
     },
     "execution_count": 5,
     "metadata": {},
     "output_type": "execute_result"
    }
   ],
   "source": [
    "df"
   ]
  },
  {
   "cell_type": "code",
   "execution_count": 6,
   "id": "6ea6b362",
   "metadata": {},
   "outputs": [
    {
     "data": {
      "text/html": [
       "<div>\n",
       "<style scoped>\n",
       "    .dataframe tbody tr th:only-of-type {\n",
       "        vertical-align: middle;\n",
       "    }\n",
       "\n",
       "    .dataframe tbody tr th {\n",
       "        vertical-align: top;\n",
       "    }\n",
       "\n",
       "    .dataframe thead th {\n",
       "        text-align: right;\n",
       "    }\n",
       "</style>\n",
       "<table border=\"1\" class=\"dataframe\">\n",
       "  <thead>\n",
       "    <tr style=\"text-align: right;\">\n",
       "      <th></th>\n",
       "      <th>Startups</th>\n",
       "      <th>State</th>\n",
       "      <th>R&amp;D Spend</th>\n",
       "      <th>Administrative Spend</th>\n",
       "      <th>Marketing Spend</th>\n",
       "      <th>Total Expenditure</th>\n",
       "      <th>Profit</th>\n",
       "    </tr>\n",
       "  </thead>\n",
       "  <tbody>\n",
       "    <tr>\n",
       "      <th>0</th>\n",
       "      <td>S1</td>\n",
       "      <td>New York</td>\n",
       "      <td>165349.2</td>\n",
       "      <td>136897.80</td>\n",
       "      <td>471784.10</td>\n",
       "      <td>774031.10</td>\n",
       "      <td>192261.83</td>\n",
       "    </tr>\n",
       "    <tr>\n",
       "      <th>1</th>\n",
       "      <td>S2</td>\n",
       "      <td>California</td>\n",
       "      <td>162597.7</td>\n",
       "      <td>151377.59</td>\n",
       "      <td>443898.53</td>\n",
       "      <td>757873.82</td>\n",
       "      <td>191792.06</td>\n",
       "    </tr>\n",
       "  </tbody>\n",
       "</table>\n",
       "</div>"
      ],
      "text/plain": [
       "  Startups       State  R&D Spend  Administrative Spend  Marketing Spend  \\\n",
       "0       S1    New York   165349.2             136897.80        471784.10   \n",
       "1       S2  California   162597.7             151377.59        443898.53   \n",
       "\n",
       "   Total Expenditure     Profit  \n",
       "0          774031.10  192261.83  \n",
       "1          757873.82  191792.06  "
      ]
     },
     "execution_count": 6,
     "metadata": {},
     "output_type": "execute_result"
    }
   ],
   "source": [
    "df.head(2)"
   ]
  },
  {
   "cell_type": "code",
   "execution_count": 7,
   "id": "99a70e09",
   "metadata": {},
   "outputs": [
    {
     "data": {
      "text/plain": [
       "Index(['startups', 'state', 'r&d spend', 'administrative spend',\n",
       "       'marketing spend', 'total expenditure', 'profit'],\n",
       "      dtype='object')"
      ]
     },
     "execution_count": 7,
     "metadata": {},
     "output_type": "execute_result"
    }
   ],
   "source": [
    "#step2 : preprocess the data - skipping the data is clean \n",
    "df.columns = df.columns.str.lower()\n",
    "df.columns"
   ]
  },
  {
   "cell_type": "code",
   "execution_count": 8,
   "id": "f7f4c1c4",
   "metadata": {},
   "outputs": [
    {
     "data": {
      "text/plain": [
       "0    192261.83\n",
       "1    191792.06\n",
       "Name: profit, dtype: float64"
      ]
     },
     "metadata": {},
     "output_type": "display_data"
    },
    {
     "data": {
      "text/plain": [
       "0    774031.10\n",
       "1    757873.82\n",
       "Name: total expenditure, dtype: float64"
      ]
     },
     "metadata": {},
     "output_type": "display_data"
    }
   ],
   "source": [
    "#step 3 : break into two parts  = target varibale \n",
    "y = df['profit']\n",
    "display(y.head(2))\n",
    "\n",
    "# setting the features \n",
    "X = df['total expenditure']\n",
    "display(X.head(2))"
   ]
  },
  {
   "cell_type": "code",
   "execution_count": 9,
   "id": "42b6750a",
   "metadata": {},
   "outputs": [],
   "source": [
    "from sklearn.model_selection import train_test_split\n",
    "\n",
    "X_train, X_test, y_train, y_test = train_test_split(X, y, test_size = 20, random_state = 101)"
   ]
  },
  {
   "cell_type": "code",
   "execution_count": 10,
   "id": "1cad8edc",
   "metadata": {},
   "outputs": [
    {
     "name": "stdout",
     "output_type": "stream",
     "text": [
      "X train (30,)\n",
      "X test (20,)\n",
      "y train (30,)\n",
      "y test (20,)\n"
     ]
    }
   ],
   "source": [
    "print(\"X train\", X_train.shape)\n",
    "print(\"X test\", X_test.shape)\n",
    "print(\"y train\", y_train.shape)\n",
    "print(\"y test\", y_test.shape)"
   ]
  },
  {
   "cell_type": "code",
   "execution_count": 11,
   "id": "a62cac3f",
   "metadata": {},
   "outputs": [
    {
     "data": {
      "text/plain": [
       "43    178422.20\n",
       "38    271442.62\n",
       "44    205318.60\n",
       "39    296539.90\n",
       "10    441668.14\n",
       "49    162156.86\n",
       "25    342180.49\n",
       "33    373186.25\n",
       "36    356846.79\n",
       "2     662521.60\n",
       "27    553155.96\n",
       "34    414917.66\n",
       "35    336579.10\n",
       "8     580874.76\n",
       "19    239933.81\n",
       "29    325775.92\n",
       "12    471023.57\n",
       "5     594552.97\n",
       "0     774031.10\n",
       "28    366845.28\n",
       "4     599667.53\n",
       "40    320096.05\n",
       "13    480152.39\n",
       "9     536995.67\n",
       "48     52285.20\n",
       "23    478052.29\n",
       "6     409531.15\n",
       "17    522309.05\n",
       "11    442207.12\n",
       "31    302056.53\n",
       "Name: total expenditure, dtype: float64"
      ]
     },
     "execution_count": 11,
     "metadata": {},
     "output_type": "execute_result"
    }
   ],
   "source": [
    "X_train"
   ]
  },
  {
   "cell_type": "code",
   "execution_count": 12,
   "id": "d444fe46",
   "metadata": {},
   "outputs": [],
   "source": [
    "# build the model: using sklearn or statsmodel\n",
    "import statsmodels.api as sm"
   ]
  },
  {
   "cell_type": "code",
   "execution_count": 13,
   "id": "0e6e6d44",
   "metadata": {},
   "outputs": [],
   "source": [
    "X_train = sm.add_constant(X_train)\n",
    "lr = sm.OLS(y_train, X_train)"
   ]
  },
  {
   "cell_type": "code",
   "execution_count": 14,
   "id": "64b68801",
   "metadata": {},
   "outputs": [],
   "source": [
    "lr_results = lr.fit()"
   ]
  },
  {
   "cell_type": "code",
   "execution_count": 15,
   "id": "d794c829",
   "metadata": {},
   "outputs": [
    {
     "name": "stdout",
     "output_type": "stream",
     "text": [
      "                     Results: Ordinary least squares\n",
      "=========================================================================\n",
      "Model:                OLS                Adj. R-squared:       0.770     \n",
      "Dependent Variable:   profit             AIC:                  681.2226  \n",
      "Date:                 2023-01-21 21:51   BIC:                  684.0250  \n",
      "No. Observations:     30                 Log-Likelihood:       -338.61   \n",
      "Df Model:             1                  F-statistic:          98.23     \n",
      "Df Residuals:         28                 Prob (F-statistic):   1.17e-10  \n",
      "R-squared:            0.778              Scale:                3.9929e+08\n",
      "-------------------------------------------------------------------------\n",
      "                    Coef.     Std.Err.    t    P>|t|   [0.025    0.975]  \n",
      "-------------------------------------------------------------------------\n",
      "const             21283.9100 10004.6877 2.1274 0.0423 790.2362 41777.5838\n",
      "total expenditure     0.2291     0.0231 9.9110 0.0000   0.1817     0.2764\n",
      "-------------------------------------------------------------------------\n",
      "Omnibus:                1.938          Durbin-Watson:             2.589  \n",
      "Prob(Omnibus):          0.379          Jarque-Bera (JB):          0.809  \n",
      "Skew:                   0.044          Prob(JB):                  0.667  \n",
      "Kurtosis:               3.800          Condition No.:             1187012\n",
      "=========================================================================\n",
      "* The condition number is large (1e+06). This might indicate\n",
      "strong multicollinearity or other numerical problems.\n"
     ]
    }
   ],
   "source": [
    "print(lr_results.summary2())"
   ]
  },
  {
   "cell_type": "code",
   "execution_count": 16,
   "id": "ddf87d77",
   "metadata": {},
   "outputs": [
    {
     "data": {
      "text/plain": [
       "const                21283.909982\n",
       "total expenditure        0.229080\n",
       "dtype: float64"
      ]
     },
     "execution_count": 16,
     "metadata": {},
     "output_type": "execute_result"
    }
   ],
   "source": [
    "lr_results.params"
   ]
  },
  {
   "cell_type": "code",
   "execution_count": 17,
   "id": "4ba10ab2",
   "metadata": {},
   "outputs": [
    {
     "data": {
      "text/plain": [
       "const                4.233104e-02\n",
       "total expenditure    1.171946e-10\n",
       "dtype: float64"
      ]
     },
     "execution_count": 17,
     "metadata": {},
     "output_type": "execute_result"
    }
   ],
   "source": [
    "lr_results.pvalues"
   ]
  },
  {
   "cell_type": "code",
   "execution_count": 18,
   "id": "c1bd97f9",
   "metadata": {},
   "outputs": [],
   "source": [
    "from sklearn.linear_model import LinearRegression"
   ]
  },
  {
   "cell_type": "code",
   "execution_count": 19,
   "id": "76f30d7d",
   "metadata": {},
   "outputs": [],
   "source": [
    "lm = LinearRegression()"
   ]
  },
  {
   "cell_type": "code",
   "execution_count": 20,
   "id": "5438971f",
   "metadata": {},
   "outputs": [],
   "source": [
    "lm_results = lm.fit(X_train,y_train)"
   ]
  },
  {
   "cell_type": "markdown",
   "id": "20e9f825",
   "metadata": {},
   "source": [
    "## multiple regression "
   ]
  },
  {
   "cell_type": "code",
   "execution_count": 21,
   "id": "c89777ce",
   "metadata": {},
   "outputs": [
    {
     "data": {
      "text/html": [
       "<div>\n",
       "<style scoped>\n",
       "    .dataframe tbody tr th:only-of-type {\n",
       "        vertical-align: middle;\n",
       "    }\n",
       "\n",
       "    .dataframe tbody tr th {\n",
       "        vertical-align: top;\n",
       "    }\n",
       "\n",
       "    .dataframe thead th {\n",
       "        text-align: right;\n",
       "    }\n",
       "</style>\n",
       "<table border=\"1\" class=\"dataframe\">\n",
       "  <thead>\n",
       "    <tr style=\"text-align: right;\">\n",
       "      <th></th>\n",
       "      <th>startups</th>\n",
       "      <th>state</th>\n",
       "      <th>r&amp;d spend</th>\n",
       "      <th>administrative spend</th>\n",
       "      <th>marketing spend</th>\n",
       "      <th>total expenditure</th>\n",
       "      <th>profit</th>\n",
       "    </tr>\n",
       "  </thead>\n",
       "  <tbody>\n",
       "    <tr>\n",
       "      <th>0</th>\n",
       "      <td>S1</td>\n",
       "      <td>New York</td>\n",
       "      <td>165349.2</td>\n",
       "      <td>136897.80</td>\n",
       "      <td>471784.10</td>\n",
       "      <td>774031.10</td>\n",
       "      <td>192261.83</td>\n",
       "    </tr>\n",
       "    <tr>\n",
       "      <th>1</th>\n",
       "      <td>S2</td>\n",
       "      <td>California</td>\n",
       "      <td>162597.7</td>\n",
       "      <td>151377.59</td>\n",
       "      <td>443898.53</td>\n",
       "      <td>757873.82</td>\n",
       "      <td>191792.06</td>\n",
       "    </tr>\n",
       "  </tbody>\n",
       "</table>\n",
       "</div>"
      ],
      "text/plain": [
       "  startups       state  r&d spend  administrative spend  marketing spend  \\\n",
       "0       S1    New York   165349.2             136897.80        471784.10   \n",
       "1       S2  California   162597.7             151377.59        443898.53   \n",
       "\n",
       "   total expenditure     profit  \n",
       "0          774031.10  192261.83  \n",
       "1          757873.82  191792.06  "
      ]
     },
     "execution_count": 21,
     "metadata": {},
     "output_type": "execute_result"
    }
   ],
   "source": [
    "df.head(2)"
   ]
  },
  {
   "cell_type": "code",
   "execution_count": 22,
   "id": "136f350b",
   "metadata": {},
   "outputs": [
    {
     "data": {
      "text/plain": [
       "Index(['startups', 'state', 'r&d spend', 'administrative spend',\n",
       "       'marketing spend', 'total expenditure', 'profit'],\n",
       "      dtype='object')"
      ]
     },
     "execution_count": 22,
     "metadata": {},
     "output_type": "execute_result"
    }
   ],
   "source": [
    "df.columns = df.columns.str.lower()\n",
    "df.columns"
   ]
  },
  {
   "cell_type": "code",
   "execution_count": 23,
   "id": "147f7881",
   "metadata": {},
   "outputs": [],
   "source": [
    "X = df[['r&d spend', 'administrative spend','marketing spend']] #expenses \n",
    "y = df['profit'] #relationship b/w profit and expense "
   ]
  },
  {
   "cell_type": "code",
   "execution_count": 24,
   "id": "647f960b",
   "metadata": {},
   "outputs": [
    {
     "data": {
      "text/plain": [
       "(    r&d spend  administrative spend  marketing spend\n",
       " 0   165349.20             136897.80        471784.10\n",
       " 1   162597.70             151377.59        443898.53\n",
       " 2   153441.51             101145.55        407934.54\n",
       " 3   144372.41             118671.85        383199.62\n",
       " 4   142107.34              91391.77        366168.42\n",
       " 5   131876.90              99814.71        362861.36\n",
       " 6   134615.46             147198.87        127716.82\n",
       " 7   130298.13             145530.06        323876.68\n",
       " 8   120542.52             148718.95        311613.29\n",
       " 9   123334.88             108679.17        304981.62\n",
       " 10  101913.08             110594.11        229160.95\n",
       " 11  100671.96              91790.61        249744.55\n",
       " 12   93863.75             127320.38        249839.44\n",
       " 13   91992.39             135495.07        252664.93\n",
       " 14  119943.24             156547.42        256512.92\n",
       " 15  114523.61             122616.84        261776.23\n",
       " 16   78013.11             121597.55        264346.06\n",
       " 17   94657.16             145077.58        282574.31\n",
       " 18   91749.16             114175.79        294919.57\n",
       " 19   86419.70             153514.11             0.00\n",
       " 20   76253.86             113867.30        298664.47\n",
       " 21   78389.47             153773.43        299737.29\n",
       " 22   73994.56             122782.75        303319.26\n",
       " 23   67532.53             105751.03        304768.73\n",
       " 24   77044.01              99281.34        140574.81\n",
       " 25   64664.71             139553.16        137962.62\n",
       " 26   75328.87             144135.98        134050.07\n",
       " 27   72107.60             127864.55        353183.81\n",
       " 28   66051.52             182645.56        118148.20\n",
       " 29   65605.48             153032.06        107138.38\n",
       " 30   61994.48             115641.28         91131.24\n",
       " 31   61136.38             152701.92         88218.23\n",
       " 32   63408.86             129219.61         46085.25\n",
       " 33   55493.95             103057.49        214634.81\n",
       " 34   46426.07             157693.92        210797.67\n",
       " 35   46014.02              85047.44        205517.64\n",
       " 36   28663.76             127056.21        201126.82\n",
       " 37   44069.95              51283.14        197029.42\n",
       " 38   20229.59              65947.93        185265.10\n",
       " 39   38558.51              82982.09        174999.30\n",
       " 40   28754.33             118546.05        172795.67\n",
       " 41   27892.92              84710.77        164470.71\n",
       " 42   23640.93              96189.63        148001.11\n",
       " 43   15505.73             127382.30         35534.17\n",
       " 44   22177.74             154806.14         28334.72\n",
       " 45    1000.23             124153.04          1903.93\n",
       " 46    1315.46             115816.21        297114.46\n",
       " 47       0.00             135426.92             0.00\n",
       " 48     542.05              51743.15             0.00\n",
       " 49       0.00             116983.80         45173.06,\n",
       " 0     192261.83\n",
       " 1     191792.06\n",
       " 2     191050.39\n",
       " 3     182901.99\n",
       " 4     166187.94\n",
       " 5     156991.12\n",
       " 6     156122.51\n",
       " 7     155752.60\n",
       " 8     152211.77\n",
       " 9     149759.96\n",
       " 10    146121.95\n",
       " 11    144259.40\n",
       " 12    141585.52\n",
       " 13    134307.35\n",
       " 14    132602.65\n",
       " 15    129917.04\n",
       " 16    126992.93\n",
       " 17    125370.37\n",
       " 18    124266.90\n",
       " 19    122776.86\n",
       " 20    118474.03\n",
       " 21    111313.02\n",
       " 22    110352.25\n",
       " 23    108733.99\n",
       " 24    108552.04\n",
       " 25    107404.34\n",
       " 26    105733.54\n",
       " 27    105008.31\n",
       " 28    103282.38\n",
       " 29    101004.64\n",
       " 30     99937.59\n",
       " 31     97483.56\n",
       " 32     97427.84\n",
       " 33     96778.92\n",
       " 34     96712.80\n",
       " 35     96479.51\n",
       " 36     90708.19\n",
       " 37     89949.14\n",
       " 38     81229.06\n",
       " 39     81005.76\n",
       " 40     78239.91\n",
       " 41     77798.83\n",
       " 42     71498.49\n",
       " 43     69758.98\n",
       " 44     65200.33\n",
       " 45     64926.08\n",
       " 46     49490.75\n",
       " 47     42559.73\n",
       " 48     35673.41\n",
       " 49     14681.40\n",
       " Name: profit, dtype: float64)"
      ]
     },
     "execution_count": 24,
     "metadata": {},
     "output_type": "execute_result"
    }
   ],
   "source": [
    "X,y"
   ]
  },
  {
   "cell_type": "code",
   "execution_count": 25,
   "id": "6b575f2a",
   "metadata": {},
   "outputs": [],
   "source": [
    "from sklearn.model_selection import train_test_split\n",
    "\n",
    "X_train, X_test, y_train, y_test = train_test_split(X, y, test_size = 20, random_state = 101)"
   ]
  },
  {
   "cell_type": "code",
   "execution_count": 26,
   "id": "b110583d",
   "metadata": {},
   "outputs": [
    {
     "name": "stdout",
     "output_type": "stream",
     "text": [
      "(30, 3)\n"
     ]
    },
    {
     "data": {
      "text/plain": [
       "(20, 3)"
      ]
     },
     "execution_count": 26,
     "metadata": {},
     "output_type": "execute_result"
    }
   ],
   "source": [
    "print(X_train.shape)\n",
    "X_test.shape"
   ]
  },
  {
   "cell_type": "code",
   "execution_count": 27,
   "id": "cee62480",
   "metadata": {},
   "outputs": [],
   "source": [
    "import statsmodels.api as sm"
   ]
  },
  {
   "cell_type": "code",
   "execution_count": 28,
   "id": "ccf92895",
   "metadata": {},
   "outputs": [],
   "source": [
    "X_train = sm.add_constant(X_train)\n",
    "lr = sm.OLS(y_train,X_train)"
   ]
  },
  {
   "cell_type": "code",
   "execution_count": 27,
   "id": "5687e1af",
   "metadata": {},
   "outputs": [
    {
     "name": "stdout",
     "output_type": "stream",
     "text": [
      "                       Results: Ordinary least squares\n",
      "==============================================================================\n",
      "Model:                   OLS                 Adj. R-squared:        0.943     \n",
      "Dependent Variable:      profit              AIC:                   640.9483  \n",
      "Date:                    2023-01-10 15:56    BIC:                   646.5531  \n",
      "No. Observations:        30                  Log-Likelihood:        -316.47   \n",
      "Df Model:                3                   F-statistic:           162.3     \n",
      "Df Residuals:            26                  Prob (F-statistic):    5.98e-17  \n",
      "R-squared:               0.949               Scale:                 9.8297e+07\n",
      "------------------------------------------------------------------------------\n",
      "                       Coef.     Std.Err.    t    P>|t|    [0.025     0.975]  \n",
      "------------------------------------------------------------------------------\n",
      "const                44203.2695 9057.1684  4.8805 0.0000 25585.9932 62820.5457\n",
      "r&d spend                0.8136    0.0637 12.7787 0.0000     0.6827     0.9445\n",
      "administrative spend     0.0132    0.0670  0.1974 0.8451    -0.1245     0.1510\n",
      "marketing spend          0.0341    0.0238  1.4338 0.1636    -0.0148     0.0829\n",
      "------------------------------------------------------------------------------\n",
      "Omnibus:                  14.656           Durbin-Watson:              2.324  \n",
      "Prob(Omnibus):            0.001            Jarque-Bera (JB):           18.069 \n",
      "Skew:                     -1.204           Prob(JB):                   0.000  \n",
      "Kurtosis:                 5.942            Condition No.:              1376249\n",
      "==============================================================================\n",
      "* The condition number is large (1e+06). This might indicate\n",
      "strong multicollinearity or other numerical problems.\n"
     ]
    }
   ],
   "source": [
    "lr_result = lr.fit()\n",
    "print(lr_result.summary2())"
   ]
  },
  {
   "cell_type": "raw",
   "id": "d8e273b1",
   "metadata": {},
   "source": []
  },
  {
   "cell_type": "code",
   "execution_count": 28,
   "id": "6bc405a2",
   "metadata": {},
   "outputs": [
    {
     "data": {
      "text/plain": [
       "const                21283.909982\n",
       "total expenditure        0.229080\n",
       "dtype: float64"
      ]
     },
     "execution_count": 28,
     "metadata": {},
     "output_type": "execute_result"
    }
   ],
   "source": [
    "lr_results.params"
   ]
  },
  {
   "cell_type": "code",
   "execution_count": null,
   "id": "8b652808",
   "metadata": {},
   "outputs": [],
   "source": []
  },
  {
   "cell_type": "code",
   "execution_count": 29,
   "id": "af4ae33c",
   "metadata": {},
   "outputs": [
    {
     "data": {
      "text/plain": [
       "const                0.042\n",
       "total expenditure    0.000\n",
       "dtype: float64"
      ]
     },
     "execution_count": 29,
     "metadata": {},
     "output_type": "execute_result"
    }
   ],
   "source": [
    "round (lr_results.pvalues,3)"
   ]
  },
  {
   "cell_type": "raw",
   "id": "1bd630a2",
   "metadata": {},
   "source": []
  },
  {
   "cell_type": "code",
   "execution_count": 30,
   "id": "e310e1b7",
   "metadata": {},
   "outputs": [],
   "source": [
    "X_test = sm.add_constant(X_test)\n",
    "y_pred = lr_result.predict(X_test)\n"
   ]
  },
  {
   "cell_type": "code",
   "execution_count": 31,
   "id": "81fc6ce4",
   "metadata": {},
   "outputs": [
    {
     "data": {
      "text/html": [
       "<div>\n",
       "<style scoped>\n",
       "    .dataframe tbody tr th:only-of-type {\n",
       "        vertical-align: middle;\n",
       "    }\n",
       "\n",
       "    .dataframe tbody tr th {\n",
       "        vertical-align: top;\n",
       "    }\n",
       "\n",
       "    .dataframe thead th {\n",
       "        text-align: right;\n",
       "    }\n",
       "</style>\n",
       "<table border=\"1\" class=\"dataframe\">\n",
       "  <thead>\n",
       "    <tr style=\"text-align: right;\">\n",
       "      <th></th>\n",
       "      <th>y_test</th>\n",
       "      <th>y_pred</th>\n",
       "      <th>residual</th>\n",
       "    </tr>\n",
       "  </thead>\n",
       "  <tbody>\n",
       "    <tr>\n",
       "      <th>37</th>\n",
       "      <td>89949.14</td>\n",
       "      <td>87452.071399</td>\n",
       "      <td>2497.068601</td>\n",
       "    </tr>\n",
       "    <tr>\n",
       "      <th>14</th>\n",
       "      <td>132602.65</td>\n",
       "      <td>152603.115402</td>\n",
       "      <td>-20000.465402</td>\n",
       "    </tr>\n",
       "    <tr>\n",
       "      <th>21</th>\n",
       "      <td>111313.02</td>\n",
       "      <td>120230.734047</td>\n",
       "      <td>-8917.714047</td>\n",
       "    </tr>\n",
       "    <tr>\n",
       "      <th>32</th>\n",
       "      <td>97427.84</td>\n",
       "      <td>99073.340676</td>\n",
       "      <td>-1645.500676</td>\n",
       "    </tr>\n",
       "    <tr>\n",
       "      <th>22</th>\n",
       "      <td>110352.25</td>\n",
       "      <td>116367.126576</td>\n",
       "      <td>-6014.876576</td>\n",
       "    </tr>\n",
       "    <tr>\n",
       "      <th>1</th>\n",
       "      <td>191792.06</td>\n",
       "      <td>193624.895322</td>\n",
       "      <td>-1832.835322</td>\n",
       "    </tr>\n",
       "    <tr>\n",
       "      <th>26</th>\n",
       "      <td>105733.54</td>\n",
       "      <td>111966.672607</td>\n",
       "      <td>-6233.132607</td>\n",
       "    </tr>\n",
       "    <tr>\n",
       "      <th>46</th>\n",
       "      <td>49490.75</td>\n",
       "      <td>56930.793990</td>\n",
       "      <td>-7440.043990</td>\n",
       "    </tr>\n",
       "    <tr>\n",
       "      <th>42</th>\n",
       "      <td>71498.49</td>\n",
       "      <td>69753.886416</td>\n",
       "      <td>1744.603584</td>\n",
       "    </tr>\n",
       "    <tr>\n",
       "      <th>47</th>\n",
       "      <td>42559.73</td>\n",
       "      <td>45994.574845</td>\n",
       "      <td>-3434.844845</td>\n",
       "    </tr>\n",
       "    <tr>\n",
       "      <th>16</th>\n",
       "      <td>126992.93</td>\n",
       "      <td>118292.834364</td>\n",
       "      <td>8700.095636</td>\n",
       "    </tr>\n",
       "    <tr>\n",
       "      <th>24</th>\n",
       "      <td>108552.04</td>\n",
       "      <td>112991.193703</td>\n",
       "      <td>-4439.153703</td>\n",
       "    </tr>\n",
       "    <tr>\n",
       "      <th>7</th>\n",
       "      <td>155752.60</td>\n",
       "      <td>163177.954213</td>\n",
       "      <td>-7425.354213</td>\n",
       "    </tr>\n",
       "    <tr>\n",
       "      <th>45</th>\n",
       "      <td>64926.08</td>\n",
       "      <td>46724.139081</td>\n",
       "      <td>18201.940919</td>\n",
       "    </tr>\n",
       "    <tr>\n",
       "      <th>18</th>\n",
       "      <td>124266.90</td>\n",
       "      <td>130412.420205</td>\n",
       "      <td>-6145.520205</td>\n",
       "    </tr>\n",
       "    <tr>\n",
       "      <th>3</th>\n",
       "      <td>182901.99</td>\n",
       "      <td>176295.389930</td>\n",
       "      <td>6606.600070</td>\n",
       "    </tr>\n",
       "    <tr>\n",
       "      <th>41</th>\n",
       "      <td>77798.83</td>\n",
       "      <td>73622.798872</td>\n",
       "      <td>4176.031128</td>\n",
       "    </tr>\n",
       "    <tr>\n",
       "      <th>30</th>\n",
       "      <td>99937.59</td>\n",
       "      <td>99278.097383</td>\n",
       "      <td>659.492617</td>\n",
       "    </tr>\n",
       "    <tr>\n",
       "      <th>15</th>\n",
       "      <td>129917.04</td>\n",
       "      <td>147924.193275</td>\n",
       "      <td>-18007.153275</td>\n",
       "    </tr>\n",
       "    <tr>\n",
       "      <th>20</th>\n",
       "      <td>118474.03</td>\n",
       "      <td>117928.768977</td>\n",
       "      <td>545.261023</td>\n",
       "    </tr>\n",
       "  </tbody>\n",
       "</table>\n",
       "</div>"
      ],
      "text/plain": [
       "       y_test         y_pred      residual\n",
       "37   89949.14   87452.071399   2497.068601\n",
       "14  132602.65  152603.115402 -20000.465402\n",
       "21  111313.02  120230.734047  -8917.714047\n",
       "32   97427.84   99073.340676  -1645.500676\n",
       "22  110352.25  116367.126576  -6014.876576\n",
       "1   191792.06  193624.895322  -1832.835322\n",
       "26  105733.54  111966.672607  -6233.132607\n",
       "46   49490.75   56930.793990  -7440.043990\n",
       "42   71498.49   69753.886416   1744.603584\n",
       "47   42559.73   45994.574845  -3434.844845\n",
       "16  126992.93  118292.834364   8700.095636\n",
       "24  108552.04  112991.193703  -4439.153703\n",
       "7   155752.60  163177.954213  -7425.354213\n",
       "45   64926.08   46724.139081  18201.940919\n",
       "18  124266.90  130412.420205  -6145.520205\n",
       "3   182901.99  176295.389930   6606.600070\n",
       "41   77798.83   73622.798872   4176.031128\n",
       "30   99937.59   99278.097383    659.492617\n",
       "15  129917.04  147924.193275 -18007.153275\n",
       "20  118474.03  117928.768977    545.261023"
      ]
     },
     "execution_count": 31,
     "metadata": {},
     "output_type": "execute_result"
    }
   ],
   "source": [
    "residual =(y_test)-(y_pred)\n",
    "pd.DataFrame({\"y_test\": y_test, \"y_pred\": y_pred,\"residual\": residual})"
   ]
  },
  {
   "cell_type": "code",
   "execution_count": 32,
   "id": "846b7b8f",
   "metadata": {},
   "outputs": [
    {
     "ename": "AttributeError",
     "evalue": "'OLSResults' object has no attribute 'residt'",
     "output_type": "error",
     "traceback": [
      "\u001b[1;31m---------------------------------------------------------------------------\u001b[0m",
      "\u001b[1;31mAttributeError\u001b[0m                            Traceback (most recent call last)",
      "Input \u001b[1;32mIn [32]\u001b[0m, in \u001b[0;36m<cell line: 3>\u001b[1;34m()\u001b[0m\n\u001b[0;32m      1\u001b[0m y_pred_train\u001b[38;5;241m=\u001b[39m lr_result\u001b[38;5;241m.\u001b[39mpredict(X_train)\n\u001b[0;32m      2\u001b[0m residual_train \u001b[38;5;241m=\u001b[39m(y_train)\u001b[38;5;241m-\u001b[39m(y_pred_train)\n\u001b[1;32m----> 3\u001b[0m pd\u001b[38;5;241m.\u001b[39mDataFrame({\u001b[38;5;124m\"\u001b[39m\u001b[38;5;124my_train\u001b[39m\u001b[38;5;124m\"\u001b[39m: y_train, \u001b[38;5;124m\"\u001b[39m\u001b[38;5;124my_pred_train\u001b[39m\u001b[38;5;124m\"\u001b[39m: y_pred_train,\u001b[38;5;124m\"\u001b[39m\u001b[38;5;124mresidual\u001b[39m\u001b[38;5;124m\"\u001b[39m: residual_train, \u001b[38;5;124m'\u001b[39m\u001b[38;5;124my pred thr predict\u001b[39m\u001b[38;5;124m'\u001b[39m:lr_result\u001b[38;5;241m.\u001b[39mpredict(), \u001b[38;5;124m'\u001b[39m\u001b[38;5;124mrest\u001b[39m\u001b[38;5;124m'\u001b[39m:\u001b[43mlr_result\u001b[49m\u001b[38;5;241;43m.\u001b[39;49m\u001b[43mresidt\u001b[49m()})\n",
      "File \u001b[1;32m~\\anaconda3\\lib\\site-packages\\statsmodels\\base\\wrapper.py:34\u001b[0m, in \u001b[0;36mResultsWrapper.__getattribute__\u001b[1;34m(self, attr)\u001b[0m\n\u001b[0;32m     31\u001b[0m \u001b[38;5;28;01mexcept\u001b[39;00m \u001b[38;5;167;01mAttributeError\u001b[39;00m:\n\u001b[0;32m     32\u001b[0m     \u001b[38;5;28;01mpass\u001b[39;00m\n\u001b[1;32m---> 34\u001b[0m obj \u001b[38;5;241m=\u001b[39m \u001b[38;5;28;43mgetattr\u001b[39;49m\u001b[43m(\u001b[49m\u001b[43mresults\u001b[49m\u001b[43m,\u001b[49m\u001b[43m \u001b[49m\u001b[43mattr\u001b[49m\u001b[43m)\u001b[49m\n\u001b[0;32m     35\u001b[0m data \u001b[38;5;241m=\u001b[39m results\u001b[38;5;241m.\u001b[39mmodel\u001b[38;5;241m.\u001b[39mdata\n\u001b[0;32m     36\u001b[0m how \u001b[38;5;241m=\u001b[39m \u001b[38;5;28mself\u001b[39m\u001b[38;5;241m.\u001b[39m_wrap_attrs\u001b[38;5;241m.\u001b[39mget(attr)\n",
      "\u001b[1;31mAttributeError\u001b[0m: 'OLSResults' object has no attribute 'residt'"
     ]
    }
   ],
   "source": [
    "y_pred_train= lr_result.predict(X_train)\n",
    "residual_train =(y_train)-(y_pred_train)\n",
    "pd.DataFrame({\"y_train\": y_train, \"y_pred_train\": y_pred_train,\"residual\": residual_train, 'y pred thr predict':lr_result.predict(), 'rest':lr_result.residt()})"
   ]
  },
  {
   "cell_type": "code",
   "execution_count": 29,
   "id": "5e48ab34",
   "metadata": {},
   "outputs": [
    {
     "data": {
      "text/plain": [
       "<matplotlib.legend.Legend at 0x1870d567280>"
      ]
     },
     "execution_count": 29,
     "metadata": {},
     "output_type": "execute_result"
    },
    {
     "data": {
      "image/png": "[encoded data removed]",
      "text/plain": [
       "<Figure size 1080x360 with 3 Axes>"
      ]
     },
     "metadata": {
      "needs_background": "light"
     },
     "output_type": "display_data"
    }
   ],
   "source": [
    "fig,ax = plt.subplots(nrows=1, ncols=3, figsize=(15,5))\n",
    "\n",
    "plt.scatter(X['r&d spend'],y)\n",
    "plt.scatter(X['administrative spend'],y)\n",
    "plt.scatter(X['marketing spend'],y)\n",
    "plt.legend(['r','a','m'])"
   ]
  },
  {
   "cell_type": "code",
   "execution_count": 30,
   "id": "8c1c6d27",
   "metadata": {},
   "outputs": [],
   "source": [
    "from statsmodels.stats.outliers_influence import variance_inflation_factor"
   ]
  },
  {
   "cell_type": "code",
   "execution_count": 31,
   "id": "5bf509da",
   "metadata": {},
   "outputs": [],
   "source": [
    "vlf = {X.columns[i]:round(variance_inflation_factor(X.values,i),3) for i in range(0, X.shape[1])}\n"
   ]
  },
  {
   "cell_type": "code",
   "execution_count": null,
   "id": "aa9afee4",
   "metadata": {},
   "outputs": [],
   "source": [
    "vlf"
   ]
  },
  {
   "cell_type": "code",
   "execution_count": null,
   "id": "4ace17be",
   "metadata": {},
   "outputs": [],
   "source": [
    "correlation_matrix = X.corr()\n",
    "correlation_matrix"
   ]
  },
  {
   "cell_type": "code",
   "execution_count": null,
   "id": "3dc25e30",
   "metadata": {},
   "outputs": [],
   "source": [
    "sns.heatmap(correlation_matrix, annot = True)"
   ]
  },
  {
   "cell_type": "code",
   "execution_count": null,
   "id": "d0a3de9f",
   "metadata": {},
   "outputs": [],
   "source": [
    "residuals = lr_results.resid"
   ]
  },
  {
   "cell_type": "code",
   "execution_count": null,
   "id": "8d2fe60a",
   "metadata": {},
   "outputs": [],
   "source": [
    "sm.qqplot(residuals, line = 's')\n",
    "plt.title('normal qq plot')"
   ]
  },
  {
   "cell_type": "code",
   "execution_count": null,
   "id": "f5ef7f3d",
   "metadata": {},
   "outputs": [],
   "source": [
    "import warnings\n",
    "warnings.filterwarnings('ignore')\n",
    "\n",
    "fig, ax = plt.subplots(nrows=1, ncols=2, figsize=(20,5))\n",
    "sns.distplot(residuals , ax=ax[0])\n",
    "sns.boxplot(residuals ,showmeans=True, ax =ax[1])"
   ]
  },
  {
   "cell_type": "code",
   "execution_count": null,
   "id": "aed91f85",
   "metadata": {},
   "outputs": [],
   "source": [
    "plt.plot(residuals.index, residuals)"
   ]
  },
  {
   "cell_type": "code",
   "execution_count": null,
   "id": "ffe40011",
   "metadata": {},
   "outputs": [],
   "source": [
    "ddf = pd.read_csv(\"D:/PBA/city.csv\")\n",
    "ddf"
   ]
  },
  {
   "cell_type": "code",
   "execution_count": null,
   "id": "b3bfb4d0",
   "metadata": {},
   "outputs": [],
   "source": [
    "pd.get_dummies(ddf['gender'])"
   ]
  },
  {
   "cell_type": "code",
   "execution_count": null,
   "id": "fba408c6",
   "metadata": {},
   "outputs": [],
   "source": [
    "ddf['city'].unique()"
   ]
  },
  {
   "cell_type": "code",
   "execution_count": null,
   "id": "6076ab8e",
   "metadata": {},
   "outputs": [],
   "source": [
    "pd.get_dummies(ddf['city'])"
   ]
  },
  {
   "cell_type": "code",
   "execution_count": null,
   "id": "630f17fa",
   "metadata": {},
   "outputs": [],
   "source": [
    "df_encoded = pd.get_dummies(ddf)"
   ]
  },
  {
   "cell_type": "code",
   "execution_count": null,
   "id": "0b1263c1",
   "metadata": {},
   "outputs": [],
   "source": [
    "display(ddf)\n",
    "display(df_encoded)"
   ]
  },
  {
   "cell_type": "code",
   "execution_count": null,
   "id": "85c46525",
   "metadata": {},
   "outputs": [],
   "source": [
    "#more the area under the curve better the model, usually a 0.7 precision.(default value)\n",
    "#AUM - area under the curve."
   ]
  },
  {
   "cell_type": "code",
   "execution_count": null,
   "id": "f6f7a1c3",
   "metadata": {},
   "outputs": [],
   "source": [
    "#pruning of the tree.\n",
    "#gridsearchCV - gives the optimum value of nodes to be adopted. can be used for multiple checking.\n",
    "#system will select the factor automatically.\n",
    "\n"
   ]
  },
  {
   "cell_type": "code",
   "execution_count": null,
   "id": "32cc31b9",
   "metadata": {},
   "outputs": [],
   "source": []
  },
  {
   "cell_type": "code",
   "execution_count": null,
   "id": "15d13d59",
   "metadata": {},
   "outputs": [],
   "source": []
  },
  {
   "cell_type": "code",
   "execution_count": null,
   "id": "9d7147e1",
   "metadata": {},
   "outputs": [],
   "source": []
  },
  {
   "cell_type": "code",
   "execution_count": null,
   "id": "4cbd3aea",
   "metadata": {},
   "outputs": [],
   "source": []
  },
  {
   "cell_type": "code",
   "execution_count": null,
   "id": "5cf0b7b7",
   "metadata": {},
   "outputs": [],
   "source": []
  },
  {
   "cell_type": "code",
   "execution_count": null,
   "id": "9dd68586",
   "metadata": {},
   "outputs": [],
   "source": []
  },
  {
   "cell_type": "code",
   "execution_count": null,
   "id": "9d8182e8",
   "metadata": {},
   "outputs": [],
   "source": []
  },
  {
   "cell_type": "code",
   "execution_count": null,
   "id": "e97512e1",
   "metadata": {},
   "outputs": [],
   "source": []
  },
  {
   "cell_type": "code",
   "execution_count": null,
   "id": "c7153174",
   "metadata": {},
   "outputs": [],
   "source": []
  }
 ],
 "metadata": {
  "kernelspec": {
   "display_name": "Python 3 (ipykernel)",
   "language": "python",
   "name": "python3"
  },
  "language_info": {
   "codemirror_mode": {
    "name": "ipython",
    "version": 3
   },
   "file_extension": ".py",
   "mimetype": "text/x-python",
   "name": "python",
   "nbconvert_exporter": "python",
   "pygments_lexer": "ipython3",
   "version": "3.9.13"
  }
 },
 "nbformat": 4,
 "nbformat_minor": 5
}

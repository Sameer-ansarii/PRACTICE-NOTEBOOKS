{
 "cells": [
  {
   "cell_type": "markdown",
   "id": "b9d712c3",
   "metadata": {},
   "source": [
    "# Numpy as np"
   ]
  },
  {
   "cell_type": "code",
   "execution_count": 1,
   "id": "c997e7df",
   "metadata": {},
   "outputs": [],
   "source": [
    "import numpy as np"
   ]
  },
  {
   "cell_type": "code",
   "execution_count": 3,
   "id": "7553f8c3",
   "metadata": {},
   "outputs": [
    {
     "name": "stdout",
     "output_type": "stream",
     "text": [
      "[1 2 3 4]\n",
      "<class 'numpy.ndarray'>\n",
      "1\n"
     ]
    }
   ],
   "source": [
    "x=np.array([1,2,3,4])\n",
    "print(x)\n",
    "print(type(x))\n",
    "print(x.ndim)"
   ]
  },
  {
   "cell_type": "code",
   "execution_count": 2,
   "id": "f0fb9889",
   "metadata": {},
   "outputs": [
    {
     "name": "stdout",
     "output_type": "stream",
     "text": [
      "[1, 2, 3]\n",
      "<class 'list'>\n"
     ]
    }
   ],
   "source": [
    "y=[1,2,3]\n",
    "print(y)\n",
    "print(type(y))\n"
   ]
  },
  {
   "cell_type": "code",
   "execution_count": 4,
   "id": "6cc3963a",
   "metadata": {},
   "outputs": [
    {
     "name": "stdout",
     "output_type": "stream",
     "text": [
      "[7 8 6]\n",
      "<class 'numpy.ndarray'>\n"
     ]
    }
   ],
   "source": [
    "g=[7,8,6]\n",
    "h=np.array(g)\n",
    "print(h)\n",
    "print(type(h))"
   ]
  },
  {
   "cell_type": "code",
   "execution_count": 5,
   "id": "b2d87f95",
   "metadata": {},
   "outputs": [
    {
     "name": "stdout",
     "output_type": "stream",
     "text": [
      "enter:4\n",
      "enter:4\n",
      "enter:5\n",
      "enter:4\n",
      "[4 4 5 4]\n"
     ]
    }
   ],
   "source": [
    "l=[]\n",
    "for i in range(1,5):\n",
    "    a=int(input(\"enter:\"))\n",
    "    l.append(a)\n",
    "print(np.array(l))"
   ]
  },
  {
   "cell_type": "code",
   "execution_count": 6,
   "id": "fa5aa463",
   "metadata": {},
   "outputs": [
    {
     "name": "stdout",
     "output_type": "stream",
     "text": [
      "[[1 2 3]\n",
      " [5 5 6]]\n",
      "2\n"
     ]
    }
   ],
   "source": [
    "ar2=np.array([[1,2,3],[5,5,6,]])\n",
    "print(ar2)\n",
    "print(ar2.ndim)"
   ]
  },
  {
   "cell_type": "code",
   "execution_count": 7,
   "id": "d48160da",
   "metadata": {},
   "outputs": [
    {
     "name": "stdout",
     "output_type": "stream",
     "text": [
      "[[[4 5 7]\n",
      "  [5 2 8]\n",
      "  [9 8 5]]]\n",
      "3\n"
     ]
    }
   ],
   "source": [
    "ar3=np.array([[[4,5,7],[5,2,8],[9,8,5]]])\n",
    "print(ar3)\n",
    "print(ar3.ndim)"
   ]
  },
  {
   "cell_type": "code",
   "execution_count": 8,
   "id": "199d9560",
   "metadata": {},
   "outputs": [
    {
     "name": "stdout",
     "output_type": "stream",
     "text": [
      "[[[[[[[[4 2 5]]]]]]]]\n",
      "8\n"
     ]
    }
   ],
   "source": [
    "arn= np.array([4,2,5],ndmin=8)\n",
    "print(arn)\n",
    "print(arn.ndim)"
   ]
  },
  {
   "cell_type": "markdown",
   "id": "b347e904",
   "metadata": {},
   "source": [
    "# zeros()"
   ]
  },
  {
   "cell_type": "code",
   "execution_count": 9,
   "id": "11f12194",
   "metadata": {},
   "outputs": [
    {
     "name": "stdout",
     "output_type": "stream",
     "text": [
      "[0. 0. 0. 0. 0.]\n",
      "1\n"
     ]
    }
   ],
   "source": [
    "zeros=np.zeros(5)\n",
    "print(zeros)\n",
    "type(zeros)\n",
    "print(zeros.ndim)"
   ]
  },
  {
   "cell_type": "code",
   "execution_count": 10,
   "id": "2380963b",
   "metadata": {},
   "outputs": [
    {
     "name": "stdout",
     "output_type": "stream",
     "text": [
      "[[0. 0. 0. 0. 0.]\n",
      " [0. 0. 0. 0. 0.]\n",
      " [0. 0. 0. 0. 0.]\n",
      " [0. 0. 0. 0. 0.]\n",
      " [0. 0. 0. 0. 0.]]\n",
      "2\n"
     ]
    }
   ],
   "source": [
    "zeros1=np.zeros((5,5)) \n",
    "print(zeros1)\n",
    "type(zeros1)\n",
    "print(zeros1.ndim)"
   ]
  },
  {
   "cell_type": "markdown",
   "id": "6dbeeb3d",
   "metadata": {},
   "source": [
    "# ones()"
   ]
  },
  {
   "cell_type": "code",
   "execution_count": 11,
   "id": "8ebc2957",
   "metadata": {},
   "outputs": [
    {
     "name": "stdout",
     "output_type": "stream",
     "text": [
      "[[1. 1. 1. 1.]\n",
      " [1. 1. 1. 1.]\n",
      " [1. 1. 1. 1.]\n",
      " [1. 1. 1. 1.]\n",
      " [1. 1. 1. 1.]]\n",
      "<class 'numpy.ndarray'>\n",
      "2\n"
     ]
    }
   ],
   "source": [
    "ones=np.ones((5,4))\n",
    "print(ones)\n",
    "print(type(ones))\n",
    "print(ones.ndim)"
   ]
  },
  {
   "cell_type": "markdown",
   "id": "ce768968",
   "metadata": {},
   "source": [
    "# empty()"
   ]
  },
  {
   "cell_type": "code",
   "execution_count": 12,
   "id": "6df2aee8",
   "metadata": {},
   "outputs": [
    {
     "name": "stdout",
     "output_type": "stream",
     "text": [
      "[[1. 1. 1. 1.]\n",
      " [1. 1. 1. 1.]\n",
      " [1. 1. 1. 1.]\n",
      " [1. 1. 1. 1.]\n",
      " [1. 1. 1. 1.]]\n",
      "2\n",
      "<class 'numpy.ndarray'>\n"
     ]
    }
   ],
   "source": [
    "em=np.empty((5,4))\n",
    "print(em)\n",
    "print(em.ndim)\n",
    "print(type(em))"
   ]
  },
  {
   "cell_type": "markdown",
   "id": "436b7721",
   "metadata": {},
   "source": [
    "# arange() / Same as range function in python"
   ]
  },
  {
   "cell_type": "code",
   "execution_count": 5,
   "id": "6ad39e17",
   "metadata": {},
   "outputs": [
    {
     "name": "stdout",
     "output_type": "stream",
     "text": [
      "[0 1 2 3 4]\n",
      "1\n",
      "<class 'numpy.ndarray'>\n"
     ]
    }
   ],
   "source": [
    "rn=np.arange(5)\n",
    "print(rn)\n",
    "print(rn.ndim)\n",
    "print(type(rn))"
   ]
  },
  {
   "cell_type": "markdown",
   "id": "534e830f",
   "metadata": {},
   "source": [
    "# Diagonal / eye()"
   ]
  },
  {
   "cell_type": "code",
   "execution_count": 14,
   "id": "4112fc05",
   "metadata": {},
   "outputs": [
    {
     "name": "stdout",
     "output_type": "stream",
     "text": [
      "[[1. 0. 0. 0. 0.]\n",
      " [0. 1. 0. 0. 0.]\n",
      " [0. 0. 1. 0. 0.]\n",
      " [0. 0. 0. 1. 0.]\n",
      " [0. 0. 0. 0. 1.]]\n",
      "2\n",
      "<class 'numpy.ndarray'>\n"
     ]
    }
   ],
   "source": [
    "dia=np.eye(5)\n",
    "print(dia)\n",
    "print(dia.ndim)\n",
    "print(type(dia))"
   ]
  },
  {
   "cell_type": "code",
   "execution_count": 2,
   "id": "da65861b",
   "metadata": {},
   "outputs": [
    {
     "name": "stdout",
     "output_type": "stream",
     "text": [
      "[[1. 0. 0. 0. 0.]\n",
      " [0. 1. 0. 0. 0.]\n",
      " [0. 0. 1. 0. 0.]\n",
      " [0. 0. 0. 1. 0.]\n",
      " [0. 0. 0. 0. 1.]]\n",
      "2\n",
      "<class 'numpy.ndarray'>\n"
     ]
    }
   ],
   "source": [
    "dia=np.eye(5,5)\n",
    "print(dia)\n",
    "print(dia.ndim) \n",
    "print(type(dia))"
   ]
  },
  {
   "cell_type": "markdown",
   "id": "0fdc651e",
   "metadata": {},
   "source": [
    "# linspace() "
   ]
  },
  {
   "cell_type": "code",
   "execution_count": 16,
   "id": "630c2846",
   "metadata": {},
   "outputs": [
    {
     "name": "stdout",
     "output_type": "stream",
     "text": [
      "[ 0.   2.5  5.   7.5 10. ]\n",
      "1\n",
      "<class 'numpy.ndarray'>\n"
     ]
    }
   ],
   "source": [
    "lp=np.linspace(0,10,num=5) #(Start value, stop value, incremented value)\n",
    "print(lp)\n",
    "print(lp.ndim)\n",
    "print(type(lp))"
   ]
  },
  {
   "cell_type": "markdown",
   "id": "fb1aeb2c",
   "metadata": {},
   "source": [
    "# Functions for Create Array of Random Values"
   ]
  },
  {
   "cell_type": "markdown",
   "id": "58637ada",
   "metadata": {},
   "source": [
    "# random.rand()"
   ]
  },
  {
   "cell_type": "code",
   "execution_count": 17,
   "id": "90074793",
   "metadata": {},
   "outputs": [
    {
     "name": "stdout",
     "output_type": "stream",
     "text": [
      "[0.9722058  0.46680038 0.75847717 0.58684911 0.47636002]\n",
      "1\n",
      "<class 'numpy.ndarray'>\n"
     ]
    }
   ],
   "source": [
    "#create array of 1 dimension\n",
    "var=np.random.rand(5)\n",
    "print(var)\n",
    "print(var.ndim)\n",
    "print(type(var))\n"
   ]
  },
  {
   "cell_type": "code",
   "execution_count": 18,
   "id": "43f23d81",
   "metadata": {},
   "outputs": [
    {
     "name": "stdout",
     "output_type": "stream",
     "text": [
      "[[[0.47876317 0.02209734 0.89609708 0.19893965 0.49462264]\n",
      "  [0.13868236 0.08000058 0.59651541 0.96265625 0.13358653]]\n",
      "\n",
      " [[0.01250787 0.78516544 0.77138806 0.32617385 0.58279327]\n",
      "  [0.2223472  0.47334555 0.51208344 0.6419063  0.43533394]]]\n",
      "3\n",
      "<class 'numpy.ndarray'>\n"
     ]
    }
   ],
   "source": [
    "#create array of mutliple dimension\n",
    "var1=np.random.rand(2,2,5)\n",
    "print(var1)\n",
    "print(var1.ndim)\n",
    "print(type(var1))"
   ]
  },
  {
   "cell_type": "markdown",
   "id": "d5a279fa",
   "metadata": {},
   "source": [
    "# random.randn()"
   ]
  },
  {
   "cell_type": "code",
   "execution_count": 19,
   "id": "bb602381",
   "metadata": {},
   "outputs": [
    {
     "name": "stdout",
     "output_type": "stream",
     "text": [
      "[ 0.79868959 -1.75139834  0.42955242 -0.26860688 -0.27966379]\n",
      "1\n",
      "<class 'numpy.ndarray'>\n"
     ]
    }
   ],
   "source": [
    "var2=np.random.randn(5)\n",
    "print(var2)\n",
    "print(var2.ndim)\n",
    "print(type(var2))"
   ]
  },
  {
   "cell_type": "code",
   "execution_count": 20,
   "id": "dcdbb579",
   "metadata": {},
   "outputs": [
    {
     "name": "stdout",
     "output_type": "stream",
     "text": [
      "[[[-2.302237    0.7057923 ]]\n",
      "\n",
      " [[ 0.20731096  0.36101034]]\n",
      "\n",
      " [[ 0.51011628 -0.55188118]]]\n",
      "3\n",
      "<class 'numpy.ndarray'>\n"
     ]
    }
   ],
   "source": [
    "var2=np.random.randn(3,1,2)\n",
    "print(var2)\n",
    "print(var2.ndim)\n",
    "print(type(var2))"
   ]
  },
  {
   "cell_type": "markdown",
   "id": "5c5e341e",
   "metadata": {},
   "source": [
    "# random.ranf()"
   ]
  },
  {
   "cell_type": "code",
   "execution_count": 21,
   "id": "83312501",
   "metadata": {},
   "outputs": [
    {
     "name": "stdout",
     "output_type": "stream",
     "text": [
      "[0.74977855 0.67830534 0.29411939 0.9448182  0.03789982]\n",
      "1\n",
      "<class 'numpy.ndarray'>\n"
     ]
    }
   ],
   "source": [
    "var3=np.random.ranf(5)\n",
    "print(var3)\n",
    "print(var3.ndim)\n",
    "print(type(var3))"
   ]
  },
  {
   "cell_type": "code",
   "execution_count": 22,
   "id": "72c663ac",
   "metadata": {},
   "outputs": [
    {
     "name": "stdout",
     "output_type": "stream",
     "text": [
      "[[[0.48550366]\n",
      "  [0.70427491]\n",
      "  [0.34026587]]\n",
      "\n",
      " [[0.53966913]\n",
      "  [0.07076683]\n",
      "  [0.05183946]]]\n",
      "3\n",
      "<class 'numpy.ndarray'>\n"
     ]
    }
   ],
   "source": [
    "var3=np.random.ranf((2,3,1))\n",
    "print(var3)\n",
    "print(var3.ndim)\n",
    "print(type(var3))"
   ]
  },
  {
   "cell_type": "markdown",
   "id": "2c7c082c",
   "metadata": {},
   "source": [
    "# random.randint()"
   ]
  },
  {
   "cell_type": "code",
   "execution_count": 23,
   "id": "acd1b0c6",
   "metadata": {},
   "outputs": [
    {
     "name": "stdout",
     "output_type": "stream",
     "text": [
      "[ 7  4 14  7 17]\n",
      "1\n",
      "<class 'numpy.ndarray'>\n"
     ]
    }
   ],
   "source": [
    "var4=np.random.randint(2,20,5) #(min_value, max_value, total numbers in output)\n",
    "print(var4)\n",
    "print(var4.ndim)\n",
    "print(type(var4))"
   ]
  },
  {
   "cell_type": "markdown",
   "id": "3ac36856",
   "metadata": {},
   "source": [
    "# Data Types in Numpy\n"
   ]
  },
  {
   "cell_type": "markdown",
   "id": "b4353d52",
   "metadata": {},
   "source": [
    "# .dtype"
   ]
  },
  {
   "cell_type": "code",
   "execution_count": 24,
   "id": "74d487b8",
   "metadata": {},
   "outputs": [
    {
     "name": "stdout",
     "output_type": "stream",
     "text": [
      "[1 2 3 5 8]\n",
      "int32\n"
     ]
    }
   ],
   "source": [
    "va=np.array([1,2,3,5,8])\n",
    "print(va)\n",
    "print(va.dtype)"
   ]
  },
  {
   "cell_type": "code",
   "execution_count": 25,
   "id": "9790695a",
   "metadata": {},
   "outputs": [
    {
     "name": "stdout",
     "output_type": "stream",
     "text": [
      "[1.2 2.6 5.3]\n",
      "float64\n"
     ]
    }
   ],
   "source": [
    "x=np.array([1.2,2.6,5.3])\n",
    "print(x)\n",
    "print(x.dtype)"
   ]
  },
  {
   "cell_type": "code",
   "execution_count": 26,
   "id": "832a0d48",
   "metadata": {},
   "outputs": [
    {
     "name": "stdout",
     "output_type": "stream",
     "text": [
      "['sameer' 'ansari']\n",
      "<U6\n"
     ]
    }
   ],
   "source": [
    "x=np.array([\"sameer\",\"ansari\"])\n",
    "print(x)\n",
    "print(x.dtype)"
   ]
  },
  {
   "cell_type": "code",
   "execution_count": 27,
   "id": "abd16b1d",
   "metadata": {},
   "outputs": [
    {
     "name": "stdout",
     "output_type": "stream",
     "text": [
      "['sameer' 'ansari' '7' '8' '6']\n",
      "<U11\n"
     ]
    }
   ],
   "source": [
    "x=np.array([\"sameer\",\"ansari\",7,8,6])\n",
    "print(x)\n",
    "print(x.dtype)"
   ]
  },
  {
   "cell_type": "code",
   "execution_count": 28,
   "id": "bc4de227",
   "metadata": {},
   "outputs": [
    {
     "name": "stdout",
     "output_type": "stream",
     "text": [
      "[1 2 3]\n",
      "int64\n"
     ]
    }
   ],
   "source": [
    "#Change array data type to another data type\n",
    "x=np.array([1,2,3],dtype=np.int64)\n",
    "print(x)\n",
    "print(x.dtype)"
   ]
  },
  {
   "cell_type": "code",
   "execution_count": 29,
   "id": "84b3f231",
   "metadata": {},
   "outputs": [
    {
     "name": "stdout",
     "output_type": "stream",
     "text": [
      "[1 2 3]\n",
      "[1. 2. 3.]\n",
      "[1 2 3]\n",
      "int32\n",
      "float32\n",
      "int32\n"
     ]
    }
   ],
   "source": [
    "x=np.array([1,2,3])\n",
    "y=np.float32(x)\n",
    "z=np.int_(y)\n",
    "\n",
    "print(x)\n",
    "print(y)\n",
    "print(z)\n",
    "\n",
    "print(x.dtype)\n",
    "print(y.dtype)\n",
    "print(z.dtype)\n"
   ]
  },
  {
   "cell_type": "markdown",
   "id": "5678e938",
   "metadata": {},
   "source": [
    "# .astype()"
   ]
  },
  {
   "cell_type": "code",
   "execution_count": 30,
   "id": "ab55dac0",
   "metadata": {},
   "outputs": [
    {
     "name": "stdout",
     "output_type": "stream",
     "text": [
      "[1 2 3 5]\n",
      "[1. 2. 3. 5.]\n",
      "int32\n",
      "float64\n"
     ]
    }
   ],
   "source": [
    "#change the data type of a array\n",
    "x=np.array([1,2,3,5])\n",
    "y=x.astype(float)\n",
    "print(x)\n",
    "print(y)\n",
    "print(x.dtype)\n",
    "print(y.dtype)"
   ]
  },
  {
   "cell_type": "markdown",
   "id": "fc5004aa",
   "metadata": {},
   "source": [
    "# Arithmetic Operation in Numpy"
   ]
  },
  {
   "cell_type": "markdown",
   "id": "0ed6f3f5",
   "metadata": {},
   "source": [
    "# # All the arithmetic operations are same like (+,-,*,/,**,%)"
   ]
  },
  {
   "cell_type": "markdown",
   "id": "da95496c",
   "metadata": {},
   "source": [
    "# #arithmetic operations in 1D Array"
   ]
  },
  {
   "cell_type": "markdown",
   "id": "f101c251",
   "metadata": {},
   "source": [
    "# Addition(+)"
   ]
  },
  {
   "cell_type": "code",
   "execution_count": 31,
   "id": "0fd53a64",
   "metadata": {},
   "outputs": [
    {
     "name": "stdout",
     "output_type": "stream",
     "text": [
      "[ 4  8  5 11]\n",
      "<class 'numpy.ndarray'>\n",
      "1\n",
      "int32\n"
     ]
    }
   ],
   "source": [
    "x=np.array([1,5,2,8]) \n",
    "add=x+3 \n",
    "print(add) \n",
    "print(type(x)) \n",
    "print(x.ndim) \n",
    "print(x.dtype)"
   ]
  },
  {
   "cell_type": "code",
   "execution_count": 32,
   "id": "3603c97c",
   "metadata": {},
   "outputs": [
    {
     "name": "stdout",
     "output_type": "stream",
     "text": [
      "[ 3  7  8 17]\n"
     ]
    }
   ],
   "source": [
    "x=np.array([1,2,5,8])\n",
    "y=np.array([2,5,3,9])\n",
    "add=x+y\n",
    "print(add)"
   ]
  },
  {
   "cell_type": "markdown",
   "id": "64f0c718",
   "metadata": {},
   "source": [
    "# arithmetic operations in 2D array"
   ]
  },
  {
   "cell_type": "markdown",
   "id": "68ef3e56",
   "metadata": {},
   "source": [
    "# code for all the arithmetic operations are same as below. (+,-,/,*,%,**)"
   ]
  },
  {
   "cell_type": "code",
   "execution_count": 33,
   "id": "bf389f99",
   "metadata": {},
   "outputs": [
    {
     "name": "stdout",
     "output_type": "stream",
     "text": [
      "[[1 2 5]\n",
      " [2 5 8]]\n",
      "[[5 8 3]\n",
      " [5 7 1]]\n",
      "\n",
      "int32\n",
      "int32\n",
      "\n",
      "2\n",
      "2\n",
      "[[ 6 10  8]\n",
      " [ 7 12  9]]\n",
      "\n",
      "int32\n",
      "2\n"
     ]
    }
   ],
   "source": [
    "x1=np.array([[1,2,5],[2,5,8]])\n",
    "x2=np.array([[5,8,3],[5,7,1]])\n",
    "\n",
    "print(x1)\n",
    "print(x2)\n",
    "print()\n",
    "print(x1.dtype)\n",
    "print(x2.dtype)\n",
    "print()\n",
    "print(x1.ndim)\n",
    "print(x2.ndim)\n",
    "\n",
    "x3=x1+x2\n",
    "print(x3)\n",
    "print()\n",
    "print(x3.dtype)\n",
    "print(x3.ndim)\n"
   ]
  },
  {
   "cell_type": "markdown",
   "id": "aaf9a9be",
   "metadata": {},
   "source": [
    "# Arithmetic Functions in Numpy\n"
   ]
  },
  {
   "cell_type": "code",
   "execution_count": 34,
   "id": "70bcb25a",
   "metadata": {},
   "outputs": [],
   "source": [
    "# np.min() - find the minimum value in array\n",
    "# np.max() - find the maximum value in array\n",
    "# np.argmin() - find the index of minimum value\n",
    "# np.argmax() - find the index of maximum value\n",
    "# np.sqrt() - find the square root of a array\n",
    "# np.sin() - find the sin value of array\n",
    "# np.cos() - find the cos value of array\n",
    "# np.cumsum() - add the values of a array by it's previous value. eg- input = [1,2,3], output = [1,3,6]. Useful in Statistics"
   ]
  },
  {
   "cell_type": "code",
   "execution_count": 35,
   "id": "cb48b110",
   "metadata": {},
   "outputs": [
    {
     "name": "stdout",
     "output_type": "stream",
     "text": [
      "min value is: 1\n",
      "max value is: 9\n",
      "index of min value: 0\n",
      "index of max value: 3\n"
     ]
    }
   ],
   "source": [
    "#SAMPLE OF 1D ARRAY \n",
    "\n",
    "x=np.array([1,5,3,9,2,5,4])\n",
    "\n",
    "print(\"min value is:\", np.min(x))\n",
    "\n",
    "print(\"max value is:\", np.max(x))\n",
    "\n",
    "print(\"index of min value:\", np.argmin(x))\n",
    "\n",
    "print(\"index of max value:\", np.argmax(x))"
   ]
  },
  {
   "cell_type": "code",
   "execution_count": 36,
   "id": "b0d5ab4e",
   "metadata": {},
   "outputs": [
    {
     "name": "stdout",
     "output_type": "stream",
     "text": [
      "1\n",
      "[1 5 3]\n",
      "[1 7]\n"
     ]
    }
   ],
   "source": [
    "#SAMPLE OF 2D ARRAY\n",
    "\n",
    "x1=np.array([[1,5,3],[9,8,7]])\n",
    "\n",
    "print(np.min(x1)) #Simple command\n",
    "\n",
    "print(np.min(x1,axis=0)) # axis 0 = Column\n",
    "\n",
    "print(np.min(x1,axis=1)) # axis 1 = Row"
   ]
  },
  {
   "cell_type": "code",
   "execution_count": 37,
   "id": "4d2ff6da",
   "metadata": {},
   "outputs": [
    {
     "name": "stdout",
     "output_type": "stream",
     "text": [
      "[1.         2.23606798 1.73205081 3.         1.41421356 2.23606798\n",
      " 2.        ]\n"
     ]
    }
   ],
   "source": [
    "x=np.array([1,5,3,9,2,5,4])\n",
    "\n",
    "print(np.sqrt(x))"
   ]
  },
  {
   "cell_type": "code",
   "execution_count": 38,
   "id": "3f6cf2fd",
   "metadata": {},
   "outputs": [
    {
     "name": "stdout",
     "output_type": "stream",
     "text": [
      "[[1.         2.23606798 1.73205081]\n",
      " [3.         2.82842712 2.64575131]]\n"
     ]
    }
   ],
   "source": [
    "x1=np.array([[1,5,3],[9,8,7]])\n",
    "\n",
    "print(np.sqrt(x1))"
   ]
  },
  {
   "cell_type": "code",
   "execution_count": 39,
   "id": "bb57248c",
   "metadata": {},
   "outputs": [
    {
     "name": "stdout",
     "output_type": "stream",
     "text": [
      "the sin value is: [ 0.84147098 -0.95892427  0.41211849]\n"
     ]
    }
   ],
   "source": [
    "x2=np.array([1,5,9])\n",
    "\n",
    "print(\"the sin value is:\", np.sin(x2))"
   ]
  },
  {
   "cell_type": "code",
   "execution_count": 40,
   "id": "6211040c",
   "metadata": {},
   "outputs": [
    {
     "name": "stdout",
     "output_type": "stream",
     "text": [
      "the cos value is: [-0.41614684 -0.14550003  0.54030231]\n"
     ]
    }
   ],
   "source": [
    "x3=np.array([2,8,1])\n",
    "\n",
    "print(\"the cos value is:\", np.cos(x3))"
   ]
  },
  {
   "cell_type": "code",
   "execution_count": 41,
   "id": "0946ca5f",
   "metadata": {},
   "outputs": [
    {
     "name": "stdout",
     "output_type": "stream",
     "text": [
      "the cumsum of array is: [  1   9  15  19  21  78 141]\n"
     ]
    }
   ],
   "source": [
    "x4=np.array([1,8,6,4,2,57,63])\n",
    "\n",
    "print(\"the cumsum of array is:\", np.cumsum(x4))"
   ]
  },
  {
   "cell_type": "markdown",
   "id": "f4750e0e",
   "metadata": {},
   "source": [
    "# .shape\n"
   ]
  },
  {
   "cell_type": "markdown",
   "id": "4cf54991",
   "metadata": {},
   "source": [
    "# # It is use to find the shape of an array"
   ]
  },
  {
   "cell_type": "code",
   "execution_count": 42,
   "id": "4f0ad452",
   "metadata": {},
   "outputs": [
    {
     "name": "stdout",
     "output_type": "stream",
     "text": [
      "[[1 5 8]\n",
      " [5 8 3]]\n",
      "\n",
      "int32\n",
      "\n",
      "<class 'numpy.ndarray'>\n",
      "\n",
      "2\n",
      "\n",
      "(2, 3)\n"
     ]
    }
   ],
   "source": [
    "x = np.array([[1,5,8],[5,8,3]])\n",
    "\n",
    "print(x)\n",
    "print()\n",
    "print(x.dtype)\n",
    "print()\n",
    "print(type(x))\n",
    "print()\n",
    "print(x.ndim)\n",
    "print()\n",
    "print(x.shape)"
   ]
  },
  {
   "cell_type": "code",
   "execution_count": 43,
   "id": "a492d0a2",
   "metadata": {},
   "outputs": [
    {
     "name": "stdout",
     "output_type": "stream",
     "text": [
      "[[[[[4 2 8 7 3]]]]]\n",
      "5\n",
      "\n",
      "(1, 1, 1, 1, 5)\n"
     ]
    }
   ],
   "source": [
    "x1 = np.array([4,2,8,7,3], ndmin=5)\n",
    "\n",
    "print(x1)\n",
    "print(x1.ndim)\n",
    "print()\n",
    "print(x1.shape)"
   ]
  },
  {
   "cell_type": "markdown",
   "id": "e85602cc",
   "metadata": {},
   "source": [
    "# .reshape()"
   ]
  },
  {
   "cell_type": "markdown",
   "id": "216fb807",
   "metadata": {},
   "source": [
    "# It is use to change the shape of an array. Eg:- it changes a 1D array into 2D or multiple dimension array and vise versa."
   ]
  },
  {
   "cell_type": "code",
   "execution_count": 44,
   "id": "e7b80427",
   "metadata": {},
   "outputs": [
    {
     "name": "stdout",
     "output_type": "stream",
     "text": [
      "[1 2 3 4 5 6]\n",
      "the dimension of array is: 1\n",
      "[[1 2]\n",
      " [3 4]\n",
      " [5 6]]\n",
      "the dimension of array is: 2\n"
     ]
    }
   ],
   "source": [
    "x = np.array([1,2,3,4,5,6])\n",
    "print(x)\n",
    "print(\"the dimension of array is:\",x.ndim)\n",
    "y = x.reshape(3,2)\n",
    "print(y)\n",
    "print(\"the dimension of array is:\",y.ndim)"
   ]
  },
  {
   "cell_type": "code",
   "execution_count": 45,
   "id": "45321929",
   "metadata": {},
   "outputs": [
    {
     "name": "stdout",
     "output_type": "stream",
     "text": [
      "[1 2 3 4 5 6]\n",
      "the dimension of array is: 1\n"
     ]
    },
    {
     "ename": "ValueError",
     "evalue": "cannot reshape array of size 6 into shape (3,3)",
     "output_type": "error",
     "traceback": [
      "\u001b[1;31m---------------------------------------------------------------------------\u001b[0m",
      "\u001b[1;31mValueError\u001b[0m                                Traceback (most recent call last)",
      "\u001b[1;32m~\\AppData\\Local\\Temp\\ipykernel_11852\\2595407087.py\u001b[0m in \u001b[0;36m<module>\u001b[1;34m\u001b[0m\n\u001b[0;32m      2\u001b[0m \u001b[0mprint\u001b[0m\u001b[1;33m(\u001b[0m\u001b[0mx\u001b[0m\u001b[1;33m)\u001b[0m\u001b[1;33m\u001b[0m\u001b[1;33m\u001b[0m\u001b[0m\n\u001b[0;32m      3\u001b[0m \u001b[0mprint\u001b[0m\u001b[1;33m(\u001b[0m\u001b[1;34m\"the dimension of array is:\"\u001b[0m\u001b[1;33m,\u001b[0m\u001b[0mx\u001b[0m\u001b[1;33m.\u001b[0m\u001b[0mndim\u001b[0m\u001b[1;33m)\u001b[0m\u001b[1;33m\u001b[0m\u001b[1;33m\u001b[0m\u001b[0m\n\u001b[1;32m----> 4\u001b[1;33m \u001b[0my\u001b[0m \u001b[1;33m=\u001b[0m \u001b[0mx\u001b[0m\u001b[1;33m.\u001b[0m\u001b[0mreshape\u001b[0m\u001b[1;33m(\u001b[0m\u001b[1;36m3\u001b[0m\u001b[1;33m,\u001b[0m\u001b[1;36m3\u001b[0m\u001b[1;33m)\u001b[0m\u001b[1;33m\u001b[0m\u001b[1;33m\u001b[0m\u001b[0m\n\u001b[0m\u001b[0;32m      5\u001b[0m \u001b[0mprint\u001b[0m\u001b[1;33m(\u001b[0m\u001b[0my\u001b[0m\u001b[1;33m)\u001b[0m\u001b[1;33m\u001b[0m\u001b[1;33m\u001b[0m\u001b[0m\n\u001b[0;32m      6\u001b[0m \u001b[0mprint\u001b[0m\u001b[1;33m(\u001b[0m\u001b[1;34m\"the dimension of array is:\"\u001b[0m\u001b[1;33m,\u001b[0m\u001b[0my\u001b[0m\u001b[1;33m.\u001b[0m\u001b[0mndim\u001b[0m\u001b[1;33m)\u001b[0m\u001b[1;33m\u001b[0m\u001b[1;33m\u001b[0m\u001b[0m\n",
      "\u001b[1;31mValueError\u001b[0m: cannot reshape array of size 6 into shape (3,3)"
     ]
    }
   ],
   "source": [
    "x = np.array([1,2,3,4,5,6])\n",
    "print(x)\n",
    "print(\"the dimension of array is:\",x.ndim)\n",
    "y = x.reshape(3,3)\n",
    "print(y)\n",
    "print(\"the dimension of array is:\",y.ndim)"
   ]
  },
  {
   "cell_type": "code",
   "execution_count": 47,
   "id": "8c61ec01",
   "metadata": {},
   "outputs": [
    {
     "name": "stdout",
     "output_type": "stream",
     "text": [
      "[ 1  5 65 32 20  1  5  8  0  5  7  2]\n",
      "the dimension of array is: 1\n",
      "\n",
      "[[[ 1  5]\n",
      "  [65 32]\n",
      "  [20  1]]\n",
      "\n",
      " [[ 5  8]\n",
      "  [ 0  5]\n",
      "  [ 7  2]]]\n",
      "the dimension of array is: 3\n",
      "\n",
      "[ 1  5 65 32 20  1  5  8  0  5  7  2]\n",
      "the dimension of array is: 1\n"
     ]
    }
   ],
   "source": [
    "x2 = np.array([1,5,65,32,20,1,5,8,0,5,7,2]) #It is 1D array \n",
    "\n",
    "print(x2)\n",
    "print(\"the dimension of array is:\", x2.ndim)\n",
    "print()\n",
    "x3 = x2.reshape(2,3,2) #With the use reshape we change it into 3D array\n",
    "\n",
    "print(x3)\n",
    "print(\"the dimension of array is:\", x3.ndim)\n",
    "print()\n",
    "\n",
    "x4 = x3.reshape(-1) # Change a 3D array into 1D array\n",
    "\n",
    "print(x4)\n",
    "print(\"the dimension of array is:\", x4.ndim)"
   ]
  },
  {
   "cell_type": "markdown",
   "id": "63533b63",
   "metadata": {},
   "source": [
    "# Broadcasting in Numpy"
   ]
  },
  {
   "cell_type": "code",
   "execution_count": 3,
   "id": "ee10760f",
   "metadata": {},
   "outputs": [
    {
     "name": "stdout",
     "output_type": "stream",
     "text": [
      "[1 2 3]\n",
      "\n",
      "(3,)\n",
      "\n",
      "[1 2 3]\n",
      "\n",
      "(3, 1)\n",
      "\n",
      "[[ 3  4  5]\n",
      " [ 8  9 10]\n",
      " [ 6  7  8]]\n"
     ]
    }
   ],
   "source": [
    "#Addition of same or different Dimension array\n",
    "\n",
    "x = np.array([1,2,3])\n",
    "\n",
    "print(x)\n",
    "print()\n",
    "print(x.shape)\n",
    "print()\n",
    "\n",
    "x1 = np.array([[2],[7],[5]])\n",
    "\n",
    "print(x)\n",
    "print()\n",
    "print(x1.shape)\n",
    "print()\n",
    "print(x+x1)"
   ]
  },
  {
   "cell_type": "code",
   "execution_count": 11,
   "id": "c163f3da",
   "metadata": {},
   "outputs": [
    {
     "name": "stdout",
     "output_type": "stream",
     "text": [
      "(2, 1)\n",
      "(2, 3)\n",
      "\n",
      "[[ 2  3  4]\n",
      " [ 4 10 11]]\n",
      "(2, 3)\n"
     ]
    }
   ],
   "source": [
    "x = np.array([[1],[2]])\n",
    "print(x.shape)\n",
    "x1 = np.array([[1,2,3],[2,8,9]])\n",
    "print(x1.shape)\n",
    "print()\n",
    "y = x+x1\n",
    "print(y)\n",
    "print(y.shape)"
   ]
  },
  {
   "cell_type": "markdown",
   "id": "baac9305",
   "metadata": {},
   "source": [
    "# Indexing "
   ]
  },
  {
   "cell_type": "code",
   "execution_count": 13,
   "id": "598223fa",
   "metadata": {},
   "outputs": [
    {
     "name": "stdout",
     "output_type": "stream",
     "text": [
      "1\n",
      "1\n"
     ]
    }
   ],
   "source": [
    "#find index in 1D array\n",
    "x = np.array([1,8,3,5])\n",
    "             #0,1,2,3\n",
    "            #-4,-3,-2,-1\n",
    "print(x[0])\n",
    "print(x[-4])"
   ]
  },
  {
   "cell_type": "code",
   "execution_count": 16,
   "id": "3542c61e",
   "metadata": {},
   "outputs": [
    {
     "name": "stdout",
     "output_type": "stream",
     "text": [
      "[[1 2 2]\n",
      " [2 8 9]]\n",
      "2\n",
      "\n",
      "8\n"
     ]
    }
   ],
   "source": [
    "#find index in 2D array\n",
    "x = np.array([[1,2,2],[2,8,9]])\n",
    "print(x)\n",
    "print(x.ndim)\n",
    "print()\n",
    "print(x[1,1])"
   ]
  },
  {
   "cell_type": "code",
   "execution_count": 22,
   "id": "00dc01f6",
   "metadata": {},
   "outputs": [
    {
     "name": "stdout",
     "output_type": "stream",
     "text": [
      "[[[1 5 6]\n",
      "  [5 2 7]\n",
      "  [2 9 1]]]\n",
      "the dimension of array is: 3\n",
      "\n",
      "9\n"
     ]
    }
   ],
   "source": [
    "#find index in 3D array\n",
    "x = np.array([[[1,5,6],[5,2,7],[2,9,1]]])\n",
    "print(x)\n",
    "print(\"the dimension of array is:\",x.ndim)\n",
    "print()\n",
    "print(x[0,2,1])"
   ]
  },
  {
   "cell_type": "markdown",
   "id": "90c915d1",
   "metadata": {},
   "source": [
    "# Slicing"
   ]
  },
  {
   "cell_type": "code",
   "execution_count": 24,
   "id": "5ef561f2",
   "metadata": {},
   "outputs": [
    {
     "name": "stdout",
     "output_type": "stream",
     "text": [
      "[1 5 3 8 5 2 7 8]\n",
      "[1 3 5 7 8]\n"
     ]
    }
   ],
   "source": [
    "#Slicing in 1D array\n",
    "x = np.array([1,5,3,8,5,2,7,8,8])\n",
    "             #0,1,2,3,4,5,6,7,8\n",
    "print(x[0:8:1])#start:stop:step\n",
    "print(x[0::2])"
   ]
  },
  {
   "cell_type": "code",
   "execution_count": 28,
   "id": "f648f1b2",
   "metadata": {},
   "outputs": [
    {
     "name": "stdout",
     "output_type": "stream",
     "text": [
      "[[1 5 3 8 5]\n",
      " [5 5 2 9 2]]\n",
      "\n",
      "2\n",
      "\n",
      "[5 2 2]\n",
      "[5 3 8 5]\n"
     ]
    }
   ],
   "source": [
    "#Slicing in 2D array\n",
    "x = np.array([[1,5,3,8,5],[5,5,2,9,2]])\n",
    "print(x)\n",
    "print()\n",
    "print(x.ndim)\n",
    "print()\n",
    "print(x[1,0:5:2])\n",
    "print(x[0,1::1])"
   ]
  },
  {
   "cell_type": "markdown",
   "id": "6b5fc8cd",
   "metadata": {},
   "source": [
    "# Iteration :- With the help of FOR Loop"
   ]
  },
  {
   "cell_type": "code",
   "execution_count": 30,
   "id": "57178417",
   "metadata": {},
   "outputs": [
    {
     "name": "stdout",
     "output_type": "stream",
     "text": [
      "[ 1  8  3  8 24 54]\n",
      "\n",
      "1\n",
      "8\n",
      "3\n",
      "8\n",
      "24\n",
      "54\n"
     ]
    }
   ],
   "source": [
    "#Iteration in 1D array\n",
    "x = np.array([1,8,3,8,24,54])\n",
    "print(x)\n",
    "print()\n",
    "for i in x:\n",
    "    print(i)"
   ]
  },
  {
   "cell_type": "code",
   "execution_count": 43,
   "id": "8389e39a",
   "metadata": {},
   "outputs": [
    {
     "name": "stdout",
     "output_type": "stream",
     "text": [
      "[[1 2 3 4]\n",
      " [1 5 9 8]]\n",
      "\n",
      "1\n",
      "2\n",
      "3\n",
      "4\n",
      "1\n",
      "5\n",
      "9\n",
      "8\n"
     ]
    }
   ],
   "source": [
    "#Iteration in 2D array\n",
    "x = np.array([[1,2,3,4],[1,5,9,8]])\n",
    "print(x)\n",
    "print()\n",
    "for i in x:\n",
    "    for g in i:\n",
    "        print(g)"
   ]
  },
  {
   "cell_type": "code",
   "execution_count": 45,
   "id": "7b12a0b7",
   "metadata": {},
   "outputs": [
    {
     "name": "stdout",
     "output_type": "stream",
     "text": [
      "[[[1 2 3]\n",
      "  [4 5 6]\n",
      "  [7 8 9]]]\n",
      "3\n",
      "\n",
      "1\n",
      "2\n",
      "3\n",
      "4\n",
      "5\n",
      "6\n",
      "7\n",
      "8\n",
      "9\n"
     ]
    }
   ],
   "source": [
    "#Iteration in 3D array\n",
    "x = np.array([[[1,2,3],[4,5,6],[7,8,9]]])\n",
    "print(x)\n",
    "print(x.ndim)\n",
    "print()\n",
    "\n",
    "for i in x:\n",
    "    for j in i:\n",
    "        for h in j:\n",
    "            print(h)"
   ]
  },
  {
   "cell_type": "markdown",
   "id": "9f24bac8",
   "metadata": {},
   "source": [
    "# Iteration :- With the help of np.nditer()"
   ]
  },
  {
   "cell_type": "code",
   "execution_count": null,
   "id": "be5a9ea7",
   "metadata": {},
   "outputs": [],
   "source": [
    "#This function work with FOR Loop.\n",
    "#np.nditer() helpful in iteration of 2D or multiple dimension array. "
   ]
  },
  {
   "cell_type": "code",
   "execution_count": 53,
   "id": "5a02fadb",
   "metadata": {},
   "outputs": [
    {
     "name": "stdout",
     "output_type": "stream",
     "text": [
      "[[[1 2 3]\n",
      "  [4 5 6]\n",
      "  [7 8 9]]]\n",
      "3\n",
      "\n",
      "1\n",
      "2\n",
      "3\n",
      "4\n",
      "5\n",
      "6\n",
      "7\n",
      "8\n",
      "9\n"
     ]
    }
   ],
   "source": [
    "x = np.array([[[1,2,3],[4,5,6],[7,8,9]]]) \n",
    "print(x) \n",
    "print(x.ndim) \n",
    "print()\n",
    "\n",
    "for y in np.nditer(x): \n",
    "    print(y)"
   ]
  },
  {
   "cell_type": "markdown",
   "id": "e30aa35d",
   "metadata": {},
   "source": [
    "# np.ndenumerate()"
   ]
  },
  {
   "cell_type": "code",
   "execution_count": 52,
   "id": "ebd1a1b3",
   "metadata": {},
   "outputs": [],
   "source": [
    "# This function helps to find the index values in a array. \n",
    "#Work with FOR Loop. \n",
    "#With the help of this function we perform iteration with index value at same time.\n"
   ]
  },
  {
   "cell_type": "code",
   "execution_count": 60,
   "id": "b418d874",
   "metadata": {},
   "outputs": [
    {
     "name": "stdout",
     "output_type": "stream",
     "text": [
      "[[[1 2 3]\n",
      "  [4 5 6]\n",
      "  [7 8 9]]]\n",
      "3\n",
      "\n",
      "(0, 0, 0) 1\n",
      "(0, 0, 1) 2\n",
      "(0, 0, 2) 3\n",
      "(0, 1, 0) 4\n",
      "(0, 1, 1) 5\n",
      "(0, 1, 2) 6\n",
      "(0, 2, 0) 7\n",
      "(0, 2, 1) 8\n",
      "(0, 2, 2) 9\n"
     ]
    }
   ],
   "source": [
    "x = np.array([[[1,2,3],[4,5,6],[7,8,9]]]) \n",
    "print(x) \n",
    "print(x.ndim) \n",
    "print()\n",
    "\n",
    "for y,d in np.ndenumerate(x): \n",
    "    print(y,d)"
   ]
  },
  {
   "cell_type": "markdown",
   "id": "6ed3be7d",
   "metadata": {},
   "source": [
    "# .copy() VS .view()"
   ]
  },
  {
   "cell_type": "code",
   "execution_count": 7,
   "id": "33102c9e",
   "metadata": {},
   "outputs": [
    {
     "name": "stdout",
     "output_type": "stream",
     "text": [
      "x =  [1 8 5]\n",
      "y =  [ 1  8 40]\n"
     ]
    }
   ],
   "source": [
    "x = np.array([1,8,5])\n",
    "y= x.copy()\n",
    "y[2]=40\n",
    "print(\"x = \",x)\n",
    "print(\"y = \",y)"
   ]
  },
  {
   "cell_type": "code",
   "execution_count": 6,
   "id": "6d1499e2",
   "metadata": {},
   "outputs": [
    {
     "name": "stdout",
     "output_type": "stream",
     "text": [
      "x =  [ 1 20  5]\n",
      "y =  [ 1 20  5]\n"
     ]
    }
   ],
   "source": [
    "x = np.array([1,8,5])\n",
    "y= x.view()\n",
    "x[1]=20\n",
    "print(\"x = \",x)\n",
    "print(\"y = \",y)"
   ]
  },
  {
   "cell_type": "markdown",
   "id": "d1ffdced",
   "metadata": {},
   "source": [
    "# Join Array"
   ]
  },
  {
   "cell_type": "markdown",
   "id": "13312db4",
   "metadata": {},
   "source": [
    "# Join Array:- Joining means putting contents of two or more arrays in a single array."
   ]
  },
  {
   "cell_type": "markdown",
   "id": "635cc928",
   "metadata": {},
   "source": [
    "# np.concatenate(()) :- this command combine two arrays and made a new array. "
   ]
  },
  {
   "cell_type": "code",
   "execution_count": 10,
   "id": "94d8e48c",
   "metadata": {},
   "outputs": [
    {
     "name": "stdout",
     "output_type": "stream",
     "text": [
      "[1 2 3 4 5 6]\n"
     ]
    }
   ],
   "source": [
    "#Joining of 1D arrays.\n",
    "x = np.array([1,2,3])\n",
    "y = np.array([4,5,6])\n",
    "z = np.concatenate((x,y))\n",
    "print(z)"
   ]
  },
  {
   "cell_type": "code",
   "execution_count": 16,
   "id": "cacffe12",
   "metadata": {},
   "outputs": [
    {
     "name": "stdout",
     "output_type": "stream",
     "text": [
      "[[1 2 3]\n",
      " [4 5 6]]\n"
     ]
    }
   ],
   "source": [
    "#joining of 2D or multi dimension arrays.\n",
    "x = np.array([[1,2,3]])\n",
    "y = np.array([[4,5,6]])\n",
    "z = np.concatenate((x,y),axis=0)\n",
    "print(z)"
   ]
  },
  {
   "cell_type": "markdown",
   "id": "f535c891",
   "metadata": {},
   "source": [
    "# np.stack() :- it merge two array and make a new array.\n",
    "# np.hstack() :- it merges arrays horizontally / rows.\n",
    "# np.vstack :- it merges arrays vertically / columns.\n",
    "# np.dstack :- it merges arrays height wise."
   ]
  },
  {
   "cell_type": "code",
   "execution_count": 24,
   "id": "4182f709",
   "metadata": {},
   "outputs": [
    {
     "name": "stdout",
     "output_type": "stream",
     "text": [
      "[[1 2 3]\n",
      " [4 5 6]]\n",
      "\n",
      "[1 2 3 4 5 6]\n",
      "\n",
      "[[1 2 3]\n",
      " [4 5 6]]\n",
      "\n",
      "[[[1 4]\n",
      "  [2 5]\n",
      "  [3 6]]]\n"
     ]
    }
   ],
   "source": [
    "x = np.array([1,2,3])\n",
    "y = np.array([4,5,6])\n",
    "\n",
    "z = np.stack((x,y),axis=0)\n",
    "print(z)\n",
    "print()\n",
    "\n",
    "a = np.hstack((x,y)) #row\n",
    "print(a)\n",
    "print()\n",
    "\n",
    "b = np.vstack((x,y)) #column\n",
    "print(b)\n",
    "print()\n",
    "\n",
    "c = np.dstack((x,y)) #height\n",
    "print(c)\n"
   ]
  },
  {
   "cell_type": "markdown",
   "id": "fbe92a69",
   "metadata": {},
   "source": [
    "# Split Array :- splitting breaks one array into multiple."
   ]
  },
  {
   "cell_type": "markdown",
   "id": "aa938cfd",
   "metadata": {},
   "source": [
    "# np.split()"
   ]
  },
  {
   "cell_type": "code",
   "execution_count": 28,
   "id": "c211de6e",
   "metadata": {},
   "outputs": [
    {
     "name": "stdout",
     "output_type": "stream",
     "text": [
      "[array([1, 5, 2]), array([8, 7, 3])]\n",
      "\n",
      "<class 'list'>\n",
      "\n",
      "[1 5 2]\n"
     ]
    }
   ],
   "source": [
    "#splitting of 1D array\n",
    "x = np.array([1,5,2,8,7,3])\n",
    "y = np.split(x,2)\n",
    "print(y)\n",
    "print()\n",
    "print(type(y))\n",
    "print()\n",
    "print(y[0])"
   ]
  },
  {
   "cell_type": "code",
   "execution_count": 46,
   "id": "0897da02",
   "metadata": {},
   "outputs": [
    {
     "name": "stdout",
     "output_type": "stream",
     "text": [
      "[array([[1, 5, 2]]), array([[1, 8, 6]]), array([[4, 4, 2]])]\n",
      "\n",
      "[array([[1],\n",
      "       [1],\n",
      "       [4]]), array([[5],\n",
      "       [8],\n",
      "       [4]]), array([[2],\n",
      "       [6],\n",
      "       [2]])]\n"
     ]
    }
   ],
   "source": [
    "#splitting of 2D or multi dimension arrays.\n",
    "x = np.array([[1,5,2],[1,8,6],[4,4,2]])\n",
    "y = np.split(x,3)\n",
    "z = np.split(x,3,axis=1)\n",
    "print(y)\n",
    "print()\n",
    "print(z)"
   ]
  },
  {
   "cell_type": "markdown",
   "id": "3c6687d3",
   "metadata": {},
   "source": [
    "# Search Array :- Search an array for a certain value, and return the indexes that get a match.\n"
   ]
  },
  {
   "cell_type": "markdown",
   "id": "b31cefde",
   "metadata": {},
   "source": [
    "# np.where() :- in where function we write array variable and add , then we write the value and in output it gives the index number of that value in the array.\n",
    "# We can perform any arithmetic functions and use operaters in np.where()"
   ]
  },
  {
   "cell_type": "code",
   "execution_count": 54,
   "id": "4e7e56b5",
   "metadata": {},
   "outputs": [
    {
     "name": "stdout",
     "output_type": "stream",
     "text": [
      "(array([1, 4], dtype=int64),)\n"
     ]
    }
   ],
   "source": [
    "x = np.array([1,2,3,1,2,5,7,5,3,4,7])\n",
    "y = np.where(x==2)\n",
    "print(y)"
   ]
  },
  {
   "cell_type": "code",
   "execution_count": 64,
   "id": "3d6422c1",
   "metadata": {},
   "outputs": [
    {
     "name": "stdout",
     "output_type": "stream",
     "text": [
      "(array([2, 8], dtype=int64),)\n",
      "\n",
      "(array([ 0,  3,  6,  9, 10], dtype=int64),)\n"
     ]
    }
   ],
   "source": [
    "x = np.array([1,2,3,1,2,5,7,5,3,4,7])\n",
    "y = np.where((x-2)==1)\n",
    "z = np.where((x%3)==1)\n",
    "print(y)\n",
    "print()\n",
    "print(z)"
   ]
  },
  {
   "cell_type": "markdown",
   "id": "1f3e8bb1",
   "metadata": {},
   "source": [
    "# Search Sorted Array :- which performs a binary search in the array, and returns the index where the specified value would be inserted to maintain the search order."
   ]
  },
  {
   "cell_type": "markdown",
   "id": "e01087c4",
   "metadata": {},
   "source": [
    "# np.searchsorted()"
   ]
  },
  {
   "cell_type": "code",
   "execution_count": 84,
   "id": "c98154dc",
   "metadata": {},
   "outputs": [
    {
     "name": "stdout",
     "output_type": "stream",
     "text": [
      "3\n",
      "[3 3]\n"
     ]
    }
   ],
   "source": [
    "x = np.array([1,2,3,6,7,8,9,10])\n",
    "y = np.searchsorted(x,4)\n",
    "z = np.searchsorted(x,[4,5])\n",
    "\n",
    "print(y)\n",
    "print(z)"
   ]
  },
  {
   "cell_type": "markdown",
   "id": "542ac393",
   "metadata": {},
   "source": [
    "# Sort Array :- Ordered sequence in any sequence that has an order corresponding to elements, like numeric, alphabetical, ascending or descending."
   ]
  },
  {
   "cell_type": "markdown",
   "id": "8435cca0",
   "metadata": {},
   "source": [
    "# np.sort() "
   ]
  },
  {
   "cell_type": "code",
   "execution_count": 86,
   "id": "df532201",
   "metadata": {},
   "outputs": [
    {
     "name": "stdout",
     "output_type": "stream",
     "text": [
      "[ 1  2  3  4  7  8  9 10 10 12 15]\n"
     ]
    }
   ],
   "source": [
    "#example of 1D Array\n",
    "x = np.array([1,8,7,3,2,4,9,10,15,12,10])\n",
    "print(np.sort(x))"
   ]
  },
  {
   "cell_type": "code",
   "execution_count": 87,
   "id": "7ad37f4e",
   "metadata": {},
   "outputs": [
    {
     "name": "stdout",
     "output_type": "stream",
     "text": [
      "['a' 'b' 'c' 'g' 'z']\n"
     ]
    }
   ],
   "source": [
    "x = np.array([\"a\",\"g\",\"c\",\"z\",\"b\"])\n",
    "print(np.sort(x))"
   ]
  },
  {
   "cell_type": "code",
   "execution_count": 89,
   "id": "d5730073",
   "metadata": {},
   "outputs": [
    {
     "name": "stdout",
     "output_type": "stream",
     "text": [
      "[[ 1  7  8]\n",
      " [ 3  4  9]\n",
      " [10 10 15]]\n"
     ]
    }
   ],
   "source": [
    "#example of 2D or Multi dimension array\n",
    "x = np.array([[1,8,7],[3,4,9],[10,15,10]])\n",
    "print(np.sort(x))"
   ]
  },
  {
   "cell_type": "markdown",
   "id": "67d940ba",
   "metadata": {},
   "source": [
    "# Filter Array :- Getting some elements out of an existing array and creating a new array out of them."
   ]
  },
  {
   "cell_type": "code",
   "execution_count": 92,
   "id": "d3955492",
   "metadata": {},
   "outputs": [
    {
     "name": "stdout",
     "output_type": "stream",
     "text": [
      "[1 9]\n"
     ]
    }
   ],
   "source": [
    "# We use this function to filter any datatype in array and it will create a new filtered array\n",
    "x = np.array([1,5,8,9])\n",
    "y = [True,False,False,True]\n",
    "z = x[y]\n",
    "print(z)"
   ]
  },
  {
   "cell_type": "markdown",
   "id": "421265f6",
   "metadata": {},
   "source": [
    "# Functions in Numpy\n",
    "# 1. (Arithmetic Functions) :- Shuffle, Unique, Resize, Flatten, Ravel "
   ]
  },
  {
   "cell_type": "markdown",
   "id": "e9c9e2ad",
   "metadata": {},
   "source": [
    "# np.random.shuffle()"
   ]
  },
  {
   "cell_type": "code",
   "execution_count": 102,
   "id": "add86e03",
   "metadata": {},
   "outputs": [
    {
     "name": "stdout",
     "output_type": "stream",
     "text": [
      "[ 1  5 52  2 21 78]\n"
     ]
    }
   ],
   "source": [
    "x = np.array([1,5,78,52,21,2])\n",
    "np.random.shuffle(x)\n",
    "print(x)"
   ]
  },
  {
   "cell_type": "code",
   "execution_count": 103,
   "id": "368880fe",
   "metadata": {},
   "outputs": [
    {
     "name": "stdout",
     "output_type": "stream",
     "text": [
      "None\n"
     ]
    }
   ],
   "source": [
    "# Note:- We cannot put np.random.shuffle() in a variable because it doesn't work.\n",
    "x = np.array([1,5,78,52,21,2])\n",
    "y = np.random.shuffle(x)\n",
    "print(y)"
   ]
  },
  {
   "cell_type": "markdown",
   "id": "885760bd",
   "metadata": {},
   "source": [
    "# np.unique()"
   ]
  },
  {
   "cell_type": "code",
   "execution_count": 104,
   "id": "160563c5",
   "metadata": {},
   "outputs": [
    {
     "name": "stdout",
     "output_type": "stream",
     "text": [
      "[1 2 3 4 5 7 8 9]\n"
     ]
    }
   ],
   "source": [
    "x = np.array([1,5,2,7,4,3,5,2,9,8])\n",
    "y = np.unique(x)\n",
    "print(y)"
   ]
  },
  {
   "cell_type": "code",
   "execution_count": 107,
   "id": "ff7e0d45",
   "metadata": {},
   "outputs": [
    {
     "name": "stdout",
     "output_type": "stream",
     "text": [
      "(array([1, 2, 3, 4, 5, 7, 8, 9]), array([0, 2, 5, 4, 1, 3, 9, 8], dtype=int64), array([1, 2, 1, 1, 2, 1, 1, 1], dtype=int64))\n"
     ]
    }
   ],
   "source": [
    "x = np.array([1,5,2,7,4,3,5,2,9,8])\n",
    "y = np.unique(x,return_counts=True,return_index=True) # Parameters to find the index values and total counts of a array.\n",
    "print(y)"
   ]
  },
  {
   "cell_type": "markdown",
   "id": "f8f0fa2f",
   "metadata": {},
   "source": [
    "# np.resize()"
   ]
  },
  {
   "cell_type": "code",
   "execution_count": 109,
   "id": "8e3e0439",
   "metadata": {},
   "outputs": [
    {
     "name": "stdout",
     "output_type": "stream",
     "text": [
      "[[1 5]\n",
      " [7 3]\n",
      " [5 4]\n",
      " [3 2]]\n"
     ]
    }
   ],
   "source": [
    "# Its helps in change a 1D array to 2D or Multi dimension array.\n",
    "x = np.array([1,5,7,3,5,4,3,2])\n",
    "y = np.resize(x,(4,2))\n",
    "print(y)"
   ]
  },
  {
   "cell_type": "markdown",
   "id": "fd10b6f3",
   "metadata": {},
   "source": [
    "# .flatten()"
   ]
  },
  {
   "cell_type": "code",
   "execution_count": 110,
   "id": "57c0597d",
   "metadata": {},
   "outputs": [
    {
     "name": "stdout",
     "output_type": "stream",
     "text": [
      "[[1 2]\n",
      " [2 5]\n",
      " [4 5]\n",
      " [9 8]]\n",
      "\n",
      "[1 2 2 5 4 5 9 8]\n"
     ]
    }
   ],
   "source": [
    "# It converts a 2D array into 1D array.\n",
    "x = np.array([[1,2],[2,5],[4,5],[9,8]])\n",
    "print(x)\n",
    "print()\n",
    "print(x.flatten())"
   ]
  },
  {
   "cell_type": "markdown",
   "id": "fc65245c",
   "metadata": {},
   "source": [
    "# .ravel()"
   ]
  },
  {
   "cell_type": "code",
   "execution_count": 111,
   "id": "dc5a74c6",
   "metadata": {},
   "outputs": [
    {
     "name": "stdout",
     "output_type": "stream",
     "text": [
      "[[1 2]\n",
      " [2 5]\n",
      " [4 5]\n",
      " [9 8]]\n",
      "\n",
      "[1 2 2 5 4 5 9 8]\n"
     ]
    }
   ],
   "source": [
    "# Same as flatten()\n",
    "# It converts a 2D array into 1D array.\n",
    "x = np.array([[1,2],[2,5],[4,5],[9,8]])\n",
    "print(x)\n",
    "print()\n",
    "print(x.ravel())"
   ]
  },
  {
   "cell_type": "markdown",
   "id": "38efec9a",
   "metadata": {},
   "source": [
    "# np.insert()\n"
   ]
  },
  {
   "cell_type": "code",
   "execution_count": 112,
   "id": "0e4853bd",
   "metadata": {},
   "outputs": [
    {
     "name": "stdout",
     "output_type": "stream",
     "text": [
      "[1 2 5 7]\n",
      "\n",
      "[1 2 3 5 7]\n"
     ]
    }
   ],
   "source": [
    "# It is use to insert a data into existing array.\n",
    "# Note:- always insert a same data type as array because it doesn't accept changed data type.\n",
    "# We can insert multiple data at multiple indexes.\n",
    "x = np.array([1,2,5,7])\n",
    "print(x)\n",
    "print()\n",
    "y = np.insert(x,2,3) # (variable of array, index value where you want to insert data, insert data which you want to add)\n",
    "print(y)"
   ]
  },
  {
   "cell_type": "code",
   "execution_count": 117,
   "id": "0313d216",
   "metadata": {},
   "outputs": [
    {
     "name": "stdout",
     "output_type": "stream",
     "text": [
      "[1 2 5 7]\n",
      "\n",
      "[ 1  2 40  5  7 40]\n"
     ]
    }
   ],
   "source": [
    "# We can insert data at multiple indexes in an array.\n",
    "x = np.array([1,2,5,7])\n",
    "print(x)\n",
    "print()\n",
    "y = np.insert(x,(2,4),40) # (variable of array, index value where you want to insert data, insert data which you want to add)\n",
    "print(y)"
   ]
  },
  {
   "cell_type": "code",
   "execution_count": 118,
   "id": "3bad9d0d",
   "metadata": {},
   "outputs": [
    {
     "name": "stdout",
     "output_type": "stream",
     "text": [
      "[1 2 5 7]\n",
      "\n",
      "[ 1  2 40  5  7 10]\n"
     ]
    }
   ],
   "source": [
    "# We can insert data at multiple indexes in an array.\n",
    "x = np.array([1,2,5,7])\n",
    "print(x)\n",
    "print()\n",
    "y = np.insert(x,(2,4),(40,10)) # (variable of array, index value where you want to insert data, insert data which you want to add)\n",
    "print(y)"
   ]
  },
  {
   "cell_type": "code",
   "execution_count": 120,
   "id": "7cc0298b",
   "metadata": {},
   "outputs": [
    {
     "name": "stdout",
     "output_type": "stream",
     "text": [
      "[1 2 5 7]\n",
      "\n"
     ]
    },
    {
     "ename": "ValueError",
     "evalue": "invalid literal for int() with base 10: 'k'",
     "output_type": "error",
     "traceback": [
      "\u001b[1;31m---------------------------------------------------------------------------\u001b[0m",
      "\u001b[1;31mValueError\u001b[0m                                Traceback (most recent call last)",
      "\u001b[1;32m~\\AppData\\Local\\Temp\\ipykernel_14476\\3138466703.py\u001b[0m in \u001b[0;36m<module>\u001b[1;34m\u001b[0m\n\u001b[0;32m      3\u001b[0m \u001b[0mprint\u001b[0m\u001b[1;33m(\u001b[0m\u001b[0mx\u001b[0m\u001b[1;33m)\u001b[0m\u001b[1;33m\u001b[0m\u001b[1;33m\u001b[0m\u001b[0m\n\u001b[0;32m      4\u001b[0m \u001b[0mprint\u001b[0m\u001b[1;33m(\u001b[0m\u001b[1;33m)\u001b[0m\u001b[1;33m\u001b[0m\u001b[1;33m\u001b[0m\u001b[0m\n\u001b[1;32m----> 5\u001b[1;33m \u001b[0my\u001b[0m \u001b[1;33m=\u001b[0m \u001b[0mnp\u001b[0m\u001b[1;33m.\u001b[0m\u001b[0minsert\u001b[0m\u001b[1;33m(\u001b[0m\u001b[0mx\u001b[0m\u001b[1;33m,\u001b[0m\u001b[1;36m2\u001b[0m\u001b[1;33m,\u001b[0m\u001b[1;34m\"k\"\u001b[0m\u001b[1;33m)\u001b[0m \u001b[1;31m# (variable of array, index value where you want to insert data, insert data which you want to add)\u001b[0m\u001b[1;33m\u001b[0m\u001b[1;33m\u001b[0m\u001b[0m\n\u001b[0m\u001b[0;32m      6\u001b[0m \u001b[0mprint\u001b[0m\u001b[1;33m(\u001b[0m\u001b[0my\u001b[0m\u001b[1;33m)\u001b[0m\u001b[1;33m\u001b[0m\u001b[1;33m\u001b[0m\u001b[0m\n",
      "\u001b[1;32m<__array_function__ internals>\u001b[0m in \u001b[0;36minsert\u001b[1;34m(*args, **kwargs)\u001b[0m\n",
      "\u001b[1;32m~\\Anaconda3\\lib\\site-packages\\numpy\\lib\\function_base.py\u001b[0m in \u001b[0;36minsert\u001b[1;34m(arr, obj, values, axis)\u001b[0m\n\u001b[0;32m   4710\u001b[0m         \u001b[1;31m# There are some object array corner cases here, but we cannot avoid\u001b[0m\u001b[1;33m\u001b[0m\u001b[1;33m\u001b[0m\u001b[0m\n\u001b[0;32m   4711\u001b[0m         \u001b[1;31m# that:\u001b[0m\u001b[1;33m\u001b[0m\u001b[1;33m\u001b[0m\u001b[0m\n\u001b[1;32m-> 4712\u001b[1;33m         \u001b[0mvalues\u001b[0m \u001b[1;33m=\u001b[0m \u001b[0marray\u001b[0m\u001b[1;33m(\u001b[0m\u001b[0mvalues\u001b[0m\u001b[1;33m,\u001b[0m \u001b[0mcopy\u001b[0m\u001b[1;33m=\u001b[0m\u001b[1;32mFalse\u001b[0m\u001b[1;33m,\u001b[0m \u001b[0mndmin\u001b[0m\u001b[1;33m=\u001b[0m\u001b[0marr\u001b[0m\u001b[1;33m.\u001b[0m\u001b[0mndim\u001b[0m\u001b[1;33m,\u001b[0m \u001b[0mdtype\u001b[0m\u001b[1;33m=\u001b[0m\u001b[0marr\u001b[0m\u001b[1;33m.\u001b[0m\u001b[0mdtype\u001b[0m\u001b[1;33m)\u001b[0m\u001b[1;33m\u001b[0m\u001b[1;33m\u001b[0m\u001b[0m\n\u001b[0m\u001b[0;32m   4713\u001b[0m         \u001b[1;32mif\u001b[0m \u001b[0mindices\u001b[0m\u001b[1;33m.\u001b[0m\u001b[0mndim\u001b[0m \u001b[1;33m==\u001b[0m \u001b[1;36m0\u001b[0m\u001b[1;33m:\u001b[0m\u001b[1;33m\u001b[0m\u001b[1;33m\u001b[0m\u001b[0m\n\u001b[0;32m   4714\u001b[0m             \u001b[1;31m# broadcasting is very different here, since a[:,0,:] = ... behaves\u001b[0m\u001b[1;33m\u001b[0m\u001b[1;33m\u001b[0m\u001b[0m\n",
      "\u001b[1;31mValueError\u001b[0m: invalid literal for int() with base 10: 'k'"
     ]
    }
   ],
   "source": [
    "# Note:- always insert a same data type as array because it doesn't accept changed data type like float, string etc.\n",
    "x = np.array([1,2,5,7])\n",
    "print(x)\n",
    "print()\n",
    "y = np.insert(x,2,\"k\") # (variable of array, index value where you want to insert data, insert data which you want to add)\n",
    "print(y)"
   ]
  },
  {
   "cell_type": "code",
   "execution_count": 121,
   "id": "57fa9a62",
   "metadata": {},
   "outputs": [
    {
     "name": "stdout",
     "output_type": "stream",
     "text": [
      "[1 5 2 5 5]\n"
     ]
    }
   ],
   "source": [
    "# Example of 2D Array\n",
    "x = np.array([[1,2],[5,5]])\n",
    "y = np.insert(x,1,5)\n",
    "print(y)"
   ]
  },
  {
   "cell_type": "code",
   "execution_count": 124,
   "id": "932b9f8f",
   "metadata": {},
   "outputs": [
    {
     "name": "stdout",
     "output_type": "stream",
     "text": [
      "[[5 1 5 2]\n",
      " [5 5 5 5]]\n"
     ]
    }
   ],
   "source": [
    "# Example of 2D Array with axis\n",
    "# We can insert multiple data at multiple indexes.\n",
    "x = np.array([[1,2],[5,5]])\n",
    "y = np.insert(x,[1,0],5,axis=1)\n",
    "print(y)"
   ]
  },
  {
   "cell_type": "markdown",
   "id": "db2f62cc",
   "metadata": {},
   "source": [
    "# np.append()"
   ]
  },
  {
   "cell_type": "code",
   "execution_count": 127,
   "id": "69ba27dd",
   "metadata": {},
   "outputs": [
    {
     "name": "stdout",
     "output_type": "stream",
     "text": [
      "['1' '5' '5' '2' '5.54' 'g']\n"
     ]
    }
   ],
   "source": [
    "# It add the data in the last of an array.\n",
    "# We can add any data type in the array.\n",
    "# In Insert function we can add only the same data type in the array but in append function we can add any data type.\n",
    "# Example of 1D array.\n",
    "x = np.array([1,5,5,2])\n",
    "y = np.append(x,[5.54,\"g\"])\n",
    "print(y)"
   ]
  },
  {
   "cell_type": "code",
   "execution_count": 141,
   "id": "74c7b881",
   "metadata": {},
   "outputs": [
    {
     "name": "stdout",
     "output_type": "stream",
     "text": [
      "[[1 2]\n",
      " [2 5]\n",
      " [8 4]\n",
      " [7 4]]\n"
     ]
    }
   ],
   "source": [
    "# Example of 2D array.\n",
    "x = np.array([[1,2],[2,5],[8,4]])\n",
    "y = np.append(x,[[7,4]],axis=0)\n",
    "print(y)"
   ]
  },
  {
   "cell_type": "markdown",
   "id": "d6a26561",
   "metadata": {},
   "source": [
    "# np.delete() "
   ]
  },
  {
   "cell_type": "code",
   "execution_count": 142,
   "id": "2252e873",
   "metadata": {},
   "outputs": [
    {
     "name": "stdout",
     "output_type": "stream",
     "text": [
      "[ 1  5 65  2]\n"
     ]
    }
   ],
   "source": [
    "x = np.array([1,5,5,65,2])\n",
    "y = np.delete(x,2) # (variable of array, index value of item which you want to delete)\n",
    "print(y)"
   ]
  },
  {
   "cell_type": "markdown",
   "id": "e64aa10c",
   "metadata": {},
   "source": [
    "# np.matrix()"
   ]
  },
  {
   "cell_type": "code",
   "execution_count": 143,
   "id": "265945c2",
   "metadata": {},
   "outputs": [
    {
     "name": "stdout",
     "output_type": "stream",
     "text": [
      "[[1 2 3]\n",
      " [5 9 7]]\n",
      "<class 'numpy.matrix'>\n"
     ]
    }
   ],
   "source": [
    "# How to create matrix\n",
    "x = np.matrix([[1,2,3],[5,9,7]])\n",
    "print(x)\n",
    "print(type(x))"
   ]
  },
  {
   "cell_type": "code",
   "execution_count": 144,
   "id": "32503ac1",
   "metadata": {},
   "outputs": [
    {
     "name": "stdout",
     "output_type": "stream",
     "text": [
      "[[1 2 3]\n",
      " [5 9 7]]\n",
      "<class 'numpy.ndarray'>\n"
     ]
    }
   ],
   "source": [
    "x = np.array([[1,2,3],[5,9,7]])\n",
    "print(x)\n",
    "print(type(x))"
   ]
  },
  {
   "cell_type": "code",
   "execution_count": 146,
   "id": "c55bf4dc",
   "metadata": {},
   "outputs": [
    {
     "name": "stdout",
     "output_type": "stream",
     "text": [
      "[[ 5  7  9]\n",
      " [10 16  8]]\n"
     ]
    }
   ],
   "source": [
    "# Addition of 2 matrix\n",
    "x = np.matrix([[1,2,3],[5,9,7]])\n",
    "y = np.matrix([[4,5,6],[5,7,1]])\n",
    "print(x+y)"
   ]
  },
  {
   "cell_type": "code",
   "execution_count": 147,
   "id": "a86e0f32",
   "metadata": {},
   "outputs": [
    {
     "name": "stdout",
     "output_type": "stream",
     "text": [
      "[[-3 -3 -3]\n",
      " [ 0  2  6]]\n"
     ]
    }
   ],
   "source": [
    "# subtraction of 2 matrix\n",
    "x = np.matrix([[1,2,3],[5,9,7]])\n",
    "y = np.matrix([[4,5,6],[5,7,1]])\n",
    "print(x-y)"
   ]
  },
  {
   "cell_type": "code",
   "execution_count": 151,
   "id": "92552587",
   "metadata": {},
   "outputs": [
    {
     "name": "stdout",
     "output_type": "stream",
     "text": [
      "[[14 19]\n",
      " [65 88]]\n"
     ]
    }
   ],
   "source": [
    "# Multiplication between 2 matrix\n",
    "x = np.matrix([[1,2],[5,9]])\n",
    "y = np.matrix([[4,5],[5,7]])\n",
    "print(x*y)"
   ]
  },
  {
   "cell_type": "code",
   "execution_count": 152,
   "id": "a5e10365",
   "metadata": {},
   "outputs": [
    {
     "name": "stdout",
     "output_type": "stream",
     "text": [
      "[[14 19]\n",
      " [65 88]]\n"
     ]
    }
   ],
   "source": [
    "# We use .dot() for multiply in matrix\n",
    "x = np.matrix([[1,2],[5,9]])\n",
    "y = np.matrix([[4,5],[5,7]])\n",
    "print(x.dot(y))"
   ]
  },
  {
   "cell_type": "markdown",
   "id": "ae0ab228",
   "metadata": {},
   "source": [
    "# Matrix Functions In Numpy :-\n",
    "# Transpose / np.transpose() :- it will change the axis of matrix\n",
    "# Swapaxes / np.swapaxes() :- it will also change the axis of matrix but axis value should be enter.\n",
    "# Inverse / np.linalg.inv() :- it will inverse the matrix\n",
    "# Power / np.linalg.matrix_power() \n",
    "# Determinate / np.linalg.det() :- it will give determinator of given matrix "
   ]
  },
  {
   "cell_type": "code",
   "execution_count": 168,
   "id": "963296e4",
   "metadata": {},
   "outputs": [
    {
     "name": "stdout",
     "output_type": "stream",
     "text": [
      "[[1 2]\n",
      " [1 5]]\n",
      "\n",
      "[[1 1]\n",
      " [2 5]]\n",
      "\n",
      "[[1 1]\n",
      " [2 5]]\n"
     ]
    }
   ],
   "source": [
    "# Example of np.transpose()\n",
    "x = np.matrix([[1,2],[1,5]])\n",
    "print(x)\n",
    "print()\n",
    "print(np.transpose(x))\n",
    "print()\n",
    "print(x.T) # Shortcut of np.transpose(). (variable of matrix,T)"
   ]
  },
  {
   "cell_type": "code",
   "execution_count": 161,
   "id": "26f90b1f",
   "metadata": {},
   "outputs": [
    {
     "name": "stdout",
     "output_type": "stream",
     "text": [
      "[[ 1  5 25]\n",
      " [52  5  2]]\n",
      "\n",
      "[[ 1 52]\n",
      " [ 5  5]\n",
      " [25  2]]\n"
     ]
    }
   ],
   "source": [
    "#Example of np.swapaxes()\n",
    "x = np.matrix([[1,5,25],[52,5,2]])\n",
    "print(x)\n",
    "print()\n",
    "print(np.swapaxes(x,1,0)) # (variable of matrix, axis which you to swap, axis with)"
   ]
  },
  {
   "cell_type": "code",
   "execution_count": 165,
   "id": "32e31577",
   "metadata": {},
   "outputs": [
    {
     "name": "stdout",
     "output_type": "stream",
     "text": [
      "[[-0.33333333  0.33333333]\n",
      " [ 0.26666667 -0.06666667]]\n"
     ]
    }
   ],
   "source": [
    "# Example of np.linalg.inv()\n",
    "x = np.matrix([[1,5],[4,5]])\n",
    "print(np.linalg.inv(x))"
   ]
  },
  {
   "cell_type": "code",
   "execution_count": 6,
   "id": "49495573",
   "metadata": {},
   "outputs": [
    {
     "name": "stdout",
     "output_type": "stream",
     "text": [
      "[[1 2]\n",
      " [2 8]]\n",
      "\n",
      "[[ 5 18]\n",
      " [18 68]]\n",
      "\n",
      "[[1 0]\n",
      " [0 1]]\n",
      "\n",
      "[[ 2.   -0.5 ]\n",
      " [-0.5   0.25]]\n"
     ]
    }
   ],
   "source": [
    "# Example of np.linalg.matrix_power()\n",
    "x = np.matrix([[1,2],[2,8]])\n",
    "print(x)\n",
    "print()\n",
    "\n",
    "print(np.linalg.matrix_power(x,2)) # n>0, it gives power of given \n",
    "print()\n",
    "print(np.linalg.matrix_power(x,0)) # n=0, show 1 diagonally\n",
    "print()\n",
    "print(np.linalg.matrix_power(x,-1)) # n<0, it gives power to inverse matrix"
   ]
  },
  {
   "cell_type": "code",
   "execution_count": 11,
   "id": "1bfa5231",
   "metadata": {},
   "outputs": [
    {
     "name": "stdout",
     "output_type": "stream",
     "text": [
      "[[1 2 9 4]\n",
      " [2 8 4 1]\n",
      " [2 5 5 6]\n",
      " [9 1 5 2]]\n",
      "\n",
      "2287.000000000001\n"
     ]
    }
   ],
   "source": [
    "# Example of np.linalg.det()\n",
    "x = np.matrix([[1,2,9,4],[2,8,4,1],[2,5,5,6],[9,1,5,2]])\n",
    "print(x)\n",
    "print()\n",
    "print(np.linalg.det(x))"
   ]
  }
 ],
 "metadata": {
  "kernelspec": {
   "display_name": "Python 3 (ipykernel)",
   "language": "python",
   "name": "python3"
  },
  "language_info": {
   "codemirror_mode": {
    "name": "ipython",
    "version": 3
   },
   "file_extension": ".py",
   "mimetype": "text/x-python",
   "name": "python",
   "nbconvert_exporter": "python",
   "pygments_lexer": "ipython3",
   "version": "3.9.13"
  }
 },
 "nbformat": 4,
 "nbformat_minor": 5
}
